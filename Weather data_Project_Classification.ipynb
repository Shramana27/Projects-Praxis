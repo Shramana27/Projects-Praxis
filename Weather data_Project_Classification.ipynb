{
 "cells": [
  {
   "cell_type": "code",
   "execution_count": 469,
   "id": "e4989ce3",
   "metadata": {},
   "outputs": [],
   "source": [
    "import pandas as pd\n",
    "import numpy as np\n",
    "import seaborn as sns\n",
    "import matplotlib.pyplot as plt\n",
    "import warnings\n",
    "warnings.filterwarnings(\"ignore\")\n",
    "\n",
    "from sklearn.linear_model import LinearRegression\n",
    "import statsmodels.api as sm\n",
    "\n",
    "from sklearn.metrics import mean_squared_error\n",
    "\n",
    "from sklearn.tree import DecisionTreeClassifier\n",
    "\n",
    "from sklearn.utils.class_weight import compute_class_weight\n",
    "from sklearn.metrics import classification_report, accuracy_score, roc_curve, roc_auc_score, auc, precision_score, recall_score, f1_score, confusion_matrix,matthews_corrcoef"
   ]
  },
  {
   "cell_type": "code",
   "execution_count": 470,
   "id": "37956c0a",
   "metadata": {},
   "outputs": [],
   "source": [
    "df=pd.read_csv('weatherAUS_classification.csv',parse_dates=['Date'])"
   ]
  },
  {
   "cell_type": "code",
   "execution_count": 471,
   "id": "921b48c4",
   "metadata": {},
   "outputs": [
    {
     "data": {
      "text/html": [
       "<div>\n",
       "<style scoped>\n",
       "    .dataframe tbody tr th:only-of-type {\n",
       "        vertical-align: middle;\n",
       "    }\n",
       "\n",
       "    .dataframe tbody tr th {\n",
       "        vertical-align: top;\n",
       "    }\n",
       "\n",
       "    .dataframe thead th {\n",
       "        text-align: right;\n",
       "    }\n",
       "</style>\n",
       "<table border=\"1\" class=\"dataframe\">\n",
       "  <thead>\n",
       "    <tr style=\"text-align: right;\">\n",
       "      <th></th>\n",
       "      <th>Date</th>\n",
       "      <th>Location</th>\n",
       "      <th>MinTemp</th>\n",
       "      <th>MaxTemp</th>\n",
       "      <th>Rainfall</th>\n",
       "      <th>Evaporation</th>\n",
       "      <th>Sunshine</th>\n",
       "      <th>WindGustDir</th>\n",
       "      <th>WindGustSpeed</th>\n",
       "      <th>WindDir9am</th>\n",
       "      <th>...</th>\n",
       "      <th>Humidity9am</th>\n",
       "      <th>Humidity3pm</th>\n",
       "      <th>Pressure9am</th>\n",
       "      <th>Pressure3pm</th>\n",
       "      <th>Cloud9am</th>\n",
       "      <th>Cloud3pm</th>\n",
       "      <th>Temp9am</th>\n",
       "      <th>Temp3pm</th>\n",
       "      <th>RainToday</th>\n",
       "      <th>RainTomorrow</th>\n",
       "    </tr>\n",
       "  </thead>\n",
       "  <tbody>\n",
       "    <tr>\n",
       "      <th>0</th>\n",
       "      <td>2009-05-18</td>\n",
       "      <td>Hobart</td>\n",
       "      <td>5.1</td>\n",
       "      <td>14.3</td>\n",
       "      <td>0.0</td>\n",
       "      <td>1.8</td>\n",
       "      <td>8.9</td>\n",
       "      <td>NW</td>\n",
       "      <td>30.0</td>\n",
       "      <td>WSW</td>\n",
       "      <td>...</td>\n",
       "      <td>65.0</td>\n",
       "      <td>47.0</td>\n",
       "      <td>1023.1</td>\n",
       "      <td>1022.2</td>\n",
       "      <td>1.0</td>\n",
       "      <td>1.0</td>\n",
       "      <td>9.1</td>\n",
       "      <td>13.3</td>\n",
       "      <td>No</td>\n",
       "      <td>No</td>\n",
       "    </tr>\n",
       "    <tr>\n",
       "      <th>1</th>\n",
       "      <td>2009-07-03</td>\n",
       "      <td>Launceston</td>\n",
       "      <td>1.1</td>\n",
       "      <td>14.5</td>\n",
       "      <td>0.4</td>\n",
       "      <td>NaN</td>\n",
       "      <td>NaN</td>\n",
       "      <td>SSW</td>\n",
       "      <td>50.0</td>\n",
       "      <td>E</td>\n",
       "      <td>...</td>\n",
       "      <td>99.0</td>\n",
       "      <td>46.0</td>\n",
       "      <td>1001.5</td>\n",
       "      <td>1002.4</td>\n",
       "      <td>NaN</td>\n",
       "      <td>NaN</td>\n",
       "      <td>1.3</td>\n",
       "      <td>13.7</td>\n",
       "      <td>No</td>\n",
       "      <td>No</td>\n",
       "    </tr>\n",
       "    <tr>\n",
       "      <th>2</th>\n",
       "      <td>2010-02-18</td>\n",
       "      <td>Williamtown</td>\n",
       "      <td>19.7</td>\n",
       "      <td>26.2</td>\n",
       "      <td>0.0</td>\n",
       "      <td>7.2</td>\n",
       "      <td>7.2</td>\n",
       "      <td>SSE</td>\n",
       "      <td>41.0</td>\n",
       "      <td>SSE</td>\n",
       "      <td>...</td>\n",
       "      <td>48.0</td>\n",
       "      <td>50.0</td>\n",
       "      <td>1020.9</td>\n",
       "      <td>1021.9</td>\n",
       "      <td>6.0</td>\n",
       "      <td>4.0</td>\n",
       "      <td>22.7</td>\n",
       "      <td>24.4</td>\n",
       "      <td>No</td>\n",
       "      <td>No</td>\n",
       "    </tr>\n",
       "    <tr>\n",
       "      <th>3</th>\n",
       "      <td>2010-03-04</td>\n",
       "      <td>PerthAirport</td>\n",
       "      <td>16.6</td>\n",
       "      <td>28.0</td>\n",
       "      <td>0.0</td>\n",
       "      <td>9.0</td>\n",
       "      <td>11.3</td>\n",
       "      <td>SW</td>\n",
       "      <td>54.0</td>\n",
       "      <td>SSE</td>\n",
       "      <td>...</td>\n",
       "      <td>50.0</td>\n",
       "      <td>41.0</td>\n",
       "      <td>1018.3</td>\n",
       "      <td>1014.9</td>\n",
       "      <td>6.0</td>\n",
       "      <td>1.0</td>\n",
       "      <td>20.0</td>\n",
       "      <td>26.1</td>\n",
       "      <td>No</td>\n",
       "      <td>No</td>\n",
       "    </tr>\n",
       "    <tr>\n",
       "      <th>4</th>\n",
       "      <td>2010-09-09</td>\n",
       "      <td>GoldCoast</td>\n",
       "      <td>14.6</td>\n",
       "      <td>25.3</td>\n",
       "      <td>0.0</td>\n",
       "      <td>NaN</td>\n",
       "      <td>NaN</td>\n",
       "      <td>NNW</td>\n",
       "      <td>43.0</td>\n",
       "      <td>WNW</td>\n",
       "      <td>...</td>\n",
       "      <td>64.0</td>\n",
       "      <td>67.0</td>\n",
       "      <td>1020.3</td>\n",
       "      <td>1015.0</td>\n",
       "      <td>NaN</td>\n",
       "      <td>NaN</td>\n",
       "      <td>22.2</td>\n",
       "      <td>22.6</td>\n",
       "      <td>No</td>\n",
       "      <td>No</td>\n",
       "    </tr>\n",
       "  </tbody>\n",
       "</table>\n",
       "<p>5 rows × 23 columns</p>\n",
       "</div>"
      ],
      "text/plain": [
       "        Date      Location  MinTemp  MaxTemp  Rainfall  Evaporation  Sunshine  \\\n",
       "0 2009-05-18        Hobart      5.1     14.3       0.0          1.8       8.9   \n",
       "1 2009-07-03    Launceston      1.1     14.5       0.4          NaN       NaN   \n",
       "2 2010-02-18   Williamtown     19.7     26.2       0.0          7.2       7.2   \n",
       "3 2010-03-04  PerthAirport     16.6     28.0       0.0          9.0      11.3   \n",
       "4 2010-09-09     GoldCoast     14.6     25.3       0.0          NaN       NaN   \n",
       "\n",
       "  WindGustDir  WindGustSpeed WindDir9am  ... Humidity9am  Humidity3pm  \\\n",
       "0          NW           30.0        WSW  ...        65.0         47.0   \n",
       "1         SSW           50.0          E  ...        99.0         46.0   \n",
       "2         SSE           41.0        SSE  ...        48.0         50.0   \n",
       "3          SW           54.0        SSE  ...        50.0         41.0   \n",
       "4         NNW           43.0        WNW  ...        64.0         67.0   \n",
       "\n",
       "   Pressure9am  Pressure3pm  Cloud9am  Cloud3pm  Temp9am  Temp3pm  RainToday  \\\n",
       "0       1023.1       1022.2       1.0       1.0      9.1     13.3         No   \n",
       "1       1001.5       1002.4       NaN       NaN      1.3     13.7         No   \n",
       "2       1020.9       1021.9       6.0       4.0     22.7     24.4         No   \n",
       "3       1018.3       1014.9       6.0       1.0     20.0     26.1         No   \n",
       "4       1020.3       1015.0       NaN       NaN     22.2     22.6         No   \n",
       "\n",
       "   RainTomorrow  \n",
       "0            No  \n",
       "1            No  \n",
       "2            No  \n",
       "3            No  \n",
       "4            No  \n",
       "\n",
       "[5 rows x 23 columns]"
      ]
     },
     "execution_count": 471,
     "metadata": {},
     "output_type": "execute_result"
    }
   ],
   "source": [
    "df.head()"
   ]
  },
  {
   "cell_type": "code",
   "execution_count": 472,
   "id": "e38196ec",
   "metadata": {},
   "outputs": [
    {
     "data": {
      "text/plain": [
       "(36881, 23)"
      ]
     },
     "execution_count": 472,
     "metadata": {},
     "output_type": "execute_result"
    }
   ],
   "source": [
    "df.shape"
   ]
  },
  {
   "cell_type": "code",
   "execution_count": 473,
   "id": "07508e02",
   "metadata": {},
   "outputs": [
    {
     "name": "stdout",
     "output_type": "stream",
     "text": [
      "<class 'pandas.core.frame.DataFrame'>\n",
      "RangeIndex: 36881 entries, 0 to 36880\n",
      "Data columns (total 23 columns):\n",
      " #   Column         Non-Null Count  Dtype         \n",
      "---  ------         --------------  -----         \n",
      " 0   Date           36881 non-null  datetime64[ns]\n",
      " 1   Location       36881 non-null  object        \n",
      " 2   MinTemp        36543 non-null  float64       \n",
      " 3   MaxTemp        36639 non-null  float64       \n",
      " 4   Rainfall       36255 non-null  float64       \n",
      " 5   Evaporation    24035 non-null  float64       \n",
      " 6   Sunshine       23317 non-null  float64       \n",
      " 7   WindGustDir    33513 non-null  object        \n",
      " 8   WindGustSpeed  33520 non-null  float64       \n",
      " 9   WindDir9am     34072 non-null  object        \n",
      " 10  WindDir3pm     35919 non-null  object        \n",
      " 11  WindSpeed9am   36219 non-null  float64       \n",
      " 12  WindSpeed3pm   36235 non-null  float64       \n",
      " 13  Humidity9am    36311 non-null  float64       \n",
      " 14  Humidity3pm    36370 non-null  float64       \n",
      " 15  Pressure9am    33309 non-null  float64       \n",
      " 16  Pressure3pm    33329 non-null  float64       \n",
      " 17  Cloud9am       24381 non-null  float64       \n",
      " 18  Cloud3pm       23899 non-null  float64       \n",
      " 19  Temp9am        36394 non-null  float64       \n",
      " 20  Temp3pm        36437 non-null  float64       \n",
      " 21  RainToday      36255 non-null  object        \n",
      " 22  RainTomorrow   36261 non-null  object        \n",
      "dtypes: datetime64[ns](1), float64(16), object(6)\n",
      "memory usage: 6.5+ MB\n"
     ]
    }
   ],
   "source": [
    "df.info()"
   ]
  },
  {
   "cell_type": "code",
   "execution_count": 474,
   "id": "43a99cd9",
   "metadata": {},
   "outputs": [
    {
     "data": {
      "text/plain": [
       "Date              0.00\n",
       "Location          0.00\n",
       "MinTemp           0.92\n",
       "MaxTemp           0.66\n",
       "Rainfall          1.70\n",
       "Evaporation      34.83\n",
       "Sunshine         36.78\n",
       "WindGustDir       9.13\n",
       "WindGustSpeed     9.11\n",
       "WindDir9am        7.62\n",
       "WindDir3pm        2.61\n",
       "WindSpeed9am      1.79\n",
       "WindSpeed3pm      1.75\n",
       "Humidity9am       1.55\n",
       "Humidity3pm       1.39\n",
       "Pressure9am       9.69\n",
       "Pressure3pm       9.63\n",
       "Cloud9am         33.89\n",
       "Cloud3pm         35.20\n",
       "Temp9am           1.32\n",
       "Temp3pm           1.20\n",
       "RainToday         1.70\n",
       "RainTomorrow      1.68\n",
       "dtype: float64"
      ]
     },
     "execution_count": 474,
     "metadata": {},
     "output_type": "execute_result"
    }
   ],
   "source": [
    "round((df.isnull().sum()/df.shape[0])*100,2)"
   ]
  },
  {
   "cell_type": "code",
   "execution_count": 475,
   "id": "ba817998",
   "metadata": {},
   "outputs": [],
   "source": [
    "null=pd.DataFrame(df.isnull().sum())"
   ]
  },
  {
   "cell_type": "code",
   "execution_count": 476,
   "id": "04170820",
   "metadata": {},
   "outputs": [
    {
     "data": {
      "text/plain": [
       "0    204.137632\n",
       "dtype: float64"
      ]
     },
     "execution_count": 476,
     "metadata": {},
     "output_type": "execute_result"
    }
   ],
   "source": [
    "(null.sum()/df.shape[0])*100\n",
    "# Hence we should not remove the null values"
   ]
  },
  {
   "cell_type": "markdown",
   "id": "c24bbfa9",
   "metadata": {},
   "source": [
    "# Data Pre-processing"
   ]
  },
  {
   "cell_type": "markdown",
   "id": "64feb2a3",
   "metadata": {},
   "source": [
    "1. Removing missing values"
   ]
  },
  {
   "cell_type": "code",
   "execution_count": 477,
   "id": "86b4baa3",
   "metadata": {},
   "outputs": [],
   "source": [
    "df1=df.copy()"
   ]
  },
  {
   "cell_type": "markdown",
   "id": "e7d4b1c0",
   "metadata": {},
   "source": [
    "Evaporation,sunshine, cloud9am and cloud3pm have null values more than 30%, still they are important variables and we are not removing them. \n"
   ]
  },
  {
   "cell_type": "code",
   "execution_count": 478,
   "id": "4365b933",
   "metadata": {},
   "outputs": [
    {
     "data": {
      "text/plain": [
       "Index(['MinTemp', 'MaxTemp', 'Rainfall', 'Evaporation', 'Sunshine',\n",
       "       'WindGustSpeed', 'WindSpeed9am', 'WindSpeed3pm', 'Humidity9am',\n",
       "       'Humidity3pm', 'Pressure9am', 'Pressure3pm', 'Cloud9am', 'Cloud3pm',\n",
       "       'Temp9am', 'Temp3pm'],\n",
       "      dtype='object')"
      ]
     },
     "execution_count": 478,
     "metadata": {},
     "output_type": "execute_result"
    }
   ],
   "source": [
    "df.select_dtypes('float').columns"
   ]
  },
  {
   "cell_type": "code",
   "execution_count": 479,
   "id": "430fe7f0",
   "metadata": {},
   "outputs": [],
   "source": [
    "num=['MinTemp', 'MaxTemp', 'Rainfall', 'Evaporation', 'Sunshine',\n",
    "       'WindGustSpeed', 'WindSpeed9am', 'WindSpeed3pm', 'Humidity9am',\n",
    "       'Humidity3pm', 'Pressure9am', 'Pressure3pm', 'Cloud9am', 'Cloud3pm',\n",
    "       'Temp9am', 'Temp3pm']\n"
   ]
  },
  {
   "cell_type": "code",
   "execution_count": 480,
   "id": "b4d00d95",
   "metadata": {},
   "outputs": [],
   "source": [
    "df1[num]=df[num].fillna(df[num].median()) #replacing the null values with median for numerical data"
   ]
  },
  {
   "cell_type": "code",
   "execution_count": 481,
   "id": "21059bcc",
   "metadata": {},
   "outputs": [
    {
     "data": {
      "text/plain": [
       "620"
      ]
     },
     "execution_count": 481,
     "metadata": {},
     "output_type": "execute_result"
    }
   ],
   "source": [
    "df1.RainTomorrow.isnull().sum()"
   ]
  },
  {
   "cell_type": "code",
   "execution_count": 482,
   "id": "696cb563",
   "metadata": {},
   "outputs": [],
   "source": [
    "categorical=df.select_dtypes('object').columns"
   ]
  },
  {
   "cell_type": "code",
   "execution_count": 483,
   "id": "739b6668",
   "metadata": {},
   "outputs": [],
   "source": [
    "df1[categorical]=df[categorical].fillna(df[categorical].mode())"
   ]
  },
  {
   "cell_type": "code",
   "execution_count": 484,
   "id": "c4c25ad4",
   "metadata": {},
   "outputs": [
    {
     "data": {
      "text/html": [
       "<div>\n",
       "<style scoped>\n",
       "    .dataframe tbody tr th:only-of-type {\n",
       "        vertical-align: middle;\n",
       "    }\n",
       "\n",
       "    .dataframe tbody tr th {\n",
       "        vertical-align: top;\n",
       "    }\n",
       "\n",
       "    .dataframe thead th {\n",
       "        text-align: right;\n",
       "    }\n",
       "</style>\n",
       "<table border=\"1\" class=\"dataframe\">\n",
       "  <thead>\n",
       "    <tr style=\"text-align: right;\">\n",
       "      <th></th>\n",
       "      <th>Date</th>\n",
       "      <th>Location</th>\n",
       "      <th>MinTemp</th>\n",
       "      <th>MaxTemp</th>\n",
       "      <th>Rainfall</th>\n",
       "      <th>Evaporation</th>\n",
       "      <th>Sunshine</th>\n",
       "      <th>WindGustDir</th>\n",
       "      <th>WindGustSpeed</th>\n",
       "      <th>WindDir9am</th>\n",
       "      <th>...</th>\n",
       "      <th>Humidity9am</th>\n",
       "      <th>Humidity3pm</th>\n",
       "      <th>Pressure9am</th>\n",
       "      <th>Pressure3pm</th>\n",
       "      <th>Cloud9am</th>\n",
       "      <th>Cloud3pm</th>\n",
       "      <th>Temp9am</th>\n",
       "      <th>Temp3pm</th>\n",
       "      <th>RainToday</th>\n",
       "      <th>RainTomorrow</th>\n",
       "    </tr>\n",
       "  </thead>\n",
       "  <tbody>\n",
       "    <tr>\n",
       "      <th>0</th>\n",
       "      <td>2009-05-18</td>\n",
       "      <td>Hobart</td>\n",
       "      <td>5.1</td>\n",
       "      <td>14.3</td>\n",
       "      <td>0.0</td>\n",
       "      <td>1.8</td>\n",
       "      <td>8.9</td>\n",
       "      <td>NW</td>\n",
       "      <td>30.0</td>\n",
       "      <td>WSW</td>\n",
       "      <td>...</td>\n",
       "      <td>65.0</td>\n",
       "      <td>47.0</td>\n",
       "      <td>1023.1</td>\n",
       "      <td>1022.2</td>\n",
       "      <td>1.0</td>\n",
       "      <td>1.0</td>\n",
       "      <td>9.1</td>\n",
       "      <td>13.3</td>\n",
       "      <td>No</td>\n",
       "      <td>No</td>\n",
       "    </tr>\n",
       "    <tr>\n",
       "      <th>1</th>\n",
       "      <td>2009-07-03</td>\n",
       "      <td>Launceston</td>\n",
       "      <td>1.1</td>\n",
       "      <td>14.5</td>\n",
       "      <td>0.4</td>\n",
       "      <td>4.6</td>\n",
       "      <td>8.4</td>\n",
       "      <td>SSW</td>\n",
       "      <td>50.0</td>\n",
       "      <td>E</td>\n",
       "      <td>...</td>\n",
       "      <td>99.0</td>\n",
       "      <td>46.0</td>\n",
       "      <td>1001.5</td>\n",
       "      <td>1002.4</td>\n",
       "      <td>5.0</td>\n",
       "      <td>5.0</td>\n",
       "      <td>1.3</td>\n",
       "      <td>13.7</td>\n",
       "      <td>No</td>\n",
       "      <td>No</td>\n",
       "    </tr>\n",
       "    <tr>\n",
       "      <th>2</th>\n",
       "      <td>2010-02-18</td>\n",
       "      <td>Williamtown</td>\n",
       "      <td>19.7</td>\n",
       "      <td>26.2</td>\n",
       "      <td>0.0</td>\n",
       "      <td>7.2</td>\n",
       "      <td>7.2</td>\n",
       "      <td>SSE</td>\n",
       "      <td>41.0</td>\n",
       "      <td>SSE</td>\n",
       "      <td>...</td>\n",
       "      <td>48.0</td>\n",
       "      <td>50.0</td>\n",
       "      <td>1020.9</td>\n",
       "      <td>1021.9</td>\n",
       "      <td>6.0</td>\n",
       "      <td>4.0</td>\n",
       "      <td>22.7</td>\n",
       "      <td>24.4</td>\n",
       "      <td>No</td>\n",
       "      <td>No</td>\n",
       "    </tr>\n",
       "    <tr>\n",
       "      <th>3</th>\n",
       "      <td>2010-03-04</td>\n",
       "      <td>PerthAirport</td>\n",
       "      <td>16.6</td>\n",
       "      <td>28.0</td>\n",
       "      <td>0.0</td>\n",
       "      <td>9.0</td>\n",
       "      <td>11.3</td>\n",
       "      <td>SW</td>\n",
       "      <td>54.0</td>\n",
       "      <td>SSE</td>\n",
       "      <td>...</td>\n",
       "      <td>50.0</td>\n",
       "      <td>41.0</td>\n",
       "      <td>1018.3</td>\n",
       "      <td>1014.9</td>\n",
       "      <td>6.0</td>\n",
       "      <td>1.0</td>\n",
       "      <td>20.0</td>\n",
       "      <td>26.1</td>\n",
       "      <td>No</td>\n",
       "      <td>No</td>\n",
       "    </tr>\n",
       "    <tr>\n",
       "      <th>4</th>\n",
       "      <td>2010-09-09</td>\n",
       "      <td>GoldCoast</td>\n",
       "      <td>14.6</td>\n",
       "      <td>25.3</td>\n",
       "      <td>0.0</td>\n",
       "      <td>4.6</td>\n",
       "      <td>8.4</td>\n",
       "      <td>NNW</td>\n",
       "      <td>43.0</td>\n",
       "      <td>WNW</td>\n",
       "      <td>...</td>\n",
       "      <td>64.0</td>\n",
       "      <td>67.0</td>\n",
       "      <td>1020.3</td>\n",
       "      <td>1015.0</td>\n",
       "      <td>5.0</td>\n",
       "      <td>5.0</td>\n",
       "      <td>22.2</td>\n",
       "      <td>22.6</td>\n",
       "      <td>No</td>\n",
       "      <td>No</td>\n",
       "    </tr>\n",
       "  </tbody>\n",
       "</table>\n",
       "<p>5 rows × 23 columns</p>\n",
       "</div>"
      ],
      "text/plain": [
       "        Date      Location  MinTemp  MaxTemp  Rainfall  Evaporation  Sunshine  \\\n",
       "0 2009-05-18        Hobart      5.1     14.3       0.0          1.8       8.9   \n",
       "1 2009-07-03    Launceston      1.1     14.5       0.4          4.6       8.4   \n",
       "2 2010-02-18   Williamtown     19.7     26.2       0.0          7.2       7.2   \n",
       "3 2010-03-04  PerthAirport     16.6     28.0       0.0          9.0      11.3   \n",
       "4 2010-09-09     GoldCoast     14.6     25.3       0.0          4.6       8.4   \n",
       "\n",
       "  WindGustDir  WindGustSpeed WindDir9am  ... Humidity9am  Humidity3pm  \\\n",
       "0          NW           30.0        WSW  ...        65.0         47.0   \n",
       "1         SSW           50.0          E  ...        99.0         46.0   \n",
       "2         SSE           41.0        SSE  ...        48.0         50.0   \n",
       "3          SW           54.0        SSE  ...        50.0         41.0   \n",
       "4         NNW           43.0        WNW  ...        64.0         67.0   \n",
       "\n",
       "   Pressure9am  Pressure3pm  Cloud9am  Cloud3pm  Temp9am  Temp3pm  RainToday  \\\n",
       "0       1023.1       1022.2       1.0       1.0      9.1     13.3         No   \n",
       "1       1001.5       1002.4       5.0       5.0      1.3     13.7         No   \n",
       "2       1020.9       1021.9       6.0       4.0     22.7     24.4         No   \n",
       "3       1018.3       1014.9       6.0       1.0     20.0     26.1         No   \n",
       "4       1020.3       1015.0       5.0       5.0     22.2     22.6         No   \n",
       "\n",
       "   RainTomorrow  \n",
       "0            No  \n",
       "1            No  \n",
       "2            No  \n",
       "3            No  \n",
       "4            No  \n",
       "\n",
       "[5 rows x 23 columns]"
      ]
     },
     "execution_count": 484,
     "metadata": {},
     "output_type": "execute_result"
    }
   ],
   "source": [
    "df1.head()"
   ]
  },
  {
   "cell_type": "code",
   "execution_count": 485,
   "id": "d3fd91a9",
   "metadata": {},
   "outputs": [],
   "source": [
    "#replacing the values by mode\n",
    "df1['WindGustDir'].fillna('SE',inplace=True)\n",
    "df1['WindDir9am'].fillna('N',inplace=True)\n",
    "df1['WindDir3pm'].fillna('SE',inplace=True)\n",
    "df1['RainToday'].fillna('No',inplace=True)"
   ]
  },
  {
   "cell_type": "code",
   "execution_count": 486,
   "id": "df60df59",
   "metadata": {},
   "outputs": [
    {
     "data": {
      "text/plain": [
       "Date               0\n",
       "Location           0\n",
       "MinTemp            0\n",
       "MaxTemp            0\n",
       "Rainfall           0\n",
       "Evaporation        0\n",
       "Sunshine           0\n",
       "WindGustDir        0\n",
       "WindGustSpeed      0\n",
       "WindDir9am         0\n",
       "WindDir3pm         0\n",
       "WindSpeed9am       0\n",
       "WindSpeed3pm       0\n",
       "Humidity9am        0\n",
       "Humidity3pm        0\n",
       "Pressure9am        0\n",
       "Pressure3pm        0\n",
       "Cloud9am           0\n",
       "Cloud3pm           0\n",
       "Temp9am            0\n",
       "Temp3pm            0\n",
       "RainToday          0\n",
       "RainTomorrow     620\n",
       "dtype: int64"
      ]
     },
     "execution_count": 486,
     "metadata": {},
     "output_type": "execute_result"
    }
   ],
   "source": [
    "df1.isnull().sum()"
   ]
  },
  {
   "cell_type": "code",
   "execution_count": 487,
   "id": "e25456c7",
   "metadata": {},
   "outputs": [],
   "source": [
    "df1.dropna(inplace=True)"
   ]
  },
  {
   "cell_type": "code",
   "execution_count": 488,
   "id": "bc7da7ef",
   "metadata": {},
   "outputs": [
    {
     "data": {
      "text/html": [
       "<div>\n",
       "<style scoped>\n",
       "    .dataframe tbody tr th:only-of-type {\n",
       "        vertical-align: middle;\n",
       "    }\n",
       "\n",
       "    .dataframe tbody tr th {\n",
       "        vertical-align: top;\n",
       "    }\n",
       "\n",
       "    .dataframe thead th {\n",
       "        text-align: right;\n",
       "    }\n",
       "</style>\n",
       "<table border=\"1\" class=\"dataframe\">\n",
       "  <thead>\n",
       "    <tr style=\"text-align: right;\">\n",
       "      <th></th>\n",
       "      <th>Date</th>\n",
       "      <th>Location</th>\n",
       "      <th>MinTemp</th>\n",
       "      <th>MaxTemp</th>\n",
       "      <th>Rainfall</th>\n",
       "      <th>Evaporation</th>\n",
       "      <th>Sunshine</th>\n",
       "      <th>WindGustDir</th>\n",
       "      <th>WindGustSpeed</th>\n",
       "      <th>WindDir9am</th>\n",
       "      <th>...</th>\n",
       "      <th>Humidity9am</th>\n",
       "      <th>Humidity3pm</th>\n",
       "      <th>Pressure9am</th>\n",
       "      <th>Pressure3pm</th>\n",
       "      <th>Cloud9am</th>\n",
       "      <th>Cloud3pm</th>\n",
       "      <th>Temp9am</th>\n",
       "      <th>Temp3pm</th>\n",
       "      <th>RainToday</th>\n",
       "      <th>RainTomorrow</th>\n",
       "    </tr>\n",
       "  </thead>\n",
       "  <tbody>\n",
       "  </tbody>\n",
       "</table>\n",
       "<p>0 rows × 23 columns</p>\n",
       "</div>"
      ],
      "text/plain": [
       "Empty DataFrame\n",
       "Columns: [Date, Location, MinTemp, MaxTemp, Rainfall, Evaporation, Sunshine, WindGustDir, WindGustSpeed, WindDir9am, WindDir3pm, WindSpeed9am, WindSpeed3pm, Humidity9am, Humidity3pm, Pressure9am, Pressure3pm, Cloud9am, Cloud3pm, Temp9am, Temp3pm, RainToday, RainTomorrow]\n",
       "Index: []\n",
       "\n",
       "[0 rows x 23 columns]"
      ]
     },
     "execution_count": 488,
     "metadata": {},
     "output_type": "execute_result"
    }
   ],
   "source": [
    "#Checking for duplicates\n",
    "df1[df1.duplicated()]"
   ]
  },
  {
   "cell_type": "code",
   "execution_count": 489,
   "id": "3e6ced7e",
   "metadata": {},
   "outputs": [
    {
     "data": {
      "text/plain": [
       "Date             0\n",
       "Location         0\n",
       "MinTemp          0\n",
       "MaxTemp          0\n",
       "Rainfall         0\n",
       "Evaporation      0\n",
       "Sunshine         0\n",
       "WindGustDir      0\n",
       "WindGustSpeed    0\n",
       "WindDir9am       0\n",
       "WindDir3pm       0\n",
       "WindSpeed9am     0\n",
       "WindSpeed3pm     0\n",
       "Humidity9am      0\n",
       "Humidity3pm      0\n",
       "Pressure9am      0\n",
       "Pressure3pm      0\n",
       "Cloud9am         0\n",
       "Cloud3pm         0\n",
       "Temp9am          0\n",
       "Temp3pm          0\n",
       "RainToday        0\n",
       "RainTomorrow     0\n",
       "dtype: int64"
      ]
     },
     "execution_count": 489,
     "metadata": {},
     "output_type": "execute_result"
    }
   ],
   "source": [
    "df1.isnull().sum()"
   ]
  },
  {
   "cell_type": "markdown",
   "id": "b48bf1d8",
   "metadata": {},
   "source": [
    "# EXPLORATORY DATA ANALYSIS"
   ]
  },
  {
   "cell_type": "code",
   "execution_count": 490,
   "id": "8892a5d9",
   "metadata": {},
   "outputs": [
    {
     "data": {
      "text/plain": [
       "<AxesSubplot:xlabel='Rainfall'>"
      ]
     },
     "execution_count": 490,
     "metadata": {},
     "output_type": "execute_result"
    },
    {
     "data": {
      "image/png": "[encoded data removed]",
      "text/plain": [
       "<Figure size 1440x576 with 16 Axes>"
      ]
     },
     "metadata": {
      "needs_background": "light"
     },
     "output_type": "display_data"
    }
   ],
   "source": [
    "f,ax=plt.subplots(2,8,figsize=(20,8))\n",
    "sns.boxplot('WindSpeed9am',data=df1,ax=ax[0,0])\n",
    "sns.boxplot('Cloud9am',data=df1,ax=ax[0,1])\n",
    "sns.boxplot('MaxTemp',data=df1,ax=ax[0,2])\n",
    "sns.boxplot('Pressure3pm',data=df1,ax=ax[0,3])\n",
    "sns.boxplot('Temp9am',data=df1,ax=ax[0,4])\n",
    "sns.boxplot('Evaporation',data=df1,ax=ax[0,5])\n",
    "sns.boxplot('Sunshine',data=df1,ax=ax[0,6])\n",
    "sns.boxplot('MinTemp',data=df1,ax=ax[0,7])\n",
    "sns.boxplot('WindGustSpeed',data=df1,ax=ax[1,0])\n",
    "sns.boxplot('Humidity3pm',data=df1,ax=ax[1,2])\n",
    "sns.boxplot('Pressure9am',data=df1,ax=ax[1,3])\n",
    "sns.boxplot('Cloud3pm',data=df1,ax=ax[1,4])\n",
    "sns.boxplot('Temp3pm',data=df1,ax=ax[1,5])\n",
    "\n",
    "sns.boxplot('Rainfall',data=df1,ax=ax[1,6])\n",
    "\n",
    "\n"
   ]
  },
  {
   "cell_type": "code",
   "execution_count": 491,
   "id": "4c922a4b",
   "metadata": {},
   "outputs": [
    {
     "data": {
      "text/plain": [
       "{'whiskers': [<matplotlib.lines.Line2D at 0x2339b8d5dc0>,\n",
       "  <matplotlib.lines.Line2D at 0x2339b522160>],\n",
       " 'caps': [<matplotlib.lines.Line2D at 0x2339b5224c0>,\n",
       "  <matplotlib.lines.Line2D at 0x2339b522820>],\n",
       " 'boxes': [<matplotlib.lines.Line2D at 0x2339b8d5a30>],\n",
       " 'medians': [<matplotlib.lines.Line2D at 0x2339b522b80>],\n",
       " 'fliers': [<matplotlib.lines.Line2D at 0x2339b522f10>],\n",
       " 'means': []}"
      ]
     },
     "execution_count": 491,
     "metadata": {},
     "output_type": "execute_result"
    },
    {
     "data": {
      "image/png": "[encoded data removed]",
      "text/plain": [
       "<Figure size 432x288 with 1 Axes>"
      ]
     },
     "metadata": {
      "needs_background": "light"
     },
     "output_type": "display_data"
    }
   ],
   "source": [
    "plt.boxplot(df1['WindSpeed3pm'],vert=False)"
   ]
  },
  {
   "cell_type": "code",
   "execution_count": 492,
   "id": "f6392308",
   "metadata": {},
   "outputs": [
    {
     "data": {
      "text/plain": [
       "(36261, 23)"
      ]
     },
     "execution_count": 492,
     "metadata": {},
     "output_type": "execute_result"
    }
   ],
   "source": [
    "df1.shape"
   ]
  },
  {
   "cell_type": "markdown",
   "id": "460ddcc1",
   "metadata": {},
   "source": [
    "There are many outliers in the data.\n",
    "Cloud9am and Cloud3pm are negatively skewed, others are mostly positively skewed."
   ]
  },
  {
   "cell_type": "code",
   "execution_count": 493,
   "id": "61fe4c72",
   "metadata": {},
   "outputs": [
    {
     "data": {
      "text/plain": [
       "<AxesSubplot:>"
      ]
     },
     "execution_count": 493,
     "metadata": {},
     "output_type": "execute_result"
    },
    {
     "data": {
      "image/png": "[encoded data removed]",
      "text/plain": [
       "<Figure size 1440x576 with 2 Axes>"
      ]
     },
     "metadata": {
      "needs_background": "light"
     },
     "output_type": "display_data"
    }
   ],
   "source": [
    "plt.subplots(figsize=(20,8))\n",
    "sns.heatmap(df1[['WindSpeed9am',\n",
    " 'Cloud9am',\n",
    " 'MaxTemp',\n",
    " 'Pressure3pm',\n",
    " 'Temp9am',\n",
    " 'Evaporation',\n",
    " 'WindSpeed3pm',\n",
    " 'Sunshine',\n",
    " 'MinTemp',\n",
    " 'WindGustSpeed',\n",
    " 'Humidity3pm',\n",
    " 'Pressure9am',\n",
    " 'Cloud3pm',\n",
    " 'Temp3pm',\n",
    " 'Rainfall',\n",
    " 'Humidity9am']].corr(),annot=True)"
   ]
  },
  {
   "cell_type": "code",
   "execution_count": 494,
   "id": "50043d83",
   "metadata": {},
   "outputs": [
    {
     "data": {
      "text/plain": [
       "array([[<AxesSubplot:title={'center':'MinTemp'}>]], dtype=object)"
      ]
     },
     "execution_count": 494,
     "metadata": {},
     "output_type": "execute_result"
    },
    {
     "data": {
      "image/png": "[encoded data removed]",
      "text/plain": [
       "<Figure size 432x288 with 1 Axes>"
      ]
     },
     "metadata": {
      "needs_background": "light"
     },
     "output_type": "display_data"
    }
   ],
   "source": [
    "df1.hist('MinTemp')"
   ]
  },
  {
   "cell_type": "markdown",
   "id": "25f688db",
   "metadata": {},
   "source": [
    "2. Outlier removal"
   ]
  },
  {
   "cell_type": "code",
   "execution_count": 495,
   "id": "9261932b",
   "metadata": {},
   "outputs": [
    {
     "data": {
      "text/html": [
       "<div>\n",
       "<style scoped>\n",
       "    .dataframe tbody tr th:only-of-type {\n",
       "        vertical-align: middle;\n",
       "    }\n",
       "\n",
       "    .dataframe tbody tr th {\n",
       "        vertical-align: top;\n",
       "    }\n",
       "\n",
       "    .dataframe thead th {\n",
       "        text-align: right;\n",
       "    }\n",
       "</style>\n",
       "<table border=\"1\" class=\"dataframe\">\n",
       "  <thead>\n",
       "    <tr style=\"text-align: right;\">\n",
       "      <th></th>\n",
       "      <th>MinTemp</th>\n",
       "      <th>MaxTemp</th>\n",
       "      <th>Rainfall</th>\n",
       "      <th>Evaporation</th>\n",
       "      <th>Sunshine</th>\n",
       "      <th>WindGustSpeed</th>\n",
       "      <th>WindSpeed9am</th>\n",
       "      <th>WindSpeed3pm</th>\n",
       "      <th>Humidity9am</th>\n",
       "      <th>Humidity3pm</th>\n",
       "      <th>Pressure9am</th>\n",
       "      <th>Pressure3pm</th>\n",
       "      <th>Cloud9am</th>\n",
       "      <th>Cloud3pm</th>\n",
       "      <th>Temp9am</th>\n",
       "      <th>Temp3pm</th>\n",
       "    </tr>\n",
       "  </thead>\n",
       "  <tbody>\n",
       "    <tr>\n",
       "      <th>0</th>\n",
       "      <td>5.1</td>\n",
       "      <td>14.3</td>\n",
       "      <td>0.0</td>\n",
       "      <td>1.8</td>\n",
       "      <td>8.9</td>\n",
       "      <td>30.0</td>\n",
       "      <td>7.0</td>\n",
       "      <td>6.0</td>\n",
       "      <td>65.0</td>\n",
       "      <td>47.0</td>\n",
       "      <td>1023.1</td>\n",
       "      <td>1022.2</td>\n",
       "      <td>1.0</td>\n",
       "      <td>1.0</td>\n",
       "      <td>9.1</td>\n",
       "      <td>13.3</td>\n",
       "    </tr>\n",
       "    <tr>\n",
       "      <th>1</th>\n",
       "      <td>1.1</td>\n",
       "      <td>14.5</td>\n",
       "      <td>0.4</td>\n",
       "      <td>4.6</td>\n",
       "      <td>8.4</td>\n",
       "      <td>50.0</td>\n",
       "      <td>7.0</td>\n",
       "      <td>24.0</td>\n",
       "      <td>99.0</td>\n",
       "      <td>46.0</td>\n",
       "      <td>1001.5</td>\n",
       "      <td>1002.4</td>\n",
       "      <td>5.0</td>\n",
       "      <td>5.0</td>\n",
       "      <td>1.3</td>\n",
       "      <td>13.7</td>\n",
       "    </tr>\n",
       "    <tr>\n",
       "      <th>2</th>\n",
       "      <td>19.7</td>\n",
       "      <td>26.2</td>\n",
       "      <td>0.0</td>\n",
       "      <td>7.2</td>\n",
       "      <td>7.2</td>\n",
       "      <td>41.0</td>\n",
       "      <td>19.0</td>\n",
       "      <td>31.0</td>\n",
       "      <td>48.0</td>\n",
       "      <td>50.0</td>\n",
       "      <td>1020.9</td>\n",
       "      <td>1021.9</td>\n",
       "      <td>6.0</td>\n",
       "      <td>4.0</td>\n",
       "      <td>22.7</td>\n",
       "      <td>24.4</td>\n",
       "    </tr>\n",
       "    <tr>\n",
       "      <th>3</th>\n",
       "      <td>16.6</td>\n",
       "      <td>28.0</td>\n",
       "      <td>0.0</td>\n",
       "      <td>9.0</td>\n",
       "      <td>11.3</td>\n",
       "      <td>54.0</td>\n",
       "      <td>28.0</td>\n",
       "      <td>33.0</td>\n",
       "      <td>50.0</td>\n",
       "      <td>41.0</td>\n",
       "      <td>1018.3</td>\n",
       "      <td>1014.9</td>\n",
       "      <td>6.0</td>\n",
       "      <td>1.0</td>\n",
       "      <td>20.0</td>\n",
       "      <td>26.1</td>\n",
       "    </tr>\n",
       "    <tr>\n",
       "      <th>4</th>\n",
       "      <td>14.6</td>\n",
       "      <td>25.3</td>\n",
       "      <td>0.0</td>\n",
       "      <td>4.6</td>\n",
       "      <td>8.4</td>\n",
       "      <td>43.0</td>\n",
       "      <td>6.0</td>\n",
       "      <td>28.0</td>\n",
       "      <td>64.0</td>\n",
       "      <td>67.0</td>\n",
       "      <td>1020.3</td>\n",
       "      <td>1015.0</td>\n",
       "      <td>5.0</td>\n",
       "      <td>5.0</td>\n",
       "      <td>22.2</td>\n",
       "      <td>22.6</td>\n",
       "    </tr>\n",
       "  </tbody>\n",
       "</table>\n",
       "</div>"
      ],
      "text/plain": [
       "   MinTemp  MaxTemp  Rainfall  Evaporation  Sunshine  WindGustSpeed  \\\n",
       "0      5.1     14.3       0.0          1.8       8.9           30.0   \n",
       "1      1.1     14.5       0.4          4.6       8.4           50.0   \n",
       "2     19.7     26.2       0.0          7.2       7.2           41.0   \n",
       "3     16.6     28.0       0.0          9.0      11.3           54.0   \n",
       "4     14.6     25.3       0.0          4.6       8.4           43.0   \n",
       "\n",
       "   WindSpeed9am  WindSpeed3pm  Humidity9am  Humidity3pm  Pressure9am  \\\n",
       "0           7.0           6.0         65.0         47.0       1023.1   \n",
       "1           7.0          24.0         99.0         46.0       1001.5   \n",
       "2          19.0          31.0         48.0         50.0       1020.9   \n",
       "3          28.0          33.0         50.0         41.0       1018.3   \n",
       "4           6.0          28.0         64.0         67.0       1020.3   \n",
       "\n",
       "   Pressure3pm  Cloud9am  Cloud3pm  Temp9am  Temp3pm  \n",
       "0       1022.2       1.0       1.0      9.1     13.3  \n",
       "1       1002.4       5.0       5.0      1.3     13.7  \n",
       "2       1021.9       6.0       4.0     22.7     24.4  \n",
       "3       1014.9       6.0       1.0     20.0     26.1  \n",
       "4       1015.0       5.0       5.0     22.2     22.6  "
      ]
     },
     "execution_count": 495,
     "metadata": {},
     "output_type": "execute_result"
    }
   ],
   "source": [
    "df_float=df1.select_dtypes('float')\n",
    "df_float.head()"
   ]
  },
  {
   "cell_type": "code",
   "execution_count": 496,
   "id": "78ba022e",
   "metadata": {},
   "outputs": [
    {
     "data": {
      "text/html": [
       "<div>\n",
       "<style scoped>\n",
       "    .dataframe tbody tr th:only-of-type {\n",
       "        vertical-align: middle;\n",
       "    }\n",
       "\n",
       "    .dataframe tbody tr th {\n",
       "        vertical-align: top;\n",
       "    }\n",
       "\n",
       "    .dataframe thead th {\n",
       "        text-align: right;\n",
       "    }\n",
       "</style>\n",
       "<table border=\"1\" class=\"dataframe\">\n",
       "  <thead>\n",
       "    <tr style=\"text-align: right;\">\n",
       "      <th></th>\n",
       "      <th>Location</th>\n",
       "      <th>WindGustDir</th>\n",
       "      <th>WindDir9am</th>\n",
       "      <th>WindDir3pm</th>\n",
       "      <th>RainToday</th>\n",
       "      <th>RainTomorrow</th>\n",
       "    </tr>\n",
       "  </thead>\n",
       "  <tbody>\n",
       "    <tr>\n",
       "      <th>0</th>\n",
       "      <td>Hobart</td>\n",
       "      <td>NW</td>\n",
       "      <td>WSW</td>\n",
       "      <td>SSE</td>\n",
       "      <td>No</td>\n",
       "      <td>No</td>\n",
       "    </tr>\n",
       "    <tr>\n",
       "      <th>1</th>\n",
       "      <td>Launceston</td>\n",
       "      <td>SSW</td>\n",
       "      <td>E</td>\n",
       "      <td>SW</td>\n",
       "      <td>No</td>\n",
       "      <td>No</td>\n",
       "    </tr>\n",
       "    <tr>\n",
       "      <th>2</th>\n",
       "      <td>Williamtown</td>\n",
       "      <td>SSE</td>\n",
       "      <td>SSE</td>\n",
       "      <td>SSE</td>\n",
       "      <td>No</td>\n",
       "      <td>No</td>\n",
       "    </tr>\n",
       "    <tr>\n",
       "      <th>3</th>\n",
       "      <td>PerthAirport</td>\n",
       "      <td>SW</td>\n",
       "      <td>SSE</td>\n",
       "      <td>SW</td>\n",
       "      <td>No</td>\n",
       "      <td>No</td>\n",
       "    </tr>\n",
       "    <tr>\n",
       "      <th>4</th>\n",
       "      <td>GoldCoast</td>\n",
       "      <td>NNW</td>\n",
       "      <td>WNW</td>\n",
       "      <td>N</td>\n",
       "      <td>No</td>\n",
       "      <td>No</td>\n",
       "    </tr>\n",
       "  </tbody>\n",
       "</table>\n",
       "</div>"
      ],
      "text/plain": [
       "       Location WindGustDir WindDir9am WindDir3pm RainToday RainTomorrow\n",
       "0        Hobart          NW        WSW        SSE        No           No\n",
       "1    Launceston         SSW          E         SW        No           No\n",
       "2   Williamtown         SSE        SSE        SSE        No           No\n",
       "3  PerthAirport          SW        SSE         SW        No           No\n",
       "4     GoldCoast         NNW        WNW          N        No           No"
      ]
     },
     "execution_count": 496,
     "metadata": {},
     "output_type": "execute_result"
    }
   ],
   "source": [
    "df1.select_dtypes('object').head()"
   ]
  },
  {
   "cell_type": "code",
   "execution_count": 497,
   "id": "0fd60b8e",
   "metadata": {},
   "outputs": [],
   "source": [
    "def outlier_removal(dataframe, dataframe2, limit = 1.5):\n",
    "        \n",
    "    for col in dataframe2:           # This is for the variables to be treated from upper right whisker\n",
    "        rw = limit*(dataframe[col].quantile(0.75) - dataframe[col].quantile(0.25)) + dataframe[col].quantile(0.75)\n",
    "        lw= dataframe[col].quantile(0.25)-(limit*(dataframe[col].quantile(0.75) - dataframe[col].quantile(0.25)))  \n",
    "        dataframe = dataframe[~(dataframe[col]>rw)]\n",
    "        dataframe = dataframe[~(dataframe[col]<lw)]\n",
    "        dataframe = dataframe   \n",
    "    \n",
    "    return dataframe"
   ]
  },
  {
   "cell_type": "code",
   "execution_count": 498,
   "id": "bdefb98f",
   "metadata": {},
   "outputs": [
    {
     "data": {
      "text/plain": [
       "(36261, 23)"
      ]
     },
     "execution_count": 498,
     "metadata": {},
     "output_type": "execute_result"
    }
   ],
   "source": [
    "df1.shape"
   ]
  },
  {
   "cell_type": "code",
   "execution_count": 499,
   "id": "49f699d4",
   "metadata": {},
   "outputs": [],
   "source": [
    "df2 = outlier_removal(df1, df_float, limit = 1.5)"
   ]
  },
  {
   "cell_type": "code",
   "execution_count": 500,
   "id": "be7c0d06",
   "metadata": {},
   "outputs": [
    {
     "data": {
      "text/plain": [
       "{'whiskers': [<matplotlib.lines.Line2D at 0x2339bac4400>,\n",
       "  <matplotlib.lines.Line2D at 0x2339bac4760>],\n",
       " 'caps': [<matplotlib.lines.Line2D at 0x2339bac4ac0>,\n",
       "  <matplotlib.lines.Line2D at 0x2339bac4e20>],\n",
       " 'boxes': [<matplotlib.lines.Line2D at 0x2339bac4070>],\n",
       " 'medians': [<matplotlib.lines.Line2D at 0x2339bacd1c0>],\n",
       " 'fliers': [<matplotlib.lines.Line2D at 0x2339bacd520>],\n",
       " 'means': []}"
      ]
     },
     "execution_count": 500,
     "metadata": {},
     "output_type": "execute_result"
    },
    {
     "data": {
      "image/png": "[encoded data removed]",
      "text/plain": [
       "<Figure size 432x288 with 1 Axes>"
      ]
     },
     "metadata": {
      "needs_background": "light"
     },
     "output_type": "display_data"
    }
   ],
   "source": [
    "plt.boxplot(df2['Pressure9am'],vert=False)"
   ]
  },
  {
   "cell_type": "code",
   "execution_count": 501,
   "id": "07ec143c",
   "metadata": {},
   "outputs": [
    {
     "data": {
      "text/plain": [
       "(19674, 23)"
      ]
     },
     "execution_count": 501,
     "metadata": {},
     "output_type": "execute_result"
    }
   ],
   "source": [
    "df2.shape\n"
   ]
  },
  {
   "cell_type": "markdown",
   "id": "6283d7b0",
   "metadata": {},
   "source": [
    "# Label Encoding"
   ]
  },
  {
   "cell_type": "code",
   "execution_count": 502,
   "id": "9a883ebf",
   "metadata": {},
   "outputs": [
    {
     "data": {
      "text/html": [
       "<div>\n",
       "<style scoped>\n",
       "    .dataframe tbody tr th:only-of-type {\n",
       "        vertical-align: middle;\n",
       "    }\n",
       "\n",
       "    .dataframe tbody tr th {\n",
       "        vertical-align: top;\n",
       "    }\n",
       "\n",
       "    .dataframe thead th {\n",
       "        text-align: right;\n",
       "    }\n",
       "</style>\n",
       "<table border=\"1\" class=\"dataframe\">\n",
       "  <thead>\n",
       "    <tr style=\"text-align: right;\">\n",
       "      <th></th>\n",
       "      <th>Location</th>\n",
       "      <th>WindGustDir</th>\n",
       "      <th>WindDir9am</th>\n",
       "      <th>WindDir3pm</th>\n",
       "      <th>RainToday</th>\n",
       "      <th>RainTomorrow</th>\n",
       "    </tr>\n",
       "  </thead>\n",
       "  <tbody>\n",
       "    <tr>\n",
       "      <th>0</th>\n",
       "      <td>15</td>\n",
       "      <td>7</td>\n",
       "      <td>15</td>\n",
       "      <td>10</td>\n",
       "      <td>0</td>\n",
       "      <td>0</td>\n",
       "    </tr>\n",
       "    <tr>\n",
       "      <th>2</th>\n",
       "      <td>42</td>\n",
       "      <td>10</td>\n",
       "      <td>10</td>\n",
       "      <td>10</td>\n",
       "      <td>0</td>\n",
       "      <td>0</td>\n",
       "    </tr>\n",
       "    <tr>\n",
       "      <th>3</th>\n",
       "      <td>30</td>\n",
       "      <td>12</td>\n",
       "      <td>10</td>\n",
       "      <td>12</td>\n",
       "      <td>0</td>\n",
       "      <td>0</td>\n",
       "    </tr>\n",
       "    <tr>\n",
       "      <th>4</th>\n",
       "      <td>14</td>\n",
       "      <td>6</td>\n",
       "      <td>14</td>\n",
       "      <td>3</td>\n",
       "      <td>0</td>\n",
       "      <td>0</td>\n",
       "    </tr>\n",
       "    <tr>\n",
       "      <th>6</th>\n",
       "      <td>26</td>\n",
       "      <td>9</td>\n",
       "      <td>1</td>\n",
       "      <td>5</td>\n",
       "      <td>0</td>\n",
       "      <td>0</td>\n",
       "    </tr>\n",
       "  </tbody>\n",
       "</table>\n",
       "</div>"
      ],
      "text/plain": [
       "   Location  WindGustDir  WindDir9am  WindDir3pm  RainToday  RainTomorrow\n",
       "0        15            7          15          10          0             0\n",
       "2        42           10          10          10          0             0\n",
       "3        30           12          10          12          0             0\n",
       "4        14            6          14           3          0             0\n",
       "6        26            9           1           5          0             0"
      ]
     },
     "execution_count": 502,
     "metadata": {},
     "output_type": "execute_result"
    }
   ],
   "source": [
    "str_cols = df2.select_dtypes('object').columns\n",
    "\n",
    "df_str = df2[str_cols].astype('str')\n",
    "\n",
    "from sklearn.preprocessing import LabelEncoder\n",
    "df_str = df_str.apply(LabelEncoder().fit_transform)\n",
    "df_str.head()"
   ]
  },
  {
   "cell_type": "code",
   "execution_count": 503,
   "id": "0e7537d4",
   "metadata": {},
   "outputs": [],
   "source": [
    "df2[str_cols]=df_str"
   ]
  },
  {
   "cell_type": "code",
   "execution_count": 504,
   "id": "26baead4",
   "metadata": {},
   "outputs": [
    {
     "data": {
      "text/html": [
       "<div>\n",
       "<style scoped>\n",
       "    .dataframe tbody tr th:only-of-type {\n",
       "        vertical-align: middle;\n",
       "    }\n",
       "\n",
       "    .dataframe tbody tr th {\n",
       "        vertical-align: top;\n",
       "    }\n",
       "\n",
       "    .dataframe thead th {\n",
       "        text-align: right;\n",
       "    }\n",
       "</style>\n",
       "<table border=\"1\" class=\"dataframe\">\n",
       "  <thead>\n",
       "    <tr style=\"text-align: right;\">\n",
       "      <th></th>\n",
       "      <th>Date</th>\n",
       "      <th>Location</th>\n",
       "      <th>MinTemp</th>\n",
       "      <th>MaxTemp</th>\n",
       "      <th>Rainfall</th>\n",
       "      <th>Evaporation</th>\n",
       "      <th>Sunshine</th>\n",
       "      <th>WindGustDir</th>\n",
       "      <th>WindGustSpeed</th>\n",
       "      <th>WindDir9am</th>\n",
       "      <th>...</th>\n",
       "      <th>Humidity9am</th>\n",
       "      <th>Humidity3pm</th>\n",
       "      <th>Pressure9am</th>\n",
       "      <th>Pressure3pm</th>\n",
       "      <th>Cloud9am</th>\n",
       "      <th>Cloud3pm</th>\n",
       "      <th>Temp9am</th>\n",
       "      <th>Temp3pm</th>\n",
       "      <th>RainToday</th>\n",
       "      <th>RainTomorrow</th>\n",
       "    </tr>\n",
       "  </thead>\n",
       "  <tbody>\n",
       "    <tr>\n",
       "      <th>0</th>\n",
       "      <td>2009-05-18</td>\n",
       "      <td>15</td>\n",
       "      <td>5.1</td>\n",
       "      <td>14.3</td>\n",
       "      <td>0.0</td>\n",
       "      <td>1.8</td>\n",
       "      <td>8.9</td>\n",
       "      <td>7</td>\n",
       "      <td>30.0</td>\n",
       "      <td>15</td>\n",
       "      <td>...</td>\n",
       "      <td>65.0</td>\n",
       "      <td>47.0</td>\n",
       "      <td>1023.1</td>\n",
       "      <td>1022.2</td>\n",
       "      <td>1.0</td>\n",
       "      <td>1.0</td>\n",
       "      <td>9.1</td>\n",
       "      <td>13.3</td>\n",
       "      <td>0</td>\n",
       "      <td>0</td>\n",
       "    </tr>\n",
       "    <tr>\n",
       "      <th>2</th>\n",
       "      <td>2010-02-18</td>\n",
       "      <td>42</td>\n",
       "      <td>19.7</td>\n",
       "      <td>26.2</td>\n",
       "      <td>0.0</td>\n",
       "      <td>7.2</td>\n",
       "      <td>7.2</td>\n",
       "      <td>10</td>\n",
       "      <td>41.0</td>\n",
       "      <td>10</td>\n",
       "      <td>...</td>\n",
       "      <td>48.0</td>\n",
       "      <td>50.0</td>\n",
       "      <td>1020.9</td>\n",
       "      <td>1021.9</td>\n",
       "      <td>6.0</td>\n",
       "      <td>4.0</td>\n",
       "      <td>22.7</td>\n",
       "      <td>24.4</td>\n",
       "      <td>0</td>\n",
       "      <td>0</td>\n",
       "    </tr>\n",
       "    <tr>\n",
       "      <th>3</th>\n",
       "      <td>2010-03-04</td>\n",
       "      <td>30</td>\n",
       "      <td>16.6</td>\n",
       "      <td>28.0</td>\n",
       "      <td>0.0</td>\n",
       "      <td>9.0</td>\n",
       "      <td>11.3</td>\n",
       "      <td>12</td>\n",
       "      <td>54.0</td>\n",
       "      <td>10</td>\n",
       "      <td>...</td>\n",
       "      <td>50.0</td>\n",
       "      <td>41.0</td>\n",
       "      <td>1018.3</td>\n",
       "      <td>1014.9</td>\n",
       "      <td>6.0</td>\n",
       "      <td>1.0</td>\n",
       "      <td>20.0</td>\n",
       "      <td>26.1</td>\n",
       "      <td>0</td>\n",
       "      <td>0</td>\n",
       "    </tr>\n",
       "    <tr>\n",
       "      <th>4</th>\n",
       "      <td>2010-09-09</td>\n",
       "      <td>14</td>\n",
       "      <td>14.6</td>\n",
       "      <td>25.3</td>\n",
       "      <td>0.0</td>\n",
       "      <td>4.6</td>\n",
       "      <td>8.4</td>\n",
       "      <td>6</td>\n",
       "      <td>43.0</td>\n",
       "      <td>14</td>\n",
       "      <td>...</td>\n",
       "      <td>64.0</td>\n",
       "      <td>67.0</td>\n",
       "      <td>1020.3</td>\n",
       "      <td>1015.0</td>\n",
       "      <td>5.0</td>\n",
       "      <td>5.0</td>\n",
       "      <td>22.2</td>\n",
       "      <td>22.6</td>\n",
       "      <td>0</td>\n",
       "      <td>0</td>\n",
       "    </tr>\n",
       "    <tr>\n",
       "      <th>6</th>\n",
       "      <td>2011-10-13</td>\n",
       "      <td>26</td>\n",
       "      <td>9.8</td>\n",
       "      <td>23.9</td>\n",
       "      <td>0.0</td>\n",
       "      <td>4.4</td>\n",
       "      <td>10.5</td>\n",
       "      <td>9</td>\n",
       "      <td>35.0</td>\n",
       "      <td>1</td>\n",
       "      <td>...</td>\n",
       "      <td>53.0</td>\n",
       "      <td>29.0</td>\n",
       "      <td>1017.8</td>\n",
       "      <td>1013.9</td>\n",
       "      <td>3.0</td>\n",
       "      <td>4.0</td>\n",
       "      <td>15.5</td>\n",
       "      <td>23.0</td>\n",
       "      <td>0</td>\n",
       "      <td>0</td>\n",
       "    </tr>\n",
       "  </tbody>\n",
       "</table>\n",
       "<p>5 rows × 23 columns</p>\n",
       "</div>"
      ],
      "text/plain": [
       "        Date  Location  MinTemp  MaxTemp  Rainfall  Evaporation  Sunshine  \\\n",
       "0 2009-05-18        15      5.1     14.3       0.0          1.8       8.9   \n",
       "2 2010-02-18        42     19.7     26.2       0.0          7.2       7.2   \n",
       "3 2010-03-04        30     16.6     28.0       0.0          9.0      11.3   \n",
       "4 2010-09-09        14     14.6     25.3       0.0          4.6       8.4   \n",
       "6 2011-10-13        26      9.8     23.9       0.0          4.4      10.5   \n",
       "\n",
       "   WindGustDir  WindGustSpeed  WindDir9am  ...  Humidity9am  Humidity3pm  \\\n",
       "0            7           30.0          15  ...         65.0         47.0   \n",
       "2           10           41.0          10  ...         48.0         50.0   \n",
       "3           12           54.0          10  ...         50.0         41.0   \n",
       "4            6           43.0          14  ...         64.0         67.0   \n",
       "6            9           35.0           1  ...         53.0         29.0   \n",
       "\n",
       "   Pressure9am  Pressure3pm  Cloud9am  Cloud3pm  Temp9am  Temp3pm  RainToday  \\\n",
       "0       1023.1       1022.2       1.0       1.0      9.1     13.3          0   \n",
       "2       1020.9       1021.9       6.0       4.0     22.7     24.4          0   \n",
       "3       1018.3       1014.9       6.0       1.0     20.0     26.1          0   \n",
       "4       1020.3       1015.0       5.0       5.0     22.2     22.6          0   \n",
       "6       1017.8       1013.9       3.0       4.0     15.5     23.0          0   \n",
       "\n",
       "   RainTomorrow  \n",
       "0             0  \n",
       "2             0  \n",
       "3             0  \n",
       "4             0  \n",
       "6             0  \n",
       "\n",
       "[5 rows x 23 columns]"
      ]
     },
     "execution_count": 504,
     "metadata": {},
     "output_type": "execute_result"
    }
   ],
   "source": [
    "df2.head()"
   ]
  },
  {
   "cell_type": "markdown",
   "id": "e20eaca6",
   "metadata": {},
   "source": [
    "# Train-Test Split"
   ]
  },
  {
   "cell_type": "code",
   "execution_count": 505,
   "id": "42d2bfc3",
   "metadata": {},
   "outputs": [
    {
     "data": {
      "text/plain": [
       "0    86.743926\n",
       "1    13.256074\n",
       "Name: RainTomorrow, dtype: float64"
      ]
     },
     "execution_count": 505,
     "metadata": {},
     "output_type": "execute_result"
    }
   ],
   "source": [
    "(df2['RainTomorrow'].value_counts()/df2.shape[0])*100"
   ]
  },
  {
   "cell_type": "code",
   "execution_count": 506,
   "id": "e0f86d74",
   "metadata": {},
   "outputs": [],
   "source": [
    "from sklearn.model_selection import train_test_split\n",
    "df2=df2.drop('Date',axis=1)\n",
    "\n",
    "X=df2.drop('RainTomorrow',axis=1)\n",
    "y=df2['RainTomorrow']"
   ]
  },
  {
   "cell_type": "code",
   "execution_count": 507,
   "id": "5e9fccaa",
   "metadata": {},
   "outputs": [
    {
     "name": "stdout",
     "output_type": "stream",
     "text": [
      "(13771, 21)\n",
      "(5903, 21)\n"
     ]
    }
   ],
   "source": [
    "X_train,X_test,y_train,y_test=train_test_split(X, y, test_size= 0.30, random_state=42)\n",
    "\n",
    "print(X_train.shape)\n",
    "print(X_test.shape)"
   ]
  },
  {
   "cell_type": "code",
   "execution_count": 508,
   "id": "17a47bab",
   "metadata": {},
   "outputs": [
    {
     "name": "stdout",
     "output_type": "stream",
     "text": [
      "(13771, 21)\n",
      "(13771,)\n",
      "(5903, 21)\n"
     ]
    }
   ],
   "source": [
    "from sklearn.preprocessing import StandardScaler\n",
    "object= StandardScaler()\n",
    "\n",
    "  \n",
    "# standardization \n",
    "scale = pd.DataFrame(object.fit_transform(X_train)) \n",
    "X_train=scale\n",
    "print(X_train.shape)\n",
    "print(y_train.shape)\n",
    "print(X_test.shape)"
   ]
  },
  {
   "cell_type": "code",
   "execution_count": 509,
   "id": "27bcbcd9",
   "metadata": {},
   "outputs": [],
   "source": [
    "from sklearn.ensemble import RandomForestClassifier\n",
    "randomForestClassifier = RandomForestClassifier(n_estimators = 800, max_depth = 10,\n",
    "                                                  class_weight = \"balanced\",\n",
    "                                                  random_state= 42)"
   ]
  },
  {
   "cell_type": "code",
   "execution_count": 510,
   "id": "e9d726d1",
   "metadata": {},
   "outputs": [
    {
     "data": {
      "text/plain": [
       "RandomForestClassifier(class_weight='balanced', max_depth=10, n_estimators=800,\n",
       "                       random_state=42)"
      ]
     },
     "execution_count": 510,
     "metadata": {},
     "output_type": "execute_result"
    }
   ],
   "source": [
    "randomForestClassifier.fit(X_train, y_train)"
   ]
  },
  {
   "cell_type": "code",
   "execution_count": 511,
   "id": "d5020f4e",
   "metadata": {},
   "outputs": [
    {
     "name": "stdout",
     "output_type": "stream",
     "text": [
      "Accuracy Score -> 0.875\n",
      "Precision Score -> 0.516\n",
      "Recall Score -> 0.881\n",
      "F1 Score -> 0.65\n",
      "\n",
      "\n",
      "***Confusion Matrix***\n"
     ]
    },
    {
     "data": {
      "text/plain": [
       "array([[10460,  1500],\n",
       "       [  215,  1596]], dtype=int64)"
      ]
     },
     "execution_count": 511,
     "metadata": {},
     "output_type": "execute_result"
    }
   ],
   "source": [
    "X_train['pred']  = randomForestClassifier.predict(X_train)\n",
    "\n",
    "print('Accuracy Score ->',round(accuracy_score(y_train, X_train['pred']),3))\n",
    "print('Precision Score ->',round(precision_score(y_train, X_train['pred']),3))\n",
    "print('Recall Score ->',round(recall_score(y_train, X_train['pred']),3))\n",
    "print('F1 Score ->',round(f1_score(y_train, X_train['pred']),3))\n",
    "print('\\n')\n",
    "print('***Confusion Matrix***')\n",
    "confusion_matrix(y_train, X_train['pred'])"
   ]
  },
  {
   "cell_type": "code",
   "execution_count": 512,
   "id": "3a076e61",
   "metadata": {},
   "outputs": [
    {
     "data": {
      "text/plain": [
       "(5903, 21)"
      ]
     },
     "execution_count": 512,
     "metadata": {},
     "output_type": "execute_result"
    }
   ],
   "source": [
    "X_test.shape"
   ]
  },
  {
   "cell_type": "code",
   "execution_count": 513,
   "id": "1c743667",
   "metadata": {},
   "outputs": [],
   "source": [
    "X_test=pd.DataFrame(object.transform(X_test))"
   ]
  },
  {
   "cell_type": "code",
   "execution_count": 514,
   "id": "d4cc1167",
   "metadata": {},
   "outputs": [
    {
     "name": "stdout",
     "output_type": "stream",
     "text": [
      "Accuracy Score -> 0.818\n",
      "Precision Score -> 0.389\n",
      "Recall Score -> 0.61\n",
      "F1 Score -> 0.475\n",
      "\n",
      "\n",
      "***Confusion Matrix***\n"
     ]
    },
    {
     "data": {
      "text/plain": [
       "array([[4344,  762],\n",
       "       [ 311,  486]], dtype=int64)"
      ]
     },
     "execution_count": 514,
     "metadata": {},
     "output_type": "execute_result"
    }
   ],
   "source": [
    "X_test['pred'] = randomForestClassifier.predict(X_test)\n",
    "\n",
    "print('Accuracy Score ->',round(accuracy_score(y_test, X_test['pred']),3))\n",
    "print('Precision Score ->',round(precision_score(y_test, X_test['pred']),3))\n",
    "print('Recall Score ->',round(recall_score(y_test, X_test['pred']),3))\n",
    "print('F1 Score ->',round(f1_score(y_test, X_test['pred']),3))\n",
    "print('\\n')\n",
    "print('***Confusion Matrix***')\n",
    "confusion_matrix(y_test, X_test['pred'])"
   ]
  },
  {
   "cell_type": "code",
   "execution_count": 515,
   "id": "da754c0f",
   "metadata": {},
   "outputs": [],
   "source": [
    "X_train.drop('pred',axis=1,inplace=True)\n",
    "X_test.drop('pred',axis=1,inplace=True)"
   ]
  },
  {
   "cell_type": "code",
   "execution_count": 516,
   "id": "87d48ea7",
   "metadata": {},
   "outputs": [],
   "source": [
    "decision_tree_model = DecisionTreeClassifier(class_weight = \"balanced\",\n",
    "                                                  random_state= 42,max_depth=10)"
   ]
  },
  {
   "cell_type": "code",
   "execution_count": 517,
   "id": "18a1234a",
   "metadata": {},
   "outputs": [
    {
     "data": {
      "text/plain": [
       "DecisionTreeClassifier(class_weight='balanced', max_depth=10, random_state=42)"
      ]
     },
     "execution_count": 517,
     "metadata": {},
     "output_type": "execute_result"
    }
   ],
   "source": [
    "decision_tree_model.fit(X_train, y_train)"
   ]
  },
  {
   "cell_type": "code",
   "execution_count": 518,
   "id": "91ffcf03",
   "metadata": {},
   "outputs": [
    {
     "name": "stdout",
     "output_type": "stream",
     "text": [
      "Accuracy Score -> 0.778\n",
      "Precision Score -> 0.364\n",
      "Recall Score -> 0.923\n",
      "F1 Score -> 0.522\n",
      "\n",
      "\n",
      "***Confusion Matrix***\n"
     ]
    },
    {
     "data": {
      "text/plain": [
       "array([[9039, 2921],\n",
       "       [ 139, 1672]], dtype=int64)"
      ]
     },
     "execution_count": 518,
     "metadata": {},
     "output_type": "execute_result"
    }
   ],
   "source": [
    "X_train['pred']  = decision_tree_model.predict(X_train)\n",
    "\n",
    "print('Accuracy Score ->',round(accuracy_score(y_train, X_train['pred']),3))\n",
    "print('Precision Score ->',round(precision_score(y_train, X_train['pred']),3))\n",
    "print('Recall Score ->',round(recall_score(y_train, X_train['pred']),3))\n",
    "print('F1 Score ->',round(f1_score(y_train, X_train['pred']),3))\n",
    "print('\\n')\n",
    "print('***Confusion Matrix***')\n",
    "confusion_matrix(y_train, X_train['pred'])"
   ]
  },
  {
   "cell_type": "code",
   "execution_count": 519,
   "id": "60bef907",
   "metadata": {},
   "outputs": [
    {
     "name": "stdout",
     "output_type": "stream",
     "text": [
      "Accuracy Score -> 0.708\n",
      "Precision Score -> 0.262\n",
      "Recall Score -> 0.642\n",
      "F1 Score -> 0.372\n",
      "\n",
      "\n",
      "***Confusion Matrix***\n"
     ]
    },
    {
     "data": {
      "text/plain": [
       "array([[3665, 1441],\n",
       "       [ 285,  512]], dtype=int64)"
      ]
     },
     "execution_count": 519,
     "metadata": {},
     "output_type": "execute_result"
    }
   ],
   "source": [
    "X_test['pred'] = decision_tree_model.predict(X_test)\n",
    "\n",
    "print('Accuracy Score ->',round(accuracy_score(y_test, X_test['pred']),3))\n",
    "print('Precision Score ->',round(precision_score(y_test, X_test['pred']),3))\n",
    "print('Recall Score ->',round(recall_score(y_test, X_test['pred']),3))\n",
    "print('F1 Score ->',round(f1_score(y_test, X_test['pred']),3))\n",
    "print('\\n')\n",
    "print('***Confusion Matrix***')\n",
    "confusion_matrix(y_test, X_test['pred'])"
   ]
  },
  {
   "cell_type": "code",
   "execution_count": null,
   "id": "79e248be",
   "metadata": {},
   "outputs": [],
   "source": []
  }
 ],
 "metadata": {
  "kernelspec": {
   "display_name": "Python 3",
   "language": "python",
   "name": "python3"
  },
  "language_info": {
   "codemirror_mode": {
    "name": "ipython",
    "version": 3
   },
   "file_extension": ".py",
   "mimetype": "text/x-python",
   "name": "python",
   "nbconvert_exporter": "python",
   "pygments_lexer": "ipython3",
   "version": "3.8.8"
  }
 },
 "nbformat": 4,
 "nbformat_minor": 5
}
