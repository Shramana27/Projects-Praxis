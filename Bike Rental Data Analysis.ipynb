{
 "cells": [
  {
   "cell_type": "markdown",
   "id": "61dd09f7",
   "metadata": {},
   "source": [
    "# EDA, Correlation, Bivariate Regression and Hypothesis Testing on Bike Rental data"
   ]
  },
  {
   "cell_type": "code",
   "execution_count": 1,
   "id": "c10a994f",
   "metadata": {},
   "outputs": [],
   "source": [
    "import pandas as pd\n",
    "import matplotlib.pyplot as plt\n",
    "import seaborn as sns\n",
    "from scipy import stats\n",
    "from sklearn.linear_model import LinearRegression\n",
    "import numpy as np\n",
    "import statsmodels.api as sm\n",
    "from statsmodels.stats.proportion import proportions_ztest\n",
    "import scipy.stats as stats\n",
    "from sklearn.metrics import mean_squared_error"
   ]
  },
  {
   "cell_type": "code",
   "execution_count": 2,
   "id": "dde06eb4",
   "metadata": {},
   "outputs": [],
   "source": [
    "# Load the dataset\n",
    "df_day=pd.read_csv('day.csv',parse_dates=['dteday'])\n",
    "df_day.set_index('instant',inplace=True)"
   ]
  },
  {
   "cell_type": "code",
   "execution_count": 3,
   "id": "ce7bd73a",
   "metadata": {},
   "outputs": [],
   "source": [
    "# Load the dataset\n",
    "df_hour=pd.read_csv('hour.csv',parse_dates=['dteday'])\n",
    "df_hour.set_index('instant',inplace=True)"
   ]
  },
  {
   "cell_type": "code",
   "execution_count": 4,
   "id": "aff2cce7",
   "metadata": {},
   "outputs": [
    {
     "data": {
      "text/plain": [
       "(731, 15)"
      ]
     },
     "execution_count": 4,
     "metadata": {},
     "output_type": "execute_result"
    }
   ],
   "source": [
    "df_day.shape"
   ]
  },
  {
   "cell_type": "code",
   "execution_count": 5,
   "id": "3e08830b",
   "metadata": {},
   "outputs": [
    {
     "data": {
      "text/html": [
       "<div>\n",
       "<style scoped>\n",
       "    .dataframe tbody tr th:only-of-type {\n",
       "        vertical-align: middle;\n",
       "    }\n",
       "\n",
       "    .dataframe tbody tr th {\n",
       "        vertical-align: top;\n",
       "    }\n",
       "\n",
       "    .dataframe thead th {\n",
       "        text-align: right;\n",
       "    }\n",
       "</style>\n",
       "<table border=\"1\" class=\"dataframe\">\n",
       "  <thead>\n",
       "    <tr style=\"text-align: right;\">\n",
       "      <th></th>\n",
       "      <th>dteday</th>\n",
       "      <th>season</th>\n",
       "      <th>yr</th>\n",
       "      <th>mnth</th>\n",
       "      <th>holiday</th>\n",
       "      <th>weekday</th>\n",
       "      <th>workingday</th>\n",
       "      <th>weathersit</th>\n",
       "      <th>temp</th>\n",
       "      <th>atemp</th>\n",
       "      <th>hum</th>\n",
       "      <th>windspeed</th>\n",
       "      <th>casual</th>\n",
       "      <th>registered</th>\n",
       "      <th>cnt</th>\n",
       "    </tr>\n",
       "    <tr>\n",
       "      <th>instant</th>\n",
       "      <th></th>\n",
       "      <th></th>\n",
       "      <th></th>\n",
       "      <th></th>\n",
       "      <th></th>\n",
       "      <th></th>\n",
       "      <th></th>\n",
       "      <th></th>\n",
       "      <th></th>\n",
       "      <th></th>\n",
       "      <th></th>\n",
       "      <th></th>\n",
       "      <th></th>\n",
       "      <th></th>\n",
       "      <th></th>\n",
       "    </tr>\n",
       "  </thead>\n",
       "  <tbody>\n",
       "    <tr>\n",
       "      <th>1</th>\n",
       "      <td>2011-01-01</td>\n",
       "      <td>1</td>\n",
       "      <td>0</td>\n",
       "      <td>1</td>\n",
       "      <td>0</td>\n",
       "      <td>6</td>\n",
       "      <td>0</td>\n",
       "      <td>2</td>\n",
       "      <td>0.344167</td>\n",
       "      <td>0.363625</td>\n",
       "      <td>0.805833</td>\n",
       "      <td>0.160446</td>\n",
       "      <td>331</td>\n",
       "      <td>654</td>\n",
       "      <td>985</td>\n",
       "    </tr>\n",
       "    <tr>\n",
       "      <th>2</th>\n",
       "      <td>2011-01-02</td>\n",
       "      <td>1</td>\n",
       "      <td>0</td>\n",
       "      <td>1</td>\n",
       "      <td>0</td>\n",
       "      <td>0</td>\n",
       "      <td>0</td>\n",
       "      <td>2</td>\n",
       "      <td>0.363478</td>\n",
       "      <td>0.353739</td>\n",
       "      <td>0.696087</td>\n",
       "      <td>0.248539</td>\n",
       "      <td>131</td>\n",
       "      <td>670</td>\n",
       "      <td>801</td>\n",
       "    </tr>\n",
       "    <tr>\n",
       "      <th>3</th>\n",
       "      <td>2011-01-03</td>\n",
       "      <td>1</td>\n",
       "      <td>0</td>\n",
       "      <td>1</td>\n",
       "      <td>0</td>\n",
       "      <td>1</td>\n",
       "      <td>1</td>\n",
       "      <td>1</td>\n",
       "      <td>0.196364</td>\n",
       "      <td>0.189405</td>\n",
       "      <td>0.437273</td>\n",
       "      <td>0.248309</td>\n",
       "      <td>120</td>\n",
       "      <td>1229</td>\n",
       "      <td>1349</td>\n",
       "    </tr>\n",
       "    <tr>\n",
       "      <th>4</th>\n",
       "      <td>2011-01-04</td>\n",
       "      <td>1</td>\n",
       "      <td>0</td>\n",
       "      <td>1</td>\n",
       "      <td>0</td>\n",
       "      <td>2</td>\n",
       "      <td>1</td>\n",
       "      <td>1</td>\n",
       "      <td>0.200000</td>\n",
       "      <td>0.212122</td>\n",
       "      <td>0.590435</td>\n",
       "      <td>0.160296</td>\n",
       "      <td>108</td>\n",
       "      <td>1454</td>\n",
       "      <td>1562</td>\n",
       "    </tr>\n",
       "    <tr>\n",
       "      <th>5</th>\n",
       "      <td>2011-01-05</td>\n",
       "      <td>1</td>\n",
       "      <td>0</td>\n",
       "      <td>1</td>\n",
       "      <td>0</td>\n",
       "      <td>3</td>\n",
       "      <td>1</td>\n",
       "      <td>1</td>\n",
       "      <td>0.226957</td>\n",
       "      <td>0.229270</td>\n",
       "      <td>0.436957</td>\n",
       "      <td>0.186900</td>\n",
       "      <td>82</td>\n",
       "      <td>1518</td>\n",
       "      <td>1600</td>\n",
       "    </tr>\n",
       "  </tbody>\n",
       "</table>\n",
       "</div>"
      ],
      "text/plain": [
       "            dteday  season  yr  mnth  holiday  weekday  workingday  \\\n",
       "instant                                                              \n",
       "1       2011-01-01       1   0     1        0        6           0   \n",
       "2       2011-01-02       1   0     1        0        0           0   \n",
       "3       2011-01-03       1   0     1        0        1           1   \n",
       "4       2011-01-04       1   0     1        0        2           1   \n",
       "5       2011-01-05       1   0     1        0        3           1   \n",
       "\n",
       "         weathersit      temp     atemp       hum  windspeed  casual  \\\n",
       "instant                                                                \n",
       "1                 2  0.344167  0.363625  0.805833   0.160446     331   \n",
       "2                 2  0.363478  0.353739  0.696087   0.248539     131   \n",
       "3                 1  0.196364  0.189405  0.437273   0.248309     120   \n",
       "4                 1  0.200000  0.212122  0.590435   0.160296     108   \n",
       "5                 1  0.226957  0.229270  0.436957   0.186900      82   \n",
       "\n",
       "         registered   cnt  \n",
       "instant                    \n",
       "1               654   985  \n",
       "2               670   801  \n",
       "3              1229  1349  \n",
       "4              1454  1562  \n",
       "5              1518  1600  "
      ]
     },
     "execution_count": 5,
     "metadata": {},
     "output_type": "execute_result"
    }
   ],
   "source": [
    "#\".head()\" method will show the first 5 rows of the dataframe\n",
    "df_day.head()"
   ]
  },
  {
   "cell_type": "code",
   "execution_count": 6,
   "id": "910f1700",
   "metadata": {},
   "outputs": [
    {
     "data": {
      "text/html": [
       "<div>\n",
       "<style scoped>\n",
       "    .dataframe tbody tr th:only-of-type {\n",
       "        vertical-align: middle;\n",
       "    }\n",
       "\n",
       "    .dataframe tbody tr th {\n",
       "        vertical-align: top;\n",
       "    }\n",
       "\n",
       "    .dataframe thead th {\n",
       "        text-align: right;\n",
       "    }\n",
       "</style>\n",
       "<table border=\"1\" class=\"dataframe\">\n",
       "  <thead>\n",
       "    <tr style=\"text-align: right;\">\n",
       "      <th></th>\n",
       "      <th>dteday</th>\n",
       "      <th>season</th>\n",
       "      <th>yr</th>\n",
       "      <th>mnth</th>\n",
       "      <th>hr</th>\n",
       "      <th>holiday</th>\n",
       "      <th>weekday</th>\n",
       "      <th>workingday</th>\n",
       "      <th>weathersit</th>\n",
       "      <th>temp</th>\n",
       "      <th>atemp</th>\n",
       "      <th>hum</th>\n",
       "      <th>windspeed</th>\n",
       "      <th>casual</th>\n",
       "      <th>registered</th>\n",
       "      <th>cnt</th>\n",
       "    </tr>\n",
       "    <tr>\n",
       "      <th>instant</th>\n",
       "      <th></th>\n",
       "      <th></th>\n",
       "      <th></th>\n",
       "      <th></th>\n",
       "      <th></th>\n",
       "      <th></th>\n",
       "      <th></th>\n",
       "      <th></th>\n",
       "      <th></th>\n",
       "      <th></th>\n",
       "      <th></th>\n",
       "      <th></th>\n",
       "      <th></th>\n",
       "      <th></th>\n",
       "      <th></th>\n",
       "      <th></th>\n",
       "    </tr>\n",
       "  </thead>\n",
       "  <tbody>\n",
       "    <tr>\n",
       "      <th>1</th>\n",
       "      <td>2011-01-01</td>\n",
       "      <td>1</td>\n",
       "      <td>0</td>\n",
       "      <td>1</td>\n",
       "      <td>0</td>\n",
       "      <td>0</td>\n",
       "      <td>6</td>\n",
       "      <td>0</td>\n",
       "      <td>1</td>\n",
       "      <td>0.24</td>\n",
       "      <td>0.2879</td>\n",
       "      <td>0.81</td>\n",
       "      <td>0.0</td>\n",
       "      <td>3</td>\n",
       "      <td>13</td>\n",
       "      <td>16</td>\n",
       "    </tr>\n",
       "    <tr>\n",
       "      <th>2</th>\n",
       "      <td>2011-01-01</td>\n",
       "      <td>1</td>\n",
       "      <td>0</td>\n",
       "      <td>1</td>\n",
       "      <td>1</td>\n",
       "      <td>0</td>\n",
       "      <td>6</td>\n",
       "      <td>0</td>\n",
       "      <td>1</td>\n",
       "      <td>0.22</td>\n",
       "      <td>0.2727</td>\n",
       "      <td>0.80</td>\n",
       "      <td>0.0</td>\n",
       "      <td>8</td>\n",
       "      <td>32</td>\n",
       "      <td>40</td>\n",
       "    </tr>\n",
       "    <tr>\n",
       "      <th>3</th>\n",
       "      <td>2011-01-01</td>\n",
       "      <td>1</td>\n",
       "      <td>0</td>\n",
       "      <td>1</td>\n",
       "      <td>2</td>\n",
       "      <td>0</td>\n",
       "      <td>6</td>\n",
       "      <td>0</td>\n",
       "      <td>1</td>\n",
       "      <td>0.22</td>\n",
       "      <td>0.2727</td>\n",
       "      <td>0.80</td>\n",
       "      <td>0.0</td>\n",
       "      <td>5</td>\n",
       "      <td>27</td>\n",
       "      <td>32</td>\n",
       "    </tr>\n",
       "    <tr>\n",
       "      <th>4</th>\n",
       "      <td>2011-01-01</td>\n",
       "      <td>1</td>\n",
       "      <td>0</td>\n",
       "      <td>1</td>\n",
       "      <td>3</td>\n",
       "      <td>0</td>\n",
       "      <td>6</td>\n",
       "      <td>0</td>\n",
       "      <td>1</td>\n",
       "      <td>0.24</td>\n",
       "      <td>0.2879</td>\n",
       "      <td>0.75</td>\n",
       "      <td>0.0</td>\n",
       "      <td>3</td>\n",
       "      <td>10</td>\n",
       "      <td>13</td>\n",
       "    </tr>\n",
       "    <tr>\n",
       "      <th>5</th>\n",
       "      <td>2011-01-01</td>\n",
       "      <td>1</td>\n",
       "      <td>0</td>\n",
       "      <td>1</td>\n",
       "      <td>4</td>\n",
       "      <td>0</td>\n",
       "      <td>6</td>\n",
       "      <td>0</td>\n",
       "      <td>1</td>\n",
       "      <td>0.24</td>\n",
       "      <td>0.2879</td>\n",
       "      <td>0.75</td>\n",
       "      <td>0.0</td>\n",
       "      <td>0</td>\n",
       "      <td>1</td>\n",
       "      <td>1</td>\n",
       "    </tr>\n",
       "  </tbody>\n",
       "</table>\n",
       "</div>"
      ],
      "text/plain": [
       "            dteday  season  yr  mnth  hr  holiday  weekday  workingday  \\\n",
       "instant                                                                  \n",
       "1       2011-01-01       1   0     1   0        0        6           0   \n",
       "2       2011-01-01       1   0     1   1        0        6           0   \n",
       "3       2011-01-01       1   0     1   2        0        6           0   \n",
       "4       2011-01-01       1   0     1   3        0        6           0   \n",
       "5       2011-01-01       1   0     1   4        0        6           0   \n",
       "\n",
       "         weathersit  temp   atemp   hum  windspeed  casual  registered  cnt  \n",
       "instant                                                                      \n",
       "1                 1  0.24  0.2879  0.81        0.0       3          13   16  \n",
       "2                 1  0.22  0.2727  0.80        0.0       8          32   40  \n",
       "3                 1  0.22  0.2727  0.80        0.0       5          27   32  \n",
       "4                 1  0.24  0.2879  0.75        0.0       3          10   13  \n",
       "5                 1  0.24  0.2879  0.75        0.0       0           1    1  "
      ]
     },
     "execution_count": 6,
     "metadata": {},
     "output_type": "execute_result"
    }
   ],
   "source": [
    "#\".head()\" method will show the first 5 rows of the dataframe\n",
    "df_hour.head()"
   ]
  },
  {
   "cell_type": "code",
   "execution_count": 7,
   "id": "f56a1f13",
   "metadata": {},
   "outputs": [
    {
     "data": {
      "text/html": [
       "<div>\n",
       "<style scoped>\n",
       "    .dataframe tbody tr th:only-of-type {\n",
       "        vertical-align: middle;\n",
       "    }\n",
       "\n",
       "    .dataframe tbody tr th {\n",
       "        vertical-align: top;\n",
       "    }\n",
       "\n",
       "    .dataframe thead th {\n",
       "        text-align: right;\n",
       "    }\n",
       "</style>\n",
       "<table border=\"1\" class=\"dataframe\">\n",
       "  <thead>\n",
       "    <tr style=\"text-align: right;\">\n",
       "      <th></th>\n",
       "      <th>season</th>\n",
       "      <th>yr</th>\n",
       "      <th>mnth</th>\n",
       "      <th>holiday</th>\n",
       "      <th>weekday</th>\n",
       "      <th>workingday</th>\n",
       "      <th>weathersit</th>\n",
       "      <th>temp</th>\n",
       "      <th>atemp</th>\n",
       "      <th>hum</th>\n",
       "      <th>windspeed</th>\n",
       "      <th>casual</th>\n",
       "      <th>registered</th>\n",
       "      <th>cnt</th>\n",
       "    </tr>\n",
       "  </thead>\n",
       "  <tbody>\n",
       "    <tr>\n",
       "      <th>count</th>\n",
       "      <td>731.000000</td>\n",
       "      <td>731.000000</td>\n",
       "      <td>731.000000</td>\n",
       "      <td>731.000000</td>\n",
       "      <td>731.000000</td>\n",
       "      <td>731.000000</td>\n",
       "      <td>731.000000</td>\n",
       "      <td>731.000000</td>\n",
       "      <td>731.000000</td>\n",
       "      <td>731.000000</td>\n",
       "      <td>731.000000</td>\n",
       "      <td>731.000000</td>\n",
       "      <td>731.000000</td>\n",
       "      <td>731.000000</td>\n",
       "    </tr>\n",
       "    <tr>\n",
       "      <th>mean</th>\n",
       "      <td>2.496580</td>\n",
       "      <td>0.500684</td>\n",
       "      <td>6.519836</td>\n",
       "      <td>0.028728</td>\n",
       "      <td>2.997264</td>\n",
       "      <td>0.683995</td>\n",
       "      <td>1.395349</td>\n",
       "      <td>0.495385</td>\n",
       "      <td>0.474354</td>\n",
       "      <td>0.627894</td>\n",
       "      <td>0.190486</td>\n",
       "      <td>848.176471</td>\n",
       "      <td>3656.172367</td>\n",
       "      <td>4504.348837</td>\n",
       "    </tr>\n",
       "    <tr>\n",
       "      <th>std</th>\n",
       "      <td>1.110807</td>\n",
       "      <td>0.500342</td>\n",
       "      <td>3.451913</td>\n",
       "      <td>0.167155</td>\n",
       "      <td>2.004787</td>\n",
       "      <td>0.465233</td>\n",
       "      <td>0.544894</td>\n",
       "      <td>0.183051</td>\n",
       "      <td>0.162961</td>\n",
       "      <td>0.142429</td>\n",
       "      <td>0.077498</td>\n",
       "      <td>686.622488</td>\n",
       "      <td>1560.256377</td>\n",
       "      <td>1937.211452</td>\n",
       "    </tr>\n",
       "    <tr>\n",
       "      <th>min</th>\n",
       "      <td>1.000000</td>\n",
       "      <td>0.000000</td>\n",
       "      <td>1.000000</td>\n",
       "      <td>0.000000</td>\n",
       "      <td>0.000000</td>\n",
       "      <td>0.000000</td>\n",
       "      <td>1.000000</td>\n",
       "      <td>0.059130</td>\n",
       "      <td>0.079070</td>\n",
       "      <td>0.000000</td>\n",
       "      <td>0.022392</td>\n",
       "      <td>2.000000</td>\n",
       "      <td>20.000000</td>\n",
       "      <td>22.000000</td>\n",
       "    </tr>\n",
       "    <tr>\n",
       "      <th>25%</th>\n",
       "      <td>2.000000</td>\n",
       "      <td>0.000000</td>\n",
       "      <td>4.000000</td>\n",
       "      <td>0.000000</td>\n",
       "      <td>1.000000</td>\n",
       "      <td>0.000000</td>\n",
       "      <td>1.000000</td>\n",
       "      <td>0.337083</td>\n",
       "      <td>0.337842</td>\n",
       "      <td>0.520000</td>\n",
       "      <td>0.134950</td>\n",
       "      <td>315.500000</td>\n",
       "      <td>2497.000000</td>\n",
       "      <td>3152.000000</td>\n",
       "    </tr>\n",
       "    <tr>\n",
       "      <th>50%</th>\n",
       "      <td>3.000000</td>\n",
       "      <td>1.000000</td>\n",
       "      <td>7.000000</td>\n",
       "      <td>0.000000</td>\n",
       "      <td>3.000000</td>\n",
       "      <td>1.000000</td>\n",
       "      <td>1.000000</td>\n",
       "      <td>0.498333</td>\n",
       "      <td>0.486733</td>\n",
       "      <td>0.626667</td>\n",
       "      <td>0.180975</td>\n",
       "      <td>713.000000</td>\n",
       "      <td>3662.000000</td>\n",
       "      <td>4548.000000</td>\n",
       "    </tr>\n",
       "    <tr>\n",
       "      <th>75%</th>\n",
       "      <td>3.000000</td>\n",
       "      <td>1.000000</td>\n",
       "      <td>10.000000</td>\n",
       "      <td>0.000000</td>\n",
       "      <td>5.000000</td>\n",
       "      <td>1.000000</td>\n",
       "      <td>2.000000</td>\n",
       "      <td>0.655417</td>\n",
       "      <td>0.608602</td>\n",
       "      <td>0.730209</td>\n",
       "      <td>0.233214</td>\n",
       "      <td>1096.000000</td>\n",
       "      <td>4776.500000</td>\n",
       "      <td>5956.000000</td>\n",
       "    </tr>\n",
       "    <tr>\n",
       "      <th>max</th>\n",
       "      <td>4.000000</td>\n",
       "      <td>1.000000</td>\n",
       "      <td>12.000000</td>\n",
       "      <td>1.000000</td>\n",
       "      <td>6.000000</td>\n",
       "      <td>1.000000</td>\n",
       "      <td>3.000000</td>\n",
       "      <td>0.861667</td>\n",
       "      <td>0.840896</td>\n",
       "      <td>0.972500</td>\n",
       "      <td>0.507463</td>\n",
       "      <td>3410.000000</td>\n",
       "      <td>6946.000000</td>\n",
       "      <td>8714.000000</td>\n",
       "    </tr>\n",
       "  </tbody>\n",
       "</table>\n",
       "</div>"
      ],
      "text/plain": [
       "           season          yr        mnth     holiday     weekday  workingday  \\\n",
       "count  731.000000  731.000000  731.000000  731.000000  731.000000  731.000000   \n",
       "mean     2.496580    0.500684    6.519836    0.028728    2.997264    0.683995   \n",
       "std      1.110807    0.500342    3.451913    0.167155    2.004787    0.465233   \n",
       "min      1.000000    0.000000    1.000000    0.000000    0.000000    0.000000   \n",
       "25%      2.000000    0.000000    4.000000    0.000000    1.000000    0.000000   \n",
       "50%      3.000000    1.000000    7.000000    0.000000    3.000000    1.000000   \n",
       "75%      3.000000    1.000000   10.000000    0.000000    5.000000    1.000000   \n",
       "max      4.000000    1.000000   12.000000    1.000000    6.000000    1.000000   \n",
       "\n",
       "       weathersit        temp       atemp         hum   windspeed  \\\n",
       "count  731.000000  731.000000  731.000000  731.000000  731.000000   \n",
       "mean     1.395349    0.495385    0.474354    0.627894    0.190486   \n",
       "std      0.544894    0.183051    0.162961    0.142429    0.077498   \n",
       "min      1.000000    0.059130    0.079070    0.000000    0.022392   \n",
       "25%      1.000000    0.337083    0.337842    0.520000    0.134950   \n",
       "50%      1.000000    0.498333    0.486733    0.626667    0.180975   \n",
       "75%      2.000000    0.655417    0.608602    0.730209    0.233214   \n",
       "max      3.000000    0.861667    0.840896    0.972500    0.507463   \n",
       "\n",
       "            casual   registered          cnt  \n",
       "count   731.000000   731.000000   731.000000  \n",
       "mean    848.176471  3656.172367  4504.348837  \n",
       "std     686.622488  1560.256377  1937.211452  \n",
       "min       2.000000    20.000000    22.000000  \n",
       "25%     315.500000  2497.000000  3152.000000  \n",
       "50%     713.000000  3662.000000  4548.000000  \n",
       "75%    1096.000000  4776.500000  5956.000000  \n",
       "max    3410.000000  6946.000000  8714.000000  "
      ]
     },
     "execution_count": 7,
     "metadata": {},
     "output_type": "execute_result"
    }
   ],
   "source": [
    "df_day.describe()"
   ]
  },
  {
   "cell_type": "code",
   "execution_count": 8,
   "id": "fe072d4e",
   "metadata": {},
   "outputs": [
    {
     "data": {
      "text/html": [
       "<div>\n",
       "<style scoped>\n",
       "    .dataframe tbody tr th:only-of-type {\n",
       "        vertical-align: middle;\n",
       "    }\n",
       "\n",
       "    .dataframe tbody tr th {\n",
       "        vertical-align: top;\n",
       "    }\n",
       "\n",
       "    .dataframe thead th {\n",
       "        text-align: right;\n",
       "    }\n",
       "</style>\n",
       "<table border=\"1\" class=\"dataframe\">\n",
       "  <thead>\n",
       "    <tr style=\"text-align: right;\">\n",
       "      <th></th>\n",
       "      <th>season</th>\n",
       "      <th>yr</th>\n",
       "      <th>mnth</th>\n",
       "      <th>hr</th>\n",
       "      <th>holiday</th>\n",
       "      <th>weekday</th>\n",
       "      <th>workingday</th>\n",
       "      <th>weathersit</th>\n",
       "      <th>temp</th>\n",
       "      <th>atemp</th>\n",
       "      <th>hum</th>\n",
       "      <th>windspeed</th>\n",
       "      <th>casual</th>\n",
       "      <th>registered</th>\n",
       "      <th>cnt</th>\n",
       "    </tr>\n",
       "  </thead>\n",
       "  <tbody>\n",
       "    <tr>\n",
       "      <th>count</th>\n",
       "      <td>17379.000000</td>\n",
       "      <td>17379.000000</td>\n",
       "      <td>17379.000000</td>\n",
       "      <td>17379.000000</td>\n",
       "      <td>17379.000000</td>\n",
       "      <td>17379.000000</td>\n",
       "      <td>17379.000000</td>\n",
       "      <td>17379.000000</td>\n",
       "      <td>17379.000000</td>\n",
       "      <td>17379.000000</td>\n",
       "      <td>17379.000000</td>\n",
       "      <td>17379.000000</td>\n",
       "      <td>17379.000000</td>\n",
       "      <td>17379.000000</td>\n",
       "      <td>17379.000000</td>\n",
       "    </tr>\n",
       "    <tr>\n",
       "      <th>mean</th>\n",
       "      <td>2.501640</td>\n",
       "      <td>0.502561</td>\n",
       "      <td>6.537775</td>\n",
       "      <td>11.546752</td>\n",
       "      <td>0.028770</td>\n",
       "      <td>3.003683</td>\n",
       "      <td>0.682721</td>\n",
       "      <td>1.425283</td>\n",
       "      <td>0.496987</td>\n",
       "      <td>0.475775</td>\n",
       "      <td>0.627229</td>\n",
       "      <td>0.190098</td>\n",
       "      <td>35.676218</td>\n",
       "      <td>153.786869</td>\n",
       "      <td>189.463088</td>\n",
       "    </tr>\n",
       "    <tr>\n",
       "      <th>std</th>\n",
       "      <td>1.106918</td>\n",
       "      <td>0.500008</td>\n",
       "      <td>3.438776</td>\n",
       "      <td>6.914405</td>\n",
       "      <td>0.167165</td>\n",
       "      <td>2.005771</td>\n",
       "      <td>0.465431</td>\n",
       "      <td>0.639357</td>\n",
       "      <td>0.192556</td>\n",
       "      <td>0.171850</td>\n",
       "      <td>0.192930</td>\n",
       "      <td>0.122340</td>\n",
       "      <td>49.305030</td>\n",
       "      <td>151.357286</td>\n",
       "      <td>181.387599</td>\n",
       "    </tr>\n",
       "    <tr>\n",
       "      <th>min</th>\n",
       "      <td>1.000000</td>\n",
       "      <td>0.000000</td>\n",
       "      <td>1.000000</td>\n",
       "      <td>0.000000</td>\n",
       "      <td>0.000000</td>\n",
       "      <td>0.000000</td>\n",
       "      <td>0.000000</td>\n",
       "      <td>1.000000</td>\n",
       "      <td>0.020000</td>\n",
       "      <td>0.000000</td>\n",
       "      <td>0.000000</td>\n",
       "      <td>0.000000</td>\n",
       "      <td>0.000000</td>\n",
       "      <td>0.000000</td>\n",
       "      <td>1.000000</td>\n",
       "    </tr>\n",
       "    <tr>\n",
       "      <th>25%</th>\n",
       "      <td>2.000000</td>\n",
       "      <td>0.000000</td>\n",
       "      <td>4.000000</td>\n",
       "      <td>6.000000</td>\n",
       "      <td>0.000000</td>\n",
       "      <td>1.000000</td>\n",
       "      <td>0.000000</td>\n",
       "      <td>1.000000</td>\n",
       "      <td>0.340000</td>\n",
       "      <td>0.333300</td>\n",
       "      <td>0.480000</td>\n",
       "      <td>0.104500</td>\n",
       "      <td>4.000000</td>\n",
       "      <td>34.000000</td>\n",
       "      <td>40.000000</td>\n",
       "    </tr>\n",
       "    <tr>\n",
       "      <th>50%</th>\n",
       "      <td>3.000000</td>\n",
       "      <td>1.000000</td>\n",
       "      <td>7.000000</td>\n",
       "      <td>12.000000</td>\n",
       "      <td>0.000000</td>\n",
       "      <td>3.000000</td>\n",
       "      <td>1.000000</td>\n",
       "      <td>1.000000</td>\n",
       "      <td>0.500000</td>\n",
       "      <td>0.484800</td>\n",
       "      <td>0.630000</td>\n",
       "      <td>0.194000</td>\n",
       "      <td>17.000000</td>\n",
       "      <td>115.000000</td>\n",
       "      <td>142.000000</td>\n",
       "    </tr>\n",
       "    <tr>\n",
       "      <th>75%</th>\n",
       "      <td>3.000000</td>\n",
       "      <td>1.000000</td>\n",
       "      <td>10.000000</td>\n",
       "      <td>18.000000</td>\n",
       "      <td>0.000000</td>\n",
       "      <td>5.000000</td>\n",
       "      <td>1.000000</td>\n",
       "      <td>2.000000</td>\n",
       "      <td>0.660000</td>\n",
       "      <td>0.621200</td>\n",
       "      <td>0.780000</td>\n",
       "      <td>0.253700</td>\n",
       "      <td>48.000000</td>\n",
       "      <td>220.000000</td>\n",
       "      <td>281.000000</td>\n",
       "    </tr>\n",
       "    <tr>\n",
       "      <th>max</th>\n",
       "      <td>4.000000</td>\n",
       "      <td>1.000000</td>\n",
       "      <td>12.000000</td>\n",
       "      <td>23.000000</td>\n",
       "      <td>1.000000</td>\n",
       "      <td>6.000000</td>\n",
       "      <td>1.000000</td>\n",
       "      <td>4.000000</td>\n",
       "      <td>1.000000</td>\n",
       "      <td>1.000000</td>\n",
       "      <td>1.000000</td>\n",
       "      <td>0.850700</td>\n",
       "      <td>367.000000</td>\n",
       "      <td>886.000000</td>\n",
       "      <td>977.000000</td>\n",
       "    </tr>\n",
       "  </tbody>\n",
       "</table>\n",
       "</div>"
      ],
      "text/plain": [
       "             season            yr          mnth            hr       holiday  \\\n",
       "count  17379.000000  17379.000000  17379.000000  17379.000000  17379.000000   \n",
       "mean       2.501640      0.502561      6.537775     11.546752      0.028770   \n",
       "std        1.106918      0.500008      3.438776      6.914405      0.167165   \n",
       "min        1.000000      0.000000      1.000000      0.000000      0.000000   \n",
       "25%        2.000000      0.000000      4.000000      6.000000      0.000000   \n",
       "50%        3.000000      1.000000      7.000000     12.000000      0.000000   \n",
       "75%        3.000000      1.000000     10.000000     18.000000      0.000000   \n",
       "max        4.000000      1.000000     12.000000     23.000000      1.000000   \n",
       "\n",
       "            weekday    workingday    weathersit          temp         atemp  \\\n",
       "count  17379.000000  17379.000000  17379.000000  17379.000000  17379.000000   \n",
       "mean       3.003683      0.682721      1.425283      0.496987      0.475775   \n",
       "std        2.005771      0.465431      0.639357      0.192556      0.171850   \n",
       "min        0.000000      0.000000      1.000000      0.020000      0.000000   \n",
       "25%        1.000000      0.000000      1.000000      0.340000      0.333300   \n",
       "50%        3.000000      1.000000      1.000000      0.500000      0.484800   \n",
       "75%        5.000000      1.000000      2.000000      0.660000      0.621200   \n",
       "max        6.000000      1.000000      4.000000      1.000000      1.000000   \n",
       "\n",
       "                hum     windspeed        casual    registered           cnt  \n",
       "count  17379.000000  17379.000000  17379.000000  17379.000000  17379.000000  \n",
       "mean       0.627229      0.190098     35.676218    153.786869    189.463088  \n",
       "std        0.192930      0.122340     49.305030    151.357286    181.387599  \n",
       "min        0.000000      0.000000      0.000000      0.000000      1.000000  \n",
       "25%        0.480000      0.104500      4.000000     34.000000     40.000000  \n",
       "50%        0.630000      0.194000     17.000000    115.000000    142.000000  \n",
       "75%        0.780000      0.253700     48.000000    220.000000    281.000000  \n",
       "max        1.000000      0.850700    367.000000    886.000000    977.000000  "
      ]
     },
     "execution_count": 8,
     "metadata": {},
     "output_type": "execute_result"
    }
   ],
   "source": [
    "df_hour.describe()"
   ]
  },
  {
   "cell_type": "markdown",
   "id": "6df12c8a",
   "metadata": {},
   "source": [
    "No null values"
   ]
  },
  {
   "cell_type": "markdown",
   "id": "bd8b09cf",
   "metadata": {},
   "source": [
    "# Basic Data Exploration"
   ]
  },
  {
   "cell_type": "code",
   "execution_count": 9,
   "id": "70bdc3f9",
   "metadata": {},
   "outputs": [
    {
     "data": {
      "text/plain": [
       "dtype('<M8[ns]')"
      ]
     },
     "execution_count": 9,
     "metadata": {},
     "output_type": "execute_result"
    }
   ],
   "source": [
    "df_day.dteday.dtype"
   ]
  },
  {
   "cell_type": "code",
   "execution_count": 10,
   "id": "a38eab85",
   "metadata": {},
   "outputs": [
    {
     "data": {
      "text/plain": [
       "(731, 15)"
      ]
     },
     "execution_count": 10,
     "metadata": {},
     "output_type": "execute_result"
    }
   ],
   "source": [
    "#The \".shape\" attribute returns the overall shape of the data as a tuple with 2 elements. The first element denotes the number of rows of observations and the second element denotes the number of columns in the dataset.\n",
    "df_day.shape"
   ]
  },
  {
   "cell_type": "code",
   "execution_count": 11,
   "id": "a4b2a905",
   "metadata": {},
   "outputs": [
    {
     "data": {
      "text/plain": [
       "(17379, 16)"
      ]
     },
     "execution_count": 11,
     "metadata": {},
     "output_type": "execute_result"
    }
   ],
   "source": [
    "#The \".shape\" attribute returns the overall shape of the data as a tuple with 2 elements. The first element denotes the number of rows of observations and the second element denotes the number of columns in the dataset.\n",
    "df_hour.shape"
   ]
  },
  {
   "cell_type": "code",
   "execution_count": 12,
   "id": "46b483a0",
   "metadata": {},
   "outputs": [
    {
     "data": {
      "text/html": [
       "<div>\n",
       "<style scoped>\n",
       "    .dataframe tbody tr th:only-of-type {\n",
       "        vertical-align: middle;\n",
       "    }\n",
       "\n",
       "    .dataframe tbody tr th {\n",
       "        vertical-align: top;\n",
       "    }\n",
       "\n",
       "    .dataframe thead th {\n",
       "        text-align: right;\n",
       "    }\n",
       "</style>\n",
       "<table border=\"1\" class=\"dataframe\">\n",
       "  <thead>\n",
       "    <tr style=\"text-align: right;\">\n",
       "      <th></th>\n",
       "      <th>temp</th>\n",
       "      <th>atemp</th>\n",
       "      <th>hum</th>\n",
       "      <th>windspeed</th>\n",
       "      <th>casual</th>\n",
       "      <th>registered</th>\n",
       "      <th>cnt</th>\n",
       "    </tr>\n",
       "  </thead>\n",
       "  <tbody>\n",
       "    <tr>\n",
       "      <th>count</th>\n",
       "      <td>731.000000</td>\n",
       "      <td>731.000000</td>\n",
       "      <td>731.000000</td>\n",
       "      <td>731.000000</td>\n",
       "      <td>731.000000</td>\n",
       "      <td>731.000000</td>\n",
       "      <td>731.000000</td>\n",
       "    </tr>\n",
       "    <tr>\n",
       "      <th>mean</th>\n",
       "      <td>0.495385</td>\n",
       "      <td>0.474354</td>\n",
       "      <td>0.627894</td>\n",
       "      <td>0.190486</td>\n",
       "      <td>848.176471</td>\n",
       "      <td>3656.172367</td>\n",
       "      <td>4504.348837</td>\n",
       "    </tr>\n",
       "    <tr>\n",
       "      <th>std</th>\n",
       "      <td>0.183051</td>\n",
       "      <td>0.162961</td>\n",
       "      <td>0.142429</td>\n",
       "      <td>0.077498</td>\n",
       "      <td>686.622488</td>\n",
       "      <td>1560.256377</td>\n",
       "      <td>1937.211452</td>\n",
       "    </tr>\n",
       "    <tr>\n",
       "      <th>min</th>\n",
       "      <td>0.059130</td>\n",
       "      <td>0.079070</td>\n",
       "      <td>0.000000</td>\n",
       "      <td>0.022392</td>\n",
       "      <td>2.000000</td>\n",
       "      <td>20.000000</td>\n",
       "      <td>22.000000</td>\n",
       "    </tr>\n",
       "    <tr>\n",
       "      <th>25%</th>\n",
       "      <td>0.337083</td>\n",
       "      <td>0.337842</td>\n",
       "      <td>0.520000</td>\n",
       "      <td>0.134950</td>\n",
       "      <td>315.500000</td>\n",
       "      <td>2497.000000</td>\n",
       "      <td>3152.000000</td>\n",
       "    </tr>\n",
       "    <tr>\n",
       "      <th>50%</th>\n",
       "      <td>0.498333</td>\n",
       "      <td>0.486733</td>\n",
       "      <td>0.626667</td>\n",
       "      <td>0.180975</td>\n",
       "      <td>713.000000</td>\n",
       "      <td>3662.000000</td>\n",
       "      <td>4548.000000</td>\n",
       "    </tr>\n",
       "    <tr>\n",
       "      <th>75%</th>\n",
       "      <td>0.655417</td>\n",
       "      <td>0.608602</td>\n",
       "      <td>0.730209</td>\n",
       "      <td>0.233214</td>\n",
       "      <td>1096.000000</td>\n",
       "      <td>4776.500000</td>\n",
       "      <td>5956.000000</td>\n",
       "    </tr>\n",
       "    <tr>\n",
       "      <th>max</th>\n",
       "      <td>0.861667</td>\n",
       "      <td>0.840896</td>\n",
       "      <td>0.972500</td>\n",
       "      <td>0.507463</td>\n",
       "      <td>3410.000000</td>\n",
       "      <td>6946.000000</td>\n",
       "      <td>8714.000000</td>\n",
       "    </tr>\n",
       "  </tbody>\n",
       "</table>\n",
       "</div>"
      ],
      "text/plain": [
       "             temp       atemp         hum   windspeed       casual  \\\n",
       "count  731.000000  731.000000  731.000000  731.000000   731.000000   \n",
       "mean     0.495385    0.474354    0.627894    0.190486   848.176471   \n",
       "std      0.183051    0.162961    0.142429    0.077498   686.622488   \n",
       "min      0.059130    0.079070    0.000000    0.022392     2.000000   \n",
       "25%      0.337083    0.337842    0.520000    0.134950   315.500000   \n",
       "50%      0.498333    0.486733    0.626667    0.180975   713.000000   \n",
       "75%      0.655417    0.608602    0.730209    0.233214  1096.000000   \n",
       "max      0.861667    0.840896    0.972500    0.507463  3410.000000   \n",
       "\n",
       "        registered          cnt  \n",
       "count   731.000000   731.000000  \n",
       "mean   3656.172367  4504.348837  \n",
       "std    1560.256377  1937.211452  \n",
       "min      20.000000    22.000000  \n",
       "25%    2497.000000  3152.000000  \n",
       "50%    3662.000000  4548.000000  \n",
       "75%    4776.500000  5956.000000  \n",
       "max    6946.000000  8714.000000  "
      ]
     },
     "execution_count": 12,
     "metadata": {},
     "output_type": "execute_result"
    }
   ],
   "source": [
    "#statistical summary\n",
    "df_day[['temp','atemp','hum','windspeed','casual','registered','cnt']].describe()"
   ]
  },
  {
   "cell_type": "code",
   "execution_count": 13,
   "id": "772cb631",
   "metadata": {},
   "outputs": [
    {
     "data": {
      "text/html": [
       "<div>\n",
       "<style scoped>\n",
       "    .dataframe tbody tr th:only-of-type {\n",
       "        vertical-align: middle;\n",
       "    }\n",
       "\n",
       "    .dataframe tbody tr th {\n",
       "        vertical-align: top;\n",
       "    }\n",
       "\n",
       "    .dataframe thead th {\n",
       "        text-align: right;\n",
       "    }\n",
       "</style>\n",
       "<table border=\"1\" class=\"dataframe\">\n",
       "  <thead>\n",
       "    <tr style=\"text-align: right;\">\n",
       "      <th></th>\n",
       "      <th>temp</th>\n",
       "      <th>atemp</th>\n",
       "      <th>hum</th>\n",
       "      <th>windspeed</th>\n",
       "      <th>casual</th>\n",
       "      <th>registered</th>\n",
       "      <th>cnt</th>\n",
       "    </tr>\n",
       "  </thead>\n",
       "  <tbody>\n",
       "    <tr>\n",
       "      <th>count</th>\n",
       "      <td>17379.000000</td>\n",
       "      <td>17379.000000</td>\n",
       "      <td>17379.000000</td>\n",
       "      <td>17379.000000</td>\n",
       "      <td>17379.000000</td>\n",
       "      <td>17379.000000</td>\n",
       "      <td>17379.000000</td>\n",
       "    </tr>\n",
       "    <tr>\n",
       "      <th>mean</th>\n",
       "      <td>0.496987</td>\n",
       "      <td>0.475775</td>\n",
       "      <td>0.627229</td>\n",
       "      <td>0.190098</td>\n",
       "      <td>35.676218</td>\n",
       "      <td>153.786869</td>\n",
       "      <td>189.463088</td>\n",
       "    </tr>\n",
       "    <tr>\n",
       "      <th>std</th>\n",
       "      <td>0.192556</td>\n",
       "      <td>0.171850</td>\n",
       "      <td>0.192930</td>\n",
       "      <td>0.122340</td>\n",
       "      <td>49.305030</td>\n",
       "      <td>151.357286</td>\n",
       "      <td>181.387599</td>\n",
       "    </tr>\n",
       "    <tr>\n",
       "      <th>min</th>\n",
       "      <td>0.020000</td>\n",
       "      <td>0.000000</td>\n",
       "      <td>0.000000</td>\n",
       "      <td>0.000000</td>\n",
       "      <td>0.000000</td>\n",
       "      <td>0.000000</td>\n",
       "      <td>1.000000</td>\n",
       "    </tr>\n",
       "    <tr>\n",
       "      <th>25%</th>\n",
       "      <td>0.340000</td>\n",
       "      <td>0.333300</td>\n",
       "      <td>0.480000</td>\n",
       "      <td>0.104500</td>\n",
       "      <td>4.000000</td>\n",
       "      <td>34.000000</td>\n",
       "      <td>40.000000</td>\n",
       "    </tr>\n",
       "    <tr>\n",
       "      <th>50%</th>\n",
       "      <td>0.500000</td>\n",
       "      <td>0.484800</td>\n",
       "      <td>0.630000</td>\n",
       "      <td>0.194000</td>\n",
       "      <td>17.000000</td>\n",
       "      <td>115.000000</td>\n",
       "      <td>142.000000</td>\n",
       "    </tr>\n",
       "    <tr>\n",
       "      <th>75%</th>\n",
       "      <td>0.660000</td>\n",
       "      <td>0.621200</td>\n",
       "      <td>0.780000</td>\n",
       "      <td>0.253700</td>\n",
       "      <td>48.000000</td>\n",
       "      <td>220.000000</td>\n",
       "      <td>281.000000</td>\n",
       "    </tr>\n",
       "    <tr>\n",
       "      <th>max</th>\n",
       "      <td>1.000000</td>\n",
       "      <td>1.000000</td>\n",
       "      <td>1.000000</td>\n",
       "      <td>0.850700</td>\n",
       "      <td>367.000000</td>\n",
       "      <td>886.000000</td>\n",
       "      <td>977.000000</td>\n",
       "    </tr>\n",
       "  </tbody>\n",
       "</table>\n",
       "</div>"
      ],
      "text/plain": [
       "               temp         atemp           hum     windspeed        casual  \\\n",
       "count  17379.000000  17379.000000  17379.000000  17379.000000  17379.000000   \n",
       "mean       0.496987      0.475775      0.627229      0.190098     35.676218   \n",
       "std        0.192556      0.171850      0.192930      0.122340     49.305030   \n",
       "min        0.020000      0.000000      0.000000      0.000000      0.000000   \n",
       "25%        0.340000      0.333300      0.480000      0.104500      4.000000   \n",
       "50%        0.500000      0.484800      0.630000      0.194000     17.000000   \n",
       "75%        0.660000      0.621200      0.780000      0.253700     48.000000   \n",
       "max        1.000000      1.000000      1.000000      0.850700    367.000000   \n",
       "\n",
       "         registered           cnt  \n",
       "count  17379.000000  17379.000000  \n",
       "mean     153.786869    189.463088  \n",
       "std      151.357286    181.387599  \n",
       "min        0.000000      1.000000  \n",
       "25%       34.000000     40.000000  \n",
       "50%      115.000000    142.000000  \n",
       "75%      220.000000    281.000000  \n",
       "max      886.000000    977.000000  "
      ]
     },
     "execution_count": 13,
     "metadata": {},
     "output_type": "execute_result"
    }
   ],
   "source": [
    "#statistical summary\n",
    "df_hour[['temp','atemp','hum','windspeed','casual','registered','cnt']].describe()"
   ]
  },
  {
   "cell_type": "markdown",
   "id": "1c90ac16",
   "metadata": {},
   "source": [
    "# Exploring the data using Visualizations "
   ]
  },
  {
   "cell_type": "code",
   "execution_count": 14,
   "id": "078f1ef4",
   "metadata": {},
   "outputs": [
    {
     "data": {
      "text/plain": [
       "{'whiskers': [<matplotlib.lines.Line2D at 0x28d18477640>,\n",
       "  <matplotlib.lines.Line2D at 0x28d184779a0>],\n",
       " 'caps': [<matplotlib.lines.Line2D at 0x28d18477d00>,\n",
       "  <matplotlib.lines.Line2D at 0x28d184860a0>],\n",
       " 'boxes': [<matplotlib.lines.Line2D at 0x28d184772e0>],\n",
       " 'medians': [<matplotlib.lines.Line2D at 0x28d18486400>],\n",
       " 'fliers': [<matplotlib.lines.Line2D at 0x28d18486760>],\n",
       " 'means': []}"
      ]
     },
     "execution_count": 14,
     "metadata": {},
     "output_type": "execute_result"
    },
    {
     "data": {
      "image/png": "[encoded data removed]",
      "text/plain": [
       "<Figure size 432x288 with 1 Axes>"
      ]
     },
     "metadata": {
      "needs_background": "light"
     },
     "output_type": "display_data"
    }
   ],
   "source": [
    "plt.boxplot(df_day.cnt,vert=False)"
   ]
  },
  {
   "cell_type": "code",
   "execution_count": 15,
   "id": "efb6c6cb",
   "metadata": {},
   "outputs": [
    {
     "data": {
      "text/plain": [
       "<AxesSubplot:xlabel='season', ylabel='cnt'>"
      ]
     },
     "execution_count": 15,
     "metadata": {},
     "output_type": "execute_result"
    },
    {
     "data": {
      "image/png": "[encoded data removed]",
      "text/plain": [
       "<Figure size 432x288 with 1 Axes>"
      ]
     },
     "metadata": {
      "needs_background": "light"
     },
     "output_type": "display_data"
    }
   ],
   "source": [
    "sns.boxplot(x='season',y='cnt',data=df_hour)"
   ]
  },
  {
   "cell_type": "code",
   "execution_count": 16,
   "id": "9eccd57c",
   "metadata": {},
   "outputs": [
    {
     "data": {
      "text/html": [
       "<div>\n",
       "<style scoped>\n",
       "    .dataframe tbody tr th:only-of-type {\n",
       "        vertical-align: middle;\n",
       "    }\n",
       "\n",
       "    .dataframe tbody tr th {\n",
       "        vertical-align: top;\n",
       "    }\n",
       "\n",
       "    .dataframe thead th {\n",
       "        text-align: right;\n",
       "    }\n",
       "</style>\n",
       "<table border=\"1\" class=\"dataframe\">\n",
       "  <thead>\n",
       "    <tr style=\"text-align: right;\">\n",
       "      <th></th>\n",
       "      <th>count</th>\n",
       "      <th>mean</th>\n",
       "      <th>std</th>\n",
       "      <th>min</th>\n",
       "      <th>25%</th>\n",
       "      <th>50%</th>\n",
       "      <th>75%</th>\n",
       "      <th>max</th>\n",
       "    </tr>\n",
       "    <tr>\n",
       "      <th>season</th>\n",
       "      <th></th>\n",
       "      <th></th>\n",
       "      <th></th>\n",
       "      <th></th>\n",
       "      <th></th>\n",
       "      <th></th>\n",
       "      <th></th>\n",
       "      <th></th>\n",
       "    </tr>\n",
       "  </thead>\n",
       "  <tbody>\n",
       "    <tr>\n",
       "      <th>1</th>\n",
       "      <td>4242.0</td>\n",
       "      <td>111.114569</td>\n",
       "      <td>119.224010</td>\n",
       "      <td>1.0</td>\n",
       "      <td>23.0</td>\n",
       "      <td>76.0</td>\n",
       "      <td>158.0</td>\n",
       "      <td>801.0</td>\n",
       "    </tr>\n",
       "    <tr>\n",
       "      <th>2</th>\n",
       "      <td>4409.0</td>\n",
       "      <td>208.344069</td>\n",
       "      <td>188.362473</td>\n",
       "      <td>1.0</td>\n",
       "      <td>46.0</td>\n",
       "      <td>165.0</td>\n",
       "      <td>311.0</td>\n",
       "      <td>957.0</td>\n",
       "    </tr>\n",
       "    <tr>\n",
       "      <th>3</th>\n",
       "      <td>4496.0</td>\n",
       "      <td>236.016237</td>\n",
       "      <td>197.711630</td>\n",
       "      <td>1.0</td>\n",
       "      <td>68.0</td>\n",
       "      <td>199.0</td>\n",
       "      <td>345.0</td>\n",
       "      <td>977.0</td>\n",
       "    </tr>\n",
       "    <tr>\n",
       "      <th>4</th>\n",
       "      <td>4232.0</td>\n",
       "      <td>198.868856</td>\n",
       "      <td>182.967972</td>\n",
       "      <td>1.0</td>\n",
       "      <td>46.0</td>\n",
       "      <td>155.5</td>\n",
       "      <td>295.0</td>\n",
       "      <td>967.0</td>\n",
       "    </tr>\n",
       "  </tbody>\n",
       "</table>\n",
       "</div>"
      ],
      "text/plain": [
       "         count        mean         std  min   25%    50%    75%    max\n",
       "season                                                                \n",
       "1       4242.0  111.114569  119.224010  1.0  23.0   76.0  158.0  801.0\n",
       "2       4409.0  208.344069  188.362473  1.0  46.0  165.0  311.0  957.0\n",
       "3       4496.0  236.016237  197.711630  1.0  68.0  199.0  345.0  977.0\n",
       "4       4232.0  198.868856  182.967972  1.0  46.0  155.5  295.0  967.0"
      ]
     },
     "execution_count": 16,
     "metadata": {},
     "output_type": "execute_result"
    }
   ],
   "source": [
    "df_hour.groupby('season')['cnt'].describe()"
   ]
  },
  {
   "cell_type": "code",
   "execution_count": 17,
   "id": "c866c967",
   "metadata": {},
   "outputs": [
    {
     "data": {
      "text/plain": [
       "(array([ 117.,  953., 2444., 2913., 2433., 2684., 3150., 1976.,  625.,\n",
       "          84.]),\n",
       " array([0.02 , 0.118, 0.216, 0.314, 0.412, 0.51 , 0.608, 0.706, 0.804,\n",
       "        0.902, 1.   ]),\n",
       " <BarContainer object of 10 artists>)"
      ]
     },
     "execution_count": 17,
     "metadata": {},
     "output_type": "execute_result"
    },
    {
     "data": {
      "image/png": "[encoded data removed]",
      "text/plain": [
       "<Figure size 432x288 with 1 Axes>"
      ]
     },
     "metadata": {
      "needs_background": "light"
     },
     "output_type": "display_data"
    }
   ],
   "source": [
    "plt.hist(df_hour['temp'])"
   ]
  },
  {
   "cell_type": "code",
   "execution_count": 18,
   "id": "107bd63d",
   "metadata": {},
   "outputs": [
    {
     "data": {
      "text/plain": [
       "{'whiskers': [<matplotlib.lines.Line2D at 0x28d18ee8670>,\n",
       "  <matplotlib.lines.Line2D at 0x28d18ee89d0>],\n",
       " 'caps': [<matplotlib.lines.Line2D at 0x28d18ee8d30>,\n",
       "  <matplotlib.lines.Line2D at 0x28d18ef20d0>],\n",
       " 'boxes': [<matplotlib.lines.Line2D at 0x28d18ee8310>],\n",
       " 'medians': [<matplotlib.lines.Line2D at 0x28d18ef2430>],\n",
       " 'fliers': [<matplotlib.lines.Line2D at 0x28d18ef2790>],\n",
       " 'means': []}"
      ]
     },
     "execution_count": 18,
     "metadata": {},
     "output_type": "execute_result"
    },
    {
     "data": {
      "image/png": "[encoded data removed]",
      "text/plain": [
       "<Figure size 432x288 with 1 Axes>"
      ]
     },
     "metadata": {
      "needs_background": "light"
     },
     "output_type": "display_data"
    }
   ],
   "source": [
    "plt.boxplot(df_hour.cnt,vert=False)"
   ]
  },
  {
   "cell_type": "markdown",
   "id": "e903a782",
   "metadata": {},
   "source": [
    "In the hourly data, there are many outliers in the 'cnt' variable distribution, hence, we will consider the median in this case for our further analysis."
   ]
  },
  {
   "cell_type": "code",
   "execution_count": 19,
   "id": "2299157b",
   "metadata": {},
   "outputs": [
    {
     "data": {
      "text/plain": [
       "(array([  7.,  36.,  90., 104.,  93.,  80.,  93., 101., 103.,  24.]),\n",
       " array([0.0591304 , 0.13938406, 0.21963772, 0.29989138, 0.38014504,\n",
       "        0.4603987 , 0.54065236, 0.62090602, 0.70115968, 0.78141334,\n",
       "        0.861667  ]),\n",
       " <BarContainer object of 10 artists>)"
      ]
     },
     "execution_count": 19,
     "metadata": {},
     "output_type": "execute_result"
    },
    {
     "data": {
      "image/png": "[encoded data removed]",
      "text/plain": [
       "<Figure size 432x288 with 1 Axes>"
      ]
     },
     "metadata": {
      "needs_background": "light"
     },
     "output_type": "display_data"
    }
   ],
   "source": [
    "plt.hist(df_day['temp'])"
   ]
  },
  {
   "cell_type": "markdown",
   "id": "0745efbf",
   "metadata": {},
   "source": [
    "There are no missing values in the columns. All columns are not numeric and some are categorical."
   ]
  },
  {
   "cell_type": "code",
   "execution_count": 20,
   "id": "7bbcd8b7",
   "metadata": {},
   "outputs": [
    {
     "data": {
      "text/plain": [
       "yr\n",
       "0    3405.761644\n",
       "1    5599.934426\n",
       "Name: cnt, dtype: float64"
      ]
     },
     "execution_count": 20,
     "metadata": {},
     "output_type": "execute_result"
    }
   ],
   "source": [
    "df_day.groupby('yr')['cnt'].mean()"
   ]
  },
  {
   "cell_type": "code",
   "execution_count": 21,
   "id": "ef7b1165",
   "metadata": {},
   "outputs": [],
   "source": [
    "#plt.plot(df_day.dteday,df_day.cnt)"
   ]
  },
  {
   "cell_type": "code",
   "execution_count": 22,
   "id": "adb1a800",
   "metadata": {},
   "outputs": [],
   "source": [
    "#plt.plot(df_hour.dteday,df_hour.cnt)"
   ]
  },
  {
   "cell_type": "code",
   "execution_count": 23,
   "id": "4f7f9d58",
   "metadata": {},
   "outputs": [],
   "source": [
    "df_day['season_name']=df_day['season'].replace([1,2,3,4],['Spring','Summer','Fall','Winter'])\n",
    "df_hour['season_name']=df_hour['season'].replace([1,2,3,4],['Spring','Summer','Fall','Winter'])"
   ]
  },
  {
   "cell_type": "code",
   "execution_count": 24,
   "id": "8194b9b8",
   "metadata": {},
   "outputs": [
    {
     "data": {
      "text/plain": [
       "3    4496\n",
       "2    4409\n",
       "1    4242\n",
       "4    4232\n",
       "Name: season, dtype: int64"
      ]
     },
     "execution_count": 24,
     "metadata": {},
     "output_type": "execute_result"
    }
   ],
   "source": [
    "df_hour.season.value_counts()"
   ]
  },
  {
   "cell_type": "code",
   "execution_count": 25,
   "id": "cbecb7dc",
   "metadata": {},
   "outputs": [
    {
     "data": {
      "text/plain": [
       "Fall      4496\n",
       "Summer    4409\n",
       "Spring    4242\n",
       "Winter    4232\n",
       "Name: season_name, dtype: int64"
      ]
     },
     "execution_count": 25,
     "metadata": {},
     "output_type": "execute_result"
    }
   ],
   "source": [
    "df_hour.season_name.value_counts()"
   ]
  },
  {
   "cell_type": "code",
   "execution_count": 26,
   "id": "8527f790",
   "metadata": {},
   "outputs": [
    {
     "name": "stdout",
     "output_type": "stream",
     "text": [
      "<class 'pandas.core.frame.DataFrame'>\n",
      "Int64Index: 731 entries, 1 to 731\n",
      "Data columns (total 16 columns):\n",
      " #   Column       Non-Null Count  Dtype         \n",
      "---  ------       --------------  -----         \n",
      " 0   dteday       731 non-null    datetime64[ns]\n",
      " 1   season       731 non-null    int64         \n",
      " 2   yr           731 non-null    int64         \n",
      " 3   mnth         731 non-null    int64         \n",
      " 4   holiday      731 non-null    int64         \n",
      " 5   weekday      731 non-null    int64         \n",
      " 6   workingday   731 non-null    int64         \n",
      " 7   weathersit   731 non-null    int64         \n",
      " 8   temp         731 non-null    float64       \n",
      " 9   atemp        731 non-null    float64       \n",
      " 10  hum          731 non-null    float64       \n",
      " 11  windspeed    731 non-null    float64       \n",
      " 12  casual       731 non-null    int64         \n",
      " 13  registered   731 non-null    int64         \n",
      " 14  cnt          731 non-null    int64         \n",
      " 15  season_name  731 non-null    object        \n",
      "dtypes: datetime64[ns](1), float64(4), int64(10), object(1)\n",
      "memory usage: 97.1+ KB\n"
     ]
    }
   ],
   "source": [
    "df_day.info()"
   ]
  },
  {
   "cell_type": "code",
   "execution_count": 27,
   "id": "bd4f90ff",
   "metadata": {},
   "outputs": [
    {
     "name": "stdout",
     "output_type": "stream",
     "text": [
      "<class 'pandas.core.frame.DataFrame'>\n",
      "Int64Index: 17379 entries, 1 to 17379\n",
      "Data columns (total 17 columns):\n",
      " #   Column       Non-Null Count  Dtype         \n",
      "---  ------       --------------  -----         \n",
      " 0   dteday       17379 non-null  datetime64[ns]\n",
      " 1   season       17379 non-null  int64         \n",
      " 2   yr           17379 non-null  int64         \n",
      " 3   mnth         17379 non-null  int64         \n",
      " 4   hr           17379 non-null  int64         \n",
      " 5   holiday      17379 non-null  int64         \n",
      " 6   weekday      17379 non-null  int64         \n",
      " 7   workingday   17379 non-null  int64         \n",
      " 8   weathersit   17379 non-null  int64         \n",
      " 9   temp         17379 non-null  float64       \n",
      " 10  atemp        17379 non-null  float64       \n",
      " 11  hum          17379 non-null  float64       \n",
      " 12  windspeed    17379 non-null  float64       \n",
      " 13  casual       17379 non-null  int64         \n",
      " 14  registered   17379 non-null  int64         \n",
      " 15  cnt          17379 non-null  int64         \n",
      " 16  season_name  17379 non-null  object        \n",
      "dtypes: datetime64[ns](1), float64(4), int64(11), object(1)\n",
      "memory usage: 2.9+ MB\n"
     ]
    }
   ],
   "source": [
    "df_hour.info()"
   ]
  },
  {
   "cell_type": "code",
   "execution_count": 28,
   "id": "9c71e482",
   "metadata": {},
   "outputs": [
    {
     "data": {
      "text/plain": [
       "Fall      188\n",
       "Summer    184\n",
       "Spring    181\n",
       "Winter    178\n",
       "Name: season_name, dtype: int64"
      ]
     },
     "execution_count": 28,
     "metadata": {},
     "output_type": "execute_result"
    }
   ],
   "source": [
    "df_day['season_name'].value_counts()"
   ]
  },
  {
   "cell_type": "code",
   "execution_count": 29,
   "id": "044e2958",
   "metadata": {},
   "outputs": [
    {
     "data": {
      "text/plain": [
       "<AxesSubplot:xlabel='yr', ylabel='cnt'>"
      ]
     },
     "execution_count": 29,
     "metadata": {},
     "output_type": "execute_result"
    },
    {
     "data": {
      "image/png": "[encoded data removed]",
      "text/plain": [
       "<Figure size 432x288 with 1 Axes>"
      ]
     },
     "metadata": {
      "needs_background": "light"
     },
     "output_type": "display_data"
    }
   ],
   "source": [
    "sns.boxplot(x=df_hour.yr,y=df_hour.cnt)"
   ]
  },
  {
   "cell_type": "code",
   "execution_count": 30,
   "id": "083f1af0",
   "metadata": {},
   "outputs": [
    {
     "data": {
      "text/plain": [
       "<BarContainer object of 4 artists>"
      ]
     },
     "execution_count": 30,
     "metadata": {},
     "output_type": "execute_result"
    },
    {
     "data": {
      "image/png": "[encoded data removed]",
      "text/plain": [
       "<Figure size 432x288 with 1 Axes>"
      ]
     },
     "metadata": {
      "needs_background": "light"
     },
     "output_type": "display_data"
    }
   ],
   "source": [
    "s1=df_day.groupby('season_name')['cnt'].mean().sort_values()\n",
    "plt.barh(s1.index,s1)"
   ]
  },
  {
   "cell_type": "code",
   "execution_count": 31,
   "id": "4c1fe128",
   "metadata": {},
   "outputs": [
    {
     "data": {
      "text/plain": [
       "<BarContainer object of 4 artists>"
      ]
     },
     "execution_count": 31,
     "metadata": {},
     "output_type": "execute_result"
    },
    {
     "data": {
      "image/png": "[encoded data removed]",
      "text/plain": [
       "<Figure size 432x288 with 1 Axes>"
      ]
     },
     "metadata": {
      "needs_background": "light"
     },
     "output_type": "display_data"
    }
   ],
   "source": [
    "s2=df_hour.groupby('season_name')['cnt'].median().sort_values()\n",
    "plt.barh(s2.index,s1)"
   ]
  },
  {
   "cell_type": "code",
   "execution_count": 32,
   "id": "b5d7c39e",
   "metadata": {},
   "outputs": [
    {
     "data": {
      "text/plain": [
       "season_name\n",
       "Spring    111.114569\n",
       "Winter    198.868856\n",
       "Summer    208.344069\n",
       "Fall      236.016237\n",
       "Name: cnt, dtype: float64"
      ]
     },
     "execution_count": 32,
     "metadata": {},
     "output_type": "execute_result"
    }
   ],
   "source": [
    "df_hour.groupby('season_name')['cnt'].mean().sort_values()"
   ]
  },
  {
   "cell_type": "code",
   "execution_count": 33,
   "id": "f5203f06",
   "metadata": {},
   "outputs": [
    {
     "data": {
      "text/plain": [
       "<AxesSubplot:xlabel='mnth'>"
      ]
     },
     "execution_count": 33,
     "metadata": {},
     "output_type": "execute_result"
    },
    {
     "data": {
      "image/png": "[encoded data removed]",
      "text/plain": [
       "<Figure size 432x288 with 1 Axes>"
      ]
     },
     "metadata": {
      "needs_background": "light"
     },
     "output_type": "display_data"
    }
   ],
   "source": [
    "df_day.groupby('mnth')['cnt'].mean().plot()"
   ]
  },
  {
   "cell_type": "code",
   "execution_count": 34,
   "id": "180d0398",
   "metadata": {},
   "outputs": [
    {
     "data": {
      "text/plain": [
       "<AxesSubplot:xlabel='mnth'>"
      ]
     },
     "execution_count": 34,
     "metadata": {},
     "output_type": "execute_result"
    },
    {
     "data": {
      "image/png": "[encoded data removed]",
      "text/plain": [
       "<Figure size 432x288 with 1 Axes>"
      ]
     },
     "metadata": {
      "needs_background": "light"
     },
     "output_type": "display_data"
    }
   ],
   "source": [
    "df_hour.groupby('mnth')['cnt'].median().plot()"
   ]
  },
  {
   "cell_type": "markdown",
   "id": "0e8a7608",
   "metadata": {},
   "source": [
    "# Heatmaps"
   ]
  },
  {
   "cell_type": "code",
   "execution_count": 35,
   "id": "24d6a16b",
   "metadata": {},
   "outputs": [
    {
     "data": {
      "text/plain": [
       "<AxesSubplot:>"
      ]
     },
     "execution_count": 35,
     "metadata": {},
     "output_type": "execute_result"
    },
    {
     "data": {
      "image/png": "[encoded data removed]",
      "text/plain": [
       "<Figure size 720x576 with 2 Axes>"
      ]
     },
     "metadata": {
      "needs_background": "light"
     },
     "output_type": "display_data"
    }
   ],
   "source": [
    "plt.subplots(figsize=(10,8))\n",
    "sns.heatmap(df_day[['temp','atemp','hum','windspeed','casual','registered','cnt']].corr(),annot=True)"
   ]
  },
  {
   "cell_type": "markdown",
   "id": "2f4fe355",
   "metadata": {},
   "source": [
    "1. temp and atemp are very highly correlated (significant p value) and hence one of them should be dropped to prevent the multicollinearity. We will drop atemo which is the feel temperature and keep temp in our dataset.\n",
    "Multicollinearity occurs when independent variables in a regression model are correlated. This correlation is a problem because independent variables should be independent. If the degree of correlation between variables is high enough, it can cause problems when we fit the model and interpret the results.\n",
    "when independent variables are correlated, it indicates that changes in one variable are associated with shifts in another variable. The stronger the correlation, the more difficult it is to change one variable without changing another.\n",
    "\n",
    "\n",
    "2. temp and cnt have high correlation )(significant p value) and since here, our objective is to predict the count of bike rents, temp can be considered as an important predictor variable.\n",
    "\n",
    "3. Humidity is very weakly correlated with the other variables and hence, we can keep it. It is also weakly negatively correlated with cnt. It might not be a very good predictor in bivariate regression to predict cnt.\n",
    "\n",
    "4. Similarly windspeed is weakly associated with cnt and may not be that good a predictor but still slightly better than humidity.Also, humidity and windspeed has some weak negative association between them but still since the correlation is weak, we will not drop any.\n",
    "\n",
    "5. Registered and casual bike rents are added to get the cnt column and they are showing more or less similar behavior with the other features and are highly correlated with cnt. Hence, we will drop casual and registered and work with only cnt.\n"
   ]
  },
  {
   "cell_type": "markdown",
   "id": "c76742b5",
   "metadata": {},
   "source": [
    "We perform a hypothesis test of the “significance of the correlation coefficient” to decide whether the linear relationship in the sample data is strong enough to use to model the relationship in the population.\n",
    "\n",
    "If p value<0.05 -> There is a significant linear relationship between x and y."
   ]
  },
  {
   "cell_type": "code",
   "execution_count": 36,
   "id": "e8ee9b30",
   "metadata": {},
   "outputs": [
    {
     "name": "stdout",
     "output_type": "stream",
     "text": [
      "0.627494009033492 2.8106223975907754e-81\n"
     ]
    }
   ],
   "source": [
    "r,p=stats.pearsonr(df_day['temp'],df_day['cnt'])\n",
    "print(r,p)"
   ]
  },
  {
   "cell_type": "code",
   "execution_count": 37,
   "id": "234687be",
   "metadata": {},
   "outputs": [
    {
     "name": "stdout",
     "output_type": "stream",
     "text": [
      "-0.10065856213715525 0.006454143325438633\n"
     ]
    }
   ],
   "source": [
    "r,p=stats.pearsonr(df_day['hum'],df_day['cnt'])\n",
    "print(r,p)\n"
   ]
  },
  {
   "cell_type": "code",
   "execution_count": 38,
   "id": "204ff863",
   "metadata": {},
   "outputs": [
    {
     "name": "stdout",
     "output_type": "stream",
     "text": [
      "-0.23454499742167 1.3599586778869642e-10\n"
     ]
    }
   ],
   "source": [
    "r,p=stats.pearsonr(df_day['windspeed'],df_day['cnt'])\n",
    "print(r,p)"
   ]
  },
  {
   "cell_type": "code",
   "execution_count": 39,
   "id": "e79bf070",
   "metadata": {},
   "outputs": [
    {
     "name": "stdout",
     "output_type": "stream",
     "text": [
      "0.9917015532294637 0.0\n"
     ]
    }
   ],
   "source": [
    "r,p=stats.pearsonr(df_day['temp'],df_day['atemp'])\n",
    "print(r,p)"
   ]
  },
  {
   "cell_type": "code",
   "execution_count": 40,
   "id": "e8972814",
   "metadata": {},
   "outputs": [
    {
     "name": "stdout",
     "output_type": "stream",
     "text": [
      "-0.24848909864371405 9.487955991301833e-12\n"
     ]
    }
   ],
   "source": [
    "r,p=stats.pearsonr(df_day['hum'],df_day['windspeed'])\n",
    "print(r,p)"
   ]
  },
  {
   "cell_type": "code",
   "execution_count": 41,
   "id": "cdcefcc4",
   "metadata": {},
   "outputs": [
    {
     "data": {
      "text/plain": [
       "<matplotlib.collections.PathCollection at 0x28d1a1b5dc0>"
      ]
     },
     "execution_count": 41,
     "metadata": {},
     "output_type": "execute_result"
    },
    {
     "data": {
      "image/png": "[encoded data removed]",
      "text/plain": [
       "<Figure size 432x288 with 1 Axes>"
      ]
     },
     "metadata": {
      "needs_background": "light"
     },
     "output_type": "display_data"
    }
   ],
   "source": [
    "plt.scatter(df_day.windspeed,df_day.cnt)"
   ]
  },
  {
   "cell_type": "code",
   "execution_count": 42,
   "id": "c514de0e",
   "metadata": {},
   "outputs": [
    {
     "data": {
      "text/plain": [
       "<matplotlib.collections.PathCollection at 0x28d1a2e4460>"
      ]
     },
     "execution_count": 42,
     "metadata": {},
     "output_type": "execute_result"
    },
    {
     "data": {
      "image/png": "[encoded data removed]",
      "text/plain": [
       "<Figure size 432x288 with 1 Axes>"
      ]
     },
     "metadata": {
      "needs_background": "light"
     },
     "output_type": "display_data"
    }
   ],
   "source": [
    "plt.scatter(df_day.temp,df_day.cnt) #Similarly feel temp (atemp) and number of bikes hired have positive association2"
   ]
  },
  {
   "cell_type": "code",
   "execution_count": 43,
   "id": "f62bb6d2",
   "metadata": {},
   "outputs": [
    {
     "data": {
      "text/plain": [
       "<matplotlib.collections.PathCollection at 0x28d1a341790>"
      ]
     },
     "execution_count": 43,
     "metadata": {},
     "output_type": "execute_result"
    },
    {
     "data": {
      "image/png": "[encoded data removed]",
      "text/plain": [
       "<Figure size 432x288 with 1 Axes>"
      ]
     },
     "metadata": {
      "needs_background": "light"
     },
     "output_type": "display_data"
    }
   ],
   "source": [
    "plt.scatter(df_day.hum,df_day.cnt)"
   ]
  },
  {
   "cell_type": "code",
   "execution_count": 44,
   "id": "e955ae97",
   "metadata": {},
   "outputs": [
    {
     "data": {
      "text/plain": [
       "<AxesSubplot:>"
      ]
     },
     "execution_count": 44,
     "metadata": {},
     "output_type": "execute_result"
    },
    {
     "data": {
      "image/png": "[encoded data removed]",
      "text/plain": [
       "<Figure size 720x576 with 2 Axes>"
      ]
     },
     "metadata": {
      "needs_background": "light"
     },
     "output_type": "display_data"
    }
   ],
   "source": [
    "plt.subplots(figsize=(10,8))\n",
    "sns.heatmap(df_hour[['temp','atemp','hr','hum','windspeed','casual','registered','cnt']].corr(),annot=True)"
   ]
  },
  {
   "cell_type": "markdown",
   "id": "45bb26f2",
   "metadata": {},
   "source": [
    "1. Moderate Positive association between hour and count.\n",
    "\n",
    "2. Weak negative association between humidity and count.\n",
    "\n",
    "3. Very very weak positive association between windspeed and count (contradiction from daily data where we got weak negative association). \n",
    "\n",
    "However, since hourly data records the hourly count of bike rent, that might be able to give a more detailed picture about the bike renting behaviour since temperature, windspeed, humidity can fluctuate and hourly data might be able to capture that better than daily data which gives an aggregate value.\n",
    "\n",
    "We will thus consider the hourly data.\n",
    "\n"
   ]
  },
  {
   "cell_type": "code",
   "execution_count": 45,
   "id": "5a621a47",
   "metadata": {},
   "outputs": [
    {
     "name": "stdout",
     "output_type": "stream",
     "text": [
      "0.4047722757786586 0.0\n"
     ]
    }
   ],
   "source": [
    "r,p=stats.pearsonr(df_hour['temp'],df_hour['cnt'])\n",
    "print(r,p)"
   ]
  },
  {
   "cell_type": "code",
   "execution_count": 46,
   "id": "a212abe4",
   "metadata": {},
   "outputs": [
    {
     "name": "stdout",
     "output_type": "stream",
     "text": [
      "-0.3229107408245602 0.0\n"
     ]
    }
   ],
   "source": [
    "r,p=stats.pearsonr(df_hour['hum'],df_hour['cnt'])\n",
    "print(r,p)"
   ]
  },
  {
   "cell_type": "code",
   "execution_count": 47,
   "id": "651bce6e",
   "metadata": {},
   "outputs": [
    {
     "name": "stdout",
     "output_type": "stream",
     "text": [
      "0.09323378392612534 7.345742373499617e-35\n"
     ]
    }
   ],
   "source": [
    "r,p=stats.pearsonr(df_hour['windspeed'],df_hour['cnt'])\n",
    "print(r,p)"
   ]
  },
  {
   "cell_type": "code",
   "execution_count": 48,
   "id": "d6b0585a",
   "metadata": {},
   "outputs": [
    {
     "name": "stdout",
     "output_type": "stream",
     "text": [
      "0.3940714977829432 0.0\n"
     ]
    }
   ],
   "source": [
    "r,p=stats.pearsonr(df_hour['hr'],df_hour['cnt'])\n",
    "print(r,p)"
   ]
  },
  {
   "cell_type": "code",
   "execution_count": 49,
   "id": "24ff82d5",
   "metadata": {},
   "outputs": [
    {
     "name": "stdout",
     "output_type": "stream",
     "text": [
      "-0.2901048950638614 0.0\n"
     ]
    }
   ],
   "source": [
    "r,p=stats.pearsonr(df_hour['hum'],df_hour['windspeed'])\n",
    "print(r,p)"
   ]
  },
  {
   "cell_type": "code",
   "execution_count": 50,
   "id": "e681361b",
   "metadata": {},
   "outputs": [
    {
     "data": {
      "text/plain": [
       "<AxesSubplot:xlabel='hr'>"
      ]
     },
     "execution_count": 50,
     "metadata": {},
     "output_type": "execute_result"
    },
    {
     "data": {
      "image/png": "[encoded data removed]",
      "text/plain": [
       "<Figure size 432x288 with 1 Axes>"
      ]
     },
     "metadata": {
      "needs_background": "light"
     },
     "output_type": "display_data"
    }
   ],
   "source": [
    "df_hour.groupby('hr')['cnt'].mean().plot()"
   ]
  },
  {
   "cell_type": "code",
   "execution_count": 51,
   "id": "d138b82b",
   "metadata": {},
   "outputs": [
    {
     "data": {
      "text/plain": [
       "1    463\n",
       "2    247\n",
       "3     21\n",
       "Name: weathersit, dtype: int64"
      ]
     },
     "execution_count": 51,
     "metadata": {},
     "output_type": "execute_result"
    }
   ],
   "source": [
    "df_day.weathersit.value_counts()"
   ]
  },
  {
   "cell_type": "code",
   "execution_count": 52,
   "id": "4c6dcd84",
   "metadata": {},
   "outputs": [],
   "source": [
    "df_day['WC'] = df_day['weathersit'].replace([1,2,3,4],['Clear','Mist','Light Snow','Heavy Rain'])\n",
    "df_hour['WC'] = df_hour['weathersit'].replace([1,2,3,4],['Clear','Mist','Light Snow','Heavy Rain'])"
   ]
  },
  {
   "cell_type": "code",
   "execution_count": 53,
   "id": "23bf39ce",
   "metadata": {},
   "outputs": [
    {
     "data": {
      "text/plain": [
       "WC\n",
       "Clear         4876.786177\n",
       "Mist          4035.862348\n",
       "Light Snow    1803.285714\n",
       "Name: cnt, dtype: float64"
      ]
     },
     "execution_count": 53,
     "metadata": {},
     "output_type": "execute_result"
    }
   ],
   "source": [
    "df_day.groupby('WC')['cnt'].mean().sort_values(ascending=False)"
   ]
  },
  {
   "cell_type": "code",
   "execution_count": 54,
   "id": "8774b1d0",
   "metadata": {},
   "outputs": [
    {
     "data": {
      "text/plain": [
       "WC\n",
       "Clear         159\n",
       "Mist          133\n",
       "Light Snow     63\n",
       "Heavy Rain     36\n",
       "Name: cnt, dtype: int64"
      ]
     },
     "execution_count": 54,
     "metadata": {},
     "output_type": "execute_result"
    }
   ],
   "source": [
    "df_hour.groupby('WC')['cnt'].median().sort_values(ascending=False)"
   ]
  },
  {
   "cell_type": "markdown",
   "id": "8e7a2281",
   "metadata": {},
   "source": [
    "# Feature Engineering"
   ]
  },
  {
   "cell_type": "code",
   "execution_count": 55,
   "id": "d081f343",
   "metadata": {},
   "outputs": [],
   "source": [
    "def dayofweek(day):\n",
    "    if day==0:\n",
    "        return \"Sunday\"\n",
    "    elif day==1:\n",
    "        return \"Monday\"\n",
    "    elif day==2:\n",
    "        return \"Tuesday\"\n",
    "    elif day==3:\n",
    "        return \"Wednesday\"\n",
    "    elif day==4:\n",
    "        return \"Thursday\"\n",
    "    elif day==5:\n",
    "        return \"Friday\"\n",
    "    elif day==6:\n",
    "        return \"Saturday\""
   ]
  },
  {
   "cell_type": "code",
   "execution_count": 56,
   "id": "db665b3a",
   "metadata": {},
   "outputs": [],
   "source": [
    "def day_type(df):\n",
    "    df['day_type']=0\n",
    "    for i in range(df.shape[0]):\n",
    "        if (df.holiday.iloc[i]==0) &(df.workingday.iloc[i]==0):\n",
    "            day=dayofweek(df.weekday.iloc[i])\n",
    "            df['day_type'].iloc[i]='Weekend-'+day\n",
    "        elif (df.holiday.iloc[i]==1) &(df.workingday.iloc[i]==0):\n",
    "            day=dayofweek(df.weekday.iloc[i])\n",
    "            df['day_type'].iloc[i]='Holiday-'+day\n",
    "        elif (df.holiday.iloc[i]==0) &(df.workingday.iloc[i]==1):\n",
    "            day=dayofweek(df.weekday.iloc[i])\n",
    "            df['day_type'].iloc[i]='Work-'+day \n",
    "    return df"
   ]
  },
  {
   "cell_type": "code",
   "execution_count": 57,
   "id": "1253d77c",
   "metadata": {},
   "outputs": [
    {
     "name": "stderr",
     "output_type": "stream",
     "text": [
      "C:\\Users\\Shramana\\anaconda3\\lib\\site-packages\\pandas\\core\\indexing.py:1637: SettingWithCopyWarning: \n",
      "A value is trying to be set on a copy of a slice from a DataFrame\n",
      "\n",
      "See the caveats in the documentation: https://pandas.pydata.org/pandas-docs/stable/user_guide/indexing.html#returning-a-view-versus-a-copy\n",
      "  self._setitem_single_block(indexer, value, name)\n"
     ]
    }
   ],
   "source": [
    "df_day=day_type(df_day)"
   ]
  },
  {
   "cell_type": "code",
   "execution_count": 58,
   "id": "22f9e4a0",
   "metadata": {},
   "outputs": [],
   "source": [
    "df_hour=day_type(df_hour)"
   ]
  },
  {
   "cell_type": "code",
   "execution_count": 59,
   "id": "8f84f8c2",
   "metadata": {},
   "outputs": [
    {
     "data": {
      "text/html": [
       "<div>\n",
       "<style scoped>\n",
       "    .dataframe tbody tr th:only-of-type {\n",
       "        vertical-align: middle;\n",
       "    }\n",
       "\n",
       "    .dataframe tbody tr th {\n",
       "        vertical-align: top;\n",
       "    }\n",
       "\n",
       "    .dataframe thead th {\n",
       "        text-align: right;\n",
       "    }\n",
       "</style>\n",
       "<table border=\"1\" class=\"dataframe\">\n",
       "  <thead>\n",
       "    <tr style=\"text-align: right;\">\n",
       "      <th></th>\n",
       "      <th>dteday</th>\n",
       "      <th>yr</th>\n",
       "      <th>mnth</th>\n",
       "      <th>holiday</th>\n",
       "      <th>workingday</th>\n",
       "      <th>temp</th>\n",
       "      <th>atemp</th>\n",
       "      <th>hum</th>\n",
       "      <th>windspeed</th>\n",
       "      <th>cnt</th>\n",
       "      <th>season_name</th>\n",
       "      <th>WC</th>\n",
       "      <th>day_type</th>\n",
       "    </tr>\n",
       "    <tr>\n",
       "      <th>instant</th>\n",
       "      <th></th>\n",
       "      <th></th>\n",
       "      <th></th>\n",
       "      <th></th>\n",
       "      <th></th>\n",
       "      <th></th>\n",
       "      <th></th>\n",
       "      <th></th>\n",
       "      <th></th>\n",
       "      <th></th>\n",
       "      <th></th>\n",
       "      <th></th>\n",
       "      <th></th>\n",
       "    </tr>\n",
       "  </thead>\n",
       "  <tbody>\n",
       "    <tr>\n",
       "      <th>1</th>\n",
       "      <td>2011-01-01</td>\n",
       "      <td>0</td>\n",
       "      <td>1</td>\n",
       "      <td>0</td>\n",
       "      <td>0</td>\n",
       "      <td>0.344167</td>\n",
       "      <td>0.363625</td>\n",
       "      <td>0.805833</td>\n",
       "      <td>0.160446</td>\n",
       "      <td>985</td>\n",
       "      <td>Spring</td>\n",
       "      <td>Mist</td>\n",
       "      <td>Weekend-Saturday</td>\n",
       "    </tr>\n",
       "    <tr>\n",
       "      <th>2</th>\n",
       "      <td>2011-01-02</td>\n",
       "      <td>0</td>\n",
       "      <td>1</td>\n",
       "      <td>0</td>\n",
       "      <td>0</td>\n",
       "      <td>0.363478</td>\n",
       "      <td>0.353739</td>\n",
       "      <td>0.696087</td>\n",
       "      <td>0.248539</td>\n",
       "      <td>801</td>\n",
       "      <td>Spring</td>\n",
       "      <td>Mist</td>\n",
       "      <td>Weekend-Sunday</td>\n",
       "    </tr>\n",
       "  </tbody>\n",
       "</table>\n",
       "</div>"
      ],
      "text/plain": [
       "            dteday  yr  mnth  holiday  workingday      temp     atemp  \\\n",
       "instant                                                                 \n",
       "1       2011-01-01   0     1        0           0  0.344167  0.363625   \n",
       "2       2011-01-02   0     1        0           0  0.363478  0.353739   \n",
       "\n",
       "              hum  windspeed  cnt season_name    WC          day_type  \n",
       "instant                                                                \n",
       "1        0.805833   0.160446  985      Spring  Mist  Weekend-Saturday  \n",
       "2        0.696087   0.248539  801      Spring  Mist    Weekend-Sunday  "
      ]
     },
     "execution_count": 59,
     "metadata": {},
     "output_type": "execute_result"
    }
   ],
   "source": [
    "df_day.drop(['season','weathersit','weekday','casual','registered'],axis=1,inplace=True)\n",
    "df_day.head(2)"
   ]
  },
  {
   "cell_type": "code",
   "execution_count": 60,
   "id": "569ae811",
   "metadata": {},
   "outputs": [
    {
     "data": {
      "text/html": [
       "<div>\n",
       "<style scoped>\n",
       "    .dataframe tbody tr th:only-of-type {\n",
       "        vertical-align: middle;\n",
       "    }\n",
       "\n",
       "    .dataframe tbody tr th {\n",
       "        vertical-align: top;\n",
       "    }\n",
       "\n",
       "    .dataframe thead th {\n",
       "        text-align: right;\n",
       "    }\n",
       "</style>\n",
       "<table border=\"1\" class=\"dataframe\">\n",
       "  <thead>\n",
       "    <tr style=\"text-align: right;\">\n",
       "      <th></th>\n",
       "      <th>dteday</th>\n",
       "      <th>yr</th>\n",
       "      <th>mnth</th>\n",
       "      <th>hr</th>\n",
       "      <th>holiday</th>\n",
       "      <th>workingday</th>\n",
       "      <th>temp</th>\n",
       "      <th>atemp</th>\n",
       "      <th>hum</th>\n",
       "      <th>windspeed</th>\n",
       "      <th>cnt</th>\n",
       "      <th>season_name</th>\n",
       "      <th>WC</th>\n",
       "      <th>day_type</th>\n",
       "    </tr>\n",
       "    <tr>\n",
       "      <th>instant</th>\n",
       "      <th></th>\n",
       "      <th></th>\n",
       "      <th></th>\n",
       "      <th></th>\n",
       "      <th></th>\n",
       "      <th></th>\n",
       "      <th></th>\n",
       "      <th></th>\n",
       "      <th></th>\n",
       "      <th></th>\n",
       "      <th></th>\n",
       "      <th></th>\n",
       "      <th></th>\n",
       "      <th></th>\n",
       "    </tr>\n",
       "  </thead>\n",
       "  <tbody>\n",
       "    <tr>\n",
       "      <th>1</th>\n",
       "      <td>2011-01-01</td>\n",
       "      <td>0</td>\n",
       "      <td>1</td>\n",
       "      <td>0</td>\n",
       "      <td>0</td>\n",
       "      <td>0</td>\n",
       "      <td>0.24</td>\n",
       "      <td>0.2879</td>\n",
       "      <td>0.81</td>\n",
       "      <td>0.0</td>\n",
       "      <td>16</td>\n",
       "      <td>Spring</td>\n",
       "      <td>Clear</td>\n",
       "      <td>Weekend-Saturday</td>\n",
       "    </tr>\n",
       "    <tr>\n",
       "      <th>2</th>\n",
       "      <td>2011-01-01</td>\n",
       "      <td>0</td>\n",
       "      <td>1</td>\n",
       "      <td>1</td>\n",
       "      <td>0</td>\n",
       "      <td>0</td>\n",
       "      <td>0.22</td>\n",
       "      <td>0.2727</td>\n",
       "      <td>0.80</td>\n",
       "      <td>0.0</td>\n",
       "      <td>40</td>\n",
       "      <td>Spring</td>\n",
       "      <td>Clear</td>\n",
       "      <td>Weekend-Saturday</td>\n",
       "    </tr>\n",
       "  </tbody>\n",
       "</table>\n",
       "</div>"
      ],
      "text/plain": [
       "            dteday  yr  mnth  hr  holiday  workingday  temp   atemp   hum  \\\n",
       "instant                                                                     \n",
       "1       2011-01-01   0     1   0        0           0  0.24  0.2879  0.81   \n",
       "2       2011-01-01   0     1   1        0           0  0.22  0.2727  0.80   \n",
       "\n",
       "         windspeed  cnt season_name     WC          day_type  \n",
       "instant                                                       \n",
       "1              0.0   16      Spring  Clear  Weekend-Saturday  \n",
       "2              0.0   40      Spring  Clear  Weekend-Saturday  "
      ]
     },
     "execution_count": 60,
     "metadata": {},
     "output_type": "execute_result"
    }
   ],
   "source": [
    "df_hour.drop(['season','weathersit','weekday','casual','registered'],axis=1,inplace=True)\n",
    "df_hour.head(2)"
   ]
  },
  {
   "cell_type": "code",
   "execution_count": 61,
   "id": "25f65840",
   "metadata": {},
   "outputs": [
    {
     "data": {
      "text/html": [
       "<div>\n",
       "<style scoped>\n",
       "    .dataframe tbody tr th:only-of-type {\n",
       "        vertical-align: middle;\n",
       "    }\n",
       "\n",
       "    .dataframe tbody tr th {\n",
       "        vertical-align: top;\n",
       "    }\n",
       "\n",
       "    .dataframe thead th {\n",
       "        text-align: right;\n",
       "    }\n",
       "</style>\n",
       "<table border=\"1\" class=\"dataframe\">\n",
       "  <thead>\n",
       "    <tr style=\"text-align: right;\">\n",
       "      <th></th>\n",
       "      <th>count</th>\n",
       "      <th>mean</th>\n",
       "      <th>std</th>\n",
       "      <th>min</th>\n",
       "      <th>25%</th>\n",
       "      <th>50%</th>\n",
       "      <th>75%</th>\n",
       "      <th>max</th>\n",
       "    </tr>\n",
       "    <tr>\n",
       "      <th>day_type</th>\n",
       "      <th></th>\n",
       "      <th></th>\n",
       "      <th></th>\n",
       "      <th></th>\n",
       "      <th></th>\n",
       "      <th></th>\n",
       "      <th></th>\n",
       "      <th></th>\n",
       "    </tr>\n",
       "  </thead>\n",
       "  <tbody>\n",
       "    <tr>\n",
       "      <th>Holiday-Friday</th>\n",
       "      <td>48.0</td>\n",
       "      <td>135.291667</td>\n",
       "      <td>95.655846</td>\n",
       "      <td>3.0</td>\n",
       "      <td>46.75</td>\n",
       "      <td>129.0</td>\n",
       "      <td>208.25</td>\n",
       "      <td>331.0</td>\n",
       "    </tr>\n",
       "    <tr>\n",
       "      <th>Holiday-Monday</th>\n",
       "      <td>357.0</td>\n",
       "      <td>166.960784</td>\n",
       "      <td>162.468091</td>\n",
       "      <td>1.0</td>\n",
       "      <td>31.00</td>\n",
       "      <td>100.0</td>\n",
       "      <td>281.00</td>\n",
       "      <td>712.0</td>\n",
       "    </tr>\n",
       "    <tr>\n",
       "      <th>Holiday-Thursday</th>\n",
       "      <td>48.0</td>\n",
       "      <td>81.666667</td>\n",
       "      <td>77.569278</td>\n",
       "      <td>2.0</td>\n",
       "      <td>22.75</td>\n",
       "      <td>46.0</td>\n",
       "      <td>124.75</td>\n",
       "      <td>269.0</td>\n",
       "    </tr>\n",
       "    <tr>\n",
       "      <th>Holiday-Tuesday</th>\n",
       "      <td>23.0</td>\n",
       "      <td>44.043478</td>\n",
       "      <td>41.126720</td>\n",
       "      <td>1.0</td>\n",
       "      <td>12.00</td>\n",
       "      <td>32.0</td>\n",
       "      <td>68.00</td>\n",
       "      <td>126.0</td>\n",
       "    </tr>\n",
       "    <tr>\n",
       "      <th>Holiday-Wednesday</th>\n",
       "      <td>24.0</td>\n",
       "      <td>308.458333</td>\n",
       "      <td>202.209100</td>\n",
       "      <td>16.0</td>\n",
       "      <td>115.50</td>\n",
       "      <td>401.5</td>\n",
       "      <td>487.25</td>\n",
       "      <td>584.0</td>\n",
       "    </tr>\n",
       "    <tr>\n",
       "      <th>Weekend-Saturday</th>\n",
       "      <td>2512.0</td>\n",
       "      <td>190.209793</td>\n",
       "      <td>179.820569</td>\n",
       "      <td>1.0</td>\n",
       "      <td>42.00</td>\n",
       "      <td>129.0</td>\n",
       "      <td>300.00</td>\n",
       "      <td>783.0</td>\n",
       "    </tr>\n",
       "    <tr>\n",
       "      <th>Weekend-Sunday</th>\n",
       "      <td>2502.0</td>\n",
       "      <td>177.468825</td>\n",
       "      <td>168.167710</td>\n",
       "      <td>1.0</td>\n",
       "      <td>40.00</td>\n",
       "      <td>116.0</td>\n",
       "      <td>288.00</td>\n",
       "      <td>776.0</td>\n",
       "    </tr>\n",
       "    <tr>\n",
       "      <th>Work-Friday</th>\n",
       "      <td>2439.0</td>\n",
       "      <td>197.333333</td>\n",
       "      <td>175.067581</td>\n",
       "      <td>1.0</td>\n",
       "      <td>48.00</td>\n",
       "      <td>165.0</td>\n",
       "      <td>289.50</td>\n",
       "      <td>957.0</td>\n",
       "    </tr>\n",
       "    <tr>\n",
       "      <th>Work-Monday</th>\n",
       "      <td>2122.0</td>\n",
       "      <td>186.568332</td>\n",
       "      <td>182.108719</td>\n",
       "      <td>1.0</td>\n",
       "      <td>37.00</td>\n",
       "      <td>142.5</td>\n",
       "      <td>266.75</td>\n",
       "      <td>968.0</td>\n",
       "    </tr>\n",
       "    <tr>\n",
       "      <th>Work-Thursday</th>\n",
       "      <td>2423.0</td>\n",
       "      <td>198.710277</td>\n",
       "      <td>188.854567</td>\n",
       "      <td>1.0</td>\n",
       "      <td>44.00</td>\n",
       "      <td>156.0</td>\n",
       "      <td>283.50</td>\n",
       "      <td>976.0</td>\n",
       "    </tr>\n",
       "    <tr>\n",
       "      <th>Work-Tuesday</th>\n",
       "      <td>2430.0</td>\n",
       "      <td>192.632099</td>\n",
       "      <td>188.117367</td>\n",
       "      <td>1.0</td>\n",
       "      <td>36.00</td>\n",
       "      <td>149.0</td>\n",
       "      <td>277.00</td>\n",
       "      <td>970.0</td>\n",
       "    </tr>\n",
       "    <tr>\n",
       "      <th>Work-Wednesday</th>\n",
       "      <td>2451.0</td>\n",
       "      <td>189.981640</td>\n",
       "      <td>190.466915</td>\n",
       "      <td>1.0</td>\n",
       "      <td>36.00</td>\n",
       "      <td>142.0</td>\n",
       "      <td>273.00</td>\n",
       "      <td>977.0</td>\n",
       "    </tr>\n",
       "  </tbody>\n",
       "</table>\n",
       "</div>"
      ],
      "text/plain": [
       "                    count        mean         std   min     25%    50%  \\\n",
       "day_type                                                                 \n",
       "Holiday-Friday       48.0  135.291667   95.655846   3.0   46.75  129.0   \n",
       "Holiday-Monday      357.0  166.960784  162.468091   1.0   31.00  100.0   \n",
       "Holiday-Thursday     48.0   81.666667   77.569278   2.0   22.75   46.0   \n",
       "Holiday-Tuesday      23.0   44.043478   41.126720   1.0   12.00   32.0   \n",
       "Holiday-Wednesday    24.0  308.458333  202.209100  16.0  115.50  401.5   \n",
       "Weekend-Saturday   2512.0  190.209793  179.820569   1.0   42.00  129.0   \n",
       "Weekend-Sunday     2502.0  177.468825  168.167710   1.0   40.00  116.0   \n",
       "Work-Friday        2439.0  197.333333  175.067581   1.0   48.00  165.0   \n",
       "Work-Monday        2122.0  186.568332  182.108719   1.0   37.00  142.5   \n",
       "Work-Thursday      2423.0  198.710277  188.854567   1.0   44.00  156.0   \n",
       "Work-Tuesday       2430.0  192.632099  188.117367   1.0   36.00  149.0   \n",
       "Work-Wednesday     2451.0  189.981640  190.466915   1.0   36.00  142.0   \n",
       "\n",
       "                      75%    max  \n",
       "day_type                          \n",
       "Holiday-Friday     208.25  331.0  \n",
       "Holiday-Monday     281.00  712.0  \n",
       "Holiday-Thursday   124.75  269.0  \n",
       "Holiday-Tuesday     68.00  126.0  \n",
       "Holiday-Wednesday  487.25  584.0  \n",
       "Weekend-Saturday   300.00  783.0  \n",
       "Weekend-Sunday     288.00  776.0  \n",
       "Work-Friday        289.50  957.0  \n",
       "Work-Monday        266.75  968.0  \n",
       "Work-Thursday      283.50  976.0  \n",
       "Work-Tuesday       277.00  970.0  \n",
       "Work-Wednesday     273.00  977.0  "
      ]
     },
     "execution_count": 61,
     "metadata": {},
     "output_type": "execute_result"
    }
   ],
   "source": [
    "df_hour.groupby('day_type')['cnt'].describe()"
   ]
  },
  {
   "cell_type": "code",
   "execution_count": 62,
   "id": "59033633",
   "metadata": {},
   "outputs": [
    {
     "data": {
      "text/plain": [
       "<BarContainer object of 12 artists>"
      ]
     },
     "execution_count": 62,
     "metadata": {},
     "output_type": "execute_result"
    },
    {
     "data": {
      "image/png": "[encoded data removed]",
      "text/plain": [
       "<Figure size 432x288 with 1 Axes>"
      ]
     },
     "metadata": {
      "needs_background": "light"
     },
     "output_type": "display_data"
    }
   ],
   "source": [
    "m=df_hour.groupby('day_type')['cnt'].mean().sort_values()\n",
    "plt.barh(m.index,m)"
   ]
  },
  {
   "cell_type": "code",
   "execution_count": 63,
   "id": "62a81128",
   "metadata": {},
   "outputs": [
    {
     "data": {
      "text/html": [
       "<div>\n",
       "<style scoped>\n",
       "    .dataframe tbody tr th:only-of-type {\n",
       "        vertical-align: middle;\n",
       "    }\n",
       "\n",
       "    .dataframe tbody tr th {\n",
       "        vertical-align: top;\n",
       "    }\n",
       "\n",
       "    .dataframe thead th {\n",
       "        text-align: right;\n",
       "    }\n",
       "</style>\n",
       "<table border=\"1\" class=\"dataframe\">\n",
       "  <thead>\n",
       "    <tr style=\"text-align: right;\">\n",
       "      <th></th>\n",
       "      <th>dteday</th>\n",
       "      <th>yr</th>\n",
       "      <th>mnth</th>\n",
       "      <th>holiday</th>\n",
       "      <th>workingday</th>\n",
       "      <th>temp</th>\n",
       "      <th>atemp</th>\n",
       "      <th>hum</th>\n",
       "      <th>windspeed</th>\n",
       "      <th>cnt</th>\n",
       "      <th>season_name</th>\n",
       "      <th>WC</th>\n",
       "      <th>day_type</th>\n",
       "    </tr>\n",
       "    <tr>\n",
       "      <th>instant</th>\n",
       "      <th></th>\n",
       "      <th></th>\n",
       "      <th></th>\n",
       "      <th></th>\n",
       "      <th></th>\n",
       "      <th></th>\n",
       "      <th></th>\n",
       "      <th></th>\n",
       "      <th></th>\n",
       "      <th></th>\n",
       "      <th></th>\n",
       "      <th></th>\n",
       "      <th></th>\n",
       "    </tr>\n",
       "  </thead>\n",
       "  <tbody>\n",
       "    <tr>\n",
       "      <th>551</th>\n",
       "      <td>2012-07-04</td>\n",
       "      <td>1</td>\n",
       "      <td>7</td>\n",
       "      <td>1</td>\n",
       "      <td>0</td>\n",
       "      <td>0.789167</td>\n",
       "      <td>0.732337</td>\n",
       "      <td>0.53875</td>\n",
       "      <td>0.13495</td>\n",
       "      <td>7403</td>\n",
       "      <td>Fall</td>\n",
       "      <td>Clear</td>\n",
       "      <td>Holiday-Wednesday</td>\n",
       "    </tr>\n",
       "  </tbody>\n",
       "</table>\n",
       "</div>"
      ],
      "text/plain": [
       "            dteday  yr  mnth  holiday  workingday      temp     atemp  \\\n",
       "instant                                                                 \n",
       "551     2012-07-04   1     7        1           0  0.789167  0.732337   \n",
       "\n",
       "             hum  windspeed   cnt season_name     WC           day_type  \n",
       "instant                                                                  \n",
       "551      0.53875    0.13495  7403        Fall  Clear  Holiday-Wednesday  "
      ]
     },
     "execution_count": 63,
     "metadata": {},
     "output_type": "execute_result"
    }
   ],
   "source": [
    "df_day[df_day['day_type']=='Holiday-Wednesday']"
   ]
  },
  {
   "cell_type": "code",
   "execution_count": 64,
   "id": "3f3fb503",
   "metadata": {},
   "outputs": [
    {
     "data": {
      "text/plain": [
       "<BarContainer object of 12 artists>"
      ]
     },
     "execution_count": 64,
     "metadata": {},
     "output_type": "execute_result"
    },
    {
     "data": {
      "image/png": "[encoded data removed]",
      "text/plain": [
       "<Figure size 432x288 with 1 Axes>"
      ]
     },
     "metadata": {
      "needs_background": "light"
     },
     "output_type": "display_data"
    }
   ],
   "source": [
    "m=df_hour.groupby('day_type')['cnt'].sum().sort_values()\n",
    "plt.barh(m.index,m)"
   ]
  },
  {
   "cell_type": "code",
   "execution_count": 65,
   "id": "ea99ed33",
   "metadata": {},
   "outputs": [],
   "source": [
    "df_day[['day', 'type']] = df_day['day_type'].str.split('-', 2, expand=True)"
   ]
  },
  {
   "cell_type": "code",
   "execution_count": 66,
   "id": "ebe21b9f",
   "metadata": {},
   "outputs": [],
   "source": [
    "df_hour[['day', 'type']] = df_hour['day_type'].str.split('-', 2, expand=True)"
   ]
  },
  {
   "cell_type": "code",
   "execution_count": 67,
   "id": "3b617d53",
   "metadata": {},
   "outputs": [
    {
     "data": {
      "text/html": [
       "<div>\n",
       "<style scoped>\n",
       "    .dataframe tbody tr th:only-of-type {\n",
       "        vertical-align: middle;\n",
       "    }\n",
       "\n",
       "    .dataframe tbody tr th {\n",
       "        vertical-align: top;\n",
       "    }\n",
       "\n",
       "    .dataframe thead th {\n",
       "        text-align: right;\n",
       "    }\n",
       "</style>\n",
       "<table border=\"1\" class=\"dataframe\">\n",
       "  <thead>\n",
       "    <tr style=\"text-align: right;\">\n",
       "      <th></th>\n",
       "      <th>dteday</th>\n",
       "      <th>yr</th>\n",
       "      <th>mnth</th>\n",
       "      <th>hr</th>\n",
       "      <th>holiday</th>\n",
       "      <th>workingday</th>\n",
       "      <th>temp</th>\n",
       "      <th>atemp</th>\n",
       "      <th>hum</th>\n",
       "      <th>windspeed</th>\n",
       "      <th>cnt</th>\n",
       "      <th>season_name</th>\n",
       "      <th>WC</th>\n",
       "      <th>day_type</th>\n",
       "      <th>day</th>\n",
       "      <th>type</th>\n",
       "    </tr>\n",
       "    <tr>\n",
       "      <th>instant</th>\n",
       "      <th></th>\n",
       "      <th></th>\n",
       "      <th></th>\n",
       "      <th></th>\n",
       "      <th></th>\n",
       "      <th></th>\n",
       "      <th></th>\n",
       "      <th></th>\n",
       "      <th></th>\n",
       "      <th></th>\n",
       "      <th></th>\n",
       "      <th></th>\n",
       "      <th></th>\n",
       "      <th></th>\n",
       "      <th></th>\n",
       "      <th></th>\n",
       "    </tr>\n",
       "  </thead>\n",
       "  <tbody>\n",
       "    <tr>\n",
       "      <th>1</th>\n",
       "      <td>2011-01-01</td>\n",
       "      <td>0</td>\n",
       "      <td>1</td>\n",
       "      <td>0</td>\n",
       "      <td>0</td>\n",
       "      <td>0</td>\n",
       "      <td>0.24</td>\n",
       "      <td>0.2879</td>\n",
       "      <td>0.81</td>\n",
       "      <td>0.0</td>\n",
       "      <td>16</td>\n",
       "      <td>Spring</td>\n",
       "      <td>Clear</td>\n",
       "      <td>Weekend-Saturday</td>\n",
       "      <td>Weekend</td>\n",
       "      <td>Saturday</td>\n",
       "    </tr>\n",
       "    <tr>\n",
       "      <th>2</th>\n",
       "      <td>2011-01-01</td>\n",
       "      <td>0</td>\n",
       "      <td>1</td>\n",
       "      <td>1</td>\n",
       "      <td>0</td>\n",
       "      <td>0</td>\n",
       "      <td>0.22</td>\n",
       "      <td>0.2727</td>\n",
       "      <td>0.80</td>\n",
       "      <td>0.0</td>\n",
       "      <td>40</td>\n",
       "      <td>Spring</td>\n",
       "      <td>Clear</td>\n",
       "      <td>Weekend-Saturday</td>\n",
       "      <td>Weekend</td>\n",
       "      <td>Saturday</td>\n",
       "    </tr>\n",
       "    <tr>\n",
       "      <th>3</th>\n",
       "      <td>2011-01-01</td>\n",
       "      <td>0</td>\n",
       "      <td>1</td>\n",
       "      <td>2</td>\n",
       "      <td>0</td>\n",
       "      <td>0</td>\n",
       "      <td>0.22</td>\n",
       "      <td>0.2727</td>\n",
       "      <td>0.80</td>\n",
       "      <td>0.0</td>\n",
       "      <td>32</td>\n",
       "      <td>Spring</td>\n",
       "      <td>Clear</td>\n",
       "      <td>Weekend-Saturday</td>\n",
       "      <td>Weekend</td>\n",
       "      <td>Saturday</td>\n",
       "    </tr>\n",
       "    <tr>\n",
       "      <th>4</th>\n",
       "      <td>2011-01-01</td>\n",
       "      <td>0</td>\n",
       "      <td>1</td>\n",
       "      <td>3</td>\n",
       "      <td>0</td>\n",
       "      <td>0</td>\n",
       "      <td>0.24</td>\n",
       "      <td>0.2879</td>\n",
       "      <td>0.75</td>\n",
       "      <td>0.0</td>\n",
       "      <td>13</td>\n",
       "      <td>Spring</td>\n",
       "      <td>Clear</td>\n",
       "      <td>Weekend-Saturday</td>\n",
       "      <td>Weekend</td>\n",
       "      <td>Saturday</td>\n",
       "    </tr>\n",
       "    <tr>\n",
       "      <th>5</th>\n",
       "      <td>2011-01-01</td>\n",
       "      <td>0</td>\n",
       "      <td>1</td>\n",
       "      <td>4</td>\n",
       "      <td>0</td>\n",
       "      <td>0</td>\n",
       "      <td>0.24</td>\n",
       "      <td>0.2879</td>\n",
       "      <td>0.75</td>\n",
       "      <td>0.0</td>\n",
       "      <td>1</td>\n",
       "      <td>Spring</td>\n",
       "      <td>Clear</td>\n",
       "      <td>Weekend-Saturday</td>\n",
       "      <td>Weekend</td>\n",
       "      <td>Saturday</td>\n",
       "    </tr>\n",
       "  </tbody>\n",
       "</table>\n",
       "</div>"
      ],
      "text/plain": [
       "            dteday  yr  mnth  hr  holiday  workingday  temp   atemp   hum  \\\n",
       "instant                                                                     \n",
       "1       2011-01-01   0     1   0        0           0  0.24  0.2879  0.81   \n",
       "2       2011-01-01   0     1   1        0           0  0.22  0.2727  0.80   \n",
       "3       2011-01-01   0     1   2        0           0  0.22  0.2727  0.80   \n",
       "4       2011-01-01   0     1   3        0           0  0.24  0.2879  0.75   \n",
       "5       2011-01-01   0     1   4        0           0  0.24  0.2879  0.75   \n",
       "\n",
       "         windspeed  cnt season_name     WC          day_type      day  \\\n",
       "instant                                                                 \n",
       "1              0.0   16      Spring  Clear  Weekend-Saturday  Weekend   \n",
       "2              0.0   40      Spring  Clear  Weekend-Saturday  Weekend   \n",
       "3              0.0   32      Spring  Clear  Weekend-Saturday  Weekend   \n",
       "4              0.0   13      Spring  Clear  Weekend-Saturday  Weekend   \n",
       "5              0.0    1      Spring  Clear  Weekend-Saturday  Weekend   \n",
       "\n",
       "             type  \n",
       "instant            \n",
       "1        Saturday  \n",
       "2        Saturday  \n",
       "3        Saturday  \n",
       "4        Saturday  \n",
       "5        Saturday  "
      ]
     },
     "execution_count": 67,
     "metadata": {},
     "output_type": "execute_result"
    }
   ],
   "source": [
    "df_hour.head()"
   ]
  },
  {
   "cell_type": "markdown",
   "id": "ae31b50f",
   "metadata": {},
   "source": [
    "# Bar Plot"
   ]
  },
  {
   "cell_type": "code",
   "execution_count": 68,
   "id": "93aa3471",
   "metadata": {},
   "outputs": [
    {
     "data": {
      "text/plain": [
       "<BarContainer object of 3 artists>"
      ]
     },
     "execution_count": 68,
     "metadata": {},
     "output_type": "execute_result"
    },
    {
     "data": {
      "image/png": "[encoded data removed]",
      "text/plain": [
       "<Figure size 432x288 with 1 Axes>"
      ]
     },
     "metadata": {
      "needs_background": "light"
     },
     "output_type": "display_data"
    }
   ],
   "source": [
    "d=df_day.groupby('day')['cnt'].mean().sort_values()\n",
    "plt.barh(d.index,d)"
   ]
  },
  {
   "cell_type": "code",
   "execution_count": 69,
   "id": "a2c6ce5f",
   "metadata": {},
   "outputs": [
    {
     "data": {
      "text/plain": [
       "<BarContainer object of 3 artists>"
      ]
     },
     "execution_count": 69,
     "metadata": {},
     "output_type": "execute_result"
    },
    {
     "data": {
      "image/png": "[encoded data removed]",
      "text/plain": [
       "<Figure size 432x288 with 1 Axes>"
      ]
     },
     "metadata": {
      "needs_background": "light"
     },
     "output_type": "display_data"
    }
   ],
   "source": [
    "h=df_hour.groupby('day')['cnt'].median().sort_values()\n",
    "plt.barh(h.index,h)"
   ]
  },
  {
   "cell_type": "code",
   "execution_count": 70,
   "id": "09202a9a",
   "metadata": {},
   "outputs": [
    {
     "data": {
      "text/plain": [
       "<BarContainer object of 7 artists>"
      ]
     },
     "execution_count": 70,
     "metadata": {},
     "output_type": "execute_result"
    },
    {
     "data": {
      "image/png": "[encoded data removed]",
      "text/plain": [
       "<Figure size 432x288 with 1 Axes>"
      ]
     },
     "metadata": {
      "needs_background": "light"
     },
     "output_type": "display_data"
    }
   ],
   "source": [
    "d1=df_day.groupby('type')['cnt'].mean().sort_values()\n",
    "plt.barh(d1.index,d1)"
   ]
  },
  {
   "cell_type": "code",
   "execution_count": 71,
   "id": "354f08ae",
   "metadata": {},
   "outputs": [
    {
     "data": {
      "text/plain": [
       "<BarContainer object of 7 artists>"
      ]
     },
     "execution_count": 71,
     "metadata": {},
     "output_type": "execute_result"
    },
    {
     "data": {
      "image/png": "[encoded data removed]",
      "text/plain": [
       "<Figure size 432x288 with 1 Axes>"
      ]
     },
     "metadata": {
      "needs_background": "light"
     },
     "output_type": "display_data"
    }
   ],
   "source": [
    "d1=df_hour.groupby('type')['cnt'].median().sort_values()\n",
    "plt.barh(d1.index,d1)"
   ]
  },
  {
   "cell_type": "markdown",
   "id": "e77ffaf9",
   "metadata": {},
   "source": [
    "Day data:-\n",
    "1. Season wise- Fall season has got the highest mean count of bike hiring and its minimum in Spring.\n",
    "2. Monthwise- June to October is high\n",
    "3. Year wise - 2012 has got higher mean hiring\n",
    "4. Work day mean hiring max, lowest during holidays\n",
    "5. Friday - max hiring\n",
    "6. Clear sky -max mean hiring, light snow -min\n",
    "\n",
    "\n",
    "Hourly data:-\n",
    "\n",
    "1. Season wise - Fall season has got the highest median \n",
    "2. Monthwise- June to October\n",
    "3. Clear - max median hiring, heavy rain -min\n",
    "4. Friday - median max h"
   ]
  },
  {
   "cell_type": "markdown",
   "id": "4cf9fd6d",
   "metadata": {},
   "source": [
    "Bivariate Regression"
   ]
  },
  {
   "cell_type": "code",
   "execution_count": 72,
   "id": "738c8b7e",
   "metadata": {},
   "outputs": [],
   "source": [
    "X1_train=np.array(df_hour['temp'][0:1391])\n",
    "X2_train=np.array(df_hour['hum'][0:1391])\n",
    "X3_train=np.array(df_hour['windspeed'][0:1391])\n",
    "\n",
    "X4_train=np.array(df_hour['hr'])[0:1391]\n",
    "\n",
    "y_train=np.array(df_hour['cnt'][0:1391])\n",
    "\n",
    "\n",
    "\n",
    "X1_test=np.array(df_hour['temp'][1391:])\n",
    "X2_test=np.array(df_hour['hum'][1391:])\n",
    "X3_test=np.array(df_hour['windspeed'][1391:])\n",
    "\n",
    "X4_test=np.array(df_hour['hr'])[1391:]\n",
    "\n",
    "y_test=np.array(df_hour['cnt'][1391:])\n",
    "\n"
   ]
  },
  {
   "cell_type": "code",
   "execution_count": 73,
   "id": "3de9accb",
   "metadata": {},
   "outputs": [
    {
     "name": "stdout",
     "output_type": "stream",
     "text": [
      "                            OLS Regression Results                            \n",
      "==============================================================================\n",
      "Dep. Variable:                      y   R-squared:                       0.121\n",
      "Model:                            OLS   Adj. R-squared:                  0.120\n",
      "Method:                 Least Squares   F-statistic:                     190.8\n",
      "Date:                Thu, 19 May 2022   Prob (F-statistic):           9.33e-41\n",
      "Time:                        15:22:31   Log-Likelihood:                -7528.4\n",
      "No. Observations:                1391   AIC:                         1.506e+04\n",
      "Df Residuals:                    1389   BIC:                         1.507e+04\n",
      "Df Model:                           1                                         \n",
      "Covariance Type:            nonrobust                                         \n",
      "==============================================================================\n",
      "                 coef    std err          t      P>|t|      [0.025      0.975]\n",
      "------------------------------------------------------------------------------\n",
      "const         19.3930      3.608      5.374      0.000      12.314      26.472\n",
      "x1           188.9569     13.681     13.812      0.000     162.120     215.794\n",
      "==============================================================================\n",
      "Omnibus:                      234.764   Durbin-Watson:                   0.529\n",
      "Prob(Omnibus):                  0.000   Jarque-Bera (JB):              379.860\n",
      "Skew:                           1.114   Prob(JB):                     3.27e-83\n",
      "Kurtosis:                       4.260   Cond. No.                         9.95\n",
      "==============================================================================\n",
      "\n",
      "Notes:\n",
      "[1] Standard Errors assume that the covariance matrix of the errors is correctly specified.\n"
     ]
    }
   ],
   "source": [
    "X2 = sm.add_constant(X1_train.reshape(-1,1))\n",
    "est = sm.OLS(y_train, X2)\n",
    "est2 = est.fit()\n",
    "print(est2.summary())"
   ]
  },
  {
   "cell_type": "code",
   "execution_count": 74,
   "id": "1b5ae3e7",
   "metadata": {},
   "outputs": [],
   "source": [
    "c = sm.add_constant(X1_test.reshape(-1,1))\n",
    "y_pred_test=est2.predict(c)"
   ]
  },
  {
   "cell_type": "code",
   "execution_count": 75,
   "id": "0fbf8192",
   "metadata": {},
   "outputs": [
    {
     "name": "stdout",
     "output_type": "stream",
     "text": [
      "193.50146663738815\n"
     ]
    }
   ],
   "source": [
    "rmse_test = mean_squared_error(y_test, y_pred_test, squared=False)\n",
    "\n",
    "print(rmse_test)\n"
   ]
  },
  {
   "cell_type": "code",
   "execution_count": 76,
   "id": "16d66a2f",
   "metadata": {},
   "outputs": [
    {
     "name": "stdout",
     "output_type": "stream",
     "text": [
      "                            OLS Regression Results                            \n",
      "==============================================================================\n",
      "Dep. Variable:                      y   R-squared:                       0.072\n",
      "Model:                            OLS   Adj. R-squared:                  0.071\n",
      "Method:                 Least Squares   F-statistic:                     107.2\n",
      "Date:                Thu, 19 May 2022   Prob (F-statistic):           2.96e-24\n",
      "Time:                        15:22:31   Log-Likelihood:                -7566.2\n",
      "No. Observations:                1391   AIC:                         1.514e+04\n",
      "Df Residuals:                    1389   BIC:                         1.515e+04\n",
      "Df Model:                           1                                         \n",
      "Covariance Type:            nonrobust                                         \n",
      "==============================================================================\n",
      "                 coef    std err          t      P>|t|      [0.025      0.975]\n",
      "------------------------------------------------------------------------------\n",
      "const        108.8637      4.492     24.234      0.000     100.051     117.676\n",
      "x1           -77.8620      7.519    -10.355      0.000     -92.613     -63.111\n",
      "==============================================================================\n",
      "Omnibus:                      268.687   Durbin-Watson:                   0.499\n",
      "Prob(Omnibus):                  0.000   Jarque-Bera (JB):              472.933\n",
      "Skew:                           1.204   Prob(JB):                    2.01e-103\n",
      "Kurtosis:                       4.535   Cond. No.                         6.67\n",
      "==============================================================================\n",
      "\n",
      "Notes:\n",
      "[1] Standard Errors assume that the covariance matrix of the errors is correctly specified.\n",
      "228.11348511479122\n"
     ]
    }
   ],
   "source": [
    "X2_ = sm.add_constant(X2_train.reshape(-1,1))\n",
    "est = sm.OLS(y_train, X2_)\n",
    "est2 = est.fit()\n",
    "print(est2.summary())\n",
    "\n",
    "c = sm.add_constant(X2_test.reshape(-1,1))\n",
    "y_pred_test=est2.predict(c)\n",
    "\n",
    "rmse_test = mean_squared_error(y_test, y_pred_test, squared=False)\n",
    "\n",
    "print(rmse_test)"
   ]
  },
  {
   "cell_type": "markdown",
   "id": "6e812ced",
   "metadata": {},
   "source": [
    "If the humidity increases by 1 unit, then count would decrease by 77.86 units."
   ]
  },
  {
   "cell_type": "code",
   "execution_count": 77,
   "id": "734e532f",
   "metadata": {},
   "outputs": [
    {
     "name": "stdout",
     "output_type": "stream",
     "text": [
      "                            OLS Regression Results                            \n",
      "==============================================================================\n",
      "Dep. Variable:                      y   R-squared:                       0.012\n",
      "Model:                            OLS   Adj. R-squared:                  0.011\n",
      "Method:                 Least Squares   F-statistic:                     16.54\n",
      "Date:                Thu, 19 May 2022   Prob (F-statistic):           5.03e-05\n",
      "Time:                        15:22:32   Log-Likelihood:                -7609.7\n",
      "No. Observations:                1391   AIC:                         1.522e+04\n",
      "Df Residuals:                    1389   BIC:                         1.523e+04\n",
      "Df Model:                           1                                         \n",
      "Covariance Type:            nonrobust                                         \n",
      "==============================================================================\n",
      "                 coef    std err          t      P>|t|      [0.025      0.975]\n",
      "------------------------------------------------------------------------------\n",
      "const         55.5687      2.785     19.951      0.000      50.105      61.033\n",
      "x1            43.7319     10.752      4.067      0.000      22.639      64.825\n",
      "==============================================================================\n",
      "Omnibus:                      272.229   Durbin-Watson:                   0.471\n",
      "Prob(Omnibus):                  0.000   Jarque-Bera (JB):              472.025\n",
      "Skew:                           1.234   Prob(JB):                    3.17e-103\n",
      "Kurtosis:                       4.432   Cond. No.                         7.30\n",
      "==============================================================================\n",
      "\n",
      "Notes:\n",
      "[1] Standard Errors assume that the covariance matrix of the errors is correctly specified.\n",
      "229.02269688831058\n"
     ]
    }
   ],
   "source": [
    "X2 = sm.add_constant(X3_train.reshape(-1,1))\n",
    "est = sm.OLS(y_train, X2)\n",
    "est2 = est.fit()\n",
    "print(est2.summary())\n",
    "\n",
    "c = sm.add_constant(X3_test.reshape(-1,1))\n",
    "y_pred_test=est2.predict(c)\n",
    "\n",
    "rmse_test = mean_squared_error(y_test, y_pred_test, squared=False)\n",
    "\n",
    "print(rmse_test)"
   ]
  },
  {
   "cell_type": "code",
   "execution_count": 78,
   "id": "9f25edf0",
   "metadata": {},
   "outputs": [
    {
     "name": "stdout",
     "output_type": "stream",
     "text": [
      "                            OLS Regression Results                            \n",
      "==============================================================================\n",
      "Dep. Variable:                      y   R-squared:                       0.134\n",
      "Model:                            OLS   Adj. R-squared:                  0.133\n",
      "Method:                 Least Squares   F-statistic:                     214.3\n",
      "Date:                Thu, 19 May 2022   Prob (F-statistic):           3.02e-45\n",
      "Time:                        15:22:32   Log-Likelihood:                -7518.1\n",
      "No. Observations:                1391   AIC:                         1.504e+04\n",
      "Df Residuals:                    1389   BIC:                         1.505e+04\n",
      "Df Model:                           1                                         \n",
      "Covariance Type:            nonrobust                                         \n",
      "==============================================================================\n",
      "                 coef    std err          t      P>|t|      [0.025      0.975]\n",
      "------------------------------------------------------------------------------\n",
      "const         28.8224      2.862     10.070      0.000      23.208      34.437\n",
      "x1             3.0715      0.210     14.641      0.000       2.660       3.483\n",
      "==============================================================================\n",
      "Omnibus:                      349.979   Durbin-Watson:                   0.587\n",
      "Prob(Omnibus):                  0.000   Jarque-Bera (JB):              763.723\n",
      "Skew:                           1.412   Prob(JB):                    1.44e-166\n",
      "Kurtosis:                       5.282   Cond. No.                         27.1\n",
      "==============================================================================\n",
      "\n",
      "Notes:\n",
      "[1] Standard Errors assume that the covariance matrix of the errors is correctly specified.\n",
      "223.00623224813262\n"
     ]
    }
   ],
   "source": [
    "X2 = sm.add_constant(X4_train.reshape(-1,1))\n",
    "est = sm.OLS(y_train, X2)\n",
    "est2 = est.fit()\n",
    "print(est2.summary())\n",
    "\n",
    "c = sm.add_constant(X4_test.reshape(-1,1))\n",
    "y_pred_test=est2.predict(c)\n",
    "\n",
    "rmse_test = mean_squared_error(y_test, y_pred_test, squared=False)\n",
    "\n",
    "print(rmse_test)"
   ]
  },
  {
   "cell_type": "markdown",
   "id": "fa70fec5",
   "metadata": {},
   "source": [
    "'temperature' variable while predicting cnt has got the least rmse value and hence a better predictor compared to the others.\n",
    "\n",
    "'temp', 'hour','humidity', 'windspeed' -- rmse"
   ]
  },
  {
   "cell_type": "markdown",
   "id": "1d82ebad",
   "metadata": {},
   "source": [
    "Hypothesis Testing"
   ]
  },
  {
   "cell_type": "markdown",
   "id": "a452010f",
   "metadata": {},
   "source": [
    "1. To test whether Mean of bikes rented in fall season is higher than mean of bikes rented in other seasons."
   ]
  },
  {
   "cell_type": "markdown",
   "id": "78b1c135",
   "metadata": {},
   "source": [
    "H0: mu1<=mu2 ag H1: mu1>mu2"
   ]
  },
  {
   "cell_type": "code",
   "execution_count": 79,
   "id": "f3f9c8f2",
   "metadata": {},
   "outputs": [],
   "source": [
    "group1=df_hour[df_hour['season_name']=='Fall']['cnt']\n",
    "group2=df_hour[(df_hour['season_name']=='Spring')|(df_hour['season_name']=='Summer')|(df_hour['season_name']=='Winter')]['cnt']"
   ]
  },
  {
   "cell_type": "code",
   "execution_count": 80,
   "id": "1781ffae",
   "metadata": {},
   "outputs": [
    {
     "data": {
      "text/plain": [
       "Ttest_indResult(statistic=18.933396115770343, pvalue=2.5871301491373718e-78)"
      ]
     },
     "execution_count": 80,
     "metadata": {},
     "output_type": "execute_result"
    }
   ],
   "source": [
    "\n",
    "ttest=stats.ttest_ind(a=group1, b=group2, equal_var=False,alternative='greater')\n",
    "ttest"
   ]
  },
  {
   "cell_type": "markdown",
   "id": "4b330f83",
   "metadata": {},
   "source": [
    "Hence, we reject the null hypothesis and conclude that mean bikes rented in fall season is greater than the mean bikes rented in the other seasons from our hypothesis testing of the sample at 5% level of significance."
   ]
  },
  {
   "cell_type": "markdown",
   "id": "b4a553a0",
   "metadata": {},
   "source": [
    "2. To check whether Proportion of bike renting is lower on working days when it is a clear sky than on non-working days when it is a clear sky.\n"
   ]
  },
  {
   "cell_type": "markdown",
   "id": "f8b364a5",
   "metadata": {},
   "source": [
    "H0: p1>=p2 ag H1:p1<p2"
   ]
  },
  {
   "cell_type": "code",
   "execution_count": 81,
   "id": "b58091ff",
   "metadata": {},
   "outputs": [],
   "source": [
    "cl_w=sum(df_hour[(df_hour['day']=='Work') & (df_hour['WC']=='Clear')]['cnt'])\n",
    "t1=sum(df_hour[(df_hour['day']=='Work')]['cnt'])"
   ]
  },
  {
   "cell_type": "code",
   "execution_count": 82,
   "id": "db066b64",
   "metadata": {},
   "outputs": [],
   "source": [
    "cl_nw=sum(df_hour[(df_hour['day']!='Work') & (df_hour['WC']=='Clear')]['cnt'])\n",
    "t2=sum(df_hour[(df_hour['day']!='Work')]['cnt'])"
   ]
  },
  {
   "cell_type": "code",
   "execution_count": 83,
   "id": "79929cb9",
   "metadata": {},
   "outputs": [],
   "source": [
    "successes = np.array([cl_w, cl_nw])\n",
    "samples = np.array([t1, t2])"
   ]
  },
  {
   "cell_type": "code",
   "execution_count": 84,
   "id": "adccb24e",
   "metadata": {},
   "outputs": [],
   "source": [
    "stat, p_value = proportions_ztest(count=successes, nobs=samples,  alternative='smaller')"
   ]
  },
  {
   "cell_type": "code",
   "execution_count": 85,
   "id": "1efee0e1",
   "metadata": {},
   "outputs": [
    {
     "data": {
      "text/plain": [
       "-97.49866636015425"
      ]
     },
     "execution_count": 85,
     "metadata": {},
     "output_type": "execute_result"
    }
   ],
   "source": [
    "stat"
   ]
  },
  {
   "cell_type": "code",
   "execution_count": 86,
   "id": "130950a5",
   "metadata": {},
   "outputs": [
    {
     "data": {
      "text/plain": [
       "0.0"
      ]
     },
     "execution_count": 86,
     "metadata": {},
     "output_type": "execute_result"
    }
   ],
   "source": [
    "p_value"
   ]
  },
  {
   "cell_type": "markdown",
   "id": "f3a2f18f",
   "metadata": {},
   "source": [
    "Here, we are rejecting our null hypothesis. Therefore, from our sample at 5% level of significance, we can conclude that proportion of bike renting on a non-working day with a clear sky is greater than the proportion of bike renting on a working day with a clear sky."
   ]
  },
  {
   "cell_type": "markdown",
   "id": "bc161a21",
   "metadata": {},
   "source": [
    "3. To check whether Mean bike hiring is higher when temperature is high than when temperature is not high\n",
    "\n",
    "H0: mu1<=mu2 ag H1: mu1>mu2"
   ]
  },
  {
   "cell_type": "code",
   "execution_count": 87,
   "id": "e33d78c4",
   "metadata": {},
   "outputs": [
    {
     "name": "stderr",
     "output_type": "stream",
     "text": [
      "C:\\Users\\Shramana\\anaconda3\\lib\\site-packages\\pandas\\core\\indexing.py:1637: SettingWithCopyWarning: \n",
      "A value is trying to be set on a copy of a slice from a DataFrame\n",
      "\n",
      "See the caveats in the documentation: https://pandas.pydata.org/pandas-docs/stable/user_guide/indexing.html#returning-a-view-versus-a-copy\n",
      "  self._setitem_single_block(indexer, value, name)\n"
     ]
    }
   ],
   "source": [
    "df_hour['temp_cat']=0\n",
    "for index,i in enumerate(df_hour['temp']):\n",
    "    if i>=0.7:\n",
    "        df_hour['temp_cat'].iloc[index]='High Temp'\n",
    "    elif ((i<0.7) & (i>=0.5)):\n",
    "        df_hour['temp_cat'].iloc[index]='Moderate Temp'\n",
    "    elif i<0.5:\n",
    "        df_hour['temp_cat'].iloc[index]='Low Temp'"
   ]
  },
  {
   "cell_type": "code",
   "execution_count": 88,
   "id": "5f6ef286",
   "metadata": {},
   "outputs": [
    {
     "data": {
      "text/plain": [
       "Low Temp         8329\n",
       "Moderate Temp    5675\n",
       "High Temp        3375\n",
       "Name: temp_cat, dtype: int64"
      ]
     },
     "execution_count": 88,
     "metadata": {},
     "output_type": "execute_result"
    }
   ],
   "source": [
    "df_hour.temp_cat.value_counts()"
   ]
  },
  {
   "cell_type": "code",
   "execution_count": 89,
   "id": "f5dfb99e",
   "metadata": {},
   "outputs": [],
   "source": [
    "group1=df_hour[df_hour['temp_cat']=='High Temp']['cnt']\n",
    "group2=df_hour[(df_hour['temp_cat']=='Moderate Temp')|(df_hour['temp_cat']=='Low Temp')]['cnt']"
   ]
  },
  {
   "cell_type": "code",
   "execution_count": 90,
   "id": "dc1dcec9",
   "metadata": {},
   "outputs": [
    {
     "data": {
      "text/plain": [
       "Ttest_indResult(statistic=40.298234386759184, pvalue=3.6775592298752306e-305)"
      ]
     },
     "execution_count": 90,
     "metadata": {},
     "output_type": "execute_result"
    }
   ],
   "source": [
    "ttest=stats.ttest_ind(a=group1, b=group2, equal_var=False,alternative='greater')\n",
    "ttest"
   ]
  },
  {
   "cell_type": "markdown",
   "id": "57b8f064",
   "metadata": {},
   "source": [
    "We reject the null hypothesis and conclude on the basis of the sample at 5% level of significance that mean bike renting is higher when temperature is high as compared to when temperature is not high."
   ]
  },
  {
   "cell_type": "markdown",
   "id": "2e9a05b8",
   "metadata": {},
   "source": [
    "FEATURE SELECTION"
   ]
  },
  {
   "cell_type": "code",
   "execution_count": 91,
   "id": "00578490",
   "metadata": {},
   "outputs": [
    {
     "data": {
      "text/html": [
       "<div>\n",
       "<style scoped>\n",
       "    .dataframe tbody tr th:only-of-type {\n",
       "        vertical-align: middle;\n",
       "    }\n",
       "\n",
       "    .dataframe tbody tr th {\n",
       "        vertical-align: top;\n",
       "    }\n",
       "\n",
       "    .dataframe thead th {\n",
       "        text-align: right;\n",
       "    }\n",
       "</style>\n",
       "<table border=\"1\" class=\"dataframe\">\n",
       "  <thead>\n",
       "    <tr style=\"text-align: right;\">\n",
       "      <th></th>\n",
       "      <th>dteday</th>\n",
       "      <th>yr</th>\n",
       "      <th>mnth</th>\n",
       "      <th>hr</th>\n",
       "      <th>holiday</th>\n",
       "      <th>workingday</th>\n",
       "      <th>temp</th>\n",
       "      <th>atemp</th>\n",
       "      <th>hum</th>\n",
       "      <th>windspeed</th>\n",
       "      <th>cnt</th>\n",
       "      <th>season_name</th>\n",
       "      <th>WC</th>\n",
       "      <th>day_type</th>\n",
       "      <th>day</th>\n",
       "      <th>type</th>\n",
       "      <th>temp_cat</th>\n",
       "    </tr>\n",
       "    <tr>\n",
       "      <th>instant</th>\n",
       "      <th></th>\n",
       "      <th></th>\n",
       "      <th></th>\n",
       "      <th></th>\n",
       "      <th></th>\n",
       "      <th></th>\n",
       "      <th></th>\n",
       "      <th></th>\n",
       "      <th></th>\n",
       "      <th></th>\n",
       "      <th></th>\n",
       "      <th></th>\n",
       "      <th></th>\n",
       "      <th></th>\n",
       "      <th></th>\n",
       "      <th></th>\n",
       "      <th></th>\n",
       "    </tr>\n",
       "  </thead>\n",
       "  <tbody>\n",
       "    <tr>\n",
       "      <th>1</th>\n",
       "      <td>2011-01-01</td>\n",
       "      <td>0</td>\n",
       "      <td>1</td>\n",
       "      <td>0</td>\n",
       "      <td>0</td>\n",
       "      <td>0</td>\n",
       "      <td>0.24</td>\n",
       "      <td>0.2879</td>\n",
       "      <td>0.81</td>\n",
       "      <td>0.0</td>\n",
       "      <td>16</td>\n",
       "      <td>Spring</td>\n",
       "      <td>Clear</td>\n",
       "      <td>Weekend-Saturday</td>\n",
       "      <td>Weekend</td>\n",
       "      <td>Saturday</td>\n",
       "      <td>Low Temp</td>\n",
       "    </tr>\n",
       "    <tr>\n",
       "      <th>2</th>\n",
       "      <td>2011-01-01</td>\n",
       "      <td>0</td>\n",
       "      <td>1</td>\n",
       "      <td>1</td>\n",
       "      <td>0</td>\n",
       "      <td>0</td>\n",
       "      <td>0.22</td>\n",
       "      <td>0.2727</td>\n",
       "      <td>0.80</td>\n",
       "      <td>0.0</td>\n",
       "      <td>40</td>\n",
       "      <td>Spring</td>\n",
       "      <td>Clear</td>\n",
       "      <td>Weekend-Saturday</td>\n",
       "      <td>Weekend</td>\n",
       "      <td>Saturday</td>\n",
       "      <td>Low Temp</td>\n",
       "    </tr>\n",
       "  </tbody>\n",
       "</table>\n",
       "</div>"
      ],
      "text/plain": [
       "            dteday  yr  mnth  hr  holiday  workingday  temp   atemp   hum  \\\n",
       "instant                                                                     \n",
       "1       2011-01-01   0     1   0        0           0  0.24  0.2879  0.81   \n",
       "2       2011-01-01   0     1   1        0           0  0.22  0.2727  0.80   \n",
       "\n",
       "         windspeed  cnt season_name     WC          day_type      day  \\\n",
       "instant                                                                 \n",
       "1              0.0   16      Spring  Clear  Weekend-Saturday  Weekend   \n",
       "2              0.0   40      Spring  Clear  Weekend-Saturday  Weekend   \n",
       "\n",
       "             type  temp_cat  \n",
       "instant                      \n",
       "1        Saturday  Low Temp  \n",
       "2        Saturday  Low Temp  "
      ]
     },
     "execution_count": 91,
     "metadata": {},
     "output_type": "execute_result"
    }
   ],
   "source": [
    "df_hour.head(2)"
   ]
  },
  {
   "cell_type": "markdown",
   "id": "ceb071bd",
   "metadata": {},
   "source": [
    "We have dropped 'atemp' since there is high correlation with temp. Our target variable is 'cnt'. \n",
    "\n",
    "We have seen before that hum and windspeed have weak correlation with cnt but the correlation is significant indicating that there linear relationship is significant. Hence, we are not dropping those variables.\n",
    "\n",
    "Hum and windspeed has weak negative correlation, thereofore, we are not dropping any of them.\n"
   ]
  },
  {
   "cell_type": "markdown",
   "id": "79ac2574",
   "metadata": {},
   "source": [
    "We will now check the VIF to detect the variables with high multicollinearity.\n",
    "\n",
    "Multicollinearity occurs when there are two or more independent variables in a multiple regression model, which have a high correlation among themselves. When some features are highly correlated, we might have difficulty in distinguishing between their individual effects on the dependent variable. Multicollinearity can be detected using various techniques, one such technique being the Variance Inflation Factor(VIF).\n",
    "\n",
    "In VIF method, we pick each feature and regress it against all of the other features. For each regression, the factor is calculated as :\n",
    "\n",
    "VIF=\\frac{1}{1-R^2}\n",
    "\n",
    "R-squared (or R2), assesses how strong the linear relationship is between two variables.\n",
    "R^2 = 1 - \\frac{RSS}{TSS}"
   ]
  },
  {
   "cell_type": "code",
   "execution_count": 92,
   "id": "c6799798",
   "metadata": {},
   "outputs": [
    {
     "data": {
      "text/plain": [
       "Index(['temp', 'atemp', 'hum', 'windspeed'], dtype='object')"
      ]
     },
     "execution_count": 92,
     "metadata": {},
     "output_type": "execute_result"
    }
   ],
   "source": [
    "df_hour.select_dtypes('float').columns"
   ]
  },
  {
   "cell_type": "code",
   "execution_count": 93,
   "id": "e07804f6",
   "metadata": {},
   "outputs": [],
   "source": [
    "v=df_hour[['temp', 'atemp', 'hum', 'windspeed']]"
   ]
  },
  {
   "cell_type": "code",
   "execution_count": 94,
   "id": "a0948fa4",
   "metadata": {},
   "outputs": [
    {
     "name": "stdout",
     "output_type": "stream",
     "text": [
      "     feature         VIF\n",
      "0       temp  316.369402\n",
      "1      atemp  341.187692\n",
      "2        hum    5.853368\n",
      "3  windspeed    2.711306\n"
     ]
    }
   ],
   "source": [
    "from statsmodels.stats.outliers_influence import variance_inflation_factor\n",
    "\n",
    "vif_data = pd.DataFrame()\n",
    "vif_data[\"feature\"] = v.columns\n",
    "  \n",
    "# calculating VIF for each feature\n",
    "vif_data[\"VIF\"] = [variance_inflation_factor(v.values, i)\n",
    "                          for i in range(len(v.columns))]\n",
    "  \n",
    "print(vif_data)"
   ]
  },
  {
   "cell_type": "markdown",
   "id": "6bd0f0f9",
   "metadata": {},
   "source": [
    "From VIF as well, we can understand that temp and atemp have very high values and cannot be used together. Therefore, we will frop atemp."
   ]
  },
  {
   "cell_type": "code",
   "execution_count": 95,
   "id": "a368f21f",
   "metadata": {},
   "outputs": [],
   "source": [
    "df_hour.drop(['dteday','holiday','workingday','atemp','day_type','temp_cat'],axis=1,inplace=True)\n",
    "#We have created variables for weathersit - WC, season-seaon_name, holiday-day, workingday-type. Hence, those variables are dropped"
   ]
  },
  {
   "cell_type": "code",
   "execution_count": 96,
   "id": "28a003dd",
   "metadata": {},
   "outputs": [],
   "source": [
    "df_hour=pd.get_dummies(df_hour)"
   ]
  },
  {
   "cell_type": "markdown",
   "id": "9054f72d",
   "metadata": {},
   "source": [
    "MULTIVARIATE REGRESSION"
   ]
  },
  {
   "cell_type": "code",
   "execution_count": 97,
   "id": "991fec50",
   "metadata": {},
   "outputs": [],
   "source": [
    "from sklearn.model_selection import train_test_split\n",
    "X=df_hour.drop('cnt',axis=1)\n",
    "y=df_hour['cnt']\n",
    "X_train,X_test,y_train,y_test=train_test_split(X,y,random_state=42)"
   ]
  },
  {
   "cell_type": "code",
   "execution_count": 98,
   "id": "89c41771",
   "metadata": {},
   "outputs": [
    {
     "name": "stdout",
     "output_type": "stream",
     "text": [
      "                            OLS Regression Results                            \n",
      "==============================================================================\n",
      "Dep. Variable:                    cnt   R-squared:                       0.399\n",
      "Model:                            OLS   Adj. R-squared:                  0.398\n",
      "Method:                 Least Squares   F-statistic:                     455.2\n",
      "Date:                Thu, 19 May 2022   Prob (F-statistic):               0.00\n",
      "Time:                        15:22:40   Log-Likelihood:                -83006.\n",
      "No. Observations:               13034   AIC:                         1.661e+05\n",
      "Df Residuals:                   13014   BIC:                         1.662e+05\n",
      "Df Model:                          19                                         \n",
      "Covariance Type:            nonrobust                                         \n",
      "======================================================================================\n",
      "                         coef    std err          t      P>|t|      [0.025      0.975]\n",
      "--------------------------------------------------------------------------------------\n",
      "yr                    80.8971      2.493     32.450      0.000      76.010      85.784\n",
      "mnth                   0.0131      0.664      0.020      0.984      -1.288       1.314\n",
      "hr                     7.5609      0.192     39.429      0.000       7.185       7.937\n",
      "temp                 349.0467     10.768     32.416      0.000     327.940     370.153\n",
      "hum                 -192.7484      8.005    -24.078      0.000    -208.440    -177.057\n",
      "windspeed             22.7111     10.851      2.093      0.036       1.441      43.981\n",
      "season_name_Fall     -24.6559      8.132     -3.032      0.002     -40.596      -8.716\n",
      "season_name_Spring   -20.4807      7.158     -2.861      0.004     -34.511      -6.450\n",
      "season_name_Summer     1.3305      7.361      0.181      0.857     -13.099      15.760\n",
      "season_name_Winter    45.1272      8.047      5.608      0.000      29.353      60.901\n",
      "WC_Clear              -4.8554     18.783     -0.259      0.796     -41.672      31.961\n",
      "WC_Heavy Rain         34.4372     81.414      0.423      0.672    -125.145     194.020\n",
      "WC_Light Snow        -31.0553     19.204     -1.617      0.106     -68.697       6.587\n",
      "WC_Mist                2.7947     18.877      0.148      0.882     -34.207      39.796\n",
      "day_Holiday          -18.0251     11.017     -1.636      0.102     -39.621       3.571\n",
      "day_Weekend            6.5004      8.905      0.730      0.465     -10.954      23.955\n",
      "day_Work              12.8458      9.656      1.330      0.183      -6.081      31.773\n",
      "type_Friday            1.6187      4.857      0.333      0.739      -7.901      11.139\n",
      "type_Monday           -4.0058      4.761     -0.841      0.400     -13.338       5.326\n",
      "type_Saturday          9.5655      4.999      1.914      0.056      -0.233      19.364\n",
      "type_Sunday           -3.0650      5.021     -0.610      0.542     -12.908       6.778\n",
      "type_Thursday         -3.1970      4.839     -0.661      0.509     -12.682       6.288\n",
      "type_Tuesday          -0.9305      4.927     -0.189      0.850     -10.587       8.726\n",
      "type_Wednesday         1.3353      4.867      0.274      0.784      -8.205      10.876\n",
      "==============================================================================\n",
      "Omnibus:                     2579.249   Durbin-Watson:                   1.995\n",
      "Prob(Omnibus):                  0.000   Jarque-Bera (JB):             5020.703\n",
      "Skew:                           1.205   Prob(JB):                         0.00\n",
      "Kurtosis:                       4.855   Cond. No.                     1.67e+17\n",
      "==============================================================================\n",
      "\n",
      "Notes:\n",
      "[1] Standard Errors assume that the covariance matrix of the errors is correctly specified.\n",
      "[2] The smallest eigenvalue is 1.02e-28. This might indicate that there are\n",
      "strong multicollinearity problems or that the design matrix is singular.\n"
     ]
    }
   ],
   "source": [
    "#X2 = sm.add_constant(X_train)\n",
    "est = sm.OLS(y_train, X_train)\n",
    "est2 = est.fit()\n",
    "print(est2.summary())"
   ]
  },
  {
   "cell_type": "markdown",
   "id": "d2ec44a0",
   "metadata": {},
   "source": [
    "From the above regression, we can see that many features have insignificant p values and hence those variables are not affecting the prediction of our dependent variable cnt."
   ]
  },
  {
   "cell_type": "code",
   "execution_count": 99,
   "id": "ec0dcb1e",
   "metadata": {},
   "outputs": [
    {
     "name": "stdout",
     "output_type": "stream",
     "text": [
      "139.45319700507864\n"
     ]
    }
   ],
   "source": [
    "y_pred=est2.predict(X_test)\n",
    "\n",
    "\n",
    "rmse_test = mean_squared_error(y_test, y_pred, squared=False)\n",
    "\n",
    "print(rmse_test)"
   ]
  },
  {
   "cell_type": "code",
   "execution_count": 100,
   "id": "cea9e3d7",
   "metadata": {},
   "outputs": [
    {
     "data": {
      "text/plain": [
       "Index(['yr', 'mnth', 'hr', 'temp', 'hum', 'windspeed', 'cnt',\n",
       "       'season_name_Fall', 'season_name_Spring', 'season_name_Summer',\n",
       "       'season_name_Winter', 'WC_Clear', 'WC_Heavy Rain', 'WC_Light Snow',\n",
       "       'WC_Mist', 'day_Holiday', 'day_Weekend', 'day_Work', 'type_Friday',\n",
       "       'type_Monday', 'type_Saturday', 'type_Sunday', 'type_Thursday',\n",
       "       'type_Tuesday', 'type_Wednesday'],\n",
       "      dtype='object')"
      ]
     },
     "execution_count": 100,
     "metadata": {},
     "output_type": "execute_result"
    }
   ],
   "source": [
    "df_hour.columns"
   ]
  },
  {
   "cell_type": "code",
   "execution_count": 101,
   "id": "f73f6506",
   "metadata": {},
   "outputs": [],
   "source": [
    "df_hour.drop(['WC_Clear', 'WC_Heavy Rain', 'WC_Light Snow',\n",
    "       'WC_Mist', 'day_Holiday', 'day_Weekend', 'day_Work', 'type_Friday',\n",
    "       'type_Monday', 'type_Saturday', 'type_Sunday', 'type_Thursday',\n",
    "       'type_Tuesday', 'type_Wednesday','mnth','season_name_Summer'],axis=1,inplace=True)"
   ]
  },
  {
   "cell_type": "code",
   "execution_count": 102,
   "id": "7a634600",
   "metadata": {},
   "outputs": [],
   "source": [
    "X=df_hour.drop('cnt',axis=1)\n",
    "y=df_hour['cnt']\n",
    "X_train,X_test,y_train,y_test=train_test_split(X,y,random_state=42)"
   ]
  },
  {
   "cell_type": "code",
   "execution_count": 103,
   "id": "68d2114f",
   "metadata": {},
   "outputs": [
    {
     "name": "stdout",
     "output_type": "stream",
     "text": [
      "                                 OLS Regression Results                                \n",
      "=======================================================================================\n",
      "Dep. Variable:                    cnt   R-squared (uncentered):                   0.711\n",
      "Model:                            OLS   Adj. R-squared (uncentered):              0.711\n",
      "Method:                 Least Squares   F-statistic:                              4014.\n",
      "Date:                Thu, 19 May 2022   Prob (F-statistic):                        0.00\n",
      "Time:                        15:22:40   Log-Likelihood:                         -83043.\n",
      "No. Observations:               13034   AIC:                                  1.661e+05\n",
      "Df Residuals:                   13026   BIC:                                  1.662e+05\n",
      "Df Model:                           8                                                  \n",
      "Covariance Type:            nonrobust                                                  \n",
      "======================================================================================\n",
      "                         coef    std err          t      P>|t|      [0.025      0.975]\n",
      "--------------------------------------------------------------------------------------\n",
      "yr                    81.8644      2.466     33.197      0.000      77.031      86.698\n",
      "hr                     7.5243      0.186     40.429      0.000       7.160       7.889\n",
      "temp                 361.8154      8.163     44.324      0.000     345.815     377.816\n",
      "hum                 -194.3773      5.056    -38.446      0.000    -204.288    -184.467\n",
      "windspeed             19.7847     10.058      1.967      0.049       0.069      39.501\n",
      "season_name_Fall     -26.3101      3.872     -6.795      0.000     -33.900     -18.721\n",
      "season_name_Spring   -17.6213      3.636     -4.846      0.000     -24.748     -10.494\n",
      "season_name_Winter    46.7610      3.467     13.488      0.000      39.966      53.556\n",
      "==============================================================================\n",
      "Omnibus:                     2583.180   Durbin-Watson:                   1.995\n",
      "Prob(Omnibus):                  0.000   Jarque-Bera (JB):             5054.614\n",
      "Skew:                           1.203   Prob(JB):                         0.00\n",
      "Kurtosis:                       4.875   Cond. No.                         120.\n",
      "==============================================================================\n",
      "\n",
      "Notes:\n",
      "[1] R² is computed without centering (uncentered) since the model does not contain a constant.\n",
      "[2] Standard Errors assume that the covariance matrix of the errors is correctly specified.\n"
     ]
    }
   ],
   "source": [
    "#X2 = sm.add_constant(X_train)\n",
    "est = sm.OLS(y_train, X_train)\n",
    "est2 = est.fit()\n",
    "print(est2.summary())"
   ]
  },
  {
   "cell_type": "markdown",
   "id": "d3e603cc",
   "metadata": {},
   "source": [
    "Coeffiecient of Determination is quite high in this case and we will keep this regression as our predicting model. All the features are significant as well. "
   ]
  },
  {
   "cell_type": "code",
   "execution_count": 104,
   "id": "cba96e21",
   "metadata": {},
   "outputs": [
    {
     "name": "stdout",
     "output_type": "stream",
     "text": [
      "139.9794612207561\n"
     ]
    }
   ],
   "source": [
    "y_pred=est2.predict(X_test)\n",
    "\n",
    "\n",
    "rmse_test = mean_squared_error(y_test, y_pred, squared=False)\n",
    "\n",
    "print(rmse_test)"
   ]
  },
  {
   "cell_type": "markdown",
   "id": "9c5baba2",
   "metadata": {},
   "source": [
    "RMSE value is slightly higher than the previous model, still this model would be better since we have all significant predictors."
   ]
  },
  {
   "cell_type": "code",
   "execution_count": null,
   "id": "239aa065",
   "metadata": {},
   "outputs": [],
   "source": []
  }
 ],
 "metadata": {
  "kernelspec": {
   "display_name": "Python 3",
   "language": "python",
   "name": "python3"
  },
  "language_info": {
   "codemirror_mode": {
    "name": "ipython",
    "version": 3
   },
   "file_extension": ".py",
   "mimetype": "text/x-python",
   "name": "python",
   "nbconvert_exporter": "python",
   "pygments_lexer": "ipython3",
   "version": "3.8.8"
  }
 },
 "nbformat": 4,
 "nbformat_minor": 5
}
