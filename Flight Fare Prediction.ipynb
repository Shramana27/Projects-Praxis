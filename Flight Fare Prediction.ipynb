{
 "cells": [
  {
   "cell_type": "code",
   "execution_count": 149,
   "id": "9c6a9b96",
   "metadata": {},
   "outputs": [],
   "source": [
    "import pandas as pd \n",
    "import numpy as np \n",
    "import seaborn as sns \n",
    "import matplotlib.pyplot as plt\n",
    "import warnings\n",
    "warnings.filterwarnings('ignore')\n"
   ]
  },
  {
   "cell_type": "code",
   "execution_count": 150,
   "id": "ef4c8d11",
   "metadata": {},
   "outputs": [
    {
     "data": {
      "text/html": [
       "<div>\n",
       "<style scoped>\n",
       "    .dataframe tbody tr th:only-of-type {\n",
       "        vertical-align: middle;\n",
       "    }\n",
       "\n",
       "    .dataframe tbody tr th {\n",
       "        vertical-align: top;\n",
       "    }\n",
       "\n",
       "    .dataframe thead th {\n",
       "        text-align: right;\n",
       "    }\n",
       "</style>\n",
       "<table border=\"1\" class=\"dataframe\">\n",
       "  <thead>\n",
       "    <tr style=\"text-align: right;\">\n",
       "      <th></th>\n",
       "      <th>Airline</th>\n",
       "      <th>Date_of_Journey</th>\n",
       "      <th>Source</th>\n",
       "      <th>Destination</th>\n",
       "      <th>Route</th>\n",
       "      <th>Dep_Time</th>\n",
       "      <th>Arrival_Time</th>\n",
       "      <th>Duration</th>\n",
       "      <th>Total_Stops</th>\n",
       "      <th>Additional_Info</th>\n",
       "      <th>Price</th>\n",
       "    </tr>\n",
       "  </thead>\n",
       "  <tbody>\n",
       "    <tr>\n",
       "      <th>0</th>\n",
       "      <td>IndiGo</td>\n",
       "      <td>2019-03-24</td>\n",
       "      <td>Banglore</td>\n",
       "      <td>New Delhi</td>\n",
       "      <td>BLR → DEL</td>\n",
       "      <td>22:20</td>\n",
       "      <td>01:10 22 Mar</td>\n",
       "      <td>2h 50m</td>\n",
       "      <td>non-stop</td>\n",
       "      <td>No info</td>\n",
       "      <td>3897</td>\n",
       "    </tr>\n",
       "    <tr>\n",
       "      <th>1</th>\n",
       "      <td>Air India</td>\n",
       "      <td>2019-01-05</td>\n",
       "      <td>Kolkata</td>\n",
       "      <td>Banglore</td>\n",
       "      <td>CCU → IXR → BBI → BLR</td>\n",
       "      <td>05:50</td>\n",
       "      <td>13:15</td>\n",
       "      <td>7h 25m</td>\n",
       "      <td>2 stops</td>\n",
       "      <td>No info</td>\n",
       "      <td>7662</td>\n",
       "    </tr>\n",
       "    <tr>\n",
       "      <th>2</th>\n",
       "      <td>Jet Airways</td>\n",
       "      <td>2019-09-06</td>\n",
       "      <td>Delhi</td>\n",
       "      <td>Cochin</td>\n",
       "      <td>DEL → LKO → BOM → COK</td>\n",
       "      <td>09:25</td>\n",
       "      <td>04:25 10 Jun</td>\n",
       "      <td>19h</td>\n",
       "      <td>2 stops</td>\n",
       "      <td>No info</td>\n",
       "      <td>13882</td>\n",
       "    </tr>\n",
       "    <tr>\n",
       "      <th>3</th>\n",
       "      <td>IndiGo</td>\n",
       "      <td>2019-12-05</td>\n",
       "      <td>Kolkata</td>\n",
       "      <td>Banglore</td>\n",
       "      <td>CCU → NAG → BLR</td>\n",
       "      <td>18:05</td>\n",
       "      <td>23:30</td>\n",
       "      <td>5h 25m</td>\n",
       "      <td>1 stop</td>\n",
       "      <td>No info</td>\n",
       "      <td>6218</td>\n",
       "    </tr>\n",
       "    <tr>\n",
       "      <th>4</th>\n",
       "      <td>IndiGo</td>\n",
       "      <td>2019-01-03</td>\n",
       "      <td>Banglore</td>\n",
       "      <td>New Delhi</td>\n",
       "      <td>BLR → NAG → DEL</td>\n",
       "      <td>16:50</td>\n",
       "      <td>21:35</td>\n",
       "      <td>4h 45m</td>\n",
       "      <td>1 stop</td>\n",
       "      <td>No info</td>\n",
       "      <td>13302</td>\n",
       "    </tr>\n",
       "  </tbody>\n",
       "</table>\n",
       "</div>"
      ],
      "text/plain": [
       "       Airline Date_of_Journey    Source Destination                  Route  \\\n",
       "0       IndiGo      2019-03-24  Banglore   New Delhi              BLR → DEL   \n",
       "1    Air India      2019-01-05   Kolkata    Banglore  CCU → IXR → BBI → BLR   \n",
       "2  Jet Airways      2019-09-06     Delhi      Cochin  DEL → LKO → BOM → COK   \n",
       "3       IndiGo      2019-12-05   Kolkata    Banglore        CCU → NAG → BLR   \n",
       "4       IndiGo      2019-01-03  Banglore   New Delhi        BLR → NAG → DEL   \n",
       "\n",
       "  Dep_Time  Arrival_Time Duration Total_Stops Additional_Info  Price  \n",
       "0    22:20  01:10 22 Mar   2h 50m    non-stop         No info   3897  \n",
       "1    05:50         13:15   7h 25m     2 stops         No info   7662  \n",
       "2    09:25  04:25 10 Jun      19h     2 stops         No info  13882  \n",
       "3    18:05         23:30   5h 25m      1 stop         No info   6218  \n",
       "4    16:50         21:35   4h 45m      1 stop         No info  13302  "
      ]
     },
     "execution_count": 150,
     "metadata": {},
     "output_type": "execute_result"
    }
   ],
   "source": [
    "df1=pd.read_excel('Data_Train.xlsx',parse_dates=['Date_of_Journey'])\n",
    "df1.head()"
   ]
  },
  {
   "cell_type": "code",
   "execution_count": 151,
   "id": "86324673",
   "metadata": {},
   "outputs": [],
   "source": [
    "df=df1.copy()"
   ]
  },
  {
   "cell_type": "code",
   "execution_count": 152,
   "id": "bab3b587",
   "metadata": {},
   "outputs": [
    {
     "data": {
      "text/plain": [
       "(10683, 11)"
      ]
     },
     "execution_count": 152,
     "metadata": {},
     "output_type": "execute_result"
    }
   ],
   "source": [
    "df.shape"
   ]
  },
  {
   "cell_type": "code",
   "execution_count": 153,
   "id": "2a993d6f",
   "metadata": {},
   "outputs": [
    {
     "name": "stdout",
     "output_type": "stream",
     "text": [
      "<class 'pandas.core.frame.DataFrame'>\n",
      "RangeIndex: 10683 entries, 0 to 10682\n",
      "Data columns (total 11 columns):\n",
      " #   Column           Non-Null Count  Dtype         \n",
      "---  ------           --------------  -----         \n",
      " 0   Airline          10683 non-null  object        \n",
      " 1   Date_of_Journey  10683 non-null  datetime64[ns]\n",
      " 2   Source           10683 non-null  object        \n",
      " 3   Destination      10683 non-null  object        \n",
      " 4   Route            10682 non-null  object        \n",
      " 5   Dep_Time         10683 non-null  object        \n",
      " 6   Arrival_Time     10683 non-null  object        \n",
      " 7   Duration         10683 non-null  object        \n",
      " 8   Total_Stops      10682 non-null  object        \n",
      " 9   Additional_Info  10683 non-null  object        \n",
      " 10  Price            10683 non-null  int64         \n",
      "dtypes: datetime64[ns](1), int64(1), object(9)\n",
      "memory usage: 918.2+ KB\n"
     ]
    }
   ],
   "source": [
    "df.info()"
   ]
  },
  {
   "cell_type": "code",
   "execution_count": 154,
   "id": "ec949ae5",
   "metadata": {},
   "outputs": [
    {
     "data": {
      "text/html": [
       "<div>\n",
       "<style scoped>\n",
       "    .dataframe tbody tr th:only-of-type {\n",
       "        vertical-align: middle;\n",
       "    }\n",
       "\n",
       "    .dataframe tbody tr th {\n",
       "        vertical-align: top;\n",
       "    }\n",
       "\n",
       "    .dataframe thead th {\n",
       "        text-align: right;\n",
       "    }\n",
       "</style>\n",
       "<table border=\"1\" class=\"dataframe\">\n",
       "  <thead>\n",
       "    <tr style=\"text-align: right;\">\n",
       "      <th></th>\n",
       "      <th>Price</th>\n",
       "    </tr>\n",
       "  </thead>\n",
       "  <tbody>\n",
       "    <tr>\n",
       "      <th>count</th>\n",
       "      <td>10683.000000</td>\n",
       "    </tr>\n",
       "    <tr>\n",
       "      <th>mean</th>\n",
       "      <td>9087.064121</td>\n",
       "    </tr>\n",
       "    <tr>\n",
       "      <th>std</th>\n",
       "      <td>4611.359167</td>\n",
       "    </tr>\n",
       "    <tr>\n",
       "      <th>min</th>\n",
       "      <td>1759.000000</td>\n",
       "    </tr>\n",
       "    <tr>\n",
       "      <th>25%</th>\n",
       "      <td>5277.000000</td>\n",
       "    </tr>\n",
       "    <tr>\n",
       "      <th>50%</th>\n",
       "      <td>8372.000000</td>\n",
       "    </tr>\n",
       "    <tr>\n",
       "      <th>75%</th>\n",
       "      <td>12373.000000</td>\n",
       "    </tr>\n",
       "    <tr>\n",
       "      <th>max</th>\n",
       "      <td>79512.000000</td>\n",
       "    </tr>\n",
       "  </tbody>\n",
       "</table>\n",
       "</div>"
      ],
      "text/plain": [
       "              Price\n",
       "count  10683.000000\n",
       "mean    9087.064121\n",
       "std     4611.359167\n",
       "min     1759.000000\n",
       "25%     5277.000000\n",
       "50%     8372.000000\n",
       "75%    12373.000000\n",
       "max    79512.000000"
      ]
     },
     "execution_count": 154,
     "metadata": {},
     "output_type": "execute_result"
    }
   ],
   "source": [
    "df.describe()"
   ]
  },
  {
   "cell_type": "markdown",
   "id": "7437e783",
   "metadata": {},
   "source": [
    "# Missing values removal"
   ]
  },
  {
   "cell_type": "code",
   "execution_count": 155,
   "id": "50dec625",
   "metadata": {},
   "outputs": [
    {
     "data": {
      "text/plain": [
       "Airline            0\n",
       "Date_of_Journey    0\n",
       "Source             0\n",
       "Destination        0\n",
       "Route              1\n",
       "Dep_Time           0\n",
       "Arrival_Time       0\n",
       "Duration           0\n",
       "Total_Stops        1\n",
       "Additional_Info    0\n",
       "Price              0\n",
       "dtype: int64"
      ]
     },
     "execution_count": 155,
     "metadata": {},
     "output_type": "execute_result"
    }
   ],
   "source": [
    "missing_sum=df.isnull().sum()\n",
    "missing_sum"
   ]
  },
  {
   "cell_type": "code",
   "execution_count": 156,
   "id": "655b3c57",
   "metadata": {},
   "outputs": [
    {
     "data": {
      "text/plain": [
       "0.018721332958906673"
      ]
     },
     "execution_count": 156,
     "metadata": {},
     "output_type": "execute_result"
    }
   ],
   "source": [
    "(missing_sum.sum()/df.shape[0])*100"
   ]
  },
  {
   "cell_type": "markdown",
   "id": "6e91233d",
   "metadata": {},
   "source": [
    "Percentage of missing values is less than 5%. So we can remove them."
   ]
  },
  {
   "cell_type": "code",
   "execution_count": 157,
   "id": "0835e3cc",
   "metadata": {},
   "outputs": [],
   "source": [
    "df.dropna(inplace=True)"
   ]
  },
  {
   "cell_type": "markdown",
   "id": "51fe290a",
   "metadata": {},
   "source": [
    "Checking whether there are any duplicate values"
   ]
  },
  {
   "cell_type": "code",
   "execution_count": 158,
   "id": "823d1dea",
   "metadata": {},
   "outputs": [
    {
     "data": {
      "text/html": [
       "<div>\n",
       "<style scoped>\n",
       "    .dataframe tbody tr th:only-of-type {\n",
       "        vertical-align: middle;\n",
       "    }\n",
       "\n",
       "    .dataframe tbody tr th {\n",
       "        vertical-align: top;\n",
       "    }\n",
       "\n",
       "    .dataframe thead th {\n",
       "        text-align: right;\n",
       "    }\n",
       "</style>\n",
       "<table border=\"1\" class=\"dataframe\">\n",
       "  <thead>\n",
       "    <tr style=\"text-align: right;\">\n",
       "      <th></th>\n",
       "      <th>Airline</th>\n",
       "      <th>Date_of_Journey</th>\n",
       "      <th>Source</th>\n",
       "      <th>Destination</th>\n",
       "      <th>Route</th>\n",
       "      <th>Dep_Time</th>\n",
       "      <th>Arrival_Time</th>\n",
       "      <th>Duration</th>\n",
       "      <th>Total_Stops</th>\n",
       "      <th>Additional_Info</th>\n",
       "      <th>Price</th>\n",
       "    </tr>\n",
       "  </thead>\n",
       "  <tbody>\n",
       "    <tr>\n",
       "      <th>683</th>\n",
       "      <td>Jet Airways</td>\n",
       "      <td>2019-01-06</td>\n",
       "      <td>Delhi</td>\n",
       "      <td>Cochin</td>\n",
       "      <td>DEL → NAG → BOM → COK</td>\n",
       "      <td>14:35</td>\n",
       "      <td>04:25 02 Jun</td>\n",
       "      <td>13h 50m</td>\n",
       "      <td>2 stops</td>\n",
       "      <td>No info</td>\n",
       "      <td>13376</td>\n",
       "    </tr>\n",
       "    <tr>\n",
       "      <th>1061</th>\n",
       "      <td>Air India</td>\n",
       "      <td>2019-05-21</td>\n",
       "      <td>Delhi</td>\n",
       "      <td>Cochin</td>\n",
       "      <td>DEL → GOI → BOM → COK</td>\n",
       "      <td>22:00</td>\n",
       "      <td>19:15 22 May</td>\n",
       "      <td>21h 15m</td>\n",
       "      <td>2 stops</td>\n",
       "      <td>No info</td>\n",
       "      <td>10231</td>\n",
       "    </tr>\n",
       "    <tr>\n",
       "      <th>1348</th>\n",
       "      <td>Air India</td>\n",
       "      <td>2019-05-18</td>\n",
       "      <td>Delhi</td>\n",
       "      <td>Cochin</td>\n",
       "      <td>DEL → HYD → BOM → COK</td>\n",
       "      <td>17:15</td>\n",
       "      <td>19:15 19 May</td>\n",
       "      <td>26h</td>\n",
       "      <td>2 stops</td>\n",
       "      <td>No info</td>\n",
       "      <td>12392</td>\n",
       "    </tr>\n",
       "    <tr>\n",
       "      <th>1418</th>\n",
       "      <td>Jet Airways</td>\n",
       "      <td>2019-06-06</td>\n",
       "      <td>Delhi</td>\n",
       "      <td>Cochin</td>\n",
       "      <td>DEL → JAI → BOM → COK</td>\n",
       "      <td>05:30</td>\n",
       "      <td>04:25 07 Jun</td>\n",
       "      <td>22h 55m</td>\n",
       "      <td>2 stops</td>\n",
       "      <td>In-flight meal not included</td>\n",
       "      <td>10368</td>\n",
       "    </tr>\n",
       "    <tr>\n",
       "      <th>1674</th>\n",
       "      <td>IndiGo</td>\n",
       "      <td>2019-03-24</td>\n",
       "      <td>Banglore</td>\n",
       "      <td>New Delhi</td>\n",
       "      <td>BLR → DEL</td>\n",
       "      <td>18:25</td>\n",
       "      <td>21:20</td>\n",
       "      <td>2h 55m</td>\n",
       "      <td>non-stop</td>\n",
       "      <td>No info</td>\n",
       "      <td>7303</td>\n",
       "    </tr>\n",
       "    <tr>\n",
       "      <th>...</th>\n",
       "      <td>...</td>\n",
       "      <td>...</td>\n",
       "      <td>...</td>\n",
       "      <td>...</td>\n",
       "      <td>...</td>\n",
       "      <td>...</td>\n",
       "      <td>...</td>\n",
       "      <td>...</td>\n",
       "      <td>...</td>\n",
       "      <td>...</td>\n",
       "      <td>...</td>\n",
       "    </tr>\n",
       "    <tr>\n",
       "      <th>10594</th>\n",
       "      <td>Jet Airways</td>\n",
       "      <td>2019-06-27</td>\n",
       "      <td>Delhi</td>\n",
       "      <td>Cochin</td>\n",
       "      <td>DEL → AMD → BOM → COK</td>\n",
       "      <td>23:05</td>\n",
       "      <td>12:35 28 Jun</td>\n",
       "      <td>13h 30m</td>\n",
       "      <td>2 stops</td>\n",
       "      <td>No info</td>\n",
       "      <td>12819</td>\n",
       "    </tr>\n",
       "    <tr>\n",
       "      <th>10616</th>\n",
       "      <td>Jet Airways</td>\n",
       "      <td>2019-01-06</td>\n",
       "      <td>Delhi</td>\n",
       "      <td>Cochin</td>\n",
       "      <td>DEL → JAI → BOM → COK</td>\n",
       "      <td>09:40</td>\n",
       "      <td>12:35 02 Jun</td>\n",
       "      <td>26h 55m</td>\n",
       "      <td>2 stops</td>\n",
       "      <td>No info</td>\n",
       "      <td>13014</td>\n",
       "    </tr>\n",
       "    <tr>\n",
       "      <th>10634</th>\n",
       "      <td>Jet Airways</td>\n",
       "      <td>2019-06-06</td>\n",
       "      <td>Delhi</td>\n",
       "      <td>Cochin</td>\n",
       "      <td>DEL → JAI → BOM → COK</td>\n",
       "      <td>09:40</td>\n",
       "      <td>12:35 07 Jun</td>\n",
       "      <td>26h 55m</td>\n",
       "      <td>2 stops</td>\n",
       "      <td>In-flight meal not included</td>\n",
       "      <td>11733</td>\n",
       "    </tr>\n",
       "    <tr>\n",
       "      <th>10672</th>\n",
       "      <td>Jet Airways</td>\n",
       "      <td>2019-06-27</td>\n",
       "      <td>Delhi</td>\n",
       "      <td>Cochin</td>\n",
       "      <td>DEL → AMD → BOM → COK</td>\n",
       "      <td>23:05</td>\n",
       "      <td>19:00 28 Jun</td>\n",
       "      <td>19h 55m</td>\n",
       "      <td>2 stops</td>\n",
       "      <td>In-flight meal not included</td>\n",
       "      <td>11150</td>\n",
       "    </tr>\n",
       "    <tr>\n",
       "      <th>10673</th>\n",
       "      <td>Jet Airways</td>\n",
       "      <td>2019-05-27</td>\n",
       "      <td>Delhi</td>\n",
       "      <td>Cochin</td>\n",
       "      <td>DEL → AMD → BOM → COK</td>\n",
       "      <td>13:25</td>\n",
       "      <td>04:25 28 May</td>\n",
       "      <td>15h</td>\n",
       "      <td>2 stops</td>\n",
       "      <td>No info</td>\n",
       "      <td>16704</td>\n",
       "    </tr>\n",
       "  </tbody>\n",
       "</table>\n",
       "<p>220 rows × 11 columns</p>\n",
       "</div>"
      ],
      "text/plain": [
       "           Airline Date_of_Journey    Source Destination  \\\n",
       "683    Jet Airways      2019-01-06     Delhi      Cochin   \n",
       "1061     Air India      2019-05-21     Delhi      Cochin   \n",
       "1348     Air India      2019-05-18     Delhi      Cochin   \n",
       "1418   Jet Airways      2019-06-06     Delhi      Cochin   \n",
       "1674        IndiGo      2019-03-24  Banglore   New Delhi   \n",
       "...            ...             ...       ...         ...   \n",
       "10594  Jet Airways      2019-06-27     Delhi      Cochin   \n",
       "10616  Jet Airways      2019-01-06     Delhi      Cochin   \n",
       "10634  Jet Airways      2019-06-06     Delhi      Cochin   \n",
       "10672  Jet Airways      2019-06-27     Delhi      Cochin   \n",
       "10673  Jet Airways      2019-05-27     Delhi      Cochin   \n",
       "\n",
       "                       Route Dep_Time  Arrival_Time Duration Total_Stops  \\\n",
       "683    DEL → NAG → BOM → COK    14:35  04:25 02 Jun  13h 50m     2 stops   \n",
       "1061   DEL → GOI → BOM → COK    22:00  19:15 22 May  21h 15m     2 stops   \n",
       "1348   DEL → HYD → BOM → COK    17:15  19:15 19 May      26h     2 stops   \n",
       "1418   DEL → JAI → BOM → COK    05:30  04:25 07 Jun  22h 55m     2 stops   \n",
       "1674               BLR → DEL    18:25         21:20   2h 55m    non-stop   \n",
       "...                      ...      ...           ...      ...         ...   \n",
       "10594  DEL → AMD → BOM → COK    23:05  12:35 28 Jun  13h 30m     2 stops   \n",
       "10616  DEL → JAI → BOM → COK    09:40  12:35 02 Jun  26h 55m     2 stops   \n",
       "10634  DEL → JAI → BOM → COK    09:40  12:35 07 Jun  26h 55m     2 stops   \n",
       "10672  DEL → AMD → BOM → COK    23:05  19:00 28 Jun  19h 55m     2 stops   \n",
       "10673  DEL → AMD → BOM → COK    13:25  04:25 28 May      15h     2 stops   \n",
       "\n",
       "                   Additional_Info  Price  \n",
       "683                        No info  13376  \n",
       "1061                       No info  10231  \n",
       "1348                       No info  12392  \n",
       "1418   In-flight meal not included  10368  \n",
       "1674                       No info   7303  \n",
       "...                            ...    ...  \n",
       "10594                      No info  12819  \n",
       "10616                      No info  13014  \n",
       "10634  In-flight meal not included  11733  \n",
       "10672  In-flight meal not included  11150  \n",
       "10673                      No info  16704  \n",
       "\n",
       "[220 rows x 11 columns]"
      ]
     },
     "execution_count": 158,
     "metadata": {},
     "output_type": "execute_result"
    }
   ],
   "source": [
    "df[df.duplicated()]"
   ]
  },
  {
   "cell_type": "markdown",
   "id": "6c4f5e44",
   "metadata": {},
   "source": [
    "These are same flights on different dates, we can drop them, but many a times flight fare varies from weekdays to weekends or on different days of a week, therefore, its better to keep them."
   ]
  },
  {
   "cell_type": "code",
   "execution_count": 159,
   "id": "a5c71377",
   "metadata": {},
   "outputs": [],
   "source": [
    "def change_into_datetime(col):\n",
    "    df[col]=pd.to_datetime(df[col])\n",
    "    df[col]=pd.to_datetime(df[col])"
   ]
  },
  {
   "cell_type": "code",
   "execution_count": 160,
   "id": "1fa9385e",
   "metadata": {},
   "outputs": [],
   "source": [
    "for i in ['Dep_Time', 'Arrival_Time']:\n",
    "    change_into_datetime(i)"
   ]
  },
  {
   "cell_type": "code",
   "execution_count": 161,
   "id": "131a26d5",
   "metadata": {},
   "outputs": [
    {
     "name": "stdout",
     "output_type": "stream",
     "text": [
      "<class 'pandas.core.frame.DataFrame'>\n",
      "Int64Index: 10682 entries, 0 to 10682\n",
      "Data columns (total 11 columns):\n",
      " #   Column           Non-Null Count  Dtype         \n",
      "---  ------           --------------  -----         \n",
      " 0   Airline          10682 non-null  object        \n",
      " 1   Date_of_Journey  10682 non-null  datetime64[ns]\n",
      " 2   Source           10682 non-null  object        \n",
      " 3   Destination      10682 non-null  object        \n",
      " 4   Route            10682 non-null  object        \n",
      " 5   Dep_Time         10682 non-null  datetime64[ns]\n",
      " 6   Arrival_Time     10682 non-null  datetime64[ns]\n",
      " 7   Duration         10682 non-null  object        \n",
      " 8   Total_Stops      10682 non-null  object        \n",
      " 9   Additional_Info  10682 non-null  object        \n",
      " 10  Price            10682 non-null  int64         \n",
      "dtypes: datetime64[ns](3), int64(1), object(7)\n",
      "memory usage: 1001.4+ KB\n"
     ]
    }
   ],
   "source": [
    "df.info()"
   ]
  },
  {
   "cell_type": "code",
   "execution_count": 162,
   "id": "5c3f3f5c",
   "metadata": {},
   "outputs": [
    {
     "data": {
      "text/html": [
       "<div>\n",
       "<style scoped>\n",
       "    .dataframe tbody tr th:only-of-type {\n",
       "        vertical-align: middle;\n",
       "    }\n",
       "\n",
       "    .dataframe tbody tr th {\n",
       "        vertical-align: top;\n",
       "    }\n",
       "\n",
       "    .dataframe thead th {\n",
       "        text-align: right;\n",
       "    }\n",
       "</style>\n",
       "<table border=\"1\" class=\"dataframe\">\n",
       "  <thead>\n",
       "    <tr style=\"text-align: right;\">\n",
       "      <th></th>\n",
       "      <th>Airline</th>\n",
       "      <th>Date_of_Journey</th>\n",
       "      <th>Source</th>\n",
       "      <th>Destination</th>\n",
       "      <th>Route</th>\n",
       "      <th>Dep_Time</th>\n",
       "      <th>Arrival_Time</th>\n",
       "      <th>Duration</th>\n",
       "      <th>Total_Stops</th>\n",
       "      <th>Additional_Info</th>\n",
       "      <th>Price</th>\n",
       "    </tr>\n",
       "  </thead>\n",
       "  <tbody>\n",
       "    <tr>\n",
       "      <th>2501</th>\n",
       "      <td>IndiGo</td>\n",
       "      <td>2019-03-15</td>\n",
       "      <td>Chennai</td>\n",
       "      <td>Kolkata</td>\n",
       "      <td>MAA → CCU</td>\n",
       "      <td>2022-06-06 19:35:00</td>\n",
       "      <td>2022-06-06 21:55:00</td>\n",
       "      <td>2h 20m</td>\n",
       "      <td>non-stop</td>\n",
       "      <td>No info</td>\n",
       "      <td>6297</td>\n",
       "    </tr>\n",
       "    <tr>\n",
       "      <th>1804</th>\n",
       "      <td>Air India</td>\n",
       "      <td>2019-06-03</td>\n",
       "      <td>Delhi</td>\n",
       "      <td>Cochin</td>\n",
       "      <td>DEL → AMD → BOM → COK</td>\n",
       "      <td>2022-06-06 05:00:00</td>\n",
       "      <td>2022-03-07 19:15:00</td>\n",
       "      <td>38h 15m</td>\n",
       "      <td>2 stops</td>\n",
       "      <td>No info</td>\n",
       "      <td>10283</td>\n",
       "    </tr>\n",
       "  </tbody>\n",
       "</table>\n",
       "</div>"
      ],
      "text/plain": [
       "        Airline Date_of_Journey   Source Destination                  Route  \\\n",
       "2501     IndiGo      2019-03-15  Chennai     Kolkata              MAA → CCU   \n",
       "1804  Air India      2019-06-03    Delhi      Cochin  DEL → AMD → BOM → COK   \n",
       "\n",
       "                Dep_Time        Arrival_Time Duration Total_Stops  \\\n",
       "2501 2022-06-06 19:35:00 2022-06-06 21:55:00   2h 20m    non-stop   \n",
       "1804 2022-06-06 05:00:00 2022-03-07 19:15:00  38h 15m     2 stops   \n",
       "\n",
       "     Additional_Info  Price  \n",
       "2501         No info   6297  \n",
       "1804         No info  10283  "
      ]
     },
     "execution_count": 162,
     "metadata": {},
     "output_type": "execute_result"
    }
   ],
   "source": [
    "df.sample(2)"
   ]
  },
  {
   "cell_type": "markdown",
   "id": "65c2c930",
   "metadata": {},
   "source": [
    "# Feature Engineering"
   ]
  },
  {
   "cell_type": "code",
   "execution_count": 163,
   "id": "f477bd1e",
   "metadata": {},
   "outputs": [],
   "source": [
    "df['journey_day']=df['Date_of_Journey'].dt.day\n",
    "df['journey_month']=df['Date_of_Journey'].dt.month\n",
    "df['journey_year']=df['Date_of_Journey'].dt.year"
   ]
  },
  {
   "cell_type": "code",
   "execution_count": 164,
   "id": "3ab59bfb",
   "metadata": {},
   "outputs": [],
   "source": [
    "df['day_of_week']=df['Date_of_Journey'].dt.day_name()"
   ]
  },
  {
   "cell_type": "code",
   "execution_count": 165,
   "id": "817b58ad",
   "metadata": {},
   "outputs": [
    {
     "data": {
      "text/html": [
       "<div>\n",
       "<style scoped>\n",
       "    .dataframe tbody tr th:only-of-type {\n",
       "        vertical-align: middle;\n",
       "    }\n",
       "\n",
       "    .dataframe tbody tr th {\n",
       "        vertical-align: top;\n",
       "    }\n",
       "\n",
       "    .dataframe thead th {\n",
       "        text-align: right;\n",
       "    }\n",
       "</style>\n",
       "<table border=\"1\" class=\"dataframe\">\n",
       "  <thead>\n",
       "    <tr style=\"text-align: right;\">\n",
       "      <th></th>\n",
       "      <th>Airline</th>\n",
       "      <th>Source</th>\n",
       "      <th>Destination</th>\n",
       "      <th>Route</th>\n",
       "      <th>Dep_Time</th>\n",
       "      <th>Arrival_Time</th>\n",
       "      <th>Duration</th>\n",
       "      <th>Total_Stops</th>\n",
       "      <th>Additional_Info</th>\n",
       "      <th>Price</th>\n",
       "      <th>journey_day</th>\n",
       "      <th>journey_month</th>\n",
       "      <th>journey_year</th>\n",
       "      <th>day_of_week</th>\n",
       "    </tr>\n",
       "  </thead>\n",
       "  <tbody>\n",
       "    <tr>\n",
       "      <th>0</th>\n",
       "      <td>IndiGo</td>\n",
       "      <td>Banglore</td>\n",
       "      <td>New Delhi</td>\n",
       "      <td>BLR → DEL</td>\n",
       "      <td>2022-06-06 22:20:00</td>\n",
       "      <td>2022-03-22 01:10:00</td>\n",
       "      <td>2h 50m</td>\n",
       "      <td>non-stop</td>\n",
       "      <td>No info</td>\n",
       "      <td>3897</td>\n",
       "      <td>24</td>\n",
       "      <td>3</td>\n",
       "      <td>2019</td>\n",
       "      <td>Sunday</td>\n",
       "    </tr>\n",
       "    <tr>\n",
       "      <th>1</th>\n",
       "      <td>Air India</td>\n",
       "      <td>Kolkata</td>\n",
       "      <td>Banglore</td>\n",
       "      <td>CCU → IXR → BBI → BLR</td>\n",
       "      <td>2022-06-06 05:50:00</td>\n",
       "      <td>2022-06-06 13:15:00</td>\n",
       "      <td>7h 25m</td>\n",
       "      <td>2 stops</td>\n",
       "      <td>No info</td>\n",
       "      <td>7662</td>\n",
       "      <td>5</td>\n",
       "      <td>1</td>\n",
       "      <td>2019</td>\n",
       "      <td>Saturday</td>\n",
       "    </tr>\n",
       "  </tbody>\n",
       "</table>\n",
       "</div>"
      ],
      "text/plain": [
       "     Airline    Source Destination                  Route            Dep_Time  \\\n",
       "0     IndiGo  Banglore   New Delhi              BLR → DEL 2022-06-06 22:20:00   \n",
       "1  Air India   Kolkata    Banglore  CCU → IXR → BBI → BLR 2022-06-06 05:50:00   \n",
       "\n",
       "         Arrival_Time Duration Total_Stops Additional_Info  Price  \\\n",
       "0 2022-03-22 01:10:00   2h 50m    non-stop         No info   3897   \n",
       "1 2022-06-06 13:15:00   7h 25m     2 stops         No info   7662   \n",
       "\n",
       "   journey_day  journey_month  journey_year day_of_week  \n",
       "0           24              3          2019      Sunday  \n",
       "1            5              1          2019    Saturday  "
      ]
     },
     "execution_count": 165,
     "metadata": {},
     "output_type": "execute_result"
    }
   ],
   "source": [
    "df.drop('Date_of_Journey', axis=1, inplace=True)\n",
    "df.head(2)"
   ]
  },
  {
   "cell_type": "code",
   "execution_count": 166,
   "id": "573c67db",
   "metadata": {},
   "outputs": [],
   "source": [
    "df['dep_time_hr']=df['Dep_Time'].dt.hour\n",
    "df['dep_time_min']=df['Dep_Time'].dt.minute"
   ]
  },
  {
   "cell_type": "code",
   "execution_count": 167,
   "id": "0cf263f8",
   "metadata": {},
   "outputs": [],
   "source": [
    "df['arr_time_hr']=df['Arrival_Time'].dt.hour\n",
    "df['arr_time_min']=df['Arrival_Time'].dt.minute"
   ]
  },
  {
   "cell_type": "code",
   "execution_count": 168,
   "id": "0b5e4ac0",
   "metadata": {},
   "outputs": [],
   "source": [
    "df.drop('Dep_Time',axis=1,inplace=True)"
   ]
  },
  {
   "cell_type": "code",
   "execution_count": 169,
   "id": "385c74bb",
   "metadata": {},
   "outputs": [],
   "source": [
    "df.drop('Arrival_Time',axis=1,inplace=True)"
   ]
  },
  {
   "cell_type": "code",
   "execution_count": 170,
   "id": "1d68927c",
   "metadata": {},
   "outputs": [
    {
     "data": {
      "text/html": [
       "<div>\n",
       "<style scoped>\n",
       "    .dataframe tbody tr th:only-of-type {\n",
       "        vertical-align: middle;\n",
       "    }\n",
       "\n",
       "    .dataframe tbody tr th {\n",
       "        vertical-align: top;\n",
       "    }\n",
       "\n",
       "    .dataframe thead th {\n",
       "        text-align: right;\n",
       "    }\n",
       "</style>\n",
       "<table border=\"1\" class=\"dataframe\">\n",
       "  <thead>\n",
       "    <tr style=\"text-align: right;\">\n",
       "      <th></th>\n",
       "      <th>Airline</th>\n",
       "      <th>Source</th>\n",
       "      <th>Destination</th>\n",
       "      <th>Route</th>\n",
       "      <th>Duration</th>\n",
       "      <th>Total_Stops</th>\n",
       "      <th>Additional_Info</th>\n",
       "      <th>Price</th>\n",
       "      <th>journey_day</th>\n",
       "      <th>journey_month</th>\n",
       "      <th>journey_year</th>\n",
       "      <th>day_of_week</th>\n",
       "      <th>dep_time_hr</th>\n",
       "      <th>dep_time_min</th>\n",
       "      <th>arr_time_hr</th>\n",
       "      <th>arr_time_min</th>\n",
       "    </tr>\n",
       "  </thead>\n",
       "  <tbody>\n",
       "    <tr>\n",
       "      <th>6509</th>\n",
       "      <td>GoAir</td>\n",
       "      <td>Banglore</td>\n",
       "      <td>New Delhi</td>\n",
       "      <td>BLR → GOI → DEL</td>\n",
       "      <td>4h 25m</td>\n",
       "      <td>1 stop</td>\n",
       "      <td>No info</td>\n",
       "      <td>7657</td>\n",
       "      <td>3</td>\n",
       "      <td>9</td>\n",
       "      <td>2019</td>\n",
       "      <td>Tuesday</td>\n",
       "      <td>15</td>\n",
       "      <td>50</td>\n",
       "      <td>20</td>\n",
       "      <td>15</td>\n",
       "    </tr>\n",
       "    <tr>\n",
       "      <th>3721</th>\n",
       "      <td>Vistara</td>\n",
       "      <td>Kolkata</td>\n",
       "      <td>Banglore</td>\n",
       "      <td>CCU → DEL → BLR</td>\n",
       "      <td>26h</td>\n",
       "      <td>1 stop</td>\n",
       "      <td>No info</td>\n",
       "      <td>11682</td>\n",
       "      <td>24</td>\n",
       "      <td>3</td>\n",
       "      <td>2019</td>\n",
       "      <td>Sunday</td>\n",
       "      <td>7</td>\n",
       "      <td>10</td>\n",
       "      <td>9</td>\n",
       "      <td>10</td>\n",
       "    </tr>\n",
       "  </tbody>\n",
       "</table>\n",
       "</div>"
      ],
      "text/plain": [
       "      Airline    Source Destination            Route Duration Total_Stops  \\\n",
       "6509    GoAir  Banglore   New Delhi  BLR → GOI → DEL   4h 25m      1 stop   \n",
       "3721  Vistara   Kolkata    Banglore  CCU → DEL → BLR      26h      1 stop   \n",
       "\n",
       "     Additional_Info  Price  journey_day  journey_month  journey_year  \\\n",
       "6509         No info   7657            3              9          2019   \n",
       "3721         No info  11682           24              3          2019   \n",
       "\n",
       "     day_of_week  dep_time_hr  dep_time_min  arr_time_hr  arr_time_min  \n",
       "6509     Tuesday           15            50           20            15  \n",
       "3721      Sunday            7            10            9            10  "
      ]
     },
     "execution_count": 170,
     "metadata": {},
     "output_type": "execute_result"
    }
   ],
   "source": [
    "df.sample(2)"
   ]
  },
  {
   "cell_type": "code",
   "execution_count": 171,
   "id": "f9b6a51f",
   "metadata": {},
   "outputs": [],
   "source": [
    "df[['dur_hr', 'dur_min']] = df['Duration'].str.split(' ', 1,expand=True)"
   ]
  },
  {
   "cell_type": "code",
   "execution_count": 172,
   "id": "f0dd411c",
   "metadata": {},
   "outputs": [],
   "source": [
    "df.drop('Duration',axis=1,inplace=True)"
   ]
  },
  {
   "cell_type": "code",
   "execution_count": 173,
   "id": "23bf4aa0",
   "metadata": {},
   "outputs": [
    {
     "data": {
      "text/html": [
       "<div>\n",
       "<style scoped>\n",
       "    .dataframe tbody tr th:only-of-type {\n",
       "        vertical-align: middle;\n",
       "    }\n",
       "\n",
       "    .dataframe tbody tr th {\n",
       "        vertical-align: top;\n",
       "    }\n",
       "\n",
       "    .dataframe thead th {\n",
       "        text-align: right;\n",
       "    }\n",
       "</style>\n",
       "<table border=\"1\" class=\"dataframe\">\n",
       "  <thead>\n",
       "    <tr style=\"text-align: right;\">\n",
       "      <th></th>\n",
       "      <th>Airline</th>\n",
       "      <th>Source</th>\n",
       "      <th>Destination</th>\n",
       "      <th>Route</th>\n",
       "      <th>Total_Stops</th>\n",
       "      <th>Additional_Info</th>\n",
       "      <th>Price</th>\n",
       "      <th>journey_day</th>\n",
       "      <th>journey_month</th>\n",
       "      <th>journey_year</th>\n",
       "      <th>day_of_week</th>\n",
       "      <th>dep_time_hr</th>\n",
       "      <th>dep_time_min</th>\n",
       "      <th>arr_time_hr</th>\n",
       "      <th>arr_time_min</th>\n",
       "      <th>dur_hr</th>\n",
       "      <th>dur_min</th>\n",
       "    </tr>\n",
       "  </thead>\n",
       "  <tbody>\n",
       "    <tr>\n",
       "      <th>0</th>\n",
       "      <td>IndiGo</td>\n",
       "      <td>Banglore</td>\n",
       "      <td>New Delhi</td>\n",
       "      <td>BLR → DEL</td>\n",
       "      <td>non-stop</td>\n",
       "      <td>No info</td>\n",
       "      <td>3897</td>\n",
       "      <td>24</td>\n",
       "      <td>3</td>\n",
       "      <td>2019</td>\n",
       "      <td>Sunday</td>\n",
       "      <td>22</td>\n",
       "      <td>20</td>\n",
       "      <td>1</td>\n",
       "      <td>10</td>\n",
       "      <td>2h</td>\n",
       "      <td>50m</td>\n",
       "    </tr>\n",
       "    <tr>\n",
       "      <th>1</th>\n",
       "      <td>Air India</td>\n",
       "      <td>Kolkata</td>\n",
       "      <td>Banglore</td>\n",
       "      <td>CCU → IXR → BBI → BLR</td>\n",
       "      <td>2 stops</td>\n",
       "      <td>No info</td>\n",
       "      <td>7662</td>\n",
       "      <td>5</td>\n",
       "      <td>1</td>\n",
       "      <td>2019</td>\n",
       "      <td>Saturday</td>\n",
       "      <td>5</td>\n",
       "      <td>50</td>\n",
       "      <td>13</td>\n",
       "      <td>15</td>\n",
       "      <td>7h</td>\n",
       "      <td>25m</td>\n",
       "    </tr>\n",
       "    <tr>\n",
       "      <th>2</th>\n",
       "      <td>Jet Airways</td>\n",
       "      <td>Delhi</td>\n",
       "      <td>Cochin</td>\n",
       "      <td>DEL → LKO → BOM → COK</td>\n",
       "      <td>2 stops</td>\n",
       "      <td>No info</td>\n",
       "      <td>13882</td>\n",
       "      <td>6</td>\n",
       "      <td>9</td>\n",
       "      <td>2019</td>\n",
       "      <td>Friday</td>\n",
       "      <td>9</td>\n",
       "      <td>25</td>\n",
       "      <td>4</td>\n",
       "      <td>25</td>\n",
       "      <td>19h</td>\n",
       "      <td>None</td>\n",
       "    </tr>\n",
       "    <tr>\n",
       "      <th>3</th>\n",
       "      <td>IndiGo</td>\n",
       "      <td>Kolkata</td>\n",
       "      <td>Banglore</td>\n",
       "      <td>CCU → NAG → BLR</td>\n",
       "      <td>1 stop</td>\n",
       "      <td>No info</td>\n",
       "      <td>6218</td>\n",
       "      <td>5</td>\n",
       "      <td>12</td>\n",
       "      <td>2019</td>\n",
       "      <td>Thursday</td>\n",
       "      <td>18</td>\n",
       "      <td>5</td>\n",
       "      <td>23</td>\n",
       "      <td>30</td>\n",
       "      <td>5h</td>\n",
       "      <td>25m</td>\n",
       "    </tr>\n",
       "    <tr>\n",
       "      <th>4</th>\n",
       "      <td>IndiGo</td>\n",
       "      <td>Banglore</td>\n",
       "      <td>New Delhi</td>\n",
       "      <td>BLR → NAG → DEL</td>\n",
       "      <td>1 stop</td>\n",
       "      <td>No info</td>\n",
       "      <td>13302</td>\n",
       "      <td>3</td>\n",
       "      <td>1</td>\n",
       "      <td>2019</td>\n",
       "      <td>Thursday</td>\n",
       "      <td>16</td>\n",
       "      <td>50</td>\n",
       "      <td>21</td>\n",
       "      <td>35</td>\n",
       "      <td>4h</td>\n",
       "      <td>45m</td>\n",
       "    </tr>\n",
       "  </tbody>\n",
       "</table>\n",
       "</div>"
      ],
      "text/plain": [
       "       Airline    Source Destination                  Route Total_Stops  \\\n",
       "0       IndiGo  Banglore   New Delhi              BLR → DEL    non-stop   \n",
       "1    Air India   Kolkata    Banglore  CCU → IXR → BBI → BLR     2 stops   \n",
       "2  Jet Airways     Delhi      Cochin  DEL → LKO → BOM → COK     2 stops   \n",
       "3       IndiGo   Kolkata    Banglore        CCU → NAG → BLR      1 stop   \n",
       "4       IndiGo  Banglore   New Delhi        BLR → NAG → DEL      1 stop   \n",
       "\n",
       "  Additional_Info  Price  journey_day  journey_month  journey_year  \\\n",
       "0         No info   3897           24              3          2019   \n",
       "1         No info   7662            5              1          2019   \n",
       "2         No info  13882            6              9          2019   \n",
       "3         No info   6218            5             12          2019   \n",
       "4         No info  13302            3              1          2019   \n",
       "\n",
       "  day_of_week  dep_time_hr  dep_time_min  arr_time_hr  arr_time_min dur_hr  \\\n",
       "0      Sunday           22            20            1            10     2h   \n",
       "1    Saturday            5            50           13            15     7h   \n",
       "2      Friday            9            25            4            25    19h   \n",
       "3    Thursday           18             5           23            30     5h   \n",
       "4    Thursday           16            50           21            35     4h   \n",
       "\n",
       "  dur_min  \n",
       "0     50m  \n",
       "1     25m  \n",
       "2    None  \n",
       "3     25m  \n",
       "4     45m  "
      ]
     },
     "execution_count": 173,
     "metadata": {},
     "output_type": "execute_result"
    }
   ],
   "source": [
    "df.head()"
   ]
  },
  {
   "cell_type": "code",
   "execution_count": 174,
   "id": "0d307b33",
   "metadata": {},
   "outputs": [],
   "source": [
    "for i in range(df.shape[0]):\n",
    "    df['dur_hr'].iloc[i]=df['dur_hr'].iloc[i][:-1]\n",
    "    "
   ]
  },
  {
   "cell_type": "code",
   "execution_count": 175,
   "id": "44544b28",
   "metadata": {},
   "outputs": [],
   "source": [
    "df['dur_min'].fillna(0,inplace=True)\n",
    "        "
   ]
  },
  {
   "cell_type": "code",
   "execution_count": 176,
   "id": "3a321766",
   "metadata": {},
   "outputs": [],
   "source": [
    "for i in range(df.shape[0]):\n",
    "    if(df['dur_min'].iloc[i]!=0):\n",
    "        df['dur_min'].iloc[i]=df['dur_min'].iloc[i][:-1]\n",
    "    else:\n",
    "        df['dur_min'].iloc[i]=0"
   ]
  },
  {
   "cell_type": "code",
   "execution_count": 177,
   "id": "ea3dedd1",
   "metadata": {},
   "outputs": [
    {
     "data": {
      "text/html": [
       "<div>\n",
       "<style scoped>\n",
       "    .dataframe tbody tr th:only-of-type {\n",
       "        vertical-align: middle;\n",
       "    }\n",
       "\n",
       "    .dataframe tbody tr th {\n",
       "        vertical-align: top;\n",
       "    }\n",
       "\n",
       "    .dataframe thead th {\n",
       "        text-align: right;\n",
       "    }\n",
       "</style>\n",
       "<table border=\"1\" class=\"dataframe\">\n",
       "  <thead>\n",
       "    <tr style=\"text-align: right;\">\n",
       "      <th></th>\n",
       "      <th>Airline</th>\n",
       "      <th>Source</th>\n",
       "      <th>Destination</th>\n",
       "      <th>Route</th>\n",
       "      <th>Total_Stops</th>\n",
       "      <th>Additional_Info</th>\n",
       "      <th>Price</th>\n",
       "      <th>journey_day</th>\n",
       "      <th>journey_month</th>\n",
       "      <th>journey_year</th>\n",
       "      <th>day_of_week</th>\n",
       "      <th>dep_time_hr</th>\n",
       "      <th>dep_time_min</th>\n",
       "      <th>arr_time_hr</th>\n",
       "      <th>arr_time_min</th>\n",
       "      <th>dur_hr</th>\n",
       "      <th>dur_min</th>\n",
       "    </tr>\n",
       "  </thead>\n",
       "  <tbody>\n",
       "    <tr>\n",
       "      <th>0</th>\n",
       "      <td>IndiGo</td>\n",
       "      <td>Banglore</td>\n",
       "      <td>New Delhi</td>\n",
       "      <td>BLR → DEL</td>\n",
       "      <td>non-stop</td>\n",
       "      <td>No info</td>\n",
       "      <td>3897</td>\n",
       "      <td>24</td>\n",
       "      <td>3</td>\n",
       "      <td>2019</td>\n",
       "      <td>Sunday</td>\n",
       "      <td>22</td>\n",
       "      <td>20</td>\n",
       "      <td>1</td>\n",
       "      <td>10</td>\n",
       "      <td>2</td>\n",
       "      <td>50</td>\n",
       "    </tr>\n",
       "    <tr>\n",
       "      <th>1</th>\n",
       "      <td>Air India</td>\n",
       "      <td>Kolkata</td>\n",
       "      <td>Banglore</td>\n",
       "      <td>CCU → IXR → BBI → BLR</td>\n",
       "      <td>2 stops</td>\n",
       "      <td>No info</td>\n",
       "      <td>7662</td>\n",
       "      <td>5</td>\n",
       "      <td>1</td>\n",
       "      <td>2019</td>\n",
       "      <td>Saturday</td>\n",
       "      <td>5</td>\n",
       "      <td>50</td>\n",
       "      <td>13</td>\n",
       "      <td>15</td>\n",
       "      <td>7</td>\n",
       "      <td>25</td>\n",
       "    </tr>\n",
       "    <tr>\n",
       "      <th>2</th>\n",
       "      <td>Jet Airways</td>\n",
       "      <td>Delhi</td>\n",
       "      <td>Cochin</td>\n",
       "      <td>DEL → LKO → BOM → COK</td>\n",
       "      <td>2 stops</td>\n",
       "      <td>No info</td>\n",
       "      <td>13882</td>\n",
       "      <td>6</td>\n",
       "      <td>9</td>\n",
       "      <td>2019</td>\n",
       "      <td>Friday</td>\n",
       "      <td>9</td>\n",
       "      <td>25</td>\n",
       "      <td>4</td>\n",
       "      <td>25</td>\n",
       "      <td>19</td>\n",
       "      <td>0</td>\n",
       "    </tr>\n",
       "  </tbody>\n",
       "</table>\n",
       "</div>"
      ],
      "text/plain": [
       "       Airline    Source Destination                  Route Total_Stops  \\\n",
       "0       IndiGo  Banglore   New Delhi              BLR → DEL    non-stop   \n",
       "1    Air India   Kolkata    Banglore  CCU → IXR → BBI → BLR     2 stops   \n",
       "2  Jet Airways     Delhi      Cochin  DEL → LKO → BOM → COK     2 stops   \n",
       "\n",
       "  Additional_Info  Price  journey_day  journey_month  journey_year  \\\n",
       "0         No info   3897           24              3          2019   \n",
       "1         No info   7662            5              1          2019   \n",
       "2         No info  13882            6              9          2019   \n",
       "\n",
       "  day_of_week  dep_time_hr  dep_time_min  arr_time_hr  arr_time_min dur_hr  \\\n",
       "0      Sunday           22            20            1            10      2   \n",
       "1    Saturday            5            50           13            15      7   \n",
       "2      Friday            9            25            4            25     19   \n",
       "\n",
       "  dur_min  \n",
       "0      50  \n",
       "1      25  \n",
       "2       0  "
      ]
     },
     "execution_count": 177,
     "metadata": {},
     "output_type": "execute_result"
    }
   ],
   "source": [
    "df.head(3)"
   ]
  },
  {
   "cell_type": "code",
   "execution_count": 178,
   "id": "58afa2a7",
   "metadata": {},
   "outputs": [
    {
     "name": "stdout",
     "output_type": "stream",
     "text": [
      "<class 'pandas.core.frame.DataFrame'>\n",
      "Int64Index: 10682 entries, 0 to 10682\n",
      "Data columns (total 17 columns):\n",
      " #   Column           Non-Null Count  Dtype \n",
      "---  ------           --------------  ----- \n",
      " 0   Airline          10682 non-null  object\n",
      " 1   Source           10682 non-null  object\n",
      " 2   Destination      10682 non-null  object\n",
      " 3   Route            10682 non-null  object\n",
      " 4   Total_Stops      10682 non-null  object\n",
      " 5   Additional_Info  10682 non-null  object\n",
      " 6   Price            10682 non-null  int64 \n",
      " 7   journey_day      10682 non-null  int64 \n",
      " 8   journey_month    10682 non-null  int64 \n",
      " 9   journey_year     10682 non-null  int64 \n",
      " 10  day_of_week      10682 non-null  object\n",
      " 11  dep_time_hr      10682 non-null  int64 \n",
      " 12  dep_time_min     10682 non-null  int64 \n",
      " 13  arr_time_hr      10682 non-null  int64 \n",
      " 14  arr_time_min     10682 non-null  int64 \n",
      " 15  dur_hr           10682 non-null  object\n",
      " 16  dur_min          10682 non-null  object\n",
      "dtypes: int64(8), object(9)\n",
      "memory usage: 1.5+ MB\n"
     ]
    }
   ],
   "source": [
    "df.info()"
   ]
  },
  {
   "cell_type": "code",
   "execution_count": 179,
   "id": "c2ef3de4",
   "metadata": {},
   "outputs": [],
   "source": [
    "df['dur_hr']=df['dur_hr'].astype('int64')\n",
    "df['dur_min']=df['dur_min'].astype('int64')"
   ]
  },
  {
   "cell_type": "code",
   "execution_count": 180,
   "id": "3f441b8d",
   "metadata": {},
   "outputs": [],
   "source": [
    "df.drop('journey_day',axis=1,inplace=True)"
   ]
  },
  {
   "cell_type": "code",
   "execution_count": 181,
   "id": "ddb70b39",
   "metadata": {},
   "outputs": [],
   "source": [
    "df.drop('journey_year',axis=1,inplace=True)"
   ]
  },
  {
   "cell_type": "markdown",
   "id": "80d66a09",
   "metadata": {},
   "source": [
    "# EDA"
   ]
  },
  {
   "cell_type": "code",
   "execution_count": 182,
   "id": "5f28e48b",
   "metadata": {},
   "outputs": [
    {
     "data": {
      "text/plain": [
       "{'whiskers': [<matplotlib.lines.Line2D at 0x1e940c75d90>,\n",
       "  <matplotlib.lines.Line2D at 0x1e941117130>],\n",
       " 'caps': [<matplotlib.lines.Line2D at 0x1e941117490>,\n",
       "  <matplotlib.lines.Line2D at 0x1e9411177f0>],\n",
       " 'boxes': [<matplotlib.lines.Line2D at 0x1e940c75a30>],\n",
       " 'medians': [<matplotlib.lines.Line2D at 0x1e941117b50>],\n",
       " 'fliers': [<matplotlib.lines.Line2D at 0x1e941117eb0>],\n",
       " 'means': []}"
      ]
     },
     "execution_count": 182,
     "metadata": {},
     "output_type": "execute_result"
    },
    {
     "data": {
      "image/png": "[encoded data removed]",
      "text/plain": [
       "<Figure size 432x288 with 1 Axes>"
      ]
     },
     "metadata": {
      "needs_background": "light"
     },
     "output_type": "display_data"
    }
   ],
   "source": [
    "plt.boxplot(df['Price'],vert=False)"
   ]
  },
  {
   "cell_type": "markdown",
   "id": "9e558f9c",
   "metadata": {},
   "source": [
    "The distribution of Price is positively skewed with many outliers."
   ]
  },
  {
   "cell_type": "code",
   "execution_count": 183,
   "id": "71e9891a",
   "metadata": {},
   "outputs": [
    {
     "data": {
      "text/plain": [
       "count    10682.000000\n",
       "mean      9087.214567\n",
       "std       4611.548810\n",
       "min       1759.000000\n",
       "25%       5277.000000\n",
       "50%       8372.000000\n",
       "75%      12373.000000\n",
       "max      79512.000000\n",
       "Name: Price, dtype: float64"
      ]
     },
     "execution_count": 183,
     "metadata": {},
     "output_type": "execute_result"
    }
   ],
   "source": [
    "df.Price.describe()"
   ]
  },
  {
   "cell_type": "code",
   "execution_count": 213,
   "id": "7aec63a6",
   "metadata": {},
   "outputs": [
    {
     "data": {
      "text/html": [
       "<div>\n",
       "<style scoped>\n",
       "    .dataframe tbody tr th:only-of-type {\n",
       "        vertical-align: middle;\n",
       "    }\n",
       "\n",
       "    .dataframe tbody tr th {\n",
       "        vertical-align: top;\n",
       "    }\n",
       "\n",
       "    .dataframe thead th {\n",
       "        text-align: right;\n",
       "    }\n",
       "</style>\n",
       "<table border=\"1\" class=\"dataframe\">\n",
       "  <thead>\n",
       "    <tr style=\"text-align: right;\">\n",
       "      <th></th>\n",
       "      <th>Price</th>\n",
       "      <th>journey_month</th>\n",
       "      <th>dep_time_hr</th>\n",
       "      <th>dep_time_min</th>\n",
       "      <th>arr_time_hr</th>\n",
       "      <th>arr_time_min</th>\n",
       "      <th>dur_hr</th>\n",
       "      <th>dur_min</th>\n",
       "    </tr>\n",
       "  </thead>\n",
       "  <tbody>\n",
       "    <tr>\n",
       "      <th>Price</th>\n",
       "      <td>1.000000</td>\n",
       "      <td>0.010705</td>\n",
       "      <td>0.006799</td>\n",
       "      <td>-0.024458</td>\n",
       "      <td>0.024244</td>\n",
       "      <td>-0.086155</td>\n",
       "      <td>0.508902</td>\n",
       "      <td>-0.124899</td>\n",
       "    </tr>\n",
       "    <tr>\n",
       "      <th>journey_month</th>\n",
       "      <td>0.010705</td>\n",
       "      <td>1.000000</td>\n",
       "      <td>0.028189</td>\n",
       "      <td>0.002136</td>\n",
       "      <td>-0.004329</td>\n",
       "      <td>-0.025786</td>\n",
       "      <td>0.055564</td>\n",
       "      <td>-0.018601</td>\n",
       "    </tr>\n",
       "    <tr>\n",
       "      <th>dep_time_hr</th>\n",
       "      <td>0.006799</td>\n",
       "      <td>0.028189</td>\n",
       "      <td>1.000000</td>\n",
       "      <td>-0.024745</td>\n",
       "      <td>0.005180</td>\n",
       "      <td>0.067911</td>\n",
       "      <td>0.002903</td>\n",
       "      <td>-0.023723</td>\n",
       "    </tr>\n",
       "    <tr>\n",
       "      <th>dep_time_min</th>\n",
       "      <td>-0.024458</td>\n",
       "      <td>0.002136</td>\n",
       "      <td>-0.024745</td>\n",
       "      <td>1.000000</td>\n",
       "      <td>0.043122</td>\n",
       "      <td>-0.017597</td>\n",
       "      <td>-0.022030</td>\n",
       "      <td>0.092443</td>\n",
       "    </tr>\n",
       "    <tr>\n",
       "      <th>arr_time_hr</th>\n",
       "      <td>0.024244</td>\n",
       "      <td>-0.004329</td>\n",
       "      <td>0.005180</td>\n",
       "      <td>0.043122</td>\n",
       "      <td>1.000000</td>\n",
       "      <td>-0.154363</td>\n",
       "      <td>0.055300</td>\n",
       "      <td>-0.118315</td>\n",
       "    </tr>\n",
       "    <tr>\n",
       "      <th>arr_time_min</th>\n",
       "      <td>-0.086155</td>\n",
       "      <td>-0.025786</td>\n",
       "      <td>0.067911</td>\n",
       "      <td>-0.017597</td>\n",
       "      <td>-0.154363</td>\n",
       "      <td>1.000000</td>\n",
       "      <td>-0.074352</td>\n",
       "      <td>0.151571</td>\n",
       "    </tr>\n",
       "    <tr>\n",
       "      <th>dur_hr</th>\n",
       "      <td>0.508902</td>\n",
       "      <td>0.055564</td>\n",
       "      <td>0.002903</td>\n",
       "      <td>-0.022030</td>\n",
       "      <td>0.055300</td>\n",
       "      <td>-0.074352</td>\n",
       "      <td>1.000000</td>\n",
       "      <td>-0.126528</td>\n",
       "    </tr>\n",
       "    <tr>\n",
       "      <th>dur_min</th>\n",
       "      <td>-0.124899</td>\n",
       "      <td>-0.018601</td>\n",
       "      <td>-0.023723</td>\n",
       "      <td>0.092443</td>\n",
       "      <td>-0.118315</td>\n",
       "      <td>0.151571</td>\n",
       "      <td>-0.126528</td>\n",
       "      <td>1.000000</td>\n",
       "    </tr>\n",
       "  </tbody>\n",
       "</table>\n",
       "</div>"
      ],
      "text/plain": [
       "                  Price  journey_month  dep_time_hr  dep_time_min  \\\n",
       "Price          1.000000       0.010705     0.006799     -0.024458   \n",
       "journey_month  0.010705       1.000000     0.028189      0.002136   \n",
       "dep_time_hr    0.006799       0.028189     1.000000     -0.024745   \n",
       "dep_time_min  -0.024458       0.002136    -0.024745      1.000000   \n",
       "arr_time_hr    0.024244      -0.004329     0.005180      0.043122   \n",
       "arr_time_min  -0.086155      -0.025786     0.067911     -0.017597   \n",
       "dur_hr         0.508902       0.055564     0.002903     -0.022030   \n",
       "dur_min       -0.124899      -0.018601    -0.023723      0.092443   \n",
       "\n",
       "               arr_time_hr  arr_time_min    dur_hr   dur_min  \n",
       "Price             0.024244     -0.086155  0.508902 -0.124899  \n",
       "journey_month    -0.004329     -0.025786  0.055564 -0.018601  \n",
       "dep_time_hr       0.005180      0.067911  0.002903 -0.023723  \n",
       "dep_time_min      0.043122     -0.017597 -0.022030  0.092443  \n",
       "arr_time_hr       1.000000     -0.154363  0.055300 -0.118315  \n",
       "arr_time_min     -0.154363      1.000000 -0.074352  0.151571  \n",
       "dur_hr            0.055300     -0.074352  1.000000 -0.126528  \n",
       "dur_min          -0.118315      0.151571 -0.126528  1.000000  "
      ]
     },
     "execution_count": 213,
     "metadata": {},
     "output_type": "execute_result"
    }
   ],
   "source": [
    "df.corr()"
   ]
  },
  {
   "cell_type": "code",
   "execution_count": 214,
   "id": "ba29ae34",
   "metadata": {},
   "outputs": [
    {
     "data": {
      "image/png": "[encoded data removed]",
      "text/plain": [
       "<Figure size 720x504 with 2 Axes>"
      ]
     },
     "metadata": {
      "needs_background": "light"
     },
     "output_type": "display_data"
    }
   ],
   "source": [
    "fig, ax = plt.subplots(figsize=(10,7)) \n",
    "sns.heatmap(df.corr(), cmap='Reds', annot=True)\n",
    "plt.title('Correlation Matrix');"
   ]
  },
  {
   "cell_type": "code",
   "execution_count": 184,
   "id": "8a260d8e",
   "metadata": {},
   "outputs": [
    {
     "data": {
      "text/plain": [
       "<AxesSubplot:xlabel='journey_month'>"
      ]
     },
     "execution_count": 184,
     "metadata": {},
     "output_type": "execute_result"
    },
    {
     "data": {
      "image/png": "[encoded data removed]",
      "text/plain": [
       "<Figure size 432x288 with 1 Axes>"
      ]
     },
     "metadata": {
      "needs_background": "light"
     },
     "output_type": "display_data"
    }
   ],
   "source": [
    "df.groupby('journey_month')['Price'].median().plot()"
   ]
  },
  {
   "cell_type": "code",
   "execution_count": 185,
   "id": "446464ba",
   "metadata": {},
   "outputs": [
    {
     "data": {
      "text/plain": [
       "<AxesSubplot:xlabel='day_of_week'>"
      ]
     },
     "execution_count": 185,
     "metadata": {},
     "output_type": "execute_result"
    },
    {
     "data": {
      "image/png": "[encoded data removed]",
      "text/plain": [
       "<Figure size 432x288 with 1 Axes>"
      ]
     },
     "metadata": {
      "needs_background": "light"
     },
     "output_type": "display_data"
    }
   ],
   "source": [
    "df.groupby('day_of_week')['Price'].median().sort_values(ascending=False).plot(kind='bar')"
   ]
  },
  {
   "cell_type": "code",
   "execution_count": 186,
   "id": "92426c99",
   "metadata": {},
   "outputs": [
    {
     "data": {
      "image/png": "[encoded data removed]",
      "text/plain": [
       "<Figure size 432x288 with 1 Axes>"
      ]
     },
     "metadata": {
      "needs_background": "light"
     },
     "output_type": "display_data"
    }
   ],
   "source": [
    "t=df.groupby('Airline')['Price'].median().sort_values().plot(kind='barh')"
   ]
  },
  {
   "cell_type": "code",
   "execution_count": 187,
   "id": "7048d978",
   "metadata": {},
   "outputs": [
    {
     "data": {
      "text/plain": [
       "<AxesSubplot:xlabel='Destination', ylabel='Price'>"
      ]
     },
     "execution_count": 187,
     "metadata": {},
     "output_type": "execute_result"
    },
    {
     "data": {
      "image/png": "[encoded data removed]",
      "text/plain": [
       "<Figure size 720x432 with 2 Axes>"
      ]
     },
     "metadata": {
      "needs_background": "light"
     },
     "output_type": "display_data"
    }
   ],
   "source": [
    "f,ax=plt.subplots(2,figsize=(10,6))\n",
    "sns.barplot(data=df, x='Source', y='Price',ci=False,ax=ax[0])\n",
    "sns.barplot(data=df, x='Destination', y='Price',ci=False,ax=ax[1])"
   ]
  },
  {
   "cell_type": "code",
   "execution_count": 188,
   "id": "1df6e687",
   "metadata": {},
   "outputs": [
    {
     "data": {
      "text/plain": [
       "<AxesSubplot:xlabel='Airline', ylabel='Price'>"
      ]
     },
     "execution_count": 188,
     "metadata": {},
     "output_type": "execute_result"
    },
    {
     "data": {
      "image/png": "[encoded data removed]",
      "text/plain": [
       "<Figure size 1440x720 with 1 Axes>"
      ]
     },
     "metadata": {
      "needs_background": "light"
     },
     "output_type": "display_data"
    }
   ],
   "source": [
    "plt.figure(figsize=(20,10))\n",
    "sns.boxplot(x='Airline',y='Price',data=df.sort_values('Price',ascending=False))"
   ]
  },
  {
   "cell_type": "code",
   "execution_count": 189,
   "id": "6c5379d9",
   "metadata": {},
   "outputs": [
    {
     "data": {
      "text/plain": [
       "<AxesSubplot:xlabel='Total_Stops', ylabel='Price'>"
      ]
     },
     "execution_count": 189,
     "metadata": {},
     "output_type": "execute_result"
    },
    {
     "data": {
      "image/png": "[encoded data removed]",
      "text/plain": [
       "<Figure size 432x288 with 1 Axes>"
      ]
     },
     "metadata": {
      "needs_background": "light"
     },
     "output_type": "display_data"
    }
   ],
   "source": [
    "sns.barplot(x='Total_Stops',y='Price',data=df,ci=False)"
   ]
  },
  {
   "cell_type": "code",
   "execution_count": 190,
   "id": "e62dffa0",
   "metadata": {},
   "outputs": [
    {
     "data": {
      "text/plain": [
       "<AxesSubplot:xlabel='dep_time_hr'>"
      ]
     },
     "execution_count": 190,
     "metadata": {},
     "output_type": "execute_result"
    },
    {
     "data": {
      "image/png": "[encoded data removed]",
      "text/plain": [
       "<Figure size 432x288 with 1 Axes>"
      ]
     },
     "metadata": {
      "needs_background": "light"
     },
     "output_type": "display_data"
    }
   ],
   "source": [
    "df.groupby('dep_time_hr')['Price'].median().sort_values(ascending=False).plot(kind='bar')"
   ]
  },
  {
   "cell_type": "code",
   "execution_count": 191,
   "id": "719b0d9d",
   "metadata": {},
   "outputs": [
    {
     "data": {
      "text/plain": [
       "<AxesSubplot:xlabel='dur_hr'>"
      ]
     },
     "execution_count": 191,
     "metadata": {},
     "output_type": "execute_result"
    },
    {
     "data": {
      "image/png": "[encoded data removed]",
      "text/plain": [
       "<Figure size 1440x432 with 3 Axes>"
      ]
     },
     "metadata": {
      "needs_background": "light"
     },
     "output_type": "display_data"
    }
   ],
   "source": [
    "f,ax=plt.subplots(1,3,figsize=(20,6))\n",
    "df.groupby('dep_time_hr')['Price'].median().sort_values(ascending=False)[:10].plot(kind='bar',ax=ax[0])\n",
    "df.groupby('arr_time_hr')['Price'].median().sort_values(ascending=False)[:10].plot(kind='bar',ax=ax[1])\n",
    "df.groupby('dur_hr')['Price'].median().sort_values(ascending=False)[:10].plot(kind='bar',ax=ax[2])"
   ]
  },
  {
   "cell_type": "code",
   "execution_count": 192,
   "id": "5823208e",
   "metadata": {},
   "outputs": [
    {
     "data": {
      "text/plain": [
       "<AxesSubplot:ylabel='Additional_Info'>"
      ]
     },
     "execution_count": 192,
     "metadata": {},
     "output_type": "execute_result"
    },
    {
     "data": {
      "image/png": "[encoded data removed]",
      "text/plain": [
       "<Figure size 1440x720 with 2 Axes>"
      ]
     },
     "metadata": {
      "needs_background": "light"
     },
     "output_type": "display_data"
    }
   ],
   "source": [
    "f,ax=plt.subplots(2,1,figsize=(20,10))\n",
    "df.groupby('Route')['Price'].median().sort_values()[:10].plot(kind='barh',ax=ax[0])\n",
    "df.groupby('Additional_Info')['Price'].median().sort_values().plot(kind='barh',ax=ax[1])\n"
   ]
  },
  {
   "cell_type": "markdown",
   "id": "812a92b7",
   "metadata": {},
   "source": [
    "# Modelling "
   ]
  },
  {
   "cell_type": "code",
   "execution_count": 193,
   "id": "2f955488",
   "metadata": {},
   "outputs": [],
   "source": [
    "X= df.drop(columns=['Price']) # Input columns\n",
    "y= df['Price'] # Target coulumn"
   ]
  },
  {
   "cell_type": "code",
   "execution_count": 194,
   "id": "67d2009f",
   "metadata": {},
   "outputs": [
    {
     "data": {
      "text/html": [
       "<div>\n",
       "<style scoped>\n",
       "    .dataframe tbody tr th:only-of-type {\n",
       "        vertical-align: middle;\n",
       "    }\n",
       "\n",
       "    .dataframe tbody tr th {\n",
       "        vertical-align: top;\n",
       "    }\n",
       "\n",
       "    .dataframe thead th {\n",
       "        text-align: right;\n",
       "    }\n",
       "</style>\n",
       "<table border=\"1\" class=\"dataframe\">\n",
       "  <thead>\n",
       "    <tr style=\"text-align: right;\">\n",
       "      <th></th>\n",
       "      <th>Airline</th>\n",
       "      <th>Source</th>\n",
       "      <th>Destination</th>\n",
       "      <th>Route</th>\n",
       "      <th>Total_Stops</th>\n",
       "      <th>Additional_Info</th>\n",
       "      <th>journey_month</th>\n",
       "      <th>day_of_week</th>\n",
       "      <th>dep_time_hr</th>\n",
       "      <th>dep_time_min</th>\n",
       "      <th>arr_time_hr</th>\n",
       "      <th>arr_time_min</th>\n",
       "      <th>dur_hr</th>\n",
       "      <th>dur_min</th>\n",
       "    </tr>\n",
       "  </thead>\n",
       "  <tbody>\n",
       "    <tr>\n",
       "      <th>0</th>\n",
       "      <td>IndiGo</td>\n",
       "      <td>Banglore</td>\n",
       "      <td>New Delhi</td>\n",
       "      <td>BLR → DEL</td>\n",
       "      <td>non-stop</td>\n",
       "      <td>No info</td>\n",
       "      <td>3</td>\n",
       "      <td>Sunday</td>\n",
       "      <td>22</td>\n",
       "      <td>20</td>\n",
       "      <td>1</td>\n",
       "      <td>10</td>\n",
       "      <td>2</td>\n",
       "      <td>50</td>\n",
       "    </tr>\n",
       "    <tr>\n",
       "      <th>1</th>\n",
       "      <td>Air India</td>\n",
       "      <td>Kolkata</td>\n",
       "      <td>Banglore</td>\n",
       "      <td>CCU → IXR → BBI → BLR</td>\n",
       "      <td>2 stops</td>\n",
       "      <td>No info</td>\n",
       "      <td>1</td>\n",
       "      <td>Saturday</td>\n",
       "      <td>5</td>\n",
       "      <td>50</td>\n",
       "      <td>13</td>\n",
       "      <td>15</td>\n",
       "      <td>7</td>\n",
       "      <td>25</td>\n",
       "    </tr>\n",
       "    <tr>\n",
       "      <th>2</th>\n",
       "      <td>Jet Airways</td>\n",
       "      <td>Delhi</td>\n",
       "      <td>Cochin</td>\n",
       "      <td>DEL → LKO → BOM → COK</td>\n",
       "      <td>2 stops</td>\n",
       "      <td>No info</td>\n",
       "      <td>9</td>\n",
       "      <td>Friday</td>\n",
       "      <td>9</td>\n",
       "      <td>25</td>\n",
       "      <td>4</td>\n",
       "      <td>25</td>\n",
       "      <td>19</td>\n",
       "      <td>0</td>\n",
       "    </tr>\n",
       "  </tbody>\n",
       "</table>\n",
       "</div>"
      ],
      "text/plain": [
       "       Airline    Source Destination                  Route Total_Stops  \\\n",
       "0       IndiGo  Banglore   New Delhi              BLR → DEL    non-stop   \n",
       "1    Air India   Kolkata    Banglore  CCU → IXR → BBI → BLR     2 stops   \n",
       "2  Jet Airways     Delhi      Cochin  DEL → LKO → BOM → COK     2 stops   \n",
       "\n",
       "  Additional_Info  journey_month day_of_week  dep_time_hr  dep_time_min  \\\n",
       "0         No info              3      Sunday           22            20   \n",
       "1         No info              1    Saturday            5            50   \n",
       "2         No info              9      Friday            9            25   \n",
       "\n",
       "   arr_time_hr  arr_time_min  dur_hr  dur_min  \n",
       "0            1            10       2       50  \n",
       "1           13            15       7       25  \n",
       "2            4            25      19        0  "
      ]
     },
     "execution_count": 194,
     "metadata": {},
     "output_type": "execute_result"
    }
   ],
   "source": [
    "X.head(3)"
   ]
  },
  {
   "cell_type": "code",
   "execution_count": 195,
   "id": "7206dca8",
   "metadata": {},
   "outputs": [
    {
     "data": {
      "text/plain": [
       "['journey_month',\n",
       " 'dep_time_hr',\n",
       " 'dep_time_min',\n",
       " 'arr_time_hr',\n",
       " 'arr_time_min',\n",
       " 'dur_hr',\n",
       " 'dur_min']"
      ]
     },
     "execution_count": 195,
     "metadata": {},
     "output_type": "execute_result"
    }
   ],
   "source": [
    "numeric_cols = X.select_dtypes(include=['int64', 'float64']).columns.tolist()\n",
    "numeric_cols"
   ]
  },
  {
   "cell_type": "code",
   "execution_count": 196,
   "id": "12759113",
   "metadata": {},
   "outputs": [
    {
     "data": {
      "text/plain": [
       "['Airline',\n",
       " 'Source',\n",
       " 'Destination',\n",
       " 'Route',\n",
       " 'Total_Stops',\n",
       " 'Additional_Info',\n",
       " 'day_of_week']"
      ]
     },
     "execution_count": 196,
     "metadata": {},
     "output_type": "execute_result"
    }
   ],
   "source": [
    "categorical_cols = X.select_dtypes('object').columns.tolist()\n",
    "categorical_cols"
   ]
  },
  {
   "cell_type": "code",
   "execution_count": 197,
   "id": "a04262b3",
   "metadata": {},
   "outputs": [],
   "source": [
    "df2=df.copy()"
   ]
  },
  {
   "cell_type": "code",
   "execution_count": 198,
   "id": "6c37fd06",
   "metadata": {},
   "outputs": [
    {
     "data": {
      "text/plain": [
       "MinMaxScaler()"
      ]
     },
     "execution_count": 198,
     "metadata": {},
     "output_type": "execute_result"
    }
   ],
   "source": [
    "from sklearn.preprocessing import MinMaxScaler\n",
    "scaler = MinMaxScaler()\n",
    "scaler.fit(df2[numeric_cols])"
   ]
  },
  {
   "cell_type": "code",
   "execution_count": 199,
   "id": "92243d85",
   "metadata": {},
   "outputs": [
    {
     "data": {
      "text/html": [
       "<div>\n",
       "<style scoped>\n",
       "    .dataframe tbody tr th:only-of-type {\n",
       "        vertical-align: middle;\n",
       "    }\n",
       "\n",
       "    .dataframe tbody tr th {\n",
       "        vertical-align: top;\n",
       "    }\n",
       "\n",
       "    .dataframe thead th {\n",
       "        text-align: right;\n",
       "    }\n",
       "</style>\n",
       "<table border=\"1\" class=\"dataframe\">\n",
       "  <thead>\n",
       "    <tr style=\"text-align: right;\">\n",
       "      <th></th>\n",
       "      <th>Airline</th>\n",
       "      <th>Source</th>\n",
       "      <th>Destination</th>\n",
       "      <th>Route</th>\n",
       "      <th>Total_Stops</th>\n",
       "      <th>Additional_Info</th>\n",
       "      <th>Price</th>\n",
       "      <th>journey_month</th>\n",
       "      <th>day_of_week</th>\n",
       "      <th>dep_time_hr</th>\n",
       "      <th>dep_time_min</th>\n",
       "      <th>arr_time_hr</th>\n",
       "      <th>arr_time_min</th>\n",
       "      <th>dur_hr</th>\n",
       "      <th>dur_min</th>\n",
       "    </tr>\n",
       "  </thead>\n",
       "  <tbody>\n",
       "    <tr>\n",
       "      <th>0</th>\n",
       "      <td>IndiGo</td>\n",
       "      <td>Banglore</td>\n",
       "      <td>New Delhi</td>\n",
       "      <td>BLR → DEL</td>\n",
       "      <td>non-stop</td>\n",
       "      <td>No info</td>\n",
       "      <td>3897</td>\n",
       "      <td>3</td>\n",
       "      <td>Sunday</td>\n",
       "      <td>22</td>\n",
       "      <td>20</td>\n",
       "      <td>1</td>\n",
       "      <td>10</td>\n",
       "      <td>2</td>\n",
       "      <td>50</td>\n",
       "    </tr>\n",
       "    <tr>\n",
       "      <th>1</th>\n",
       "      <td>Air India</td>\n",
       "      <td>Kolkata</td>\n",
       "      <td>Banglore</td>\n",
       "      <td>CCU → IXR → BBI → BLR</td>\n",
       "      <td>2 stops</td>\n",
       "      <td>No info</td>\n",
       "      <td>7662</td>\n",
       "      <td>1</td>\n",
       "      <td>Saturday</td>\n",
       "      <td>5</td>\n",
       "      <td>50</td>\n",
       "      <td>13</td>\n",
       "      <td>15</td>\n",
       "      <td>7</td>\n",
       "      <td>25</td>\n",
       "    </tr>\n",
       "  </tbody>\n",
       "</table>\n",
       "</div>"
      ],
      "text/plain": [
       "     Airline    Source Destination                  Route Total_Stops  \\\n",
       "0     IndiGo  Banglore   New Delhi              BLR → DEL    non-stop   \n",
       "1  Air India   Kolkata    Banglore  CCU → IXR → BBI → BLR     2 stops   \n",
       "\n",
       "  Additional_Info  Price  journey_month day_of_week  dep_time_hr  \\\n",
       "0         No info   3897              3      Sunday           22   \n",
       "1         No info   7662              1    Saturday            5   \n",
       "\n",
       "   dep_time_min  arr_time_hr  arr_time_min  dur_hr  dur_min  \n",
       "0            20            1            10       2       50  \n",
       "1            50           13            15       7       25  "
      ]
     },
     "execution_count": 199,
     "metadata": {},
     "output_type": "execute_result"
    }
   ],
   "source": [
    "df2.head(2)"
   ]
  },
  {
   "cell_type": "code",
   "execution_count": 200,
   "id": "d1c4ae0b",
   "metadata": {},
   "outputs": [
    {
     "data": {
      "text/html": [
       "<div>\n",
       "<style scoped>\n",
       "    .dataframe tbody tr th:only-of-type {\n",
       "        vertical-align: middle;\n",
       "    }\n",
       "\n",
       "    .dataframe tbody tr th {\n",
       "        vertical-align: top;\n",
       "    }\n",
       "\n",
       "    .dataframe thead th {\n",
       "        text-align: right;\n",
       "    }\n",
       "</style>\n",
       "<table border=\"1\" class=\"dataframe\">\n",
       "  <thead>\n",
       "    <tr style=\"text-align: right;\">\n",
       "      <th></th>\n",
       "      <th>journey_month</th>\n",
       "      <th>dep_time_hr</th>\n",
       "      <th>dep_time_min</th>\n",
       "      <th>arr_time_hr</th>\n",
       "      <th>arr_time_min</th>\n",
       "      <th>dur_hr</th>\n",
       "      <th>dur_min</th>\n",
       "    </tr>\n",
       "  </thead>\n",
       "  <tbody>\n",
       "    <tr>\n",
       "      <th>count</th>\n",
       "      <td>10682.000000</td>\n",
       "      <td>10682.000000</td>\n",
       "      <td>10682.000000</td>\n",
       "      <td>10682.000000</td>\n",
       "      <td>10682.000000</td>\n",
       "      <td>10682.000000</td>\n",
       "      <td>10682.000000</td>\n",
       "    </tr>\n",
       "    <tr>\n",
       "      <th>mean</th>\n",
       "      <td>0.412248</td>\n",
       "      <td>0.543088</td>\n",
       "      <td>0.443805</td>\n",
       "      <td>0.580399</td>\n",
       "      <td>0.448920</td>\n",
       "      <td>0.200986</td>\n",
       "      <td>0.515021</td>\n",
       "    </tr>\n",
       "    <tr>\n",
       "      <th>std</th>\n",
       "      <td>0.271602</td>\n",
       "      <td>0.249949</td>\n",
       "      <td>0.341233</td>\n",
       "      <td>0.298231</td>\n",
       "      <td>0.300124</td>\n",
       "      <td>0.184663</td>\n",
       "      <td>0.308119</td>\n",
       "    </tr>\n",
       "    <tr>\n",
       "      <th>min</th>\n",
       "      <td>0.000000</td>\n",
       "      <td>0.000000</td>\n",
       "      <td>0.000000</td>\n",
       "      <td>0.000000</td>\n",
       "      <td>0.000000</td>\n",
       "      <td>0.000000</td>\n",
       "      <td>0.000000</td>\n",
       "    </tr>\n",
       "    <tr>\n",
       "      <th>25%</th>\n",
       "      <td>0.181818</td>\n",
       "      <td>0.347826</td>\n",
       "      <td>0.090909</td>\n",
       "      <td>0.347826</td>\n",
       "      <td>0.181818</td>\n",
       "      <td>0.021739</td>\n",
       "      <td>0.272727</td>\n",
       "    </tr>\n",
       "    <tr>\n",
       "      <th>50%</th>\n",
       "      <td>0.363636</td>\n",
       "      <td>0.478261</td>\n",
       "      <td>0.454545</td>\n",
       "      <td>0.608696</td>\n",
       "      <td>0.454545</td>\n",
       "      <td>0.152174</td>\n",
       "      <td>0.545455</td>\n",
       "    </tr>\n",
       "    <tr>\n",
       "      <th>75%</th>\n",
       "      <td>0.454545</td>\n",
       "      <td>0.782609</td>\n",
       "      <td>0.727273</td>\n",
       "      <td>0.826087</td>\n",
       "      <td>0.636364</td>\n",
       "      <td>0.304348</td>\n",
       "      <td>0.818182</td>\n",
       "    </tr>\n",
       "    <tr>\n",
       "      <th>max</th>\n",
       "      <td>1.000000</td>\n",
       "      <td>1.000000</td>\n",
       "      <td>1.000000</td>\n",
       "      <td>1.000000</td>\n",
       "      <td>1.000000</td>\n",
       "      <td>1.000000</td>\n",
       "      <td>1.000000</td>\n",
       "    </tr>\n",
       "  </tbody>\n",
       "</table>\n",
       "</div>"
      ],
      "text/plain": [
       "       journey_month   dep_time_hr  dep_time_min   arr_time_hr  arr_time_min  \\\n",
       "count   10682.000000  10682.000000  10682.000000  10682.000000  10682.000000   \n",
       "mean        0.412248      0.543088      0.443805      0.580399      0.448920   \n",
       "std         0.271602      0.249949      0.341233      0.298231      0.300124   \n",
       "min         0.000000      0.000000      0.000000      0.000000      0.000000   \n",
       "25%         0.181818      0.347826      0.090909      0.347826      0.181818   \n",
       "50%         0.363636      0.478261      0.454545      0.608696      0.454545   \n",
       "75%         0.454545      0.782609      0.727273      0.826087      0.636364   \n",
       "max         1.000000      1.000000      1.000000      1.000000      1.000000   \n",
       "\n",
       "             dur_hr       dur_min  \n",
       "count  10682.000000  10682.000000  \n",
       "mean       0.200986      0.515021  \n",
       "std        0.184663      0.308119  \n",
       "min        0.000000      0.000000  \n",
       "25%        0.021739      0.272727  \n",
       "50%        0.152174      0.545455  \n",
       "75%        0.304348      0.818182  \n",
       "max        1.000000      1.000000  "
      ]
     },
     "execution_count": 200,
     "metadata": {},
     "output_type": "execute_result"
    }
   ],
   "source": [
    "X[numeric_cols] = scaler.transform(X[numeric_cols])\n",
    "X[numeric_cols].describe()"
   ]
  },
  {
   "cell_type": "code",
   "execution_count": 201,
   "id": "07b6b61c",
   "metadata": {},
   "outputs": [
    {
     "data": {
      "text/plain": [
       "OneHotEncoder(handle_unknown='ignore', sparse=False)"
      ]
     },
     "execution_count": 201,
     "metadata": {},
     "output_type": "execute_result"
    }
   ],
   "source": [
    "from sklearn.preprocessing import OneHotEncoder\n",
    "encoder = OneHotEncoder(sparse=False, handle_unknown='ignore')\n",
    "encoder.fit(df[categorical_cols])"
   ]
  },
  {
   "cell_type": "code",
   "execution_count": 202,
   "id": "29922da5",
   "metadata": {},
   "outputs": [
    {
     "data": {
      "text/plain": [
       "[array(['Air Asia', 'Air India', 'GoAir', 'IndiGo', 'Jet Airways',\n",
       "        'Jet Airways Business', 'Multiple carriers',\n",
       "        'Multiple carriers Premium economy', 'SpiceJet', 'Trujet',\n",
       "        'Vistara', 'Vistara Premium economy'], dtype=object),\n",
       " array(['Banglore', 'Chennai', 'Delhi', 'Kolkata', 'Mumbai'], dtype=object),\n",
       " array(['Banglore', 'Cochin', 'Delhi', 'Hyderabad', 'Kolkata', 'New Delhi'],\n",
       "       dtype=object),\n",
       " array(['BLR → AMD → DEL', 'BLR → BBI → DEL', 'BLR → BDQ → DEL',\n",
       "        'BLR → BOM → AMD → DEL', 'BLR → BOM → BHO → DEL',\n",
       "        'BLR → BOM → DEL', 'BLR → BOM → IDR → DEL',\n",
       "        'BLR → BOM → IDR → GWL → DEL', 'BLR → BOM → IXC → DEL',\n",
       "        'BLR → BOM → JDH → DEL', 'BLR → BOM → NAG → DEL',\n",
       "        'BLR → BOM → UDR → DEL', 'BLR → CCU → BBI → DEL',\n",
       "        'BLR → CCU → BBI → HYD → DEL', 'BLR → CCU → BBI → HYD → VGA → DEL',\n",
       "        'BLR → CCU → DEL', 'BLR → CCU → GAU → DEL', 'BLR → COK → DEL',\n",
       "        'BLR → DEL', 'BLR → GAU → DEL', 'BLR → GOI → DEL',\n",
       "        'BLR → HBX → BOM → AMD → DEL', 'BLR → HBX → BOM → BHO → DEL',\n",
       "        'BLR → HBX → BOM → NAG → DEL', 'BLR → HYD → DEL',\n",
       "        'BLR → HYD → VGA → DEL', 'BLR → IDR → DEL', 'BLR → LKO → DEL',\n",
       "        'BLR → MAA → DEL', 'BLR → NAG → DEL', 'BLR → PNQ → DEL',\n",
       "        'BLR → STV → DEL', 'BLR → TRV → COK → DEL', 'BLR → VGA → DEL',\n",
       "        'BLR → VGA → HYD → DEL', 'BLR → VGA → VTZ → DEL',\n",
       "        'BOM → AMD → ISK → HYD', 'BOM → BBI → HYD',\n",
       "        'BOM → BDQ → DEL → HYD', 'BOM → BHO → DEL → HYD',\n",
       "        'BOM → BLR → CCU → BBI → HYD', 'BOM → BLR → HYD',\n",
       "        'BOM → CCU → HYD', 'BOM → COK → MAA → HYD',\n",
       "        'BOM → DED → DEL → HYD', 'BOM → DEL → HYD', 'BOM → GOI → HYD',\n",
       "        'BOM → GOI → PNQ → HYD', 'BOM → HYD', 'BOM → IDR → DEL → HYD',\n",
       "        'BOM → JAI → DEL → HYD', 'BOM → JDH → DEL → HYD',\n",
       "        'BOM → JDH → JAI → DEL → HYD', 'BOM → JLR → HYD',\n",
       "        'BOM → MAA → HYD', 'BOM → NDC → HYD', 'BOM → RPR → VTZ → HYD',\n",
       "        'BOM → UDR → DEL → HYD', 'BOM → VNS → DEL → HYD',\n",
       "        'CCU → AMD → BLR', 'CCU → BBI → BLR', 'CCU → BBI → BOM → BLR',\n",
       "        'CCU → BBI → HYD → BLR', 'CCU → BBI → IXR → DEL → BLR',\n",
       "        'CCU → BLR', 'CCU → BOM → AMD → BLR', 'CCU → BOM → BLR',\n",
       "        'CCU → BOM → COK → BLR', 'CCU → BOM → GOI → BLR',\n",
       "        'CCU → BOM → HBX → BLR', 'CCU → BOM → PNQ → BLR',\n",
       "        'CCU → BOM → TRV → BLR', 'CCU → DEL → AMD → BLR',\n",
       "        'CCU → DEL → BLR', 'CCU → DEL → COK → BLR',\n",
       "        'CCU → DEL → COK → TRV → BLR', 'CCU → DEL → VGA → BLR',\n",
       "        'CCU → GAU → BLR', 'CCU → GAU → DEL → BLR',\n",
       "        'CCU → GAU → IMF → DEL → BLR', 'CCU → HYD → BLR',\n",
       "        'CCU → IXA → BLR', 'CCU → IXB → BLR', 'CCU → IXB → DEL → BLR',\n",
       "        'CCU → IXR → BBI → BLR', 'CCU → IXR → DEL → BLR',\n",
       "        'CCU → IXZ → MAA → BLR', 'CCU → JAI → BOM → BLR',\n",
       "        'CCU → JAI → DEL → BLR', 'CCU → KNU → BLR', 'CCU → MAA → BLR',\n",
       "        'CCU → NAG → BLR', 'CCU → PAT → BLR', 'CCU → PNQ → BLR',\n",
       "        'CCU → RPR → HYD → BLR', 'CCU → VNS → DEL → BLR',\n",
       "        'CCU → VTZ → BLR', 'DEL → AMD → BOM → COK', 'DEL → AMD → COK',\n",
       "        'DEL → ATQ → BOM → COK', 'DEL → BBI → COK',\n",
       "        'DEL → BDQ → BOM → COK', 'DEL → BHO → BOM → COK',\n",
       "        'DEL → BLR → COK', 'DEL → BOM → COK', 'DEL → CCU → BOM → COK',\n",
       "        'DEL → COK', 'DEL → DED → BOM → COK', 'DEL → GOI → BOM → COK',\n",
       "        'DEL → GWL → IDR → BOM → COK', 'DEL → HYD → BOM → COK',\n",
       "        'DEL → HYD → COK', 'DEL → HYD → MAA → COK',\n",
       "        'DEL → IDR → BOM → COK', 'DEL → IXC → BOM → COK',\n",
       "        'DEL → IXU → BOM → COK', 'DEL → JAI → BOM → COK',\n",
       "        'DEL → JDH → BOM → COK', 'DEL → LKO → BOM → COK',\n",
       "        'DEL → LKO → COK', 'DEL → MAA → BOM → COK', 'DEL → MAA → COK',\n",
       "        'DEL → NAG → BOM → COK', 'DEL → PNQ → COK',\n",
       "        'DEL → RPR → NAG → BOM → COK', 'DEL → TRV → COK',\n",
       "        'DEL → UDR → BOM → COK', 'MAA → CCU'], dtype=object),\n",
       " array(['1 stop', '2 stops', '3 stops', '4 stops', 'non-stop'],\n",
       "       dtype=object),\n",
       " array(['1 Long layover', '1 Short layover', '2 Long layover',\n",
       "        'Business class', 'Change airports', 'In-flight meal not included',\n",
       "        'No Info', 'No check-in baggage included', 'No info',\n",
       "        'Red-eye flight'], dtype=object),\n",
       " array(['Friday', 'Monday', 'Saturday', 'Sunday', 'Thursday', 'Tuesday',\n",
       "        'Wednesday'], dtype=object)]"
      ]
     },
     "execution_count": 202,
     "metadata": {},
     "output_type": "execute_result"
    }
   ],
   "source": [
    "encoder.categories_"
   ]
  },
  {
   "cell_type": "code",
   "execution_count": 203,
   "id": "9beb2574",
   "metadata": {},
   "outputs": [
    {
     "name": "stdout",
     "output_type": "stream",
     "text": [
      "['Airline_Air Asia', 'Airline_Air India', 'Airline_GoAir', 'Airline_IndiGo', 'Airline_Jet Airways', 'Airline_Jet Airways Business', 'Airline_Multiple carriers', 'Airline_Multiple carriers Premium economy', 'Airline_SpiceJet', 'Airline_Trujet', 'Airline_Vistara', 'Airline_Vistara Premium economy', 'Source_Banglore', 'Source_Chennai', 'Source_Delhi', 'Source_Kolkata', 'Source_Mumbai', 'Destination_Banglore', 'Destination_Cochin', 'Destination_Delhi', 'Destination_Hyderabad', 'Destination_Kolkata', 'Destination_New Delhi', 'Route_BLR → AMD → DEL', 'Route_BLR → BBI → DEL', 'Route_BLR → BDQ → DEL', 'Route_BLR → BOM → AMD → DEL', 'Route_BLR → BOM → BHO → DEL', 'Route_BLR → BOM → DEL', 'Route_BLR → BOM → IDR → DEL', 'Route_BLR → BOM → IDR → GWL → DEL', 'Route_BLR → BOM → IXC → DEL', 'Route_BLR → BOM → JDH → DEL', 'Route_BLR → BOM → NAG → DEL', 'Route_BLR → BOM → UDR → DEL', 'Route_BLR → CCU → BBI → DEL', 'Route_BLR → CCU → BBI → HYD → DEL', 'Route_BLR → CCU → BBI → HYD → VGA → DEL', 'Route_BLR → CCU → DEL', 'Route_BLR → CCU → GAU → DEL', 'Route_BLR → COK → DEL', 'Route_BLR → DEL', 'Route_BLR → GAU → DEL', 'Route_BLR → GOI → DEL', 'Route_BLR → HBX → BOM → AMD → DEL', 'Route_BLR → HBX → BOM → BHO → DEL', 'Route_BLR → HBX → BOM → NAG → DEL', 'Route_BLR → HYD → DEL', 'Route_BLR → HYD → VGA → DEL', 'Route_BLR → IDR → DEL', 'Route_BLR → LKO → DEL', 'Route_BLR → MAA → DEL', 'Route_BLR → NAG → DEL', 'Route_BLR → PNQ → DEL', 'Route_BLR → STV → DEL', 'Route_BLR → TRV → COK → DEL', 'Route_BLR → VGA → DEL', 'Route_BLR → VGA → HYD → DEL', 'Route_BLR → VGA → VTZ → DEL', 'Route_BOM → AMD → ISK → HYD', 'Route_BOM → BBI → HYD', 'Route_BOM → BDQ → DEL → HYD', 'Route_BOM → BHO → DEL → HYD', 'Route_BOM → BLR → CCU → BBI → HYD', 'Route_BOM → BLR → HYD', 'Route_BOM → CCU → HYD', 'Route_BOM → COK → MAA → HYD', 'Route_BOM → DED → DEL → HYD', 'Route_BOM → DEL → HYD', 'Route_BOM → GOI → HYD', 'Route_BOM → GOI → PNQ → HYD', 'Route_BOM → HYD', 'Route_BOM → IDR → DEL → HYD', 'Route_BOM → JAI → DEL → HYD', 'Route_BOM → JDH → DEL → HYD', 'Route_BOM → JDH → JAI → DEL → HYD', 'Route_BOM → JLR → HYD', 'Route_BOM → MAA → HYD', 'Route_BOM → NDC → HYD', 'Route_BOM → RPR → VTZ → HYD', 'Route_BOM → UDR → DEL → HYD', 'Route_BOM → VNS → DEL → HYD', 'Route_CCU → AMD → BLR', 'Route_CCU → BBI → BLR', 'Route_CCU → BBI → BOM → BLR', 'Route_CCU → BBI → HYD → BLR', 'Route_CCU → BBI → IXR → DEL → BLR', 'Route_CCU → BLR', 'Route_CCU → BOM → AMD → BLR', 'Route_CCU → BOM → BLR', 'Route_CCU → BOM → COK → BLR', 'Route_CCU → BOM → GOI → BLR', 'Route_CCU → BOM → HBX → BLR', 'Route_CCU → BOM → PNQ → BLR', 'Route_CCU → BOM → TRV → BLR', 'Route_CCU → DEL → AMD → BLR', 'Route_CCU → DEL → BLR', 'Route_CCU → DEL → COK → BLR', 'Route_CCU → DEL → COK → TRV → BLR', 'Route_CCU → DEL → VGA → BLR', 'Route_CCU → GAU → BLR', 'Route_CCU → GAU → DEL → BLR', 'Route_CCU → GAU → IMF → DEL → BLR', 'Route_CCU → HYD → BLR', 'Route_CCU → IXA → BLR', 'Route_CCU → IXB → BLR', 'Route_CCU → IXB → DEL → BLR', 'Route_CCU → IXR → BBI → BLR', 'Route_CCU → IXR → DEL → BLR', 'Route_CCU → IXZ → MAA → BLR', 'Route_CCU → JAI → BOM → BLR', 'Route_CCU → JAI → DEL → BLR', 'Route_CCU → KNU → BLR', 'Route_CCU → MAA → BLR', 'Route_CCU → NAG → BLR', 'Route_CCU → PAT → BLR', 'Route_CCU → PNQ → BLR', 'Route_CCU → RPR → HYD → BLR', 'Route_CCU → VNS → DEL → BLR', 'Route_CCU → VTZ → BLR', 'Route_DEL → AMD → BOM → COK', 'Route_DEL → AMD → COK', 'Route_DEL → ATQ → BOM → COK', 'Route_DEL → BBI → COK', 'Route_DEL → BDQ → BOM → COK', 'Route_DEL → BHO → BOM → COK', 'Route_DEL → BLR → COK', 'Route_DEL → BOM → COK', 'Route_DEL → CCU → BOM → COK', 'Route_DEL → COK', 'Route_DEL → DED → BOM → COK', 'Route_DEL → GOI → BOM → COK', 'Route_DEL → GWL → IDR → BOM → COK', 'Route_DEL → HYD → BOM → COK', 'Route_DEL → HYD → COK', 'Route_DEL → HYD → MAA → COK', 'Route_DEL → IDR → BOM → COK', 'Route_DEL → IXC → BOM → COK', 'Route_DEL → IXU → BOM → COK', 'Route_DEL → JAI → BOM → COK', 'Route_DEL → JDH → BOM → COK', 'Route_DEL → LKO → BOM → COK', 'Route_DEL → LKO → COK', 'Route_DEL → MAA → BOM → COK', 'Route_DEL → MAA → COK', 'Route_DEL → NAG → BOM → COK', 'Route_DEL → PNQ → COK', 'Route_DEL → RPR → NAG → BOM → COK', 'Route_DEL → TRV → COK', 'Route_DEL → UDR → BOM → COK', 'Route_MAA → CCU', 'Total_Stops_1 stop', 'Total_Stops_2 stops', 'Total_Stops_3 stops', 'Total_Stops_4 stops', 'Total_Stops_non-stop', 'Additional_Info_1 Long layover', 'Additional_Info_1 Short layover', 'Additional_Info_2 Long layover', 'Additional_Info_Business class', 'Additional_Info_Change airports', 'Additional_Info_In-flight meal not included', 'Additional_Info_No Info', 'Additional_Info_No check-in baggage included', 'Additional_Info_No info', 'Additional_Info_Red-eye flight', 'day_of_week_Friday', 'day_of_week_Monday', 'day_of_week_Saturday', 'day_of_week_Sunday', 'day_of_week_Thursday', 'day_of_week_Tuesday', 'day_of_week_Wednesday']\n"
     ]
    }
   ],
   "source": [
    "encoded_cols = list(encoder.get_feature_names(categorical_cols))\n",
    "print(encoded_cols)"
   ]
  },
  {
   "cell_type": "code",
   "execution_count": 204,
   "id": "4064a295",
   "metadata": {},
   "outputs": [],
   "source": [
    "X[encoded_cols] = encoder.transform(X[categorical_cols])"
   ]
  },
  {
   "cell_type": "code",
   "execution_count": 205,
   "id": "84e2f7e0",
   "metadata": {},
   "outputs": [
    {
     "data": {
      "text/html": [
       "<div>\n",
       "<style scoped>\n",
       "    .dataframe tbody tr th:only-of-type {\n",
       "        vertical-align: middle;\n",
       "    }\n",
       "\n",
       "    .dataframe tbody tr th {\n",
       "        vertical-align: top;\n",
       "    }\n",
       "\n",
       "    .dataframe thead th {\n",
       "        text-align: right;\n",
       "    }\n",
       "</style>\n",
       "<table border=\"1\" class=\"dataframe\">\n",
       "  <thead>\n",
       "    <tr style=\"text-align: right;\">\n",
       "      <th></th>\n",
       "      <th>Airline</th>\n",
       "      <th>Source</th>\n",
       "      <th>Destination</th>\n",
       "      <th>Route</th>\n",
       "      <th>Total_Stops</th>\n",
       "      <th>Additional_Info</th>\n",
       "      <th>journey_month</th>\n",
       "      <th>day_of_week</th>\n",
       "      <th>dep_time_hr</th>\n",
       "      <th>dep_time_min</th>\n",
       "      <th>...</th>\n",
       "      <th>Additional_Info_No check-in baggage included</th>\n",
       "      <th>Additional_Info_No info</th>\n",
       "      <th>Additional_Info_Red-eye flight</th>\n",
       "      <th>day_of_week_Friday</th>\n",
       "      <th>day_of_week_Monday</th>\n",
       "      <th>day_of_week_Saturday</th>\n",
       "      <th>day_of_week_Sunday</th>\n",
       "      <th>day_of_week_Thursday</th>\n",
       "      <th>day_of_week_Tuesday</th>\n",
       "      <th>day_of_week_Wednesday</th>\n",
       "    </tr>\n",
       "  </thead>\n",
       "  <tbody>\n",
       "    <tr>\n",
       "      <th>0</th>\n",
       "      <td>IndiGo</td>\n",
       "      <td>Banglore</td>\n",
       "      <td>New Delhi</td>\n",
       "      <td>BLR → DEL</td>\n",
       "      <td>non-stop</td>\n",
       "      <td>No info</td>\n",
       "      <td>0.181818</td>\n",
       "      <td>Sunday</td>\n",
       "      <td>0.956522</td>\n",
       "      <td>0.363636</td>\n",
       "      <td>...</td>\n",
       "      <td>0.0</td>\n",
       "      <td>1.0</td>\n",
       "      <td>0.0</td>\n",
       "      <td>0.0</td>\n",
       "      <td>0.0</td>\n",
       "      <td>0.0</td>\n",
       "      <td>1.0</td>\n",
       "      <td>0.0</td>\n",
       "      <td>0.0</td>\n",
       "      <td>0.0</td>\n",
       "    </tr>\n",
       "    <tr>\n",
       "      <th>1</th>\n",
       "      <td>Air India</td>\n",
       "      <td>Kolkata</td>\n",
       "      <td>Banglore</td>\n",
       "      <td>CCU → IXR → BBI → BLR</td>\n",
       "      <td>2 stops</td>\n",
       "      <td>No info</td>\n",
       "      <td>0.000000</td>\n",
       "      <td>Saturday</td>\n",
       "      <td>0.217391</td>\n",
       "      <td>0.909091</td>\n",
       "      <td>...</td>\n",
       "      <td>0.0</td>\n",
       "      <td>1.0</td>\n",
       "      <td>0.0</td>\n",
       "      <td>0.0</td>\n",
       "      <td>0.0</td>\n",
       "      <td>1.0</td>\n",
       "      <td>0.0</td>\n",
       "      <td>0.0</td>\n",
       "      <td>0.0</td>\n",
       "      <td>0.0</td>\n",
       "    </tr>\n",
       "  </tbody>\n",
       "</table>\n",
       "<p>2 rows × 187 columns</p>\n",
       "</div>"
      ],
      "text/plain": [
       "     Airline    Source Destination                  Route Total_Stops  \\\n",
       "0     IndiGo  Banglore   New Delhi              BLR → DEL    non-stop   \n",
       "1  Air India   Kolkata    Banglore  CCU → IXR → BBI → BLR     2 stops   \n",
       "\n",
       "  Additional_Info  journey_month day_of_week  dep_time_hr  dep_time_min  ...  \\\n",
       "0         No info       0.181818      Sunday     0.956522      0.363636  ...   \n",
       "1         No info       0.000000    Saturday     0.217391      0.909091  ...   \n",
       "\n",
       "   Additional_Info_No check-in baggage included  Additional_Info_No info  \\\n",
       "0                                           0.0                      1.0   \n",
       "1                                           0.0                      1.0   \n",
       "\n",
       "   Additional_Info_Red-eye flight  day_of_week_Friday  day_of_week_Monday  \\\n",
       "0                             0.0                 0.0                 0.0   \n",
       "1                             0.0                 0.0                 0.0   \n",
       "\n",
       "   day_of_week_Saturday  day_of_week_Sunday  day_of_week_Thursday  \\\n",
       "0                   0.0                 1.0                   0.0   \n",
       "1                   1.0                 0.0                   0.0   \n",
       "\n",
       "   day_of_week_Tuesday  day_of_week_Wednesday  \n",
       "0                  0.0                    0.0  \n",
       "1                  0.0                    0.0  \n",
       "\n",
       "[2 rows x 187 columns]"
      ]
     },
     "execution_count": 205,
     "metadata": {},
     "output_type": "execute_result"
    }
   ],
   "source": [
    "X.head(2)"
   ]
  },
  {
   "cell_type": "code",
   "execution_count": 206,
   "id": "8ce00263",
   "metadata": {},
   "outputs": [
    {
     "data": {
      "text/plain": [
       "['Airline',\n",
       " 'Source',\n",
       " 'Destination',\n",
       " 'Route',\n",
       " 'Total_Stops',\n",
       " 'Additional_Info',\n",
       " 'day_of_week']"
      ]
     },
     "execution_count": 206,
     "metadata": {},
     "output_type": "execute_result"
    }
   ],
   "source": [
    "categorical_cols"
   ]
  },
  {
   "cell_type": "code",
   "execution_count": 207,
   "id": "c1dfd011",
   "metadata": {},
   "outputs": [],
   "source": [
    "X.drop(X[categorical_cols],axis=1,inplace=True)"
   ]
  },
  {
   "cell_type": "code",
   "execution_count": 208,
   "id": "0b1a57df",
   "metadata": {},
   "outputs": [
    {
     "data": {
      "text/html": [
       "<div>\n",
       "<style scoped>\n",
       "    .dataframe tbody tr th:only-of-type {\n",
       "        vertical-align: middle;\n",
       "    }\n",
       "\n",
       "    .dataframe tbody tr th {\n",
       "        vertical-align: top;\n",
       "    }\n",
       "\n",
       "    .dataframe thead th {\n",
       "        text-align: right;\n",
       "    }\n",
       "</style>\n",
       "<table border=\"1\" class=\"dataframe\">\n",
       "  <thead>\n",
       "    <tr style=\"text-align: right;\">\n",
       "      <th></th>\n",
       "      <th>journey_month</th>\n",
       "      <th>dep_time_hr</th>\n",
       "      <th>dep_time_min</th>\n",
       "      <th>arr_time_hr</th>\n",
       "      <th>arr_time_min</th>\n",
       "      <th>dur_hr</th>\n",
       "      <th>dur_min</th>\n",
       "      <th>Airline_Air Asia</th>\n",
       "      <th>Airline_Air India</th>\n",
       "      <th>Airline_GoAir</th>\n",
       "      <th>...</th>\n",
       "      <th>Additional_Info_No check-in baggage included</th>\n",
       "      <th>Additional_Info_No info</th>\n",
       "      <th>Additional_Info_Red-eye flight</th>\n",
       "      <th>day_of_week_Friday</th>\n",
       "      <th>day_of_week_Monday</th>\n",
       "      <th>day_of_week_Saturday</th>\n",
       "      <th>day_of_week_Sunday</th>\n",
       "      <th>day_of_week_Thursday</th>\n",
       "      <th>day_of_week_Tuesday</th>\n",
       "      <th>day_of_week_Wednesday</th>\n",
       "    </tr>\n",
       "  </thead>\n",
       "  <tbody>\n",
       "    <tr>\n",
       "      <th>0</th>\n",
       "      <td>0.181818</td>\n",
       "      <td>0.956522</td>\n",
       "      <td>0.363636</td>\n",
       "      <td>0.043478</td>\n",
       "      <td>0.181818</td>\n",
       "      <td>0.021739</td>\n",
       "      <td>0.909091</td>\n",
       "      <td>0.0</td>\n",
       "      <td>0.0</td>\n",
       "      <td>0.0</td>\n",
       "      <td>...</td>\n",
       "      <td>0.0</td>\n",
       "      <td>1.0</td>\n",
       "      <td>0.0</td>\n",
       "      <td>0.0</td>\n",
       "      <td>0.0</td>\n",
       "      <td>0.0</td>\n",
       "      <td>1.0</td>\n",
       "      <td>0.0</td>\n",
       "      <td>0.0</td>\n",
       "      <td>0.0</td>\n",
       "    </tr>\n",
       "    <tr>\n",
       "      <th>1</th>\n",
       "      <td>0.000000</td>\n",
       "      <td>0.217391</td>\n",
       "      <td>0.909091</td>\n",
       "      <td>0.565217</td>\n",
       "      <td>0.272727</td>\n",
       "      <td>0.130435</td>\n",
       "      <td>0.454545</td>\n",
       "      <td>0.0</td>\n",
       "      <td>1.0</td>\n",
       "      <td>0.0</td>\n",
       "      <td>...</td>\n",
       "      <td>0.0</td>\n",
       "      <td>1.0</td>\n",
       "      <td>0.0</td>\n",
       "      <td>0.0</td>\n",
       "      <td>0.0</td>\n",
       "      <td>1.0</td>\n",
       "      <td>0.0</td>\n",
       "      <td>0.0</td>\n",
       "      <td>0.0</td>\n",
       "      <td>0.0</td>\n",
       "    </tr>\n",
       "  </tbody>\n",
       "</table>\n",
       "<p>2 rows × 180 columns</p>\n",
       "</div>"
      ],
      "text/plain": [
       "   journey_month  dep_time_hr  dep_time_min  arr_time_hr  arr_time_min  \\\n",
       "0       0.181818     0.956522      0.363636     0.043478      0.181818   \n",
       "1       0.000000     0.217391      0.909091     0.565217      0.272727   \n",
       "\n",
       "     dur_hr   dur_min  Airline_Air Asia  Airline_Air India  Airline_GoAir  \\\n",
       "0  0.021739  0.909091               0.0                0.0            0.0   \n",
       "1  0.130435  0.454545               0.0                1.0            0.0   \n",
       "\n",
       "   ...  Additional_Info_No check-in baggage included  Additional_Info_No info  \\\n",
       "0  ...                                           0.0                      1.0   \n",
       "1  ...                                           0.0                      1.0   \n",
       "\n",
       "   Additional_Info_Red-eye flight  day_of_week_Friday  day_of_week_Monday  \\\n",
       "0                             0.0                 0.0                 0.0   \n",
       "1                             0.0                 0.0                 0.0   \n",
       "\n",
       "   day_of_week_Saturday  day_of_week_Sunday  day_of_week_Thursday  \\\n",
       "0                   0.0                 1.0                   0.0   \n",
       "1                   1.0                 0.0                   0.0   \n",
       "\n",
       "   day_of_week_Tuesday  day_of_week_Wednesday  \n",
       "0                  0.0                    0.0  \n",
       "1                  0.0                    0.0  \n",
       "\n",
       "[2 rows x 180 columns]"
      ]
     },
     "execution_count": 208,
     "metadata": {},
     "output_type": "execute_result"
    }
   ],
   "source": [
    "X.head(2)"
   ]
  },
  {
   "cell_type": "code",
   "execution_count": 209,
   "id": "f916b1b7",
   "metadata": {},
   "outputs": [
    {
     "data": {
      "text/plain": [
       "0     3897\n",
       "1     7662\n",
       "2    13882\n",
       "3     6218\n",
       "Name: Price, dtype: int64"
      ]
     },
     "execution_count": 209,
     "metadata": {},
     "output_type": "execute_result"
    }
   ],
   "source": [
    "y.head(4)"
   ]
  },
  {
   "cell_type": "code",
   "execution_count": 210,
   "id": "a16fe57e",
   "metadata": {},
   "outputs": [],
   "source": [
    "from sklearn.model_selection import train_test_split\n",
    "\n",
    "X_train, X_test, y_train, y_test = train_test_split(X, y, test_size = 0.2,random_state=42)"
   ]
  },
  {
   "cell_type": "code",
   "execution_count": 211,
   "id": "53f49493",
   "metadata": {},
   "outputs": [
    {
     "data": {
      "text/plain": [
       "journey_month            0\n",
       "dep_time_hr              0\n",
       "dep_time_min             0\n",
       "arr_time_hr              0\n",
       "arr_time_min             0\n",
       "                        ..\n",
       "day_of_week_Saturday     0\n",
       "day_of_week_Sunday       0\n",
       "day_of_week_Thursday     0\n",
       "day_of_week_Tuesday      0\n",
       "day_of_week_Wednesday    0\n",
       "Length: 180, dtype: int64"
      ]
     },
     "execution_count": 211,
     "metadata": {},
     "output_type": "execute_result"
    }
   ],
   "source": [
    "X_train.isnull().sum()"
   ]
  },
  {
   "cell_type": "code",
   "execution_count": 226,
   "id": "dbbd154a",
   "metadata": {},
   "outputs": [],
   "source": [
    "from sklearn.linear_model import  Ridge, Lasso, LinearRegression\n",
    "from sklearn.neighbors import KNeighborsRegressor\n",
    "from sklearn.tree import DecisionTreeRegressor\n",
    "from sklearn.ensemble import GradientBoostingRegressor,RandomForestRegressor, BaggingRegressor,AdaBoostRegressor\n",
    "from xgboost import XGBRegressor\n",
    "from sklearn.naive_bayes import GaussianNB"
   ]
  },
  {
   "cell_type": "code",
   "execution_count": 216,
   "id": "32ffa6fe",
   "metadata": {},
   "outputs": [],
   "source": [
    "from sklearn.metrics import r2_score,mean_absolute_error,mean_squared_error\n",
    "\n",
    "# call a function named 'ml_model' which will call all Regressor model\n",
    "def predict(ml_model):\n",
    "\n",
    "    # Define Models Name\n",
    "    print('Model: {}'.format(ml_model))\n",
    "\n",
    "    # fit all models with data\n",
    "    model= ml_model.fit(X_train,y_train)\n",
    "\n",
    "    # Model Training Score\n",
    "    print(\"Training score: {}\".format(model.score(X_train,y_train)))\n",
    "\n",
    "    # Model Predictions\n",
    "    predictions = model.predict(X_test)\n",
    "\n",
    "    # Define r2 score for Regressor Model\n",
    "    r2score=r2_score(y_test,predictions) \n",
    "    print(\"r2 score: {}\".format(r2score))\n",
    "          \n",
    "    # Model Evoluation with MAE, MSE, RMSE\n",
    "    print('MAE:{}'.format(mean_absolute_error(y_test,predictions)))\n",
    "    print('MSE:{}'.format(mean_squared_error(y_test,predictions)))\n",
    "    print('RMSE:{}'.format(np.sqrt(mean_squared_error(y_test,predictions))))\n",
    "     \n",
    "    sns.distplot(y_test-predictions)"
   ]
  },
  {
   "cell_type": "code",
   "execution_count": 217,
   "id": "0b966db8",
   "metadata": {},
   "outputs": [
    {
     "name": "stdout",
     "output_type": "stream",
     "text": [
      "Model: Ridge()\n",
      "Training score: 0.7422060765713017\n",
      "r2 score: 0.7448595762248689\n",
      "MAE:1529.6261641378337\n",
      "MSE:5501352.188009885\n",
      "RMSE:2345.4961496472097\n"
     ]
    },
    {
     "data": {
      "image/png": "[encoded data removed]",
      "text/plain": [
       "<Figure size 432x288 with 1 Axes>"
      ]
     },
     "metadata": {
      "needs_background": "light"
     },
     "output_type": "display_data"
    }
   ],
   "source": [
    "predict(Ridge())"
   ]
  },
  {
   "cell_type": "code",
   "execution_count": 218,
   "id": "98420b72",
   "metadata": {},
   "outputs": [
    {
     "name": "stdout",
     "output_type": "stream",
     "text": [
      "Model: Lasso()\n",
      "Training score: 0.7382882569856086\n",
      "r2 score: 0.7413682656905077\n",
      "MAE:1547.9985224668092\n",
      "MSE:5576632.022396918\n",
      "RMSE:2361.489365294055\n"
     ]
    },
    {
     "data": {
      "image/png": "[encoded data removed]",
      "text/plain": [
       "<Figure size 432x288 with 1 Axes>"
      ]
     },
     "metadata": {
      "needs_background": "light"
     },
     "output_type": "display_data"
    }
   ],
   "source": [
    "predict(Lasso())"
   ]
  },
  {
   "cell_type": "code",
   "execution_count": 219,
   "id": "76cfdbb5",
   "metadata": {},
   "outputs": [
    {
     "name": "stdout",
     "output_type": "stream",
     "text": [
      "Model: LinearRegression()\n",
      "Training score: 0.7439995480825345\n",
      "r2 score: -1.0527662278583391e+18\n",
      "MAE:173493358712.6296\n",
      "MSE:2.2699804701256845e+25\n",
      "RMSE:4764431204378.635\n"
     ]
    },
    {
     "data": {
      "image/png": "[encoded data removed]",
      "text/plain": [
       "<Figure size 432x288 with 1 Axes>"
      ]
     },
     "metadata": {
      "needs_background": "light"
     },
     "output_type": "display_data"
    }
   ],
   "source": [
    "predict(LinearRegression())"
   ]
  },
  {
   "cell_type": "code",
   "execution_count": 220,
   "id": "0b27b3ab",
   "metadata": {},
   "outputs": [
    {
     "name": "stdout",
     "output_type": "stream",
     "text": [
      "Model: KNeighborsRegressor()\n",
      "Training score: 0.8574576012827632\n",
      "r2 score: 0.8294422973858728\n",
      "MAE:1114.2033692091716\n",
      "MSE:3677574.7902854467\n",
      "RMSE:1917.7003911678817\n"
     ]
    },
    {
     "data": {
      "image/png": "[encoded data removed]",
      "text/plain": [
       "<Figure size 432x288 with 1 Axes>"
      ]
     },
     "metadata": {
      "needs_background": "light"
     },
     "output_type": "display_data"
    }
   ],
   "source": [
    "predict(KNeighborsRegressor())"
   ]
  },
  {
   "cell_type": "code",
   "execution_count": 221,
   "id": "53dc394a",
   "metadata": {},
   "outputs": [
    {
     "name": "stdout",
     "output_type": "stream",
     "text": [
      "Model: DecisionTreeRegressor()\n",
      "Training score: 0.9909094554279877\n",
      "r2 score: 0.8027803278425596\n",
      "MAE:853.4732101076276\n",
      "MSE:4252461.679291451\n",
      "RMSE:2062.1497713045605\n"
     ]
    },
    {
     "data": {
      "image/png": "[encoded data removed]",
      "text/plain": [
       "<Figure size 432x288 with 1 Axes>"
      ]
     },
     "metadata": {
      "needs_background": "light"
     },
     "output_type": "display_data"
    }
   ],
   "source": [
    "predict(DecisionTreeRegressor())"
   ]
  },
  {
   "cell_type": "code",
   "execution_count": 222,
   "id": "3f8d1908",
   "metadata": {},
   "outputs": [
    {
     "name": "stdout",
     "output_type": "stream",
     "text": [
      "Model: RandomForestRegressor()\n",
      "Training score: 0.9732037369251193\n",
      "r2 score: 0.8439132290537213\n",
      "MAE:793.1965194698844\n",
      "MSE:3365551.7466001995\n",
      "RMSE:1834.5440159887687\n"
     ]
    },
    {
     "data": {
      "image/png": "[encoded data removed]",
      "text/plain": [
       "<Figure size 432x288 with 1 Axes>"
      ]
     },
     "metadata": {
      "needs_background": "light"
     },
     "output_type": "display_data"
    }
   ],
   "source": [
    "predict(RandomForestRegressor())"
   ]
  },
  {
   "cell_type": "code",
   "execution_count": 223,
   "id": "e33b7182",
   "metadata": {},
   "outputs": [
    {
     "name": "stdout",
     "output_type": "stream",
     "text": [
      "Model: GradientBoostingRegressor()\n",
      "Training score: 0.7979218333740661\n",
      "r2 score: 0.8047964662192326\n",
      "MAE:1379.0659367458936\n",
      "MSE:4208989.590056323\n",
      "RMSE:2051.5822162556206\n"
     ]
    },
    {
     "data": {
      "image/png": "[encoded data removed]",
      "text/plain": [
       "<Figure size 432x288 with 1 Axes>"
      ]
     },
     "metadata": {
      "needs_background": "light"
     },
     "output_type": "display_data"
    }
   ],
   "source": [
    "predict(GradientBoostingRegressor())"
   ]
  },
  {
   "cell_type": "code",
   "execution_count": 224,
   "id": "99a4bd9a",
   "metadata": {},
   "outputs": [
    {
     "name": "stdout",
     "output_type": "stream",
     "text": [
      "Model: XGBRegressor(base_score=None, booster=None, colsample_bylevel=None,\n",
      "             colsample_bynode=None, colsample_bytree=None,\n",
      "             enable_categorical=False, gamma=None, gpu_id=None,\n",
      "             importance_type=None, interaction_constraints=None,\n",
      "             learning_rate=None, max_delta_step=None, max_depth=None,\n",
      "             min_child_weight=None, missing=nan, monotone_constraints=None,\n",
      "             n_estimators=100, n_jobs=None, num_parallel_tree=None,\n",
      "             predictor=None, random_state=None, reg_alpha=None, reg_lambda=None,\n",
      "             scale_pos_weight=None, subsample=None, tree_method=None,\n",
      "             validate_parameters=None, verbosity=None)\n",
      "Training score: 0.9315765699194215\n",
      "r2 score: 0.8839334857669712\n",
      "MAE:931.3115777607884\n",
      "MSE:2502632.717241692\n",
      "RMSE:1581.9711493076263\n"
     ]
    },
    {
     "data": {
      "image/png": "[encoded data removed]",
      "text/plain": [
       "<Figure size 432x288 with 1 Axes>"
      ]
     },
     "metadata": {
      "needs_background": "light"
     },
     "output_type": "display_data"
    }
   ],
   "source": [
    "predict(XGBRegressor())"
   ]
  },
  {
   "cell_type": "code",
   "execution_count": 225,
   "id": "fa7b8855",
   "metadata": {},
   "outputs": [
    {
     "name": "stdout",
     "output_type": "stream",
     "text": [
      "Model: GaussianNB()\n",
      "Training score: 0.5089526038619075\n",
      "r2 score: 0.6593067962430559\n",
      "MAE:1377.3720168460459\n",
      "MSE:7346046.048666354\n",
      "RMSE:2710.3590257872397\n"
     ]
    },
    {
     "data": {
      "image/png": "[encoded data removed]",
      "text/plain": [
       "<Figure size 432x288 with 1 Axes>"
      ]
     },
     "metadata": {
      "needs_background": "light"
     },
     "output_type": "display_data"
    }
   ],
   "source": [
    "predict(GaussianNB())"
   ]
  },
  {
   "cell_type": "code",
   "execution_count": 227,
   "id": "172be7b0",
   "metadata": {},
   "outputs": [
    {
     "name": "stdout",
     "output_type": "stream",
     "text": [
      "Model: AdaBoostRegressor()\n",
      "Training score: 0.08876644889137497\n",
      "r2 score: 0.10478025687806403\n",
      "MAE:3707.4287705394513\n",
      "MSE:19302778.52369683\n",
      "RMSE:4393.492747654971\n"
     ]
    },
    {
     "data": {
      "image/png": "[encoded data removed]",
      "text/plain": [
       "<Figure size 432x288 with 1 Axes>"
      ]
     },
     "metadata": {
      "needs_background": "light"
     },
     "output_type": "display_data"
    }
   ],
   "source": [
    "predict(AdaBoostRegressor())"
   ]
  },
  {
   "cell_type": "code",
   "execution_count": 228,
   "id": "1d70e84e",
   "metadata": {},
   "outputs": [
    {
     "name": "stdout",
     "output_type": "stream",
     "text": [
      "Model: BaggingRegressor()\n",
      "Training score: 0.9679141667774986\n",
      "r2 score: 0.8279709568729329\n",
      "MAE:841.4296449740401\n",
      "MSE:3709299.9172974788\n",
      "RMSE:1925.954287437134\n"
     ]
    },
    {
     "data": {
      "image/png": "[encoded data removed]",
      "text/plain": [
       "<Figure size 432x288 with 1 Axes>"
      ]
     },
     "metadata": {
      "needs_background": "light"
     },
     "output_type": "display_data"
    }
   ],
   "source": [
    "predict(BaggingRegressor())"
   ]
  },
  {
   "cell_type": "markdown",
   "id": "2ddf949d",
   "metadata": {},
   "source": [
    "XGBoost gives minimum RMSE values and can be considered to be better than the other models used."
   ]
  },
  {
   "cell_type": "code",
   "execution_count": null,
   "id": "0ce90c72",
   "metadata": {},
   "outputs": [],
   "source": []
  }
 ],
 "metadata": {
  "kernelspec": {
   "display_name": "Python 3",
   "language": "python",
   "name": "python3"
  },
  "language_info": {
   "codemirror_mode": {
    "name": "ipython",
    "version": 3
   },
   "file_extension": ".py",
   "mimetype": "text/x-python",
   "name": "python",
   "nbconvert_exporter": "python",
   "pygments_lexer": "ipython3",
   "version": "3.8.8"
  }
 },
 "nbformat": 4,
 "nbformat_minor": 5
}
