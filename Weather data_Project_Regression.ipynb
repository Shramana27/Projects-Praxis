{
 "cells": [
  {
   "cell_type": "code",
   "execution_count": 396,
   "id": "e4989ce3",
   "metadata": {},
   "outputs": [],
   "source": [
    "import pandas as pd\n",
    "import numpy as np\n",
    "import seaborn as sns\n",
    "import matplotlib.pyplot as plt\n",
    "import warnings\n",
    "warnings.filterwarnings(\"ignore\")\n",
    "\n",
    "from sklearn.linear_model import LinearRegression\n",
    "import statsmodels.api as sm\n",
    "\n",
    "from sklearn.metrics import mean_squared_error"
   ]
  },
  {
   "cell_type": "code",
   "execution_count": 397,
   "id": "37956c0a",
   "metadata": {},
   "outputs": [],
   "source": [
    "df=pd.read_csv('weatherAUS.csv',parse_dates=['Date'])"
   ]
  },
  {
   "cell_type": "code",
   "execution_count": 398,
   "id": "921b48c4",
   "metadata": {},
   "outputs": [
    {
     "data": {
      "text/html": [
       "<div>\n",
       "<style scoped>\n",
       "    .dataframe tbody tr th:only-of-type {\n",
       "        vertical-align: middle;\n",
       "    }\n",
       "\n",
       "    .dataframe tbody tr th {\n",
       "        vertical-align: top;\n",
       "    }\n",
       "\n",
       "    .dataframe thead th {\n",
       "        text-align: right;\n",
       "    }\n",
       "</style>\n",
       "<table border=\"1\" class=\"dataframe\">\n",
       "  <thead>\n",
       "    <tr style=\"text-align: right;\">\n",
       "      <th></th>\n",
       "      <th>Date</th>\n",
       "      <th>Location</th>\n",
       "      <th>MinTemp</th>\n",
       "      <th>MaxTemp</th>\n",
       "      <th>Rainfall</th>\n",
       "      <th>Evaporation</th>\n",
       "      <th>Sunshine</th>\n",
       "      <th>WindGustDir</th>\n",
       "      <th>WindGustSpeed</th>\n",
       "      <th>WindDir9am</th>\n",
       "      <th>...</th>\n",
       "      <th>Humidity9am</th>\n",
       "      <th>Humidity3pm</th>\n",
       "      <th>Pressure9am</th>\n",
       "      <th>Pressure3pm</th>\n",
       "      <th>Cloud9am</th>\n",
       "      <th>Cloud3pm</th>\n",
       "      <th>Temp9am</th>\n",
       "      <th>Temp3pm</th>\n",
       "      <th>RainToday</th>\n",
       "      <th>RISK_MM</th>\n",
       "    </tr>\n",
       "  </thead>\n",
       "  <tbody>\n",
       "    <tr>\n",
       "      <th>0</th>\n",
       "      <td>2009-05-18</td>\n",
       "      <td>Hobart</td>\n",
       "      <td>5.1</td>\n",
       "      <td>14.3</td>\n",
       "      <td>0.0</td>\n",
       "      <td>1.8</td>\n",
       "      <td>8.9</td>\n",
       "      <td>NW</td>\n",
       "      <td>30.0</td>\n",
       "      <td>WSW</td>\n",
       "      <td>...</td>\n",
       "      <td>65.0</td>\n",
       "      <td>47.0</td>\n",
       "      <td>1023.1</td>\n",
       "      <td>1022.2</td>\n",
       "      <td>1.0</td>\n",
       "      <td>1.0</td>\n",
       "      <td>9.1</td>\n",
       "      <td>13.3</td>\n",
       "      <td>No</td>\n",
       "      <td>0.0</td>\n",
       "    </tr>\n",
       "    <tr>\n",
       "      <th>1</th>\n",
       "      <td>2009-07-03</td>\n",
       "      <td>Launceston</td>\n",
       "      <td>1.1</td>\n",
       "      <td>14.5</td>\n",
       "      <td>0.4</td>\n",
       "      <td>NaN</td>\n",
       "      <td>NaN</td>\n",
       "      <td>SSW</td>\n",
       "      <td>50.0</td>\n",
       "      <td>E</td>\n",
       "      <td>...</td>\n",
       "      <td>99.0</td>\n",
       "      <td>46.0</td>\n",
       "      <td>1001.5</td>\n",
       "      <td>1002.4</td>\n",
       "      <td>NaN</td>\n",
       "      <td>NaN</td>\n",
       "      <td>1.3</td>\n",
       "      <td>13.7</td>\n",
       "      <td>No</td>\n",
       "      <td>0.0</td>\n",
       "    </tr>\n",
       "    <tr>\n",
       "      <th>2</th>\n",
       "      <td>2010-02-18</td>\n",
       "      <td>Williamtown</td>\n",
       "      <td>19.7</td>\n",
       "      <td>26.2</td>\n",
       "      <td>0.0</td>\n",
       "      <td>7.2</td>\n",
       "      <td>7.2</td>\n",
       "      <td>SSE</td>\n",
       "      <td>41.0</td>\n",
       "      <td>SSE</td>\n",
       "      <td>...</td>\n",
       "      <td>48.0</td>\n",
       "      <td>50.0</td>\n",
       "      <td>1020.9</td>\n",
       "      <td>1021.9</td>\n",
       "      <td>6.0</td>\n",
       "      <td>4.0</td>\n",
       "      <td>22.7</td>\n",
       "      <td>24.4</td>\n",
       "      <td>No</td>\n",
       "      <td>0.2</td>\n",
       "    </tr>\n",
       "    <tr>\n",
       "      <th>3</th>\n",
       "      <td>2010-03-04</td>\n",
       "      <td>PerthAirport</td>\n",
       "      <td>16.6</td>\n",
       "      <td>28.0</td>\n",
       "      <td>0.0</td>\n",
       "      <td>9.0</td>\n",
       "      <td>11.3</td>\n",
       "      <td>SW</td>\n",
       "      <td>54.0</td>\n",
       "      <td>SSE</td>\n",
       "      <td>...</td>\n",
       "      <td>50.0</td>\n",
       "      <td>41.0</td>\n",
       "      <td>1018.3</td>\n",
       "      <td>1014.9</td>\n",
       "      <td>6.0</td>\n",
       "      <td>1.0</td>\n",
       "      <td>20.0</td>\n",
       "      <td>26.1</td>\n",
       "      <td>No</td>\n",
       "      <td>0.0</td>\n",
       "    </tr>\n",
       "    <tr>\n",
       "      <th>4</th>\n",
       "      <td>2010-09-09</td>\n",
       "      <td>GoldCoast</td>\n",
       "      <td>14.6</td>\n",
       "      <td>25.3</td>\n",
       "      <td>0.0</td>\n",
       "      <td>NaN</td>\n",
       "      <td>NaN</td>\n",
       "      <td>NNW</td>\n",
       "      <td>43.0</td>\n",
       "      <td>WNW</td>\n",
       "      <td>...</td>\n",
       "      <td>64.0</td>\n",
       "      <td>67.0</td>\n",
       "      <td>1020.3</td>\n",
       "      <td>1015.0</td>\n",
       "      <td>NaN</td>\n",
       "      <td>NaN</td>\n",
       "      <td>22.2</td>\n",
       "      <td>22.6</td>\n",
       "      <td>No</td>\n",
       "      <td>0.4</td>\n",
       "    </tr>\n",
       "  </tbody>\n",
       "</table>\n",
       "<p>5 rows × 23 columns</p>\n",
       "</div>"
      ],
      "text/plain": [
       "        Date      Location  MinTemp  MaxTemp  Rainfall  Evaporation  Sunshine  \\\n",
       "0 2009-05-18        Hobart      5.1     14.3       0.0          1.8       8.9   \n",
       "1 2009-07-03    Launceston      1.1     14.5       0.4          NaN       NaN   \n",
       "2 2010-02-18   Williamtown     19.7     26.2       0.0          7.2       7.2   \n",
       "3 2010-03-04  PerthAirport     16.6     28.0       0.0          9.0      11.3   \n",
       "4 2010-09-09     GoldCoast     14.6     25.3       0.0          NaN       NaN   \n",
       "\n",
       "  WindGustDir  WindGustSpeed WindDir9am  ... Humidity9am  Humidity3pm  \\\n",
       "0          NW           30.0        WSW  ...        65.0         47.0   \n",
       "1         SSW           50.0          E  ...        99.0         46.0   \n",
       "2         SSE           41.0        SSE  ...        48.0         50.0   \n",
       "3          SW           54.0        SSE  ...        50.0         41.0   \n",
       "4         NNW           43.0        WNW  ...        64.0         67.0   \n",
       "\n",
       "   Pressure9am  Pressure3pm  Cloud9am  Cloud3pm  Temp9am  Temp3pm  RainToday  \\\n",
       "0       1023.1       1022.2       1.0       1.0      9.1     13.3         No   \n",
       "1       1001.5       1002.4       NaN       NaN      1.3     13.7         No   \n",
       "2       1020.9       1021.9       6.0       4.0     22.7     24.4         No   \n",
       "3       1018.3       1014.9       6.0       1.0     20.0     26.1         No   \n",
       "4       1020.3       1015.0       NaN       NaN     22.2     22.6         No   \n",
       "\n",
       "   RISK_MM  \n",
       "0      0.0  \n",
       "1      0.0  \n",
       "2      0.2  \n",
       "3      0.0  \n",
       "4      0.4  \n",
       "\n",
       "[5 rows x 23 columns]"
      ]
     },
     "execution_count": 398,
     "metadata": {},
     "output_type": "execute_result"
    }
   ],
   "source": [
    "df.head()"
   ]
  },
  {
   "cell_type": "code",
   "execution_count": 399,
   "id": "e38196ec",
   "metadata": {},
   "outputs": [
    {
     "data": {
      "text/plain": [
       "(36881, 23)"
      ]
     },
     "execution_count": 399,
     "metadata": {},
     "output_type": "execute_result"
    }
   ],
   "source": [
    "df.shape"
   ]
  },
  {
   "cell_type": "code",
   "execution_count": 400,
   "id": "07508e02",
   "metadata": {},
   "outputs": [
    {
     "name": "stdout",
     "output_type": "stream",
     "text": [
      "<class 'pandas.core.frame.DataFrame'>\n",
      "RangeIndex: 36881 entries, 0 to 36880\n",
      "Data columns (total 23 columns):\n",
      " #   Column         Non-Null Count  Dtype         \n",
      "---  ------         --------------  -----         \n",
      " 0   Date           36881 non-null  datetime64[ns]\n",
      " 1   Location       36881 non-null  object        \n",
      " 2   MinTemp        36543 non-null  float64       \n",
      " 3   MaxTemp        36639 non-null  float64       \n",
      " 4   Rainfall       36255 non-null  float64       \n",
      " 5   Evaporation    24035 non-null  float64       \n",
      " 6   Sunshine       23317 non-null  float64       \n",
      " 7   WindGustDir    33513 non-null  object        \n",
      " 8   WindGustSpeed  33520 non-null  float64       \n",
      " 9   WindDir9am     34072 non-null  object        \n",
      " 10  WindDir3pm     35919 non-null  object        \n",
      " 11  WindSpeed9am   36219 non-null  float64       \n",
      " 12  WindSpeed3pm   36235 non-null  float64       \n",
      " 13  Humidity9am    36311 non-null  float64       \n",
      " 14  Humidity3pm    36370 non-null  float64       \n",
      " 15  Pressure9am    33309 non-null  float64       \n",
      " 16  Pressure3pm    33329 non-null  float64       \n",
      " 17  Cloud9am       24381 non-null  float64       \n",
      " 18  Cloud3pm       23899 non-null  float64       \n",
      " 19  Temp9am        36394 non-null  float64       \n",
      " 20  Temp3pm        36437 non-null  float64       \n",
      " 21  RainToday      36255 non-null  object        \n",
      " 22  RISK_MM        36261 non-null  float64       \n",
      "dtypes: datetime64[ns](1), float64(17), object(5)\n",
      "memory usage: 6.5+ MB\n"
     ]
    }
   ],
   "source": [
    "df.info()"
   ]
  },
  {
   "cell_type": "code",
   "execution_count": 401,
   "id": "43a99cd9",
   "metadata": {},
   "outputs": [
    {
     "data": {
      "text/plain": [
       "Date              0.00\n",
       "Location          0.00\n",
       "MinTemp           0.92\n",
       "MaxTemp           0.66\n",
       "Rainfall          1.70\n",
       "Evaporation      34.83\n",
       "Sunshine         36.78\n",
       "WindGustDir       9.13\n",
       "WindGustSpeed     9.11\n",
       "WindDir9am        7.62\n",
       "WindDir3pm        2.61\n",
       "WindSpeed9am      1.79\n",
       "WindSpeed3pm      1.75\n",
       "Humidity9am       1.55\n",
       "Humidity3pm       1.39\n",
       "Pressure9am       9.69\n",
       "Pressure3pm       9.63\n",
       "Cloud9am         33.89\n",
       "Cloud3pm         35.20\n",
       "Temp9am           1.32\n",
       "Temp3pm           1.20\n",
       "RainToday         1.70\n",
       "RISK_MM           1.68\n",
       "dtype: float64"
      ]
     },
     "execution_count": 401,
     "metadata": {},
     "output_type": "execute_result"
    }
   ],
   "source": [
    "round((df.isnull().sum()/df.shape[0])*100,2)"
   ]
  },
  {
   "cell_type": "code",
   "execution_count": 402,
   "id": "ba817998",
   "metadata": {},
   "outputs": [],
   "source": [
    "null=pd.DataFrame(df.isnull().sum())"
   ]
  },
  {
   "cell_type": "code",
   "execution_count": 403,
   "id": "04170820",
   "metadata": {},
   "outputs": [
    {
     "data": {
      "text/plain": [
       "0    204.137632\n",
       "dtype: float64"
      ]
     },
     "execution_count": 403,
     "metadata": {},
     "output_type": "execute_result"
    }
   ],
   "source": [
    "(null.sum()/df.shape[0])*100\n",
    "# Hence we should not remove the null values"
   ]
  },
  {
   "cell_type": "markdown",
   "id": "c24bbfa9",
   "metadata": {},
   "source": [
    "# Data Pre-processing"
   ]
  },
  {
   "cell_type": "markdown",
   "id": "64feb2a3",
   "metadata": {},
   "source": [
    "1. Removing missing values"
   ]
  },
  {
   "cell_type": "code",
   "execution_count": 404,
   "id": "86b4baa3",
   "metadata": {},
   "outputs": [],
   "source": [
    "df1=df.copy()"
   ]
  },
  {
   "cell_type": "code",
   "execution_count": 405,
   "id": "4365b933",
   "metadata": {},
   "outputs": [
    {
     "data": {
      "text/plain": [
       "Index(['MinTemp', 'MaxTemp', 'Rainfall', 'Evaporation', 'Sunshine',\n",
       "       'WindGustSpeed', 'WindSpeed9am', 'WindSpeed3pm', 'Humidity9am',\n",
       "       'Humidity3pm', 'Pressure9am', 'Pressure3pm', 'Cloud9am', 'Cloud3pm',\n",
       "       'Temp9am', 'Temp3pm', 'RISK_MM'],\n",
       "      dtype='object')"
      ]
     },
     "execution_count": 405,
     "metadata": {},
     "output_type": "execute_result"
    }
   ],
   "source": [
    "df.select_dtypes('float').columns"
   ]
  },
  {
   "cell_type": "code",
   "execution_count": 406,
   "id": "430fe7f0",
   "metadata": {},
   "outputs": [],
   "source": [
    "num=['MinTemp', 'MaxTemp', 'Rainfall', 'Evaporation', 'Sunshine',\n",
    "       'WindGustSpeed', 'WindSpeed9am', 'WindSpeed3pm', 'Humidity9am',\n",
    "       'Humidity3pm', 'Pressure9am', 'Pressure3pm', 'Cloud9am', 'Cloud3pm',\n",
    "       'Temp9am', 'Temp3pm']\n"
   ]
  },
  {
   "cell_type": "code",
   "execution_count": 407,
   "id": "b4d00d95",
   "metadata": {},
   "outputs": [],
   "source": [
    "df1[num]=df[num].fillna(df[num].median()) #replacing the null values with median for numerical data"
   ]
  },
  {
   "cell_type": "code",
   "execution_count": 408,
   "id": "21059bcc",
   "metadata": {},
   "outputs": [
    {
     "data": {
      "text/plain": [
       "620"
      ]
     },
     "execution_count": 408,
     "metadata": {},
     "output_type": "execute_result"
    }
   ],
   "source": [
    "df1.RISK_MM.isnull().sum()"
   ]
  },
  {
   "cell_type": "code",
   "execution_count": 409,
   "id": "696cb563",
   "metadata": {},
   "outputs": [],
   "source": [
    "categorical=df.select_dtypes('object').columns"
   ]
  },
  {
   "cell_type": "code",
   "execution_count": 410,
   "id": "739b6668",
   "metadata": {},
   "outputs": [],
   "source": [
    "df1[categorical]=df[categorical].fillna(df[categorical].mode())"
   ]
  },
  {
   "cell_type": "code",
   "execution_count": 411,
   "id": "c4c25ad4",
   "metadata": {},
   "outputs": [
    {
     "data": {
      "text/html": [
       "<div>\n",
       "<style scoped>\n",
       "    .dataframe tbody tr th:only-of-type {\n",
       "        vertical-align: middle;\n",
       "    }\n",
       "\n",
       "    .dataframe tbody tr th {\n",
       "        vertical-align: top;\n",
       "    }\n",
       "\n",
       "    .dataframe thead th {\n",
       "        text-align: right;\n",
       "    }\n",
       "</style>\n",
       "<table border=\"1\" class=\"dataframe\">\n",
       "  <thead>\n",
       "    <tr style=\"text-align: right;\">\n",
       "      <th></th>\n",
       "      <th>Date</th>\n",
       "      <th>Location</th>\n",
       "      <th>MinTemp</th>\n",
       "      <th>MaxTemp</th>\n",
       "      <th>Rainfall</th>\n",
       "      <th>Evaporation</th>\n",
       "      <th>Sunshine</th>\n",
       "      <th>WindGustDir</th>\n",
       "      <th>WindGustSpeed</th>\n",
       "      <th>WindDir9am</th>\n",
       "      <th>...</th>\n",
       "      <th>Humidity9am</th>\n",
       "      <th>Humidity3pm</th>\n",
       "      <th>Pressure9am</th>\n",
       "      <th>Pressure3pm</th>\n",
       "      <th>Cloud9am</th>\n",
       "      <th>Cloud3pm</th>\n",
       "      <th>Temp9am</th>\n",
       "      <th>Temp3pm</th>\n",
       "      <th>RainToday</th>\n",
       "      <th>RISK_MM</th>\n",
       "    </tr>\n",
       "  </thead>\n",
       "  <tbody>\n",
       "    <tr>\n",
       "      <th>0</th>\n",
       "      <td>2009-05-18</td>\n",
       "      <td>Hobart</td>\n",
       "      <td>5.1</td>\n",
       "      <td>14.3</td>\n",
       "      <td>0.0</td>\n",
       "      <td>1.8</td>\n",
       "      <td>8.9</td>\n",
       "      <td>NW</td>\n",
       "      <td>30.0</td>\n",
       "      <td>WSW</td>\n",
       "      <td>...</td>\n",
       "      <td>65.0</td>\n",
       "      <td>47.0</td>\n",
       "      <td>1023.1</td>\n",
       "      <td>1022.2</td>\n",
       "      <td>1.0</td>\n",
       "      <td>1.0</td>\n",
       "      <td>9.1</td>\n",
       "      <td>13.3</td>\n",
       "      <td>No</td>\n",
       "      <td>0.0</td>\n",
       "    </tr>\n",
       "    <tr>\n",
       "      <th>1</th>\n",
       "      <td>2009-07-03</td>\n",
       "      <td>Launceston</td>\n",
       "      <td>1.1</td>\n",
       "      <td>14.5</td>\n",
       "      <td>0.4</td>\n",
       "      <td>4.6</td>\n",
       "      <td>8.4</td>\n",
       "      <td>SSW</td>\n",
       "      <td>50.0</td>\n",
       "      <td>E</td>\n",
       "      <td>...</td>\n",
       "      <td>99.0</td>\n",
       "      <td>46.0</td>\n",
       "      <td>1001.5</td>\n",
       "      <td>1002.4</td>\n",
       "      <td>5.0</td>\n",
       "      <td>5.0</td>\n",
       "      <td>1.3</td>\n",
       "      <td>13.7</td>\n",
       "      <td>No</td>\n",
       "      <td>0.0</td>\n",
       "    </tr>\n",
       "    <tr>\n",
       "      <th>2</th>\n",
       "      <td>2010-02-18</td>\n",
       "      <td>Williamtown</td>\n",
       "      <td>19.7</td>\n",
       "      <td>26.2</td>\n",
       "      <td>0.0</td>\n",
       "      <td>7.2</td>\n",
       "      <td>7.2</td>\n",
       "      <td>SSE</td>\n",
       "      <td>41.0</td>\n",
       "      <td>SSE</td>\n",
       "      <td>...</td>\n",
       "      <td>48.0</td>\n",
       "      <td>50.0</td>\n",
       "      <td>1020.9</td>\n",
       "      <td>1021.9</td>\n",
       "      <td>6.0</td>\n",
       "      <td>4.0</td>\n",
       "      <td>22.7</td>\n",
       "      <td>24.4</td>\n",
       "      <td>No</td>\n",
       "      <td>0.2</td>\n",
       "    </tr>\n",
       "    <tr>\n",
       "      <th>3</th>\n",
       "      <td>2010-03-04</td>\n",
       "      <td>PerthAirport</td>\n",
       "      <td>16.6</td>\n",
       "      <td>28.0</td>\n",
       "      <td>0.0</td>\n",
       "      <td>9.0</td>\n",
       "      <td>11.3</td>\n",
       "      <td>SW</td>\n",
       "      <td>54.0</td>\n",
       "      <td>SSE</td>\n",
       "      <td>...</td>\n",
       "      <td>50.0</td>\n",
       "      <td>41.0</td>\n",
       "      <td>1018.3</td>\n",
       "      <td>1014.9</td>\n",
       "      <td>6.0</td>\n",
       "      <td>1.0</td>\n",
       "      <td>20.0</td>\n",
       "      <td>26.1</td>\n",
       "      <td>No</td>\n",
       "      <td>0.0</td>\n",
       "    </tr>\n",
       "    <tr>\n",
       "      <th>4</th>\n",
       "      <td>2010-09-09</td>\n",
       "      <td>GoldCoast</td>\n",
       "      <td>14.6</td>\n",
       "      <td>25.3</td>\n",
       "      <td>0.0</td>\n",
       "      <td>4.6</td>\n",
       "      <td>8.4</td>\n",
       "      <td>NNW</td>\n",
       "      <td>43.0</td>\n",
       "      <td>WNW</td>\n",
       "      <td>...</td>\n",
       "      <td>64.0</td>\n",
       "      <td>67.0</td>\n",
       "      <td>1020.3</td>\n",
       "      <td>1015.0</td>\n",
       "      <td>5.0</td>\n",
       "      <td>5.0</td>\n",
       "      <td>22.2</td>\n",
       "      <td>22.6</td>\n",
       "      <td>No</td>\n",
       "      <td>0.4</td>\n",
       "    </tr>\n",
       "  </tbody>\n",
       "</table>\n",
       "<p>5 rows × 23 columns</p>\n",
       "</div>"
      ],
      "text/plain": [
       "        Date      Location  MinTemp  MaxTemp  Rainfall  Evaporation  Sunshine  \\\n",
       "0 2009-05-18        Hobart      5.1     14.3       0.0          1.8       8.9   \n",
       "1 2009-07-03    Launceston      1.1     14.5       0.4          4.6       8.4   \n",
       "2 2010-02-18   Williamtown     19.7     26.2       0.0          7.2       7.2   \n",
       "3 2010-03-04  PerthAirport     16.6     28.0       0.0          9.0      11.3   \n",
       "4 2010-09-09     GoldCoast     14.6     25.3       0.0          4.6       8.4   \n",
       "\n",
       "  WindGustDir  WindGustSpeed WindDir9am  ... Humidity9am  Humidity3pm  \\\n",
       "0          NW           30.0        WSW  ...        65.0         47.0   \n",
       "1         SSW           50.0          E  ...        99.0         46.0   \n",
       "2         SSE           41.0        SSE  ...        48.0         50.0   \n",
       "3          SW           54.0        SSE  ...        50.0         41.0   \n",
       "4         NNW           43.0        WNW  ...        64.0         67.0   \n",
       "\n",
       "   Pressure9am  Pressure3pm  Cloud9am  Cloud3pm  Temp9am  Temp3pm  RainToday  \\\n",
       "0       1023.1       1022.2       1.0       1.0      9.1     13.3         No   \n",
       "1       1001.5       1002.4       5.0       5.0      1.3     13.7         No   \n",
       "2       1020.9       1021.9       6.0       4.0     22.7     24.4         No   \n",
       "3       1018.3       1014.9       6.0       1.0     20.0     26.1         No   \n",
       "4       1020.3       1015.0       5.0       5.0     22.2     22.6         No   \n",
       "\n",
       "   RISK_MM  \n",
       "0      0.0  \n",
       "1      0.0  \n",
       "2      0.2  \n",
       "3      0.0  \n",
       "4      0.4  \n",
       "\n",
       "[5 rows x 23 columns]"
      ]
     },
     "execution_count": 411,
     "metadata": {},
     "output_type": "execute_result"
    }
   ],
   "source": [
    "df1.head()"
   ]
  },
  {
   "cell_type": "code",
   "execution_count": 412,
   "id": "d3fd91a9",
   "metadata": {},
   "outputs": [],
   "source": [
    "#replacing the values by mode\n",
    "df1['WindGustDir'].fillna('SE',inplace=True)\n",
    "df1['WindDir9am'].fillna('N',inplace=True)\n",
    "df1['WindDir3pm'].fillna('SE',inplace=True)\n",
    "df1['RainToday'].fillna('No',inplace=True)"
   ]
  },
  {
   "cell_type": "code",
   "execution_count": 413,
   "id": "df60df59",
   "metadata": {},
   "outputs": [
    {
     "data": {
      "text/plain": [
       "Date               0\n",
       "Location           0\n",
       "MinTemp            0\n",
       "MaxTemp            0\n",
       "Rainfall           0\n",
       "Evaporation        0\n",
       "Sunshine           0\n",
       "WindGustDir        0\n",
       "WindGustSpeed      0\n",
       "WindDir9am         0\n",
       "WindDir3pm         0\n",
       "WindSpeed9am       0\n",
       "WindSpeed3pm       0\n",
       "Humidity9am        0\n",
       "Humidity3pm        0\n",
       "Pressure9am        0\n",
       "Pressure3pm        0\n",
       "Cloud9am           0\n",
       "Cloud3pm           0\n",
       "Temp9am            0\n",
       "Temp3pm            0\n",
       "RainToday          0\n",
       "RISK_MM          620\n",
       "dtype: int64"
      ]
     },
     "execution_count": 413,
     "metadata": {},
     "output_type": "execute_result"
    }
   ],
   "source": [
    "df1.isnull().sum()"
   ]
  },
  {
   "cell_type": "code",
   "execution_count": 414,
   "id": "56b8fe35",
   "metadata": {},
   "outputs": [],
   "source": [
    "df1.dropna(inplace=True)"
   ]
  },
  {
   "cell_type": "code",
   "execution_count": 415,
   "id": "bc7da7ef",
   "metadata": {},
   "outputs": [
    {
     "data": {
      "text/html": [
       "<div>\n",
       "<style scoped>\n",
       "    .dataframe tbody tr th:only-of-type {\n",
       "        vertical-align: middle;\n",
       "    }\n",
       "\n",
       "    .dataframe tbody tr th {\n",
       "        vertical-align: top;\n",
       "    }\n",
       "\n",
       "    .dataframe thead th {\n",
       "        text-align: right;\n",
       "    }\n",
       "</style>\n",
       "<table border=\"1\" class=\"dataframe\">\n",
       "  <thead>\n",
       "    <tr style=\"text-align: right;\">\n",
       "      <th></th>\n",
       "      <th>Date</th>\n",
       "      <th>Location</th>\n",
       "      <th>MinTemp</th>\n",
       "      <th>MaxTemp</th>\n",
       "      <th>Rainfall</th>\n",
       "      <th>Evaporation</th>\n",
       "      <th>Sunshine</th>\n",
       "      <th>WindGustDir</th>\n",
       "      <th>WindGustSpeed</th>\n",
       "      <th>WindDir9am</th>\n",
       "      <th>...</th>\n",
       "      <th>Humidity9am</th>\n",
       "      <th>Humidity3pm</th>\n",
       "      <th>Pressure9am</th>\n",
       "      <th>Pressure3pm</th>\n",
       "      <th>Cloud9am</th>\n",
       "      <th>Cloud3pm</th>\n",
       "      <th>Temp9am</th>\n",
       "      <th>Temp3pm</th>\n",
       "      <th>RainToday</th>\n",
       "      <th>RISK_MM</th>\n",
       "    </tr>\n",
       "  </thead>\n",
       "  <tbody>\n",
       "  </tbody>\n",
       "</table>\n",
       "<p>0 rows × 23 columns</p>\n",
       "</div>"
      ],
      "text/plain": [
       "Empty DataFrame\n",
       "Columns: [Date, Location, MinTemp, MaxTemp, Rainfall, Evaporation, Sunshine, WindGustDir, WindGustSpeed, WindDir9am, WindDir3pm, WindSpeed9am, WindSpeed3pm, Humidity9am, Humidity3pm, Pressure9am, Pressure3pm, Cloud9am, Cloud3pm, Temp9am, Temp3pm, RainToday, RISK_MM]\n",
       "Index: []\n",
       "\n",
       "[0 rows x 23 columns]"
      ]
     },
     "execution_count": 415,
     "metadata": {},
     "output_type": "execute_result"
    }
   ],
   "source": [
    "#Checking for duplicates\n",
    "df1[df1.duplicated()]"
   ]
  },
  {
   "cell_type": "code",
   "execution_count": 416,
   "id": "d324e3fe",
   "metadata": {},
   "outputs": [
    {
     "data": {
      "text/plain": [
       "Date             0\n",
       "Location         0\n",
       "MinTemp          0\n",
       "MaxTemp          0\n",
       "Rainfall         0\n",
       "Evaporation      0\n",
       "Sunshine         0\n",
       "WindGustDir      0\n",
       "WindGustSpeed    0\n",
       "WindDir9am       0\n",
       "WindDir3pm       0\n",
       "WindSpeed9am     0\n",
       "WindSpeed3pm     0\n",
       "Humidity9am      0\n",
       "Humidity3pm      0\n",
       "Pressure9am      0\n",
       "Pressure3pm      0\n",
       "Cloud9am         0\n",
       "Cloud3pm         0\n",
       "Temp9am          0\n",
       "Temp3pm          0\n",
       "RainToday        0\n",
       "RISK_MM          0\n",
       "dtype: int64"
      ]
     },
     "execution_count": 416,
     "metadata": {},
     "output_type": "execute_result"
    }
   ],
   "source": [
    "df1.isnull().sum()"
   ]
  },
  {
   "cell_type": "markdown",
   "id": "b48bf1d8",
   "metadata": {},
   "source": [
    "# EXPLORATORY DATA ANALYSIS"
   ]
  },
  {
   "cell_type": "code",
   "execution_count": 417,
   "id": "8892a5d9",
   "metadata": {},
   "outputs": [
    {
     "data": {
      "text/plain": [
       "<AxesSubplot:xlabel='Rainfall'>"
      ]
     },
     "execution_count": 417,
     "metadata": {},
     "output_type": "execute_result"
    },
    {
     "data": {
      "image/png": "[encoded data removed]",
      "text/plain": [
       "<Figure size 1440x576 with 16 Axes>"
      ]
     },
     "metadata": {
      "needs_background": "light"
     },
     "output_type": "display_data"
    }
   ],
   "source": [
    "f,ax=plt.subplots(2,8,figsize=(20,8))\n",
    "sns.boxplot('WindSpeed9am',data=df1,ax=ax[0,0])\n",
    "sns.boxplot('Cloud9am',data=df1,ax=ax[0,1])\n",
    "sns.boxplot('MaxTemp',data=df1,ax=ax[0,2])\n",
    "sns.boxplot('Pressure3pm',data=df1,ax=ax[0,3])\n",
    "sns.boxplot('Temp9am',data=df1,ax=ax[0,4])\n",
    "sns.boxplot('Evaporation',data=df1,ax=ax[0,5])\n",
    "sns.boxplot('Sunshine',data=df1,ax=ax[0,6])\n",
    "sns.boxplot('MinTemp',data=df1,ax=ax[0,7])\n",
    "sns.boxplot('WindGustSpeed',data=df1,ax=ax[1,0])\n",
    "sns.boxplot('Humidity3pm',data=df1,ax=ax[1,2])\n",
    "sns.boxplot('Pressure9am',data=df1,ax=ax[1,3])\n",
    "sns.boxplot('Cloud3pm',data=df1,ax=ax[1,4])\n",
    "sns.boxplot('Temp3pm',data=df1,ax=ax[1,5])\n",
    "sns.boxplot('RISK_MM',data=df1,ax=ax[1,6])\n",
    "sns.boxplot('Rainfall',data=df1,ax=ax[1,7])\n",
    "\n",
    "\n"
   ]
  },
  {
   "cell_type": "code",
   "execution_count": 418,
   "id": "4c922a4b",
   "metadata": {},
   "outputs": [
    {
     "data": {
      "text/plain": [
       "{'whiskers': [<matplotlib.lines.Line2D at 0x29df0fa8820>,\n",
       "  <matplotlib.lines.Line2D at 0x29df0fa8b80>],\n",
       " 'caps': [<matplotlib.lines.Line2D at 0x29df0fa8ee0>,\n",
       "  <matplotlib.lines.Line2D at 0x29df0fb3280>],\n",
       " 'boxes': [<matplotlib.lines.Line2D at 0x29df0fa84c0>],\n",
       " 'medians': [<matplotlib.lines.Line2D at 0x29df0fb35e0>],\n",
       " 'fliers': [<matplotlib.lines.Line2D at 0x29df0fb3940>],\n",
       " 'means': []}"
      ]
     },
     "execution_count": 418,
     "metadata": {},
     "output_type": "execute_result"
    },
    {
     "data": {
      "image/png": "[encoded data removed]",
      "text/plain": [
       "<Figure size 432x288 with 1 Axes>"
      ]
     },
     "metadata": {
      "needs_background": "light"
     },
     "output_type": "display_data"
    }
   ],
   "source": [
    "plt.boxplot(df1['WindSpeed3pm'],vert=False)"
   ]
  },
  {
   "cell_type": "code",
   "execution_count": 419,
   "id": "f6392308",
   "metadata": {},
   "outputs": [
    {
     "data": {
      "text/plain": [
       "(36261, 23)"
      ]
     },
     "execution_count": 419,
     "metadata": {},
     "output_type": "execute_result"
    }
   ],
   "source": [
    "df1.shape"
   ]
  },
  {
   "cell_type": "markdown",
   "id": "460ddcc1",
   "metadata": {},
   "source": [
    "There are many outliers in the data.\n",
    "Cloud9am and Cloud3pm are negatively skewed, others are mostly positively skewed."
   ]
  },
  {
   "cell_type": "code",
   "execution_count": 420,
   "id": "61fe4c72",
   "metadata": {},
   "outputs": [
    {
     "data": {
      "text/plain": [
       "<AxesSubplot:>"
      ]
     },
     "execution_count": 420,
     "metadata": {},
     "output_type": "execute_result"
    },
    {
     "data": {
      "image/png": "[encoded data removed]",
      "text/plain": [
       "<Figure size 1440x576 with 2 Axes>"
      ]
     },
     "metadata": {
      "needs_background": "light"
     },
     "output_type": "display_data"
    }
   ],
   "source": [
    "plt.subplots(figsize=(20,8))\n",
    "sns.heatmap(df1[['WindSpeed9am',\n",
    " 'Cloud9am',\n",
    " 'MaxTemp',\n",
    " 'Pressure3pm',\n",
    " 'Temp9am',\n",
    " 'Evaporation',\n",
    " 'WindSpeed3pm',\n",
    " 'Sunshine',\n",
    " 'MinTemp',\n",
    " 'WindGustSpeed',\n",
    " 'Humidity3pm',\n",
    " 'Pressure9am',\n",
    " 'Cloud3pm',\n",
    " 'RISK_MM',\n",
    " 'Temp3pm',\n",
    " 'Rainfall',\n",
    " 'Humidity9am']].corr(),annot=True)"
   ]
  },
  {
   "cell_type": "code",
   "execution_count": 421,
   "id": "94aa0765",
   "metadata": {},
   "outputs": [
    {
     "name": "stdout",
     "output_type": "stream",
     "text": [
      "\n",
      "['MaxTemp', 'WindSpeed3pm', 'Humidity3pm', 'Pressure3pm', 'Cloud3pm', 'Temp9am', 'Temp3pm']\n"
     ]
    }
   ],
   "source": [
    "cor_matrix = df1.corr().abs()\n",
    "upper_tri = cor_matrix.where(np.triu(np.ones(cor_matrix.shape),k=1).astype(np.bool))\n",
    "to_drop = [column for column in upper_tri.columns if any(upper_tri[column] > 0.60)]\n",
    "print(); print(to_drop)"
   ]
  },
  {
   "cell_type": "code",
   "execution_count": 422,
   "id": "26631530",
   "metadata": {},
   "outputs": [],
   "source": [
    "df1.drop(df1[to_drop],axis=1,inplace=True)"
   ]
  },
  {
   "cell_type": "code",
   "execution_count": 423,
   "id": "50043d83",
   "metadata": {},
   "outputs": [
    {
     "data": {
      "text/plain": [
       "array([[<AxesSubplot:title={'center':'MinTemp'}>]], dtype=object)"
      ]
     },
     "execution_count": 423,
     "metadata": {},
     "output_type": "execute_result"
    },
    {
     "data": {
      "image/png": "[encoded data removed]",
      "text/plain": [
       "<Figure size 432x288 with 1 Axes>"
      ]
     },
     "metadata": {
      "needs_background": "light"
     },
     "output_type": "display_data"
    }
   ],
   "source": [
    "df1.hist('MinTemp')"
   ]
  },
  {
   "cell_type": "markdown",
   "id": "25f688db",
   "metadata": {},
   "source": [
    "2. Outlier removal"
   ]
  },
  {
   "cell_type": "code",
   "execution_count": 424,
   "id": "9261932b",
   "metadata": {},
   "outputs": [
    {
     "data": {
      "text/html": [
       "<div>\n",
       "<style scoped>\n",
       "    .dataframe tbody tr th:only-of-type {\n",
       "        vertical-align: middle;\n",
       "    }\n",
       "\n",
       "    .dataframe tbody tr th {\n",
       "        vertical-align: top;\n",
       "    }\n",
       "\n",
       "    .dataframe thead th {\n",
       "        text-align: right;\n",
       "    }\n",
       "</style>\n",
       "<table border=\"1\" class=\"dataframe\">\n",
       "  <thead>\n",
       "    <tr style=\"text-align: right;\">\n",
       "      <th></th>\n",
       "      <th>MinTemp</th>\n",
       "      <th>Rainfall</th>\n",
       "      <th>Evaporation</th>\n",
       "      <th>Sunshine</th>\n",
       "      <th>WindGustSpeed</th>\n",
       "      <th>WindSpeed9am</th>\n",
       "      <th>Humidity9am</th>\n",
       "      <th>Pressure9am</th>\n",
       "      <th>Cloud9am</th>\n",
       "      <th>RISK_MM</th>\n",
       "    </tr>\n",
       "  </thead>\n",
       "  <tbody>\n",
       "    <tr>\n",
       "      <th>0</th>\n",
       "      <td>5.1</td>\n",
       "      <td>0.0</td>\n",
       "      <td>1.8</td>\n",
       "      <td>8.9</td>\n",
       "      <td>30.0</td>\n",
       "      <td>7.0</td>\n",
       "      <td>65.0</td>\n",
       "      <td>1023.1</td>\n",
       "      <td>1.0</td>\n",
       "      <td>0.0</td>\n",
       "    </tr>\n",
       "    <tr>\n",
       "      <th>1</th>\n",
       "      <td>1.1</td>\n",
       "      <td>0.4</td>\n",
       "      <td>4.6</td>\n",
       "      <td>8.4</td>\n",
       "      <td>50.0</td>\n",
       "      <td>7.0</td>\n",
       "      <td>99.0</td>\n",
       "      <td>1001.5</td>\n",
       "      <td>5.0</td>\n",
       "      <td>0.0</td>\n",
       "    </tr>\n",
       "    <tr>\n",
       "      <th>2</th>\n",
       "      <td>19.7</td>\n",
       "      <td>0.0</td>\n",
       "      <td>7.2</td>\n",
       "      <td>7.2</td>\n",
       "      <td>41.0</td>\n",
       "      <td>19.0</td>\n",
       "      <td>48.0</td>\n",
       "      <td>1020.9</td>\n",
       "      <td>6.0</td>\n",
       "      <td>0.2</td>\n",
       "    </tr>\n",
       "    <tr>\n",
       "      <th>3</th>\n",
       "      <td>16.6</td>\n",
       "      <td>0.0</td>\n",
       "      <td>9.0</td>\n",
       "      <td>11.3</td>\n",
       "      <td>54.0</td>\n",
       "      <td>28.0</td>\n",
       "      <td>50.0</td>\n",
       "      <td>1018.3</td>\n",
       "      <td>6.0</td>\n",
       "      <td>0.0</td>\n",
       "    </tr>\n",
       "    <tr>\n",
       "      <th>4</th>\n",
       "      <td>14.6</td>\n",
       "      <td>0.0</td>\n",
       "      <td>4.6</td>\n",
       "      <td>8.4</td>\n",
       "      <td>43.0</td>\n",
       "      <td>6.0</td>\n",
       "      <td>64.0</td>\n",
       "      <td>1020.3</td>\n",
       "      <td>5.0</td>\n",
       "      <td>0.4</td>\n",
       "    </tr>\n",
       "  </tbody>\n",
       "</table>\n",
       "</div>"
      ],
      "text/plain": [
       "   MinTemp  Rainfall  Evaporation  Sunshine  WindGustSpeed  WindSpeed9am  \\\n",
       "0      5.1       0.0          1.8       8.9           30.0           7.0   \n",
       "1      1.1       0.4          4.6       8.4           50.0           7.0   \n",
       "2     19.7       0.0          7.2       7.2           41.0          19.0   \n",
       "3     16.6       0.0          9.0      11.3           54.0          28.0   \n",
       "4     14.6       0.0          4.6       8.4           43.0           6.0   \n",
       "\n",
       "   Humidity9am  Pressure9am  Cloud9am  RISK_MM  \n",
       "0         65.0       1023.1       1.0      0.0  \n",
       "1         99.0       1001.5       5.0      0.0  \n",
       "2         48.0       1020.9       6.0      0.2  \n",
       "3         50.0       1018.3       6.0      0.0  \n",
       "4         64.0       1020.3       5.0      0.4  "
      ]
     },
     "execution_count": 424,
     "metadata": {},
     "output_type": "execute_result"
    }
   ],
   "source": [
    "df_float=df1.select_dtypes('float')\n",
    "df_float.head()"
   ]
  },
  {
   "cell_type": "code",
   "execution_count": 425,
   "id": "78ba022e",
   "metadata": {},
   "outputs": [
    {
     "data": {
      "text/html": [
       "<div>\n",
       "<style scoped>\n",
       "    .dataframe tbody tr th:only-of-type {\n",
       "        vertical-align: middle;\n",
       "    }\n",
       "\n",
       "    .dataframe tbody tr th {\n",
       "        vertical-align: top;\n",
       "    }\n",
       "\n",
       "    .dataframe thead th {\n",
       "        text-align: right;\n",
       "    }\n",
       "</style>\n",
       "<table border=\"1\" class=\"dataframe\">\n",
       "  <thead>\n",
       "    <tr style=\"text-align: right;\">\n",
       "      <th></th>\n",
       "      <th>Location</th>\n",
       "      <th>WindGustDir</th>\n",
       "      <th>WindDir9am</th>\n",
       "      <th>WindDir3pm</th>\n",
       "      <th>RainToday</th>\n",
       "    </tr>\n",
       "  </thead>\n",
       "  <tbody>\n",
       "    <tr>\n",
       "      <th>0</th>\n",
       "      <td>Hobart</td>\n",
       "      <td>NW</td>\n",
       "      <td>WSW</td>\n",
       "      <td>SSE</td>\n",
       "      <td>No</td>\n",
       "    </tr>\n",
       "    <tr>\n",
       "      <th>1</th>\n",
       "      <td>Launceston</td>\n",
       "      <td>SSW</td>\n",
       "      <td>E</td>\n",
       "      <td>SW</td>\n",
       "      <td>No</td>\n",
       "    </tr>\n",
       "    <tr>\n",
       "      <th>2</th>\n",
       "      <td>Williamtown</td>\n",
       "      <td>SSE</td>\n",
       "      <td>SSE</td>\n",
       "      <td>SSE</td>\n",
       "      <td>No</td>\n",
       "    </tr>\n",
       "    <tr>\n",
       "      <th>3</th>\n",
       "      <td>PerthAirport</td>\n",
       "      <td>SW</td>\n",
       "      <td>SSE</td>\n",
       "      <td>SW</td>\n",
       "      <td>No</td>\n",
       "    </tr>\n",
       "    <tr>\n",
       "      <th>4</th>\n",
       "      <td>GoldCoast</td>\n",
       "      <td>NNW</td>\n",
       "      <td>WNW</td>\n",
       "      <td>N</td>\n",
       "      <td>No</td>\n",
       "    </tr>\n",
       "  </tbody>\n",
       "</table>\n",
       "</div>"
      ],
      "text/plain": [
       "       Location WindGustDir WindDir9am WindDir3pm RainToday\n",
       "0        Hobart          NW        WSW        SSE        No\n",
       "1    Launceston         SSW          E         SW        No\n",
       "2   Williamtown         SSE        SSE        SSE        No\n",
       "3  PerthAirport          SW        SSE         SW        No\n",
       "4     GoldCoast         NNW        WNW          N        No"
      ]
     },
     "execution_count": 425,
     "metadata": {},
     "output_type": "execute_result"
    }
   ],
   "source": [
    "df1.select_dtypes('object').head()"
   ]
  },
  {
   "cell_type": "code",
   "execution_count": 426,
   "id": "0fd60b8e",
   "metadata": {},
   "outputs": [],
   "source": [
    "def outlier_removal(dataframe, dataframe2, limit = 1.5):\n",
    "        \n",
    "    for col in dataframe2:           # This is for the variables to be treated from upper right whisker\n",
    "        rw = limit*(dataframe[col].quantile(0.75) - dataframe[col].quantile(0.25)) + dataframe[col].quantile(0.75)\n",
    "        lw= dataframe[col].quantile(0.25)-(limit*(dataframe[col].quantile(0.75) - dataframe[col].quantile(0.25)))  \n",
    "        dataframe = dataframe[~(dataframe[col]>rw)]\n",
    "        dataframe = dataframe[~(dataframe[col]<lw)]\n",
    "        dataframe = dataframe   \n",
    "    \n",
    "    return dataframe"
   ]
  },
  {
   "cell_type": "code",
   "execution_count": 427,
   "id": "bdefb98f",
   "metadata": {},
   "outputs": [
    {
     "data": {
      "text/plain": [
       "(36261, 16)"
      ]
     },
     "execution_count": 427,
     "metadata": {},
     "output_type": "execute_result"
    }
   ],
   "source": [
    "df1.shape"
   ]
  },
  {
   "cell_type": "code",
   "execution_count": 428,
   "id": "49f699d4",
   "metadata": {},
   "outputs": [],
   "source": [
    "df2 = outlier_removal(df1, df_float, limit = 1.5)"
   ]
  },
  {
   "cell_type": "code",
   "execution_count": 429,
   "id": "be7c0d06",
   "metadata": {},
   "outputs": [
    {
     "data": {
      "text/plain": [
       "{'whiskers': [<matplotlib.lines.Line2D at 0x29df008d190>,\n",
       "  <matplotlib.lines.Line2D at 0x29df008d4f0>],\n",
       " 'caps': [<matplotlib.lines.Line2D at 0x29df008d850>,\n",
       "  <matplotlib.lines.Line2D at 0x29df008dbb0>],\n",
       " 'boxes': [<matplotlib.lines.Line2D at 0x29df007edf0>],\n",
       " 'medians': [<matplotlib.lines.Line2D at 0x29df008df10>],\n",
       " 'fliers': [<matplotlib.lines.Line2D at 0x29df00982b0>],\n",
       " 'means': []}"
      ]
     },
     "execution_count": 429,
     "metadata": {},
     "output_type": "execute_result"
    },
    {
     "data": {
      "image/png": "[encoded data removed]",
      "text/plain": [
       "<Figure size 432x288 with 1 Axes>"
      ]
     },
     "metadata": {
      "needs_background": "light"
     },
     "output_type": "display_data"
    }
   ],
   "source": [
    "plt.boxplot(df2['Pressure9am'],vert=False)"
   ]
  },
  {
   "cell_type": "code",
   "execution_count": 430,
   "id": "07ec143c",
   "metadata": {},
   "outputs": [
    {
     "data": {
      "text/plain": [
       "(16458, 16)"
      ]
     },
     "execution_count": 430,
     "metadata": {},
     "output_type": "execute_result"
    }
   ],
   "source": [
    "df2.shape\n"
   ]
  },
  {
   "cell_type": "markdown",
   "id": "6283d7b0",
   "metadata": {},
   "source": [
    "# Label Encoding"
   ]
  },
  {
   "cell_type": "code",
   "execution_count": 431,
   "id": "26baead4",
   "metadata": {},
   "outputs": [
    {
     "data": {
      "text/html": [
       "<div>\n",
       "<style scoped>\n",
       "    .dataframe tbody tr th:only-of-type {\n",
       "        vertical-align: middle;\n",
       "    }\n",
       "\n",
       "    .dataframe tbody tr th {\n",
       "        vertical-align: top;\n",
       "    }\n",
       "\n",
       "    .dataframe thead th {\n",
       "        text-align: right;\n",
       "    }\n",
       "</style>\n",
       "<table border=\"1\" class=\"dataframe\">\n",
       "  <thead>\n",
       "    <tr style=\"text-align: right;\">\n",
       "      <th></th>\n",
       "      <th>Date</th>\n",
       "      <th>Location</th>\n",
       "      <th>MinTemp</th>\n",
       "      <th>Rainfall</th>\n",
       "      <th>Evaporation</th>\n",
       "      <th>Sunshine</th>\n",
       "      <th>WindGustDir</th>\n",
       "      <th>WindGustSpeed</th>\n",
       "      <th>WindDir9am</th>\n",
       "      <th>WindDir3pm</th>\n",
       "      <th>WindSpeed9am</th>\n",
       "      <th>Humidity9am</th>\n",
       "      <th>Pressure9am</th>\n",
       "      <th>Cloud9am</th>\n",
       "      <th>RainToday</th>\n",
       "      <th>RISK_MM</th>\n",
       "    </tr>\n",
       "  </thead>\n",
       "  <tbody>\n",
       "    <tr>\n",
       "      <th>0</th>\n",
       "      <td>2009-05-18</td>\n",
       "      <td>Hobart</td>\n",
       "      <td>5.1</td>\n",
       "      <td>0.0</td>\n",
       "      <td>1.8</td>\n",
       "      <td>8.9</td>\n",
       "      <td>NW</td>\n",
       "      <td>30.0</td>\n",
       "      <td>WSW</td>\n",
       "      <td>SSE</td>\n",
       "      <td>7.0</td>\n",
       "      <td>65.0</td>\n",
       "      <td>1023.1</td>\n",
       "      <td>1.0</td>\n",
       "      <td>No</td>\n",
       "      <td>0.0</td>\n",
       "    </tr>\n",
       "    <tr>\n",
       "      <th>2</th>\n",
       "      <td>2010-02-18</td>\n",
       "      <td>Williamtown</td>\n",
       "      <td>19.7</td>\n",
       "      <td>0.0</td>\n",
       "      <td>7.2</td>\n",
       "      <td>7.2</td>\n",
       "      <td>SSE</td>\n",
       "      <td>41.0</td>\n",
       "      <td>SSE</td>\n",
       "      <td>SSE</td>\n",
       "      <td>19.0</td>\n",
       "      <td>48.0</td>\n",
       "      <td>1020.9</td>\n",
       "      <td>6.0</td>\n",
       "      <td>No</td>\n",
       "      <td>0.2</td>\n",
       "    </tr>\n",
       "    <tr>\n",
       "      <th>3</th>\n",
       "      <td>2010-03-04</td>\n",
       "      <td>PerthAirport</td>\n",
       "      <td>16.6</td>\n",
       "      <td>0.0</td>\n",
       "      <td>9.0</td>\n",
       "      <td>11.3</td>\n",
       "      <td>SW</td>\n",
       "      <td>54.0</td>\n",
       "      <td>SSE</td>\n",
       "      <td>SW</td>\n",
       "      <td>28.0</td>\n",
       "      <td>50.0</td>\n",
       "      <td>1018.3</td>\n",
       "      <td>6.0</td>\n",
       "      <td>No</td>\n",
       "      <td>0.0</td>\n",
       "    </tr>\n",
       "    <tr>\n",
       "      <th>4</th>\n",
       "      <td>2010-09-09</td>\n",
       "      <td>GoldCoast</td>\n",
       "      <td>14.6</td>\n",
       "      <td>0.0</td>\n",
       "      <td>4.6</td>\n",
       "      <td>8.4</td>\n",
       "      <td>NNW</td>\n",
       "      <td>43.0</td>\n",
       "      <td>WNW</td>\n",
       "      <td>N</td>\n",
       "      <td>6.0</td>\n",
       "      <td>64.0</td>\n",
       "      <td>1020.3</td>\n",
       "      <td>5.0</td>\n",
       "      <td>No</td>\n",
       "      <td>0.4</td>\n",
       "    </tr>\n",
       "    <tr>\n",
       "      <th>6</th>\n",
       "      <td>2011-10-13</td>\n",
       "      <td>Nuriootpa</td>\n",
       "      <td>9.8</td>\n",
       "      <td>0.0</td>\n",
       "      <td>4.4</td>\n",
       "      <td>10.5</td>\n",
       "      <td>SE</td>\n",
       "      <td>35.0</td>\n",
       "      <td>ENE</td>\n",
       "      <td>NNE</td>\n",
       "      <td>15.0</td>\n",
       "      <td>53.0</td>\n",
       "      <td>1017.8</td>\n",
       "      <td>3.0</td>\n",
       "      <td>No</td>\n",
       "      <td>0.2</td>\n",
       "    </tr>\n",
       "  </tbody>\n",
       "</table>\n",
       "</div>"
      ],
      "text/plain": [
       "        Date      Location  MinTemp  Rainfall  Evaporation  Sunshine  \\\n",
       "0 2009-05-18        Hobart      5.1       0.0          1.8       8.9   \n",
       "2 2010-02-18   Williamtown     19.7       0.0          7.2       7.2   \n",
       "3 2010-03-04  PerthAirport     16.6       0.0          9.0      11.3   \n",
       "4 2010-09-09     GoldCoast     14.6       0.0          4.6       8.4   \n",
       "6 2011-10-13     Nuriootpa      9.8       0.0          4.4      10.5   \n",
       "\n",
       "  WindGustDir  WindGustSpeed WindDir9am WindDir3pm  WindSpeed9am  Humidity9am  \\\n",
       "0          NW           30.0        WSW        SSE           7.0         65.0   \n",
       "2         SSE           41.0        SSE        SSE          19.0         48.0   \n",
       "3          SW           54.0        SSE         SW          28.0         50.0   \n",
       "4         NNW           43.0        WNW          N           6.0         64.0   \n",
       "6          SE           35.0        ENE        NNE          15.0         53.0   \n",
       "\n",
       "   Pressure9am  Cloud9am RainToday  RISK_MM  \n",
       "0       1023.1       1.0        No      0.0  \n",
       "2       1020.9       6.0        No      0.2  \n",
       "3       1018.3       6.0        No      0.0  \n",
       "4       1020.3       5.0        No      0.4  \n",
       "6       1017.8       3.0        No      0.2  "
      ]
     },
     "execution_count": 431,
     "metadata": {},
     "output_type": "execute_result"
    }
   ],
   "source": [
    "df2.head()"
   ]
  },
  {
   "cell_type": "markdown",
   "id": "e20eaca6",
   "metadata": {},
   "source": [
    "# Train-Test Split"
   ]
  },
  {
   "cell_type": "code",
   "execution_count": 432,
   "id": "e0f86d74",
   "metadata": {},
   "outputs": [],
   "source": [
    "from sklearn.model_selection import train_test_split\n",
    "df2=df2.drop('Date',axis=1)\n",
    "\n",
    "X=df2.drop('RISK_MM',axis=1)\n",
    "y=df2['RISK_MM']\n"
   ]
  },
  {
   "cell_type": "code",
   "execution_count": 433,
   "id": "e0932838",
   "metadata": {},
   "outputs": [],
   "source": [
    "X=pd.get_dummies(X)"
   ]
  },
  {
   "cell_type": "code",
   "execution_count": 434,
   "id": "9baac8df",
   "metadata": {},
   "outputs": [
    {
     "name": "stdout",
     "output_type": "stream",
     "text": [
      "(11520, 105)\n",
      "(4938, 105)\n"
     ]
    }
   ],
   "source": [
    "\n",
    "X_train,X_test,y_train,y_test=train_test_split(X, y, test_size= 0.30, random_state=42)\n",
    "\n",
    "print(X_train.shape)\n",
    "print(X_test.shape)\n"
   ]
  },
  {
   "cell_type": "code",
   "execution_count": 435,
   "id": "27bcbcd9",
   "metadata": {},
   "outputs": [
    {
     "name": "stdout",
     "output_type": "stream",
     "text": [
      "                            OLS Regression Results                            \n",
      "==============================================================================\n",
      "Dep. Variable:                RISK_MM   R-squared:                       0.079\n",
      "Model:                            OLS   Adj. R-squared:                  0.071\n",
      "Method:                 Least Squares   F-statistic:                     9.793\n",
      "Date:                Thu, 26 May 2022   Prob (F-statistic):          2.47e-137\n",
      "Time:                        12:18:53   Log-Likelihood:                 13129.\n",
      "No. Observations:               11520   AIC:                        -2.606e+04\n",
      "Df Residuals:                   11419   BIC:                        -2.531e+04\n",
      "Df Model:                         100                                         \n",
      "Covariance Type:            nonrobust                                         \n",
      "=============================================================================================\n",
      "                                coef    std err          t      P>|t|      [0.025      0.975]\n",
      "---------------------------------------------------------------------------------------------\n",
      "MinTemp                      -0.0001      0.000     -0.620      0.535      -0.000       0.000\n",
      "Rainfall                      0.0459      0.004     11.107      0.000       0.038       0.054\n",
      "Evaporation                   0.0003      0.001      0.484      0.629      -0.001       0.001\n",
      "Sunshine                     -0.0038      0.001     -5.607      0.000      -0.005      -0.002\n",
      "WindGustSpeed                 0.0003     0.0001      3.470      0.001       0.000       0.001\n",
      "WindSpeed9am               8.684e-05      0.000      0.657      0.511      -0.000       0.000\n",
      "Humidity9am                   0.0007    5.9e-05     12.163      0.000       0.001       0.001\n",
      "Pressure9am                  -0.0002      0.000     -1.417      0.156      -0.001    9.18e-05\n",
      "Cloud9am                      0.0003      0.000      0.644      0.520      -0.001       0.001\n",
      "Location_Adelaide             0.0153      0.008      1.885      0.059      -0.001       0.031\n",
      "Location_Albany              -0.0041      0.008     -0.487      0.626      -0.021       0.012\n",
      "Location_Albury              -0.0003      0.007     -0.039      0.969      -0.014       0.013\n",
      "Location_AliceSprings         0.0035      0.008      0.462      0.644      -0.011       0.018\n",
      "Location_BadgerysCreek        0.0026      0.007      0.377      0.706      -0.011       0.016\n",
      "Location_Ballarat             0.0150      0.007      2.133      0.033       0.001       0.029\n",
      "Location_Bendigo              0.0185      0.007      2.751      0.006       0.005       0.032\n",
      "Location_Brisbane             0.0167      0.007      2.326      0.020       0.003       0.031\n",
      "Location_Cairns               0.0091      0.007      1.284      0.199      -0.005       0.023\n",
      "Location_Canberra            -0.0094      0.007     -1.405      0.160      -0.023       0.004\n",
      "Location_Cobar             3.362e-06      0.007      0.000      1.000      -0.014       0.014\n",
      "Location_CoffsHarbour         0.0012      0.007      0.155      0.877      -0.013       0.016\n",
      "Location_Dartmoor             0.0087      0.009      0.997      0.319      -0.008       0.026\n",
      "Location_Darwin           -8.259e-05      0.007     -0.012      0.991      -0.014       0.014\n",
      "Location_GoldCoast            0.0054      0.007      0.754      0.451      -0.009       0.019\n",
      "Location_Hobart               0.0151      0.008      1.928      0.054      -0.000       0.030\n",
      "Location_Launceston          -0.0042      0.007     -0.598      0.550      -0.018       0.010\n",
      "Location_Melbourne            0.0055      0.008      0.676      0.499      -0.011       0.022\n",
      "Location_MelbourneAirport    -0.0168      0.008     -2.016      0.044      -0.033      -0.000\n",
      "Location_Mildura             -0.0007      0.008     -0.098      0.922      -0.016       0.014\n",
      "Location_Moree               -0.0027      0.007     -0.364      0.716      -0.017       0.012\n",
      "Location_MountGambier         0.0287      0.008      3.517      0.000       0.013       0.045\n",
      "Location_MountGinini          0.0123      0.007      1.750      0.080      -0.001       0.026\n",
      "Location_Newcastle           -0.0109      0.007     -1.491      0.136      -0.025       0.003\n",
      "Location_NorahHead            0.0084      0.007      1.173      0.241      -0.006       0.022\n",
      "Location_NorfolkIsland        0.0199      0.008      2.481      0.013       0.004       0.036\n",
      "Location_Nuriootpa            0.0112      0.008      1.381      0.167      -0.005       0.027\n",
      "Location_PearceRAAF          -0.0017      0.008     -0.215      0.829      -0.017       0.013\n",
      "Location_Penrith              0.0215      0.007      3.209      0.001       0.008       0.035\n",
      "Location_Perth                0.0100      0.008      1.323      0.186      -0.005       0.025\n",
      "Location_PerthAirport      2.563e-05      0.008      0.003      0.997      -0.015       0.015\n",
      "Location_Portland             0.0405      0.008      4.785      0.000       0.024       0.057\n",
      "Location_Richmond             0.0034      0.007      0.497      0.619      -0.010       0.017\n",
      "Location_Sale                 0.0133      0.008      1.694      0.090      -0.002       0.029\n",
      "Location_SalmonGums           0.0027      0.006      0.425      0.671      -0.010       0.015\n",
      "Location_Sydney               0.0017      0.008      0.228      0.820      -0.013       0.017\n",
      "Location_SydneyAirport        0.0009      0.008      0.113      0.910      -0.015       0.016\n",
      "Location_Townsville           0.0085      0.007      1.160      0.246      -0.006       0.023\n",
      "Location_Tuggeranong          0.0022      0.007      0.324      0.746      -0.011       0.015\n",
      "Location_WaggaWagga          -0.0031      0.008     -0.380      0.704      -0.019       0.013\n",
      "Location_Walpole              0.0040      0.007      0.556      0.578      -0.010       0.018\n",
      "Location_Watsonia             0.0195      0.008      2.444      0.015       0.004       0.035\n",
      "Location_Williamtown         -0.0034      0.008     -0.431      0.666      -0.019       0.012\n",
      "Location_Witchcliffe          0.0198      0.007      2.795      0.005       0.006       0.034\n",
      "Location_Wollongong           0.0064      0.007      0.864      0.387      -0.008       0.021\n",
      "Location_Woomera              0.0129      0.008      1.601      0.109      -0.003       0.029\n",
      "WindGustDir_E                 0.0186      0.016      1.173      0.241      -0.012       0.050\n",
      "WindGustDir_ENE               0.0163      0.016      1.036      0.300      -0.015       0.047\n",
      "WindGustDir_ESE               0.0190      0.016      1.195      0.232      -0.012       0.050\n",
      "WindGustDir_N                 0.0192      0.016      1.219      0.223      -0.012       0.050\n",
      "WindGustDir_NE                0.0172      0.016      1.089      0.276      -0.014       0.048\n",
      "WindGustDir_NNE               0.0170      0.016      1.078      0.281      -0.014       0.048\n",
      "WindGustDir_NNW               0.0118      0.016      0.745      0.456      -0.019       0.043\n",
      "WindGustDir_NW                0.0209      0.016      1.334      0.182      -0.010       0.052\n",
      "WindGustDir_S                 0.0194      0.016      1.239      0.215      -0.011       0.050\n",
      "WindGustDir_SE                0.0214      0.016      1.371      0.171      -0.009       0.052\n",
      "WindGustDir_SSE               0.0174      0.016      1.113      0.266      -0.013       0.048\n",
      "WindGustDir_SSW               0.0203      0.016      1.298      0.194      -0.010       0.051\n",
      "WindGustDir_SW                0.0185      0.016      1.182      0.237      -0.012       0.049\n",
      "WindGustDir_W                 0.0242      0.015      1.565      0.118      -0.006       0.054\n",
      "WindGustDir_WNW               0.0191      0.016      1.233      0.218      -0.011       0.050\n",
      "WindGustDir_WSW               0.0270      0.015      1.745      0.081      -0.003       0.057\n",
      "WindDir9am_E                  0.0176      0.016      1.127      0.260      -0.013       0.048\n",
      "WindDir9am_ENE                0.0162      0.016      1.036      0.300      -0.014       0.047\n",
      "WindDir9am_ESE                0.0193      0.016      1.229      0.219      -0.011       0.050\n",
      "WindDir9am_N                  0.0220      0.015      1.428      0.153      -0.008       0.052\n",
      "WindDir9am_NE                 0.0187      0.016      1.195      0.232      -0.012       0.049\n",
      "WindDir9am_NNE                0.0219      0.016      1.411      0.158      -0.009       0.052\n",
      "WindDir9am_NNW                0.0295      0.016      1.900      0.057      -0.001       0.060\n",
      "WindDir9am_NW                 0.0189      0.016      1.219      0.223      -0.012       0.049\n",
      "WindDir9am_S                  0.0136      0.016      0.862      0.389      -0.017       0.044\n",
      "WindDir9am_SE                 0.0146      0.016      0.933      0.351      -0.016       0.045\n",
      "WindDir9am_SSE                0.0155      0.016      0.984      0.325      -0.015       0.046\n",
      "WindDir9am_SSW                0.0245      0.016      1.548      0.122      -0.007       0.055\n",
      "WindDir9am_SW                 0.0173      0.016      1.104      0.270      -0.013       0.048\n",
      "WindDir9am_W                  0.0127      0.016      0.810      0.418      -0.018       0.043\n",
      "WindDir9am_WNW                0.0241      0.016      1.546      0.122      -0.006       0.055\n",
      "WindDir9am_WSW                0.0206      0.016      1.315      0.189      -0.010       0.051\n",
      "WindDir3pm_E                  0.0180      0.016      1.134      0.257      -0.013       0.049\n",
      "WindDir3pm_ENE                0.0148      0.016      0.938      0.348      -0.016       0.046\n",
      "WindDir3pm_ESE                0.0180      0.016      1.140      0.254      -0.013       0.049\n",
      "WindDir3pm_N                  0.0200      0.016      1.277      0.201      -0.011       0.051\n",
      "WindDir3pm_NE                 0.0210      0.016      1.332      0.183      -0.010       0.052\n",
      "WindDir3pm_NNE                0.0231      0.016      1.462      0.144      -0.008       0.054\n",
      "WindDir3pm_NNW                0.0225      0.016      1.435      0.151      -0.008       0.053\n",
      "WindDir3pm_NW                 0.0300      0.016      1.925      0.054      -0.001       0.060\n",
      "WindDir3pm_S                  0.0188      0.016      1.201      0.230      -0.012       0.049\n",
      "WindDir3pm_SE                 0.0184      0.016      1.174      0.241      -0.012       0.049\n",
      "WindDir3pm_SSE                0.0192      0.016      1.222      0.222      -0.012       0.050\n",
      "WindDir3pm_SSW                0.0165      0.016      1.055      0.291      -0.014       0.047\n",
      "WindDir3pm_SW                 0.0206      0.015      1.329      0.184      -0.010       0.051\n",
      "WindDir3pm_W                  0.0154      0.015      0.996      0.319      -0.015       0.046\n",
      "WindDir3pm_WNW                0.0171      0.015      1.112      0.266      -0.013       0.047\n",
      "WindDir3pm_WSW                0.0137      0.015      0.883      0.377      -0.017       0.044\n",
      "RainToday_No                  0.1728      0.122      1.411      0.158      -0.067       0.413\n",
      "RainToday_Yes                 0.1343      0.123      1.094      0.274      -0.106       0.375\n",
      "==============================================================================\n",
      "Omnibus:                     7500.131   Durbin-Watson:                   1.994\n",
      "Prob(Omnibus):                  0.000   Jarque-Bera (JB):            72889.462\n",
      "Skew:                           3.138   Prob(JB):                         0.00\n",
      "Kurtosis:                      13.605   Cond. No.                     1.15e+16\n",
      "==============================================================================\n",
      "\n",
      "Notes:\n",
      "[1] Standard Errors assume that the covariance matrix of the errors is correctly specified.\n",
      "[2] The smallest eigenvalue is 9.06e-23. This might indicate that there are\n",
      "strong multicollinearity problems or that the design matrix is singular.\n"
     ]
    }
   ],
   "source": [
    "est = sm.OLS(y_train, X_train)\n",
    "est2 = est.fit()\n",
    "print(est2.summary())\n",
    "\n"
   ]
  },
  {
   "cell_type": "code",
   "execution_count": 436,
   "id": "d5020f4e",
   "metadata": {},
   "outputs": [
    {
     "name": "stdout",
     "output_type": "stream",
     "text": [
      "0.07741415171105125\n"
     ]
    }
   ],
   "source": [
    "y_pred=est2.predict(X_train)\n",
    "rmse_train = mean_squared_error(y_train, y_pred, squared=False)\n",
    "\n",
    "print(rmse_train)"
   ]
  },
  {
   "cell_type": "code",
   "execution_count": 437,
   "id": "d0ffb96e",
   "metadata": {},
   "outputs": [
    {
     "name": "stdout",
     "output_type": "stream",
     "text": [
      "0.07965796356233536\n"
     ]
    }
   ],
   "source": [
    "y_pred=est2.predict(X_test)\n",
    "\n",
    "\n",
    "rmse_test = mean_squared_error(y_test, y_pred, squared=False)\n",
    "\n",
    "print(rmse_test)"
   ]
  },
  {
   "cell_type": "code",
   "execution_count": 438,
   "id": "46adec23",
   "metadata": {},
   "outputs": [],
   "source": [
    "X_train=X_train.drop(['MinTemp','Evaporation','WindSpeed9am','Pressure9am','Cloud9am','Location_Adelaide','Location_Albany','Location_Albury','Location_AliceSprings','Location_BadgerysCreek',\n",
    "'Location_Cairns',\n",
    "'Location_Canberra',\n",
    "'Location_Cobar',\n",
    "'Location_CoffsHarbour',\n",
    "'Location_Dartmoor',\n",
    "'Location_Darwin',\n",
    "'Location_GoldCoast',\n",
    "'Location_Hobart',\n",
    "'Location_Launceston',\n",
    "'Location_Melbourne',\n",
    "'Location_Mildura',\n",
    "'Location_Moree',\n",
    "'Location_Richmond',\n",
    "'Location_Sale',\n",
    "'Location_SalmonGums',\n",
    "'Location_Sydney',\n",
    "'Location_SydneyAirport',\n",
    "'Location_Townsville',\n",
    "'Location_Tuggeranong',\n",
    "'Location_WaggaWagga',\n",
    "'Location_Walpole',\n",
    "'Location_Watsonia',\n",
    "'Location_Williamtown',\n",
    "'Location_Witchcliffe',\n",
    "'Location_Wollongong',\n",
    "'Location_Woomera',\n",
    "'WindGustDir_E',\n",
    "'WindGustDir_ENE',\n",
    "'WindGustDir_ESE',\n",
    "'WindGustDir_N',\n",
    "'WindGustDir_NE',\n",
    "'WindGustDir_NNE',\n",
    "'WindGustDir_NNW',\n",
    "'WindGustDir_NW',\n",
    "'WindGustDir_S',\n",
    "'WindGustDir_SE',\n",
    "'WindGustDir_SSE',\n",
    "'WindGustDir_SSW',\n",
    "'WindGustDir_SW',\n",
    "'WindGustDir_W',\n",
    "'WindGustDir_WNW',\n",
    "'WindGustDir_WSW',\n",
    "'WindDir9am_E',\n",
    "'WindDir9am_ENE',\n",
    "'WindDir9am_ESE',\n",
    "'WindDir9am_N',\n",
    "'WindDir9am_NE',\n",
    "'WindDir9am_NNE',\n",
    "'WindDir9am_NNW',\n",
    "'WindDir9am_NW',\n",
    "'WindDir9am_S',\n",
    "'WindDir9am_SE',\n",
    "'WindDir9am_SSE',\n",
    "'WindDir9am_SSW',\n",
    "'WindDir9am_SW',\n",
    "'WindDir9am_W',\n",
    "'WindDir9am_WNW',\n",
    "'WindDir9am_WSW',\n",
    "'WindDir3pm_E',\n",
    "'WindDir3pm_ENE',\n",
    "'WindDir3pm_ESE',\n",
    "'WindDir3pm_N',\n",
    "'WindDir3pm_NE',\n",
    "'WindDir3pm_NNE',\n",
    "'WindDir3pm_NNW',\n",
    "'WindDir3pm_NW',\n",
    "'WindDir3pm_S',\n",
    "'WindDir3pm_SE',\n",
    "'WindDir3pm_SSE',\n",
    "'WindDir3pm_SSW',\n",
    "'WindDir3pm_SW',\n",
    "'WindDir3pm_W',\n",
    "'WindDir3pm_WNW',\n",
    "'WindDir3pm_WSW',\n",
    "'RainToday_No',\n",
    "'RainToday_Yes','Location_NorahHead','Location_Nuriootpa','Location_Perth','Location_PerthAirport','Location_PearceRAAF'],axis=1)\n"
   ]
  },
  {
   "cell_type": "code",
   "execution_count": 439,
   "id": "644402bb",
   "metadata": {},
   "outputs": [
    {
     "name": "stdout",
     "output_type": "stream",
     "text": [
      "                                 OLS Regression Results                                \n",
      "=======================================================================================\n",
      "Dep. Variable:                RISK_MM   R-squared (uncentered):                   0.146\n",
      "Model:                            OLS   Adj. R-squared (uncentered):              0.145\n",
      "Method:                 Least Squares   F-statistic:                              140.6\n",
      "Date:                Thu, 26 May 2022   Prob (F-statistic):                        0.00\n",
      "Time:                        12:19:32   Log-Likelihood:                          13046.\n",
      "No. Observations:               11520   AIC:                                 -2.606e+04\n",
      "Df Residuals:                   11506   BIC:                                 -2.596e+04\n",
      "Df Model:                          14                                                  \n",
      "Covariance Type:            nonrobust                                                  \n",
      "=============================================================================================\n",
      "                                coef    std err          t      P>|t|      [0.025      0.975]\n",
      "---------------------------------------------------------------------------------------------\n",
      "Rainfall                      0.0286      0.002     12.925      0.000       0.024       0.033\n",
      "Sunshine                     -0.0049      0.000    -13.233      0.000      -0.006      -0.004\n",
      "WindGustSpeed                 0.0004   6.99e-05      6.017      0.000       0.000       0.001\n",
      "Humidity9am                   0.0007   3.69e-05     19.317      0.000       0.001       0.001\n",
      "Location_Ballarat             0.0114      0.005      2.449      0.014       0.002       0.021\n",
      "Location_Bendigo              0.0122      0.004      2.902      0.004       0.004       0.020\n",
      "Location_Brisbane             0.0116      0.005      2.490      0.013       0.002       0.021\n",
      "Location_MelbourneAirport    -0.0195      0.006     -3.116      0.002      -0.032      -0.007\n",
      "Location_MountGambier         0.0268      0.006      4.310      0.000       0.015       0.039\n",
      "Location_MountGinini          0.0104      0.005      2.038      0.042       0.000       0.020\n",
      "Location_Newcastle           -0.0122      0.004     -2.769      0.006      -0.021      -0.004\n",
      "Location_NorfolkIsland        0.0144      0.006      2.526      0.012       0.003       0.026\n",
      "Location_Penrith              0.0192      0.004      4.310      0.000       0.010       0.028\n",
      "Location_Portland             0.0391      0.007      5.869      0.000       0.026       0.052\n",
      "==============================================================================\n",
      "Omnibus:                     7635.208   Durbin-Watson:                   1.997\n",
      "Prob(Omnibus):                  0.000   Jarque-Bera (JB):            76370.211\n",
      "Skew:                           3.204   Prob(JB):                         0.00\n",
      "Kurtosis:                      13.865   Cond. No.                         720.\n",
      "==============================================================================\n",
      "\n",
      "Notes:\n",
      "[1] R² is computed without centering (uncentered) since the model does not contain a constant.\n",
      "[2] Standard Errors assume that the covariance matrix of the errors is correctly specified.\n"
     ]
    }
   ],
   "source": [
    "est = sm.OLS(y_train, X_train)\n",
    "est2 = est.fit()\n",
    "print(est2.summary())"
   ]
  },
  {
   "cell_type": "code",
   "execution_count": 440,
   "id": "3dea6b32",
   "metadata": {},
   "outputs": [
    {
     "name": "stdout",
     "output_type": "stream",
     "text": [
      "0.07797422917811164\n"
     ]
    }
   ],
   "source": [
    "y_pred=est2.predict(X_train)\n",
    "rmse_train = mean_squared_error(y_train, y_pred, squared=False)\n",
    "\n",
    "print(rmse_train)"
   ]
  },
  {
   "cell_type": "code",
   "execution_count": 442,
   "id": "912bca72",
   "metadata": {},
   "outputs": [],
   "source": [
    "X_test=X_test.drop(['MinTemp','Evaporation','WindSpeed9am','Pressure9am','Cloud9am','Location_Adelaide','Location_Albany','Location_Albury','Location_AliceSprings','Location_BadgerysCreek',\n",
    "'Location_Cairns',\n",
    "'Location_Canberra',\n",
    "'Location_Cobar',\n",
    "'Location_CoffsHarbour',\n",
    "'Location_Dartmoor',\n",
    "'Location_Darwin',\n",
    "'Location_GoldCoast',\n",
    "'Location_Hobart',\n",
    "'Location_Launceston',\n",
    "'Location_Melbourne',\n",
    "'Location_Mildura',\n",
    "'Location_Moree',\n",
    "'Location_Richmond',\n",
    "'Location_Sale',\n",
    "'Location_SalmonGums',\n",
    "'Location_Sydney',\n",
    "'Location_SydneyAirport',\n",
    "'Location_Townsville',\n",
    "'Location_Tuggeranong',\n",
    "'Location_WaggaWagga',\n",
    "'Location_Walpole',\n",
    "'Location_Watsonia',\n",
    "'Location_Williamtown',\n",
    "'Location_Witchcliffe',\n",
    "'Location_Wollongong',\n",
    "'Location_Woomera',\n",
    "'WindGustDir_E',\n",
    "'WindGustDir_ENE',\n",
    "'WindGustDir_ESE',\n",
    "'WindGustDir_N',\n",
    "'WindGustDir_NE',\n",
    "'WindGustDir_NNE',\n",
    "'WindGustDir_NNW',\n",
    "'WindGustDir_NW',\n",
    "'WindGustDir_S',\n",
    "'WindGustDir_SE',\n",
    "'WindGustDir_SSE',\n",
    "'WindGustDir_SSW',\n",
    "'WindGustDir_SW',\n",
    "'WindGustDir_W',\n",
    "'WindGustDir_WNW',\n",
    "'WindGustDir_WSW',\n",
    "'WindDir9am_E',\n",
    "'WindDir9am_ENE',\n",
    "'WindDir9am_ESE',\n",
    "'WindDir9am_N',\n",
    "'WindDir9am_NE',\n",
    "'WindDir9am_NNE',\n",
    "'WindDir9am_NNW',\n",
    "'WindDir9am_NW',\n",
    "'WindDir9am_S',\n",
    "'WindDir9am_SE',\n",
    "'WindDir9am_SSE',\n",
    "'WindDir9am_SSW',\n",
    "'WindDir9am_SW',\n",
    "'WindDir9am_W',\n",
    "'WindDir9am_WNW',\n",
    "'WindDir9am_WSW',\n",
    "'WindDir3pm_E',\n",
    "'WindDir3pm_ENE',\n",
    "'WindDir3pm_ESE',\n",
    "'WindDir3pm_N',\n",
    "'WindDir3pm_NE',\n",
    "'WindDir3pm_NNE',\n",
    "'WindDir3pm_NNW',\n",
    "'WindDir3pm_NW',\n",
    "'WindDir3pm_S',\n",
    "'WindDir3pm_SE',\n",
    "'WindDir3pm_SSE',\n",
    "'WindDir3pm_SSW',\n",
    "'WindDir3pm_SW',\n",
    "'WindDir3pm_W',\n",
    "'WindDir3pm_WNW',\n",
    "'WindDir3pm_WSW',\n",
    "'RainToday_No',\n",
    "'RainToday_Yes','Location_NorahHead','Location_Nuriootpa','Location_Perth','Location_PerthAirport','Location_PearceRAAF'],axis=1)\n"
   ]
  },
  {
   "cell_type": "code",
   "execution_count": 443,
   "id": "50429777",
   "metadata": {},
   "outputs": [
    {
     "name": "stdout",
     "output_type": "stream",
     "text": [
      "0.07964431527297114\n"
     ]
    }
   ],
   "source": [
    "y_pred=est2.predict(X_test)\n",
    "\n",
    "\n",
    "rmse_test = mean_squared_error(y_test, y_pred, squared=False)\n",
    "\n",
    "print(rmse_test)"
   ]
  },
  {
   "cell_type": "code",
   "execution_count": 343,
   "id": "47c148e9",
   "metadata": {},
   "outputs": [
    {
     "data": {
      "text/plain": [
       "RandomForestRegressor(random_state=0)"
      ]
     },
     "execution_count": 343,
     "metadata": {},
     "output_type": "execute_result"
    }
   ],
   "source": [
    "from sklearn.ensemble import RandomForestRegressor\n",
    " \n",
    " # create regressor object\n",
    "regressor = RandomForestRegressor(n_estimators = 100, random_state = 0)\n",
    " \n",
    "# fit the regressor with x and y data\n",
    "regressor.fit(X_train, y_train) "
   ]
  },
  {
   "cell_type": "code",
   "execution_count": 344,
   "id": "87d48ea7",
   "metadata": {},
   "outputs": [
    {
     "name": "stdout",
     "output_type": "stream",
     "text": [
      "0.030010465477803706\n"
     ]
    }
   ],
   "source": [
    "y_pred=regressor.predict(X_train)\n",
    "rmse_train = mean_squared_error(y_train, y_pred, squared=False)\n",
    "\n",
    "print(rmse_train)"
   ]
  },
  {
   "cell_type": "code",
   "execution_count": 345,
   "id": "eb4f71dc",
   "metadata": {},
   "outputs": [
    {
     "name": "stdout",
     "output_type": "stream",
     "text": [
      "0.08121486560040407\n"
     ]
    }
   ],
   "source": [
    "y_pred=regressor.predict(X_test)\n",
    "\n",
    "\n",
    "rmse_test = mean_squared_error(y_test, y_pred, squared=False)\n",
    "\n",
    "print(rmse_test)"
   ]
  },
  {
   "cell_type": "code",
   "execution_count": null,
   "id": "bf8bf824",
   "metadata": {},
   "outputs": [],
   "source": []
  }
 ],
 "metadata": {
  "kernelspec": {
   "display_name": "Python 3",
   "language": "python",
   "name": "python3"
  },
  "language_info": {
   "codemirror_mode": {
    "name": "ipython",
    "version": 3
   },
   "file_extension": ".py",
   "mimetype": "text/x-python",
   "name": "python",
   "nbconvert_exporter": "python",
   "pygments_lexer": "ipython3",
   "version": "3.8.8"
  }
 },
 "nbformat": 4,
 "nbformat_minor": 5
}
